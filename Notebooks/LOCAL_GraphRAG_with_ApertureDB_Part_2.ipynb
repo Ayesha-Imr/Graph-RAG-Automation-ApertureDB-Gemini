{
  "nbformat": 4,
  "nbformat_minor": 0,
  "metadata": {
    "colab": {
      "provenance": [],
      "authorship_tag": "ABX9TyP5MlPUokjST7MzSmAI1tAT",
      "include_colab_link": true
    },
    "kernelspec": {
      "name": "python3",
      "display_name": "Python 3"
    },
    "language_info": {
      "name": "python"
    }
  },
  "cells": [
    {
      "cell_type": "markdown",
      "metadata": {
        "id": "view-in-github",
        "colab_type": "text"
      },
      "source": [
        "<a href=\"https://colab.research.google.com/github/Ayesha-Imr/Graph-RAG-Automation-ApertureDB-Gemini/blob/main/Notebooks/LOCAL_GraphRAG_with_ApertureDB_Part_2.ipynb\" target=\"_parent\"><img src=\"https://colab.research.google.com/assets/colab-badge.svg\" alt=\"Open In Colab\"/></a>"
      ]
    },
    {
      "cell_type": "markdown",
      "source": [
        "# GraphRAG with ApertureDB: Part 2 - Implementing and Evaluating Graph RAG\n",
        "\n",
        "Welcome to the second part of our tutorial! In [Part 1](https://colab.research.google.com/drive/1KTAa5n-v_8casxUrxP4PZVqOUbVwYo6I#scrollTo=O3sqCMumwRje), we successfully built a knowledge graph from a PDF document and ingested it into ApertureDB. Now, we'll put that graph to work.\n",
        "\n",
        "Our goal is to build a Q&A system using two different Retrieval-Augmented Generation (RAG) methods and compare their performance.\n",
        "\n",
        "1.  **Vanilla RAG:** A standard approach using pure vector search to find relevant information.\n",
        "2.  **Graph RAG:** A more advanced method that leverages the connections within our knowledge graph to find richer, more contextual information."
      ],
      "metadata": {
        "id": "b2eepy1jarMf"
      }
    },
    {
      "cell_type": "markdown",
      "source": [
        "## 1. Environment Setup\n",
        "\n",
        "First, let's install the necessary libraries and set up our clients for [ApertureDB](https://www.aperturedata.io/) and Google's [Gemini](https://ai.google.dev/gemini-api/docs/models) models. We'll be using Gemini for both embedding our queries and for generating the final answers."
      ],
      "metadata": {
        "id": "qum_R-GDa5K7"
      }
    },
    {
      "cell_type": "code",
      "source": [
        "!pip install -q  aperturedb google-genai udocker"
      ],
      "metadata": {
        "colab": {
          "base_uri": "https://localhost:8080/",
          "height": 0
        },
        "id": "DkMGbKpKb2qT",
        "outputId": "d206026b-672c-42dd-a4eb-0d9c5cb2213f"
      },
      "execution_count": 11,
      "outputs": [
        {
          "output_type": "stream",
          "name": "stdout",
          "text": [
            "\u001b[?25l   \u001b[90m━━━━━━━━━━━━━━━━━━━━━━━━━━━━━━━━━━━━━━━━\u001b[0m \u001b[32m0.0/119.6 kB\u001b[0m \u001b[31m?\u001b[0m eta \u001b[36m-:--:--\u001b[0m\r\u001b[2K   \u001b[90m━━━━━━━━━━━━━━━━━━━━━━━━━━━━━━━━━━━━━━━━\u001b[0m \u001b[32m119.6/119.6 kB\u001b[0m \u001b[31m4.1 MB/s\u001b[0m eta \u001b[36m0:00:00\u001b[0m\n",
            "\u001b[?25h"
          ]
        }
      ]
    },
    {
      "cell_type": "markdown",
      "source": [
        "### Local ApertureDB session setup via udocker"
      ],
      "metadata": {
        "id": "jOo1K_QHX6cT"
      }
    },
    {
      "cell_type": "markdown",
      "source": [
        "This data is from the previous embeddings' ingestion [notenook](https://colab.research.google.com/drive/1KTAa5n-v_8casxUrxP4PZVqOUbVwYo6I#scrollTo=jOo1K_QHX6cT). We'll be using this to continue with our graph RAG implementation."
      ],
      "metadata": {
        "id": "YBn4QMI5X_54"
      }
    },
    {
      "cell_type": "code",
      "source": [
        "from google.colab import drive\n",
        "drive.mount('/content/drive')"
      ],
      "metadata": {
        "colab": {
          "base_uri": "https://localhost:8080/",
          "height": 0
        },
        "id": "FtQ5gfW3YYV_",
        "outputId": "7570fcba-5c25-4ab6-93bd-0da8a17d1c38"
      },
      "execution_count": 2,
      "outputs": [
        {
          "output_type": "stream",
          "name": "stdout",
          "text": [
            "Mounted at /content/drive\n"
          ]
        }
      ]
    },
    {
      "cell_type": "code",
      "source": [
        "DATA_ROOT = \"/content/drive/MyDrive/aperturedb_data\""
      ],
      "metadata": {
        "id": "r2d6s4ZzYhPa"
      },
      "execution_count": 3,
      "outputs": []
    },
    {
      "cell_type": "code",
      "source": [
        "!udocker --allow-root install"
      ],
      "metadata": {
        "colab": {
          "base_uri": "https://localhost:8080/",
          "height": 0
        },
        "id": "4OR3B24qYjYw",
        "outputId": "d4c448d8-881b-4d1b-f31b-34b4e3e8d08d"
      },
      "execution_count": 12,
      "outputs": [
        {
          "output_type": "stream",
          "name": "stdout",
          "text": [
            "Info: creating repo: /root/.udocker\n",
            "Info: udocker command line interface 1.3.17\n",
            "Info: searching for udockertools >= 1.2.11\n",
            "Info: installing udockertools 1.2.11\n",
            "Info: installation of udockertools successful\n"
          ]
        }
      ]
    },
    {
      "cell_type": "code",
      "source": [
        "!udocker --allow-root pull aperturedata/aperturedb-community:latest\n",
        "!udocker --allow-root create --name=aperturedb aperturedata/aperturedb-community:latest"
      ],
      "metadata": {
        "colab": {
          "base_uri": "https://localhost:8080/",
          "height": 0
        },
        "id": "q8KsYWl5YlKM",
        "outputId": "a49d18e7-d174-4a20-8863-f9b7eda5c85f"
      },
      "execution_count": 13,
      "outputs": [
        {
          "output_type": "stream",
          "name": "stdout",
          "text": [
            "Info: downloading layer sha256:7c84311f635af4c4a0fec53e53c35b7b388a8b7e40025346a1d4af37423ea2c2\n",
            "Info: downloading layer sha256:a6e6f81788d18a6a24869a662a78e4798c46eba38d0cca171080f1e131146a16\n",
            "Info: downloading layer sha256:6c6f170a129049940a474f88f5fc649d7d96700ef0748bbc590476942c609949\n",
            "Info: downloading layer sha256:9b3453b1064fb34bae3e701ecd6cfce41e99f8fc037857b7c9de26f917ad8840\n",
            "Info: downloading layer sha256:5090e15fdc6a26ebc57cdfff090b7090d1020672ce22b4a290451acc9c16da6d\n",
            "Info: downloading layer sha256:c2bf41e51776f1206dd05060633eada7174bc768aa6f062cc6fa3b5def95ca94\n",
            "Info: downloading layer sha256:e17caecd6bd74e6c419f0d21e9522006fded22eedf72be6b9046819a6265903c\n",
            "Info: downloading layer sha256:aece8493d3972efa43bfd4ee3cdba659c0f787f8f59c82fb3e48c87cbb22a12e\n",
            "e39a128c-22da-3567-9f81-3a7f43d5bfcb\n"
          ]
        }
      ]
    },
    {
      "cell_type": "code",
      "source": [
        "!nohup udocker --allow-root run \\\n",
        "    --publish=55555:55555 \\\n",
        "    --env=\"ADB_MASTER_KEY=admin\" \\\n",
        "    --env=\"ADB_FORCE_SSL=false\" \\\n",
        "    --volume=$DATA_ROOT/db:/aperturedb/db \\\n",
        "    aperturedb  > /content/adb_server.log 2>&1 &"
      ],
      "metadata": {
        "id": "vS8OAFIcYlHP"
      },
      "execution_count": 124,
      "outputs": []
    },
    {
      "cell_type": "code",
      "source": [
        "import time\n",
        "time.sleep(15)"
      ],
      "metadata": {
        "id": "_oCoKtgaY1vV"
      },
      "execution_count": 125,
      "outputs": []
    },
    {
      "cell_type": "code",
      "source": [
        "!tail -n 15 /content/adb_server.log | sed -e 's/^/LOG │ /'"
      ],
      "metadata": {
        "colab": {
          "base_uri": "https://localhost:8080/"
        },
        "id": "Ryy2SdyRY3SA",
        "outputId": "634d6382-63ed-4d35-937f-15f0202d0a12"
      },
      "execution_count": 126,
      "outputs": [
        {
          "output_type": "stream",
          "name": "stdout",
          "text": [
            "LOG │ ApertureDB Server, Version: 0.18.10, Branch: feature/community-docker, Commit: 728440c99395bca1a3346dc8e4d51917a8d16764\n"
          ]
        }
      ]
    },
    {
      "cell_type": "code",
      "source": [
        "!lsof -nP -iTCP:55555"
      ],
      "metadata": {
        "colab": {
          "base_uri": "https://localhost:8080/"
        },
        "id": "aNd-wPubY5l6",
        "outputId": "20d73265-adce-45b2-f3a0-e9c87962e3eb"
      },
      "execution_count": 127,
      "outputs": [
        {
          "output_type": "stream",
          "name": "stdout",
          "text": [
            "COMMAND     PID USER   FD   TYPE DEVICE SIZE/OFF NODE NAME\n",
            "apertured 14152 root   17u  IPv4 370868      0t0  TCP *:55555 (LISTEN)\n"
          ]
        }
      ]
    },
    {
      "cell_type": "markdown",
      "source": [
        "Connect to ApertureDB client"
      ],
      "metadata": {
        "id": "krIKOnZwZLzO"
      }
    },
    {
      "cell_type": "code",
      "source": [
        "from aperturedb import Connector\n",
        "client = Connector.Connector(\n",
        "    host=\"127.0.0.1\", port=55555,\n",
        "    user=\"admin\",  password=\"admin\",\n",
        "    use_ssl=False\n",
        ")\n",
        "status = client.query([{\"GetStatus\": {}}], [])\n",
        "print(status)"
      ],
      "metadata": {
        "colab": {
          "base_uri": "https://localhost:8080/"
        },
        "id": "XvU7cfNHY7dM",
        "outputId": "727fdf5a-fd34-4494-fa3c-9d7edbda02bb"
      },
      "execution_count": 128,
      "outputs": [
        {
          "output_type": "stream",
          "name": "stdout",
          "text": [
            "([{'GetStatus': {'info': 'OK', 'status': 0, 'system': 'ApertureDB', 'version': '0.18.10'}}], [])\n"
          ]
        }
      ]
    },
    {
      "cell_type": "markdown",
      "source": [
        "Verify the existence of our data in the DB"
      ],
      "metadata": {
        "id": "tICH9pomZHI-"
      }
    },
    {
      "cell_type": "code",
      "source": [
        "schema = client.query([{\"GetSchema\": {}}], [])\n",
        "print(schema)"
      ],
      "metadata": {
        "colab": {
          "base_uri": "https://localhost:8080/",
          "height": 0
        },
        "id": "FMeXH7svY-bL",
        "outputId": "e52a77a8-4a74-46de-eb6f-9a7a57de5875"
      },
      "execution_count": 67,
      "outputs": [
        {
          "output_type": "stream",
          "name": "stdout",
          "text": [
            "([{'GetSchema': {'connections': {'classes': {'_DescriptorSetToDescriptor': {'dst': '_Descriptor', 'matched': 380, 'properties': None, 'src': '_DescriptorSet'}, 'abstracts': {'dst': 'Software', 'matched': 2, 'properties': {'created_at': [2, False, 'String'], 'dst_class': [2, False, 'String'], 'dst_id': [2, False, 'Number'], 'src_class': [2, False, 'String'], 'src_id': [2, False, 'Number'], 'type': [2, False, 'String']}, 'src': 'Software'}, 'accesses': {'dst': 'Software', 'matched': 1, 'properties': {'created_at': [1, False, 'String'], 'dst_class': [1, False, 'String'], 'dst_id': [1, False, 'Number'], 'src_class': [1, False, 'String'], 'src_id': [1, False, 'Number'], 'type': [1, False, 'String']}, 'src': 'User'}, 'acts_as': {'dst': 'Organization', 'matched': 1, 'properties': {'created_at': [1, False, 'String'], 'dst_class': [1, False, 'String'], 'dst_id': [1, False, 'Number'], 'src_class': [1, False, 'String'], 'src_id': [1, False, 'Number'], 'type': [1, False, 'String']}, 'src': 'Service'}, 'acts_as_bridge_between': {'dst': 'Software', 'matched': 1, 'properties': {'created_at': [1, False, 'String'], 'dst_class': [1, False, 'String'], 'dst_id': [1, False, 'Number'], 'src_class': [1, False, 'String'], 'src_id': [1, False, 'Number'], 'type': [1, False, 'String']}, 'src': 'Software'}, 'acts_as_middle_layer_between': {'dst': 'Hardware', 'matched': 1, 'properties': {'created_at': [1, False, 'String'], 'dst_class': [1, False, 'String'], 'dst_id': [1, False, 'Number'], 'src_class': [1, False, 'String'], 'src_id': [1, False, 'Number'], 'type': [1, False, 'String']}, 'src': 'Concept'}, 'acts_as_time_source_for': {'dst': 'Service', 'matched': 1, 'properties': {'created_at': [1, False, 'String'], 'dst_class': [1, False, 'String'], 'dst_id': [1, False, 'Number'], 'src_class': [1, False, 'String'], 'src_id': [1, False, 'Number'], 'type': [1, False, 'String']}, 'src': 'Hardware'}, 'acts_on_behalf_of': {'dst': 'Organization', 'matched': 1, 'properties': {'created_at': [1, False, 'String'], 'dst_class': [1, False, 'String'], 'dst_id': [1, False, 'Number'], 'src_class': [1, False, 'String'], 'src_id': [1, False, 'Number'], 'type': [1, False, 'String']}, 'src': 'Service'}, 'adds': {'dst': 'Concept', 'matched': 1, 'properties': {'created_at': [1, False, 'String'], 'dst_class': [1, False, 'String'], 'dst_id': [1, False, 'Number'], 'src_class': [1, False, 'String'], 'src_id': [1, False, 'Number'], 'type': [1, False, 'String']}, 'src': 'Software'}, 'aggregates': {'dst': 'Service', 'matched': 1, 'properties': {'created_at': [1, False, 'String'], 'dst_class': [1, False, 'String'], 'dst_id': [1, False, 'Number'], 'src_class': [1, False, 'String'], 'src_id': [1, False, 'Number'], 'type': [1, False, 'String']}, 'src': 'Service'}, 'allocated_from': {'dst': 'Organization', 'matched': 1, 'properties': {'created_at': [1, False, 'String'], 'dst_class': [1, False, 'String'], 'dst_id': [1, False, 'Number'], 'src_class': [1, False, 'String'], 'src_id': [1, False, 'Number'], 'type': [1, False, 'String']}, 'src': 'Network'}, 'allocates': {'dst': 'Network', 'matched': 1, 'properties': {'created_at': [1, False, 'String'], 'dst_class': [1, False, 'String'], 'dst_id': [1, False, 'Number'], 'src_class': [1, False, 'String'], 'src_id': [1, False, 'Number'], 'type': [1, False, 'String']}, 'src': 'Organization'}, 'allocates_machines_for': {'dst': 'Service', 'matched': 1, 'properties': {'created_at': [1, False, 'String'], 'dst_class': [1, False, 'String'], 'dst_id': [1, False, 'Number'], 'src_class': [1, False, 'String'], 'src_id': [1, False, 'Number'], 'type': [1, False, 'String']}, 'src': 'System'}, 'allocates_to': {'dst': 'Hardware', 'matched': 3, 'properties': {'created_at': [3, False, 'String'], 'dst_class': [3, False, 'String'], 'dst_id': [3, False, 'Number'], 'src_class': [3, False, 'String'], 'src_id': [3, False, 'Number'], 'type': [3, False, 'String']}, 'src': 'Concept'}, 'allows_access_to': {'dst': 'Hardware', 'matched': 1, 'properties': {'created_at': [1, False, 'String'], 'dst_class': [1, False, 'String'], 'dst_id': [1, False, 'Number'], 'src_class': [1, False, 'String'], 'src_id': [1, False, 'Number'], 'type': [1, False, 'String']}, 'src': 'Software'}, 'allows_bidding_on': {'dst': 'Service', 'matched': 1, 'properties': {'created_at': [1, False, 'String'], 'dst_class': [1, False, 'String'], 'dst_id': [1, False, 'Number'], 'src_class': [1, False, 'String'], 'src_id': [1, False, 'Number'], 'type': [1, False, 'String']}, 'src': 'Concept'}, 'allows_configuration_of': {'dst': 'Service', 'matched': 1, 'properties': {'created_at': [1, False, 'String'], 'dst_class': [1, False, 'String'], 'dst_id': [1, False, 'Number'], 'src_class': [1, False, 'String'], 'src_id': [1, False, 'Number'], 'type': [1, False, 'String']}, 'src': 'Concept'}, 'allows_construction_of': {'dst': 'Concept', 'matched': 1, 'properties': {'created_at': [1, False, 'String'], 'dst_class': [1, False, 'String'], 'dst_id': [1, False, 'Number'], 'src_class': [1, False, 'String'], 'src_id': [1, False, 'Number'], 'type': [1, False, 'String']}, 'src': 'System'}, 'allows_deployment_of': {'dst': 'Service', 'matched': 1, 'properties': {'created_at': [1, False, 'String'], 'dst_class': [1, False, 'String'], 'dst_id': [1, False, 'Number'], 'src_class': [1, False, 'String'], 'src_id': [1, False, 'Number'], 'type': [1, False, 'String']}, 'src': 'Concept'}, 'allows_to_run': {'dst': 'Software', 'matched': 1, 'properties': {'created_at': [1, False, 'String'], 'dst_class': [1, False, 'String'], 'dst_id': [1, False, 'Number'], 'src_class': [1, False, 'String'], 'src_id': [1, False, 'Number'], 'type': [1, False, 'String']}, 'src': 'Network'}, 'also_known_as': {'dst': 'System', 'matched': 1, 'properties': {'created_at': [1, False, 'String'], 'dst_class': [1, False, 'String'], 'dst_id': [1, False, 'Number'], 'src_class': [1, False, 'String'], 'src_id': [1, False, 'Number'], 'type': [1, False, 'String']}, 'src': 'System'}, 'applies_to': {'dst': 'User', 'matched': 1, 'properties': {'created_at': [1, False, 'String'], 'dst_class': [1, False, 'String'], 'dst_id': [1, False, 'Number'], 'src_class': [1, False, 'String'], 'src_id': [1, False, 'Number'], 'type': [1, False, 'String']}, 'src': 'Concept'}, 'assesses': {'dst': 'Software', 'matched': 1, 'properties': {'created_at': [1, False, 'String'], 'dst_class': [1, False, 'String'], 'dst_id': [1, False, 'Number'], 'src_class': [1, False, 'String'], 'src_id': [1, False, 'Number'], 'type': [1, False, 'String']}, 'src': 'Concept'}, 'assigned_to': {'dst': 'Network', 'matched': 1, 'properties': {'created_at': [1, False, 'String'], 'dst_class': [1, False, 'String'], 'dst_id': [1, False, 'Number'], 'src_class': [1, False, 'String'], 'src_id': [1, False, 'Number'], 'type': [1, False, 'String']}, 'src': 'User'}, 'assigned_via': {'dst': 'Network', 'matched': 1, 'properties': {'created_at': [1, False, 'String'], 'dst_class': [1, False, 'String'], 'dst_id': [1, False, 'Number'], 'src_class': [1, False, 'String'], 'src_id': [1, False, 'Number'], 'type': [1, False, 'String']}, 'src': 'Network'}, 'assigns': {'dst': 'Hardware', 'matched': 1, 'properties': {'created_at': [1, False, 'String'], 'dst_class': [1, False, 'String'], 'dst_id': [1, False, 'Number'], 'src_class': [1, False, 'String'], 'src_id': [1, False, 'Number'], 'type': [1, False, 'String']}, 'src': 'User'}, 'associated_with': {'dst': 'Software', 'matched': 2, 'properties': {'created_at': [2, False, 'String'], 'dst_class': [2, False, 'String'], 'dst_id': [2, False, 'Number'], 'src_class': [2, False, 'String'], 'src_id': [2, False, 'Number'], 'type': [2, False, 'String']}, 'src': 'Concept'}, 'attached_to': {'dst': 'Software', 'matched': 1, 'properties': {'created_at': [1, False, 'String'], 'dst_class': [1, False, 'String'], 'dst_id': [1, False, 'Number'], 'src_class': [1, False, 'String'], 'src_id': [1, False, 'Number'], 'type': [1, False, 'String']}, 'src': 'Software'}, 'audits_for': {'dst': 'Concept', 'matched': 1, 'properties': {'created_at': [1, False, 'String'], 'dst_class': [1, False, 'String'], 'dst_id': [1, False, 'Number'], 'src_class': [1, False, 'String'], 'src_id': [1, False, 'Number'], 'type': [1, False, 'String']}, 'src': 'Service'}, 'automates_functions_within': {'dst': 'System', 'matched': 1, 'properties': {'created_at': [1, False, 'String'], 'dst_class': [1, False, 'String'], 'dst_id': [1, False, 'Number'], 'src_class': [1, False, 'String'], 'src_id': [1, False, 'Number'], 'type': [1, False, 'String']}, 'src': 'User'}, 'belongs_to': {'dst': 'User', 'matched': 1, 'properties': {'created_at': [1, False, 'String'], 'dst_class': [1, False, 'String'], 'dst_id': [1, False, 'Number'], 'src_class': [1, False, 'String'], 'src_id': [1, False, 'Number'], 'type': [1, False, 'String']}, 'src': 'Network'}, 'belongs_to_data_source': {'dst': '_Blob', 'matched': 5, 'properties': {'created_at': [5, False, 'String'], 'dst_class': [5, False, 'String'], 'dst_id': [5, False, 'Number'], 'src_id': [5, False, 'Number'], 'type': [5, False, 'String']}, 'src': 'User'}, 'benefits': {'dst': 'Concept', 'matched': 2, 'properties': {'created_at': [2, False, 'String'], 'dst_class': [2, False, 'String'], 'dst_id': [2, False, 'Number'], 'src_class': [2, False, 'String'], 'src_id': [2, False, 'Number'], 'type': [2, False, 'String']}, 'src': 'Concept'}, 'between': {'dst': 'Hardware', 'matched': 1, 'properties': {'created_at': [1, False, 'String'], 'dst_class': [1, False, 'String'], 'dst_id': [1, False, 'Number'], 'src_class': [1, False, 'String'], 'src_id': [1, False, 'Number'], 'type': [1, False, 'String']}, 'src': 'Concept'}, 'builds': {'dst': 'Concept', 'matched': 1, 'properties': {'created_at': [1, False, 'String'], 'dst_class': [1, False, 'String'], 'dst_id': [1, False, 'Number'], 'src_class': [1, False, 'String'], 'src_id': [1, False, 'Number'], 'type': [1, False, 'String']}, 'src': 'User'}, 'built_using': {'dst': 'Concept', 'matched': 2, 'properties': {'created_at': [2, False, 'String'], 'dst_class': [2, False, 'String'], 'dst_id': [2, False, 'Number'], 'src_class': [2, False, 'String'], 'src_id': [2, False, 'Number'], 'type': [2, False, 'String']}, 'src': 'Concept'}, 'bypasses': {'dst': 'Software', 'matched': 1, 'properties': {'created_at': [1, False, 'String'], 'dst_class': [1, False, 'String'], 'dst_id': [1, False, 'Number'], 'src_class': [1, False, 'String'], 'src_id': [1, False, 'Number'], 'type': [1, False, 'String']}, 'src': 'Service'}, 'can_be_assigned_to': {'dst': 'Service', 'matched': 1, 'properties': {'created_at': [1, False, 'String'], 'dst_class': [1, False, 'String'], 'dst_id': [1, False, 'Number'], 'src_class': [1, False, 'String'], 'src_id': [1, False, 'Number'], 'type': [1, False, 'String']}, 'src': 'Network'}, 'can_be_built_on': {'dst': 'System', 'matched': 1, 'properties': {'created_at': [1, False, 'String'], 'dst_class': [1, False, 'String'], 'dst_id': [1, False, 'Number'], 'src_class': [1, False, 'String'], 'src_id': [1, False, 'Number'], 'type': [1, False, 'String']}, 'src': 'System'}, 'can_be_classified_as': {'dst': 'System', 'matched': 1, 'properties': {'created_at': [1, False, 'String'], 'dst_class': [1, False, 'String'], 'dst_id': [1, False, 'Number'], 'src_class': [1, False, 'String'], 'src_id': [1, False, 'Number'], 'type': [1, False, 'String']}, 'src': 'System'}, 'can_be_deployed_in': {'dst': 'System', 'matched': 1, 'properties': {'created_at': [1, False, 'String'], 'dst_class': [1, False, 'String'], 'dst_id': [1, False, 'Number'], 'src_class': [1, False, 'String'], 'src_id': [1, False, 'Number'], 'type': [1, False, 'String']}, 'src': 'Concept'}, 'can_be_managed_by': {'dst': 'Organization', 'matched': 2, 'properties': {'created_at': [2, False, 'String'], 'dst_class': [2, False, 'String'], 'dst_id': [2, False, 'Number'], 'src_class': [2, False, 'String'], 'src_id': [2, False, 'Number'], 'type': [2, False, 'String']}, 'src': 'Concept'}, 'can_be_provided_in': {'dst': 'System', 'matched': 1, 'properties': {'created_at': [1, False, 'String'], 'dst_class': [1, False, 'String'], 'dst_id': [1, False, 'Number'], 'src_class': [1, False, 'String'], 'src_id': [1, False, 'Number'], 'type': [1, False, 'String']}, 'src': 'Concept'}, 'can_cause': {'dst': 'Concept', 'matched': 1, 'properties': {'created_at': [1, False, 'String'], 'dst_class': [1, False, 'String'], 'dst_id': [1, False, 'Number'], 'src_class': [1, False, 'String'], 'src_id': [1, False, 'Number'], 'type': [1, False, 'String']}, 'src': 'Software'}, 'can_create': {'dst': 'System', 'matched': 2, 'properties': {'created_at': [2, False, 'String'], 'dst_class': [2, False, 'String'], 'dst_id': [2, False, 'Number'], 'src_class': [2, False, 'String'], 'src_id': [2, False, 'Number'], 'type': [2, False, 'String']}, 'src': 'System'}, 'can_have': {'dst': 'Concept', 'matched': 1, 'properties': {'created_at': [1, False, 'String'], 'dst_class': [1, False, 'String'], 'dst_id': [1, False, 'Number'], 'src_class': [1, False, 'String'], 'src_id': [1, False, 'Number'], 'type': [1, False, 'String']}, 'src': 'System'}, 'can_participate_in': {'dst': 'System', 'matched': 1, 'properties': {'created_at': [1, False, 'String'], 'dst_class': [1, False, 'String'], 'dst_id': [1, False, 'Number'], 'src_class': [1, False, 'String'], 'src_id': [1, False, 'Number'], 'type': [1, False, 'String']}, 'src': 'User'}, 'can_request': {'dst': 'System', 'matched': 1, 'properties': {'created_at': [1, False, 'String'], 'dst_class': [1, False, 'String'], 'dst_id': [1, False, 'Number'], 'src_class': [1, False, 'String'], 'src_id': [1, False, 'Number'], 'type': [1, False, 'String']}, 'src': 'User'}, 'can_sell_resources_in': {'dst': 'System', 'matched': 1, 'properties': {'created_at': [1, False, 'String'], 'dst_class': [1, False, 'String'], 'dst_id': [1, False, 'Number'], 'src_class': [1, False, 'String'], 'src_id': [1, False, 'Number'], 'type': [1, False, 'String']}, 'src': 'User'}, 'changes_unless': {'dst': 'Network', 'matched': 1, 'properties': {'created_at': [1, False, 'String'], 'dst_class': [1, False, 'String'], 'dst_id': [1, False, 'Number'], 'src_class': [1, False, 'String'], 'src_id': [1, False, 'Number'], 'type': [1, False, 'String']}, 'src': 'Network'}, 'collects_stats_from': {'dst': 'Concept', 'matched': 1, 'properties': {'created_at': [1, False, 'String'], 'dst_class': [1, False, 'String'], 'dst_id': [1, False, 'Number'], 'src_class': [1, False, 'String'], 'src_id': [1, False, 'Number'], 'type': [1, False, 'String']}, 'src': 'Software'}, 'combines': {'dst': 'System', 'matched': 2, 'properties': {'created_at': [2, False, 'String'], 'dst_class': [2, False, 'String'], 'dst_id': [2, False, 'Number'], 'src_class': [2, False, 'String'], 'src_id': [2, False, 'Number'], 'type': [2, False, 'String']}, 'src': 'System'}, 'commands_routed_through': {'dst': 'Software', 'matched': 1, 'properties': {'created_at': [1, False, 'String'], 'dst_class': [1, False, 'String'], 'dst_id': [1, False, 'Number'], 'src_class': [1, False, 'String'], 'src_id': [1, False, 'Number'], 'type': [1, False, 'String']}, 'src': 'Concept'}, 'communicates_with': {'dst': 'Software', 'matched': 1, 'properties': {'created_at': [1, False, 'String'], 'dst_class': [1, False, 'String'], 'dst_id': [1, False, 'Number'], 'src_class': [1, False, 'String'], 'src_id': [1, False, 'Number'], 'type': [1, False, 'String']}, 'src': 'Software'}, 'comprises': {'dst': 'Software', 'matched': 1, 'properties': {'created_at': [1, False, 'String'], 'dst_class': [1, False, 'String'], 'dst_id': [1, False, 'Number'], 'src_class': [1, False, 'String'], 'src_id': [1, False, 'Number'], 'type': [1, False, 'String']}, 'src': 'Concept'}, 'connected_to': {'dst': 'Hardware', 'matched': 1, 'properties': {'created_at': [1, False, 'String'], 'dst_class': [1, False, 'String'], 'dst_id': [1, False, 'Number'], 'src_class': [1, False, 'String'], 'src_id': [1, False, 'Number'], 'type': [1, False, 'String']}, 'src': 'Software'}, 'connects': {'dst': 'Hardware', 'matched': 1, 'properties': {'created_at': [1, False, 'String'], 'dst_class': [1, False, 'String'], 'dst_id': [1, False, 'Number'], 'src_class': [1, False, 'String'], 'src_id': [1, False, 'Number'], 'type': [1, False, 'String']}, 'src': 'Software'}, 'consists_of': {'dst': 'Network', 'matched': 2, 'properties': {'created_at': [2, False, 'String'], 'dst_class': [2, False, 'String'], 'dst_id': [2, False, 'Number'], 'src_class': [2, False, 'String'], 'src_id': [2, False, 'Number'], 'type': [2, False, 'String']}, 'src': 'Service'}, 'consolidates': {'dst': 'Concept', 'matched': 1, 'properties': {'created_at': [1, False, 'String'], 'dst_class': [1, False, 'String'], 'dst_id': [1, False, 'Number'], 'src_class': [1, False, 'String'], 'src_id': [1, False, 'Number'], 'type': [1, False, 'String']}, 'src': 'System'}, 'constructed_from': {'dst': 'Hardware', 'matched': 1, 'properties': {'created_at': [1, False, 'String'], 'dst_class': [1, False, 'String'], 'dst_id': [1, False, 'Number'], 'src_class': [1, False, 'String'], 'src_id': [1, False, 'Number'], 'type': [1, False, 'String']}, 'src': 'System'}, 'consumes_fewer_resources_than': {'dst': 'Concept', 'matched': 1, 'properties': {'created_at': [1, False, 'String'], 'dst_class': [1, False, 'String'], 'dst_id': [1, False, 'Number'], 'src_class': [1, False, 'String'], 'src_id': [1, False, 'Number'], 'type': [1, False, 'String']}, 'src': 'Concept'}, 'contains': {'dst': 'Software', 'matched': 1, 'properties': {'created_at': [1, False, 'String'], 'dst_class': [1, False, 'String'], 'dst_id': [1, False, 'Number'], 'src_class': [1, False, 'String'], 'src_id': [1, False, 'Number'], 'type': [1, False, 'String']}, 'src': 'Software'}, 'contrasts_with': {'dst': 'Concept', 'matched': 1, 'properties': {'created_at': [1, False, 'String'], 'dst_class': [1, False, 'String'], 'dst_id': [1, False, 'Number'], 'src_class': [1, False, 'String'], 'src_id': [1, False, 'Number'], 'type': [1, False, 'String']}, 'src': 'Concept'}, 'contributes_to': {'dst': 'System', 'matched': 2, 'properties': {'created_at': [2, False, 'String'], 'dst_class': [2, False, 'String'], 'dst_id': [2, False, 'Number'], 'src_class': [2, False, 'String'], 'src_id': [2, False, 'Number'], 'type': [2, False, 'String']}, 'src': 'System'}, 'controls': {'dst': 'Concept', 'matched': 1, 'properties': {'created_at': [1, False, 'String'], 'dst_class': [1, False, 'String'], 'dst_id': [1, False, 'Number'], 'src_class': [1, False, 'String'], 'src_id': [1, False, 'Number'], 'type': [1, False, 'String']}, 'src': 'User'}, 'created_for': {'dst': 'System', 'matched': 1, 'properties': {'created_at': [1, False, 'String'], 'dst_class': [1, False, 'String'], 'dst_id': [1, False, 'Number'], 'src_class': [1, False, 'String'], 'src_id': [1, False, 'Number'], 'type': [1, False, 'String']}, 'src': 'System'}, 'created_from': {'dst': 'Hardware', 'matched': 3, 'properties': {'created_at': [3, False, 'String'], 'dst_class': [3, False, 'String'], 'dst_id': [3, False, 'Number'], 'src_class': [3, False, 'String'], 'src_id': [3, False, 'Number'], 'type': [3, False, 'String']}, 'src': 'Concept'}, 'created_on_top_of': {'dst': 'Software', 'matched': 1, 'properties': {'created_at': [1, False, 'String'], 'dst_class': [1, False, 'String'], 'dst_id': [1, False, 'Number'], 'src_class': [1, False, 'String'], 'src_id': [1, False, 'Number'], 'type': [1, False, 'String']}, 'src': 'Concept'}, 'creates': {'dst': 'Network', 'matched': 1, 'properties': {'created_at': [1, False, 'String'], 'dst_class': [1, False, 'String'], 'dst_id': [1, False, 'Number'], 'src_class': [1, False, 'String'], 'src_id': [1, False, 'Number'], 'type': [1, False, 'String']}, 'src': 'User'}, 'creation_involves': {'dst': 'Service', 'matched': 6, 'properties': {'created_at': [6, False, 'String'], 'dst_class': [6, False, 'String'], 'dst_id': [6, False, 'Number'], 'src_class': [6, False, 'String'], 'src_id': [6, False, 'Number'], 'type': [6, False, 'String']}, 'src': 'Concept'}, 'decides': {'dst': 'Hardware', 'matched': 1, 'properties': {'created_at': [1, False, 'String'], 'dst_class': [1, False, 'String'], 'dst_id': [1, False, 'Number'], 'src_class': [1, False, 'String'], 'src_id': [1, False, 'Number'], 'type': [1, False, 'String']}, 'src': 'Service'}, 'defined_by': {'dst': 'Concept', 'matched': 1, 'properties': {'created_at': [1, False, 'String'], 'dst_class': [1, False, 'String'], 'dst_id': [1, False, 'Number'], 'src_class': [1, False, 'String'], 'src_id': [1, False, 'Number'], 'type': [1, False, 'String']}, 'src': 'Organization'}, 'defines': {'dst': 'System', 'matched': 1, 'properties': {'created_at': [1, False, 'String'], 'dst_class': [1, False, 'String'], 'dst_id': [1, False, 'Number'], 'src_class': [1, False, 'String'], 'src_id': [1, False, 'Number'], 'type': [1, False, 'String']}, 'src': 'Organization'}, 'defines_access_for': {'dst': 'User', 'matched': 1, 'properties': {'created_at': [1, False, 'String'], 'dst_class': [1, False, 'String'], 'dst_id': [1, False, 'Number'], 'src_class': [1, False, 'String'], 'src_id': [1, False, 'Number'], 'type': [1, False, 'String']}, 'src': 'Concept'}, 'defines_access_to': {'dst': 'Service', 'matched': 1, 'properties': {'created_at': [1, False, 'String'], 'dst_class': [1, False, 'String'], 'dst_id': [1, False, 'Number'], 'src_class': [1, False, 'String'], 'src_id': [1, False, 'Number'], 'type': [1, False, 'String']}, 'src': 'Concept'}, 'defines_responsibility_between': {'dst': 'User', 'matched': 1, 'properties': {'created_at': [1, False, 'String'], 'dst_class': [1, False, 'String'], 'dst_id': [1, False, 'Number'], 'src_class': [1, False, 'String'], 'src_id': [1, False, 'Number'], 'type': [1, False, 'String']}, 'src': 'Concept'}, 'defines_service_level_for': {'dst': 'User', 'matched': 1, 'properties': {'created_at': [1, False, 'String'], 'dst_class': [1, False, 'String'], 'dst_id': [1, False, 'Number'], 'src_class': [1, False, 'String'], 'src_id': [1, False, 'Number'], 'type': [1, False, 'String']}, 'src': 'Concept'}, 'delivers': {'dst': 'Service', 'matched': 1, 'properties': {'created_at': [1, False, 'String'], 'dst_class': [1, False, 'String'], 'dst_id': [1, False, 'Number'], 'src_class': [1, False, 'String'], 'src_id': [1, False, 'Number'], 'type': [1, False, 'String']}, 'src': 'Service'}, 'delivers_as': {'dst': 'Service', 'matched': 1, 'properties': {'created_at': [1, False, 'String'], 'dst_class': [1, False, 'String'], 'dst_id': [1, False, 'Number'], 'src_class': [1, False, 'String'], 'src_id': [1, False, 'Number'], 'type': [1, False, 'String']}, 'src': 'Service'}, 'delivers_to': {'dst': 'User', 'matched': 1, 'properties': {'created_at': [1, False, 'String'], 'dst_class': [1, False, 'String'], 'dst_id': [1, False, 'Number'], 'src_class': [1, False, 'String'], 'src_id': [1, False, 'Number'], 'type': [1, False, 'String']}, 'src': 'Service'}, 'demonstrates': {'dst': 'Concept', 'matched': 1, 'properties': {'created_at': [1, False, 'String'], 'dst_class': [1, False, 'String'], 'dst_id': [1, False, 'Number'], 'src_class': [1, False, 'String'], 'src_id': [1, False, 'Number'], 'type': [1, False, 'String']}, 'src': 'Network'}, 'depends_on': {'dst': 'Software', 'matched': 1, 'properties': {'created_at': [1, False, 'String'], 'dst_class': [1, False, 'String'], 'dst_id': [1, False, 'Number'], 'src_class': [1, False, 'String'], 'src_id': [1, False, 'Number'], 'type': [1, False, 'String']}, 'src': 'Software'}, 'designed_for': {'dst': 'User', 'matched': 2, 'properties': {'created_at': [2, False, 'String'], 'dst_class': [2, False, 'String'], 'dst_id': [2, False, 'Number'], 'src_class': [2, False, 'String'], 'src_id': [2, False, 'Number'], 'type': [2, False, 'String']}, 'src': 'Service'}, 'developed_by': {'dst': 'Organization', 'matched': 1, 'properties': {'created_at': [1, False, 'String'], 'dst_class': [1, False, 'String'], 'dst_id': [1, False, 'Number'], 'src_class': [1, False, 'String'], 'src_id': [1, False, 'Number'], 'type': [1, False, 'String']}, 'src': 'Software'}, 'differs_from': {'dst': 'System', 'matched': 1, 'properties': {'created_at': [1, False, 'String'], 'dst_class': [1, False, 'String'], 'dst_id': [1, False, 'Number'], 'src_class': [1, False, 'String'], 'src_id': [1, False, 'Number'], 'type': [1, False, 'String']}, 'src': 'System'}, 'distributes_across': {'dst': 'Concept', 'matched': 1, 'properties': {'created_at': [1, False, 'String'], 'dst_class': [1, False, 'String'], 'dst_id': [1, False, 'Number'], 'src_class': [1, False, 'String'], 'src_id': [1, False, 'Number'], 'type': [1, False, 'String']}, 'src': 'Software'}, 'distributes_to': {'dst': 'User', 'matched': 1, 'properties': {'created_at': [1, False, 'String'], 'dst_class': [1, False, 'String'], 'dst_id': [1, False, 'Number'], 'src_class': [1, False, 'String'], 'src_id': [1, False, 'Number'], 'type': [1, False, 'String']}, 'src': 'Network'}, 'distributes_traffic_to': {'dst': 'Service', 'matched': 1, 'properties': {'created_at': [1, False, 'String'], 'dst_class': [1, False, 'String'], 'dst_id': [1, False, 'Number'], 'src_class': [1, False, 'String'], 'src_id': [1, False, 'Number'], 'type': [1, False, 'String']}, 'src': 'Service'}, 'does_not_require_modification_of': {'dst': 'Software', 'matched': 1, 'properties': {'created_at': [1, False, 'String'], 'dst_class': [1, False, 'String'], 'dst_id': [1, False, 'Number'], 'src_class': [1, False, 'String'], 'src_id': [1, False, 'Number'], 'type': [1, False, 'String']}, 'src': 'Concept'}, 'due_to': {'dst': 'Concept', 'matched': 1, 'properties': {'created_at': [1, False, 'String'], 'dst_class': [1, False, 'String'], 'dst_id': [1, False, 'Number'], 'src_class': [1, False, 'String'], 'src_id': [1, False, 'Number'], 'type': [1, False, 'String']}, 'src': 'Software'}, 'eases_migration_of': {'dst': 'Concept', 'matched': 1, 'properties': {'created_at': [1, False, 'String'], 'dst_class': [1, False, 'String'], 'dst_id': [1, False, 'Number'], 'src_class': [1, False, 'String'], 'src_id': [1, False, 'Number'], 'type': [1, False, 'String']}, 'src': 'Concept'}, 'emulates': {'dst': 'Hardware', 'matched': 2, 'properties': {'created_at': [2, False, 'String'], 'dst_class': [2, False, 'String'], 'dst_id': [2, False, 'Number'], 'src_class': [2, False, 'String'], 'src_id': [2, False, 'Number'], 'type': [2, False, 'String']}, 'src': 'Software'}, 'enables': {'dst': 'User', 'matched': 2, 'properties': {'created_at': [2, False, 'String'], 'dst_class': [2, False, 'String'], 'dst_id': [2, False, 'Number'], 'src_class': [2, False, 'String'], 'src_id': [2, False, 'Number'], 'type': [2, False, 'String']}, 'src': 'System'}, 'enables_building_of': {'dst': 'System', 'matched': 1, 'properties': {'created_at': [1, False, 'String'], 'dst_class': [1, False, 'String'], 'dst_id': [1, False, 'Number'], 'src_class': [1, False, 'String'], 'src_id': [1, False, 'Number'], 'type': [1, False, 'String']}, 'src': 'Organization'}, 'enables_communication_between': {'dst': 'Service', 'matched': 1, 'properties': {'created_at': [1, False, 'String'], 'dst_class': [1, False, 'String'], 'dst_id': [1, False, 'Number'], 'src_class': [1, False, 'String'], 'src_id': [1, False, 'Number'], 'type': [1, False, 'String']}, 'src': 'Service'}, 'enables_connection_between': {'dst': 'User', 'matched': 1, 'properties': {'created_at': [1, False, 'String'], 'dst_class': [1, False, 'String'], 'dst_id': [1, False, 'Number'], 'src_class': [1, False, 'String'], 'src_id': [1, False, 'Number'], 'type': [1, False, 'String']}, 'src': 'Concept'}, 'enables_connection_for': {'dst': 'Software', 'matched': 1, 'properties': {'created_at': [1, False, 'String'], 'dst_class': [1, False, 'String'], 'dst_id': [1, False, 'Number'], 'src_class': [1, False, 'String'], 'src_id': [1, False, 'Number'], 'type': [1, False, 'String']}, 'src': 'Software'}, 'enables_construction_of': {'dst': 'Concept', 'matched': 1, 'properties': {'created_at': [1, False, 'String'], 'dst_class': [1, False, 'String'], 'dst_id': [1, False, 'Number'], 'src_class': [1, False, 'String'], 'src_id': [1, False, 'Number'], 'type': [1, False, 'String']}, 'src': 'System'}, 'enables_creation_of': {'dst': 'Concept', 'matched': 3, 'properties': {'created_at': [3, False, 'String'], 'dst_class': [3, False, 'String'], 'dst_id': [3, False, 'Number'], 'src_class': [3, False, 'String'], 'src_id': [3, False, 'Number'], 'type': [3, False, 'String']}, 'src': 'Concept'}, 'enables_data_transfer_between': {'dst': 'Hardware', 'matched': 2, 'properties': {'created_at': [2, False, 'String'], 'dst_class': [2, False, 'String'], 'dst_id': [2, False, 'Number'], 'src_class': [2, False, 'String'], 'src_id': [2, False, 'Number'], 'type': [2, False, 'String']}, 'src': 'Network'}, 'enables_independence_from': {'dst': 'Software', 'matched': 1, 'properties': {'created_at': [1, False, 'String'], 'dst_class': [1, False, 'String'], 'dst_id': [1, False, 'Number'], 'src_class': [1, False, 'String'], 'src_id': [1, False, 'Number'], 'type': [1, False, 'String']}, 'src': 'Software'}, 'enables_migration_across': {'dst': 'Organization', 'matched': 1, 'properties': {'created_at': [1, False, 'String'], 'dst_class': [1, False, 'String'], 'dst_id': [1, False, 'Number'], 'src_class': [1, False, 'String'], 'src_id': [1, False, 'Number'], 'type': [1, False, 'String']}, 'src': 'System'}, 'enables_migration_between': {'dst': 'Organization', 'matched': 1, 'properties': {'created_at': [1, False, 'String'], 'dst_class': [1, False, 'String'], 'dst_id': [1, False, 'Number'], 'src_class': [1, False, 'String'], 'src_id': [1, False, 'Number'], 'type': [1, False, 'String']}, 'src': 'Service'}, 'enforces': {'dst': 'Concept', 'matched': 1, 'properties': {'created_at': [1, False, 'String'], 'dst_class': [1, False, 'String'], 'dst_id': [1, False, 'Number'], 'src_class': [1, False, 'String'], 'src_id': [1, False, 'Number'], 'type': [1, False, 'String']}, 'src': 'Concept'}, 'enhances': {'dst': 'Concept', 'matched': 1, 'properties': {'created_at': [1, False, 'String'], 'dst_class': [1, False, 'String'], 'dst_id': [1, False, 'Number'], 'src_class': [1, False, 'String'], 'src_id': [1, False, 'Number'], 'type': [1, False, 'String']}, 'src': 'Concept'}, 'ensures': {'dst': 'Concept', 'matched': 2, 'properties': {'created_at': [2, False, 'String'], 'dst_class': [2, False, 'String'], 'dst_id': [2, False, 'Number'], 'src_class': [2, False, 'String'], 'src_id': [2, False, 'Number'], 'type': [2, False, 'String']}, 'src': 'System'}, 'ensures_compatibility_between': {'dst': 'System', 'matched': 1, 'properties': {'created_at': [1, False, 'String'], 'dst_class': [1, False, 'String'], 'dst_id': [1, False, 'Number'], 'src_class': [1, False, 'String'], 'src_id': [1, False, 'Number'], 'type': [1, False, 'String']}, 'src': 'Service'}, 'example': {'dst': 'Software', 'matched': 1, 'properties': {'created_at': [1, False, 'String'], 'dst_class': [1, False, 'String'], 'dst_id': [1, False, 'Number'], 'src_class': [1, False, 'String'], 'src_id': [1, False, 'Number'], 'type': [1, False, 'String']}, 'src': 'Software'}, 'exemplified_by': {'dst': 'Software', 'matched': 1, 'properties': {'created_at': [1, False, 'String'], 'dst_class': [1, False, 'String'], 'dst_id': [1, False, 'Number'], 'src_class': [1, False, 'String'], 'src_id': [1, False, 'Number'], 'type': [1, False, 'String']}, 'src': 'Service'}, 'exists_in': {'dst': 'Network', 'matched': 1, 'properties': {'created_at': [1, False, 'String'], 'dst_class': [1, False, 'String'], 'dst_id': [1, False, 'Number'], 'src_class': [1, False, 'String'], 'src_id': [1, False, 'Number'], 'type': [1, False, 'String']}, 'src': 'System'}, 'extends': {'dst': 'System', 'matched': 1, 'properties': {'created_at': [1, False, 'String'], 'dst_class': [1, False, 'String'], 'dst_id': [1, False, 'Number'], 'src_class': [1, False, 'String'], 'src_id': [1, False, 'Number'], 'type': [1, False, 'String']}, 'src': 'Network'}, 'extends_to': {'dst': 'Organization', 'matched': 1, 'properties': {'created_at': [1, False, 'String'], 'dst_class': [1, False, 'String'], 'dst_id': [1, False, 'Number'], 'src_class': [1, False, 'String'], 'src_id': [1, False, 'Number'], 'type': [1, False, 'String']}, 'src': 'Network'}, 'faces_concerns': {'dst': 'Concept', 'matched': 2, 'properties': {'created_at': [2, False, 'String'], 'dst_class': [2, False, 'String'], 'dst_id': [2, False, 'Number'], 'src_class': [2, False, 'String'], 'src_id': [2, False, 'Number'], 'type': [2, False, 'String']}, 'src': 'System'}, 'faces_issue': {'dst': 'Concept', 'matched': 1, 'properties': {'created_at': [1, False, 'String'], 'dst_class': [1, False, 'String'], 'dst_id': [1, False, 'Number'], 'src_class': [1, False, 'String'], 'src_id': [1, False, 'Number'], 'type': [1, False, 'String']}, 'src': 'System'}, 'features': {'dst': 'System', 'matched': 1, 'properties': {'created_at': [1, False, 'String'], 'dst_class': [1, False, 'String'], 'dst_id': [1, False, 'Number'], 'src_class': [1, False, 'String'], 'src_id': [1, False, 'Number'], 'type': [1, False, 'String']}, 'src': 'System'}, 'focuses_on': {'dst': 'System', 'matched': 1, 'properties': {'created_at': [1, False, 'String'], 'dst_class': [1, False, 'String'], 'dst_id': [1, False, 'Number'], 'src_class': [1, False, 'String'], 'src_id': [1, False, 'Number'], 'type': [1, False, 'String']}, 'src': 'Concept'}, 'for': {'dst': 'Network', 'matched': 2, 'properties': {'created_at': [2, False, 'String'], 'dst_class': [2, False, 'String'], 'dst_id': [2, False, 'Number'], 'src_class': [2, False, 'String'], 'src_id': [2, False, 'Number'], 'type': [2, False, 'String']}, 'src': 'Software'}, 'for_managing': {'dst': 'System', 'matched': 1, 'properties': {'created_at': [1, False, 'String'], 'dst_class': [1, False, 'String'], 'dst_id': [1, False, 'Number'], 'src_class': [1, False, 'String'], 'src_id': [1, False, 'Number'], 'type': [1, False, 'String']}, 'src': 'Concept'}, 'for_monitoring': {'dst': 'Service', 'matched': 1, 'properties': {'created_at': [1, False, 'String'], 'dst_class': [1, False, 'String'], 'dst_id': [1, False, 'Number'], 'src_class': [1, False, 'String'], 'src_id': [1, False, 'Number'], 'type': [1, False, 'String']}, 'src': 'Service'}, 'for_role_in': {'dst': 'Concept', 'matched': 1, 'properties': {'created_at': [1, False, 'String'], 'dst_class': [1, False, 'String'], 'dst_id': [1, False, 'Number'], 'src_class': [1, False, 'String'], 'src_id': [1, False, 'Number'], 'type': [1, False, 'String']}, 'src': 'Concept'}, 'forms': {'dst': 'System', 'matched': 1, 'properties': {'created_at': [1, False, 'String'], 'dst_class': [1, False, 'String'], 'dst_id': [1, False, 'Number'], 'src_class': [1, False, 'String'], 'src_id': [1, False, 'Number'], 'type': [1, False, 'String']}, 'src': 'System'}, 'forms_foundation_of': {'dst': 'System', 'matched': 2, 'properties': {'created_at': [2, False, 'String'], 'dst_class': [2, False, 'String'], 'dst_id': [2, False, 'Number'], 'src_class': [2, False, 'String'], 'src_id': [2, False, 'Number'], 'type': [2, False, 'String']}, 'src': 'System'}, 'from': {'dst': 'System', 'matched': 1, 'properties': {'created_at': [1, False, 'String'], 'dst_class': [1, False, 'String'], 'dst_id': [1, False, 'Number'], 'src_class': [1, False, 'String'], 'src_id': [1, False, 'Number'], 'type': [1, False, 'String']}, 'src': 'Service'}, 'from_provider': {'dst': 'Organization', 'matched': 1, 'properties': {'created_at': [1, False, 'String'], 'dst_class': [1, False, 'String'], 'dst_id': [1, False, 'Number'], 'src_class': [1, False, 'String'], 'src_id': [1, False, 'Number'], 'type': [1, False, 'String']}, 'src': 'Service'}, 'grants_access_to': {'dst': 'User', 'matched': 1, 'properties': {'created_at': [1, False, 'String'], 'dst_class': [1, False, 'String'], 'dst_id': [1, False, 'Number'], 'src_class': [1, False, 'String'], 'src_id': [1, False, 'Number'], 'type': [1, False, 'String']}, 'src': 'System'}, 'handles': {'dst': 'Software', 'matched': 1, 'properties': {'created_at': [1, False, 'String'], 'dst_class': [1, False, 'String'], 'dst_id': [1, False, 'Number'], 'src_class': [1, False, 'String'], 'src_id': [1, False, 'Number'], 'type': [1, False, 'String']}, 'src': 'User'}, 'has': {'dst': 'Network', 'matched': 1, 'properties': {'created_at': [1, False, 'String'], 'dst_class': [1, False, 'String'], 'dst_id': [1, False, 'Number'], 'src_class': [1, False, 'String'], 'src_id': [1, False, 'Number'], 'type': [1, False, 'String']}, 'src': 'User'}, 'has_benefit': {'dst': 'Concept', 'matched': 6, 'properties': {'created_at': [6, False, 'String'], 'dst_class': [6, False, 'String'], 'dst_id': [6, False, 'Number'], 'src_class': [6, False, 'String'], 'src_id': [6, False, 'Number'], 'type': [6, False, 'String']}, 'src': 'Organization'}, 'has_challenge': {'dst': 'Concept', 'matched': 1, 'properties': {'created_at': [1, False, 'String'], 'dst_class': [1, False, 'String'], 'dst_id': [1, False, 'Number'], 'src_class': [1, False, 'String'], 'src_id': [1, False, 'Number'], 'type': [1, False, 'String']}, 'src': 'System'}, 'has_characteristic': {'dst': 'Concept', 'matched': 1, 'properties': {'created_at': [1, False, 'String'], 'dst_class': [1, False, 'String'], 'dst_id': [1, False, 'Number'], 'src_class': [1, False, 'String'], 'src_id': [1, False, 'Number'], 'type': [1, False, 'String']}, 'src': 'Concept'}, 'has_component': {'dst': 'Software', 'matched': 2, 'properties': {'created_at': [2, False, 'String'], 'dst_class': [2, False, 'String'], 'dst_id': [2, False, 'Number'], 'src_class': [2, False, 'String'], 'src_id': [2, False, 'Number'], 'type': [2, False, 'String']}, 'src': 'System'}, 'has_concern': {'dst': 'Concept', 'matched': 1, 'properties': {'created_at': [1, False, 'String'], 'dst_class': [1, False, 'String'], 'dst_id': [1, False, 'Number'], 'src_class': [1, False, 'String'], 'src_id': [1, False, 'Number'], 'type': [1, False, 'String']}, 'src': 'System'}, 'has_deployment_approach': {'dst': 'Service', 'matched': 1, 'properties': {'created_at': [1, False, 'String'], 'dst_class': [1, False, 'String'], 'dst_id': [1, False, 'Number'], 'src_class': [1, False, 'String'], 'src_id': [1, False, 'Number'], 'type': [1, False, 'String']}, 'src': 'Software'}, 'has_disadvantage': {'dst': 'Concept', 'matched': 1, 'properties': {'created_at': [1, False, 'String'], 'dst_class': [1, False, 'String'], 'dst_id': [1, False, 'Number'], 'src_class': [1, False, 'String'], 'src_id': [1, False, 'Number'], 'type': [1, False, 'String']}, 'src': 'Concept'}, 'has_drawback': {'dst': 'Concept', 'matched': 1, 'properties': {'created_at': [1, False, 'String'], 'dst_class': [1, False, 'String'], 'dst_id': [1, False, 'Number'], 'src_class': [1, False, 'String'], 'src_id': [1, False, 'Number'], 'type': [1, False, 'String']}, 'src': 'System'}, 'has_embedding': {'dst': '_Descriptor', 'matched': 5, 'properties': None, 'src': 'User'}, 'has_feature': {'dst': 'Concept', 'matched': 3, 'properties': {'created_at': [3, False, 'String'], 'dst_class': [3, False, 'String'], 'dst_id': [3, False, 'Number'], 'src_class': [3, False, 'String'], 'src_id': [3, False, 'Number'], 'type': [3, False, 'String']}, 'src': 'Software'}, 'has_foundational_blocks_in': {'dst': 'System', 'matched': 1, 'properties': {'created_at': [1, False, 'String'], 'dst_class': [1, False, 'String'], 'dst_id': [1, False, 'Number'], 'src_class': [1, False, 'String'], 'src_id': [1, False, 'Number'], 'type': [1, False, 'String']}, 'src': 'System'}, 'has_interface': {'dst': 'Software', 'matched': 2, 'properties': {'created_at': [2, False, 'String'], 'dst_class': [2, False, 'String'], 'dst_id': [2, False, 'Number'], 'src_class': [2, False, 'String'], 'src_id': [2, False, 'Number'], 'type': [2, False, 'String']}, 'src': 'Concept'}, 'has_level': {'dst': 'Concept', 'matched': 3, 'properties': {'created_at': [3, False, 'String'], 'dst_class': [3, False, 'String'], 'dst_id': [3, False, 'Number'], 'src_class': [3, False, 'String'], 'src_id': [3, False, 'Number'], 'type': [3, False, 'String']}, 'src': 'Concept'}, 'has_limits_as': {'dst': 'Concept', 'matched': 1, 'properties': {'created_at': [1, False, 'String'], 'dst_class': [1, False, 'String'], 'dst_id': [1, False, 'Number'], 'src_class': [1, False, 'String'], 'src_id': [1, False, 'Number'], 'type': [1, False, 'String']}, 'src': 'Concept'}, 'has_priority_for': {'dst': 'Organization', 'matched': 1, 'properties': {'created_at': [1, False, 'String'], 'dst_class': [1, False, 'String'], 'dst_id': [1, False, 'Number'], 'src_class': [1, False, 'String'], 'src_id': [1, False, 'Number'], 'type': [1, False, 'String']}, 'src': 'Concept'}, 'has_security_concern_with': {'dst': 'System', 'matched': 1, 'properties': {'created_at': [1, False, 'String'], 'dst_class': [1, False, 'String'], 'dst_id': [1, False, 'Number'], 'src_class': [1, False, 'String'], 'src_id': [1, False, 'Number'], 'type': [1, False, 'String']}, 'src': 'Organization'}, 'has_type': {'dst': 'Software', 'matched': 2, 'properties': {'created_at': [2, False, 'String'], 'dst_class': [2, False, 'String'], 'dst_id': [2, False, 'Number'], 'src_class': [2, False, 'String'], 'src_id': [2, False, 'Number'], 'type': [2, False, 'String']}, 'src': 'Software'}, 'helps_in': {'dst': 'Concept', 'matched': 1, 'properties': {'created_at': [1, False, 'String'], 'dst_class': [1, False, 'String'], 'dst_id': [1, False, 'Number'], 'src_class': [1, False, 'String'], 'src_id': [1, False, 'Number'], 'type': [1, False, 'String']}, 'src': 'Service'}, 'hides': {'dst': 'Concept', 'matched': 1, 'properties': {'created_at': [1, False, 'String'], 'dst_class': [1, False, 'String'], 'dst_id': [1, False, 'Number'], 'src_class': [1, False, 'String'], 'src_id': [1, False, 'Number'], 'type': [1, False, 'String']}, 'src': 'System'}, 'identifies': {'dst': 'Service', 'matched': 1, 'properties': {'created_at': [1, False, 'String'], 'dst_class': [1, False, 'String'], 'dst_id': [1, False, 'Number'], 'src_class': [1, False, 'String'], 'src_id': [1, False, 'Number'], 'type': [1, False, 'String']}, 'src': 'Concept'}, 'impacts': {'dst': 'Concept', 'matched': 3, 'properties': {'created_at': [3, False, 'String'], 'dst_class': [3, False, 'String'], 'dst_id': [3, False, 'Number'], 'src_class': [3, False, 'String'], 'src_id': [3, False, 'Number'], 'type': [3, False, 'String']}, 'src': 'Software'}, 'implemented_at': {'dst': 'Software', 'matched': 4, 'properties': {'created_at': [4, False, 'String'], 'dst_class': [4, False, 'String'], 'dst_id': [4, False, 'Number'], 'src_class': [4, False, 'String'], 'src_id': [4, False, 'Number'], 'type': [4, False, 'String']}, 'src': 'Concept'}, 'implemented_in': {'dst': 'System', 'matched': 1, 'properties': {'created_at': [1, False, 'String'], 'dst_class': [1, False, 'String'], 'dst_id': [1, False, 'Number'], 'src_class': [1, False, 'String'], 'src_id': [1, False, 'Number'], 'type': [1, False, 'String']}, 'src': 'System'}, 'implements': {'dst': 'Concept', 'matched': 2, 'properties': {'created_at': [2, False, 'String'], 'dst_class': [2, False, 'String'], 'dst_id': [2, False, 'Number'], 'src_class': [2, False, 'String'], 'src_id': [2, False, 'Number'], 'type': [2, False, 'String']}, 'src': 'Organization'}, 'improves': {'dst': 'Concept', 'matched': 1, 'properties': {'created_at': [1, False, 'String'], 'dst_class': [1, False, 'String'], 'dst_id': [1, False, 'Number'], 'src_class': [1, False, 'String'], 'src_id': [1, False, 'Number'], 'type': [1, False, 'String']}, 'src': 'Network'}, 'includes': {'dst': 'Service', 'matched': 4, 'properties': {'created_at': [4, False, 'String'], 'dst_class': [4, False, 'String'], 'dst_id': [4, False, 'Number'], 'src_class': [4, False, 'String'], 'src_id': [4, False, 'Number'], 'type': [4, False, 'String']}, 'src': 'Service'}, 'includes_support_for': {'dst': 'Concept', 'matched': 2, 'properties': {'created_at': [2, False, 'String'], 'dst_class': [2, False, 'String'], 'dst_id': [2, False, 'Number'], 'src_class': [2, False, 'String'], 'src_id': [2, False, 'Number'], 'type': [2, False, 'String']}, 'src': 'Concept'}, 'inspired_by': {'dst': 'System', 'matched': 1, 'properties': {'created_at': [1, False, 'String'], 'dst_class': [1, False, 'String'], 'dst_id': [1, False, 'Number'], 'src_class': [1, False, 'String'], 'src_id': [1, False, 'Number'], 'type': [1, False, 'String']}, 'src': 'Software'}, 'integrates_with': {'dst': 'Service', 'matched': 4, 'properties': {'created_at': [4, False, 'String'], 'dst_class': [4, False, 'String'], 'dst_id': [4, False, 'Number'], 'src_class': [4, False, 'String'], 'src_id': [4, False, 'Number'], 'type': [4, False, 'String']}, 'src': 'Organization'}, 'interacts_via': {'dst': 'Software', 'matched': 1, 'properties': {'created_at': [1, False, 'String'], 'dst_class': [1, False, 'String'], 'dst_id': [1, False, 'Number'], 'src_class': [1, False, 'String'], 'src_id': [1, False, 'Number'], 'type': [1, False, 'String']}, 'src': 'User'}, 'interacts_with': {'dst': 'System', 'matched': 2, 'properties': {'created_at': [2, False, 'String'], 'dst_class': [2, False, 'String'], 'dst_id': [2, False, 'Number'], 'src_class': [2, False, 'String'], 'src_id': [2, False, 'Number'], 'type': [2, False, 'String']}, 'src': 'User'}, 'introduces_risk_due_to_dependency_on': {'dst': 'Software', 'matched': 1, 'properties': {'created_at': [1, False, 'String'], 'dst_class': [1, False, 'String'], 'dst_id': [1, False, 'Number'], 'src_class': [1, False, 'String'], 'src_id': [1, False, 'Number'], 'type': [1, False, 'String']}, 'src': 'Software'}, 'involves': {'dst': 'User', 'matched': 1, 'properties': {'created_at': [1, False, 'String'], 'dst_class': [1, False, 'String'], 'dst_id': [1, False, 'Number'], 'src_class': [1, False, 'String'], 'src_id': [1, False, 'Number'], 'type': [1, False, 'String']}, 'src': 'Concept'}, 'is_a': {'dst': 'System', 'matched': 1, 'properties': {'created_at': [1, False, 'String'], 'dst_class': [1, False, 'String'], 'dst_id': [1, False, 'Number'], 'src_class': [1, False, 'String'], 'src_id': [1, False, 'Number'], 'type': [1, False, 'String']}, 'src': 'System'}, 'is_a_benefit_of': {'dst': 'Concept', 'matched': 2, 'properties': {'created_at': [2, False, 'String'], 'dst_class': [2, False, 'String'], 'dst_id': [2, False, 'Number'], 'src_class': [2, False, 'String'], 'src_id': [2, False, 'Number'], 'type': [2, False, 'String']}, 'src': 'Concept'}, 'is_a_challenge_in': {'dst': 'System', 'matched': 1, 'properties': {'created_at': [1, False, 'String'], 'dst_class': [1, False, 'String'], 'dst_id': [1, False, 'Number'], 'src_class': [1, False, 'String'], 'src_id': [1, False, 'Number'], 'type': [1, False, 'String']}, 'src': 'Concept'}, 'is_a_characteristic_of': {'dst': 'System', 'matched': 1, 'properties': {'created_at': [1, False, 'String'], 'dst_class': [1, False, 'String'], 'dst_id': [1, False, 'Number'], 'src_class': [1, False, 'String'], 'src_id': [1, False, 'Number'], 'type': [1, False, 'String']}, 'src': 'Concept'}, 'is_a_concern_for': {'dst': 'Concept', 'matched': 2, 'properties': {'created_at': [2, False, 'String'], 'dst_class': [2, False, 'String'], 'dst_id': [2, False, 'Number'], 'src_class': [2, False, 'String'], 'src_id': [2, False, 'Number'], 'type': [2, False, 'String']}, 'src': 'Concept'}, 'is_a_concern_in': {'dst': 'System', 'matched': 2, 'properties': {'created_at': [2, False, 'String'], 'dst_class': [2, False, 'String'], 'dst_id': [2, False, 'Number'], 'src_class': [2, False, 'String'], 'src_id': [2, False, 'Number'], 'type': [2, False, 'String']}, 'src': 'Concept'}, 'is_a_feature_of': {'dst': 'Organization', 'matched': 1, 'properties': {'created_at': [1, False, 'String'], 'dst_class': [1, False, 'String'], 'dst_id': [1, False, 'Number'], 'src_class': [1, False, 'String'], 'src_id': [1, False, 'Number'], 'type': [1, False, 'String']}, 'src': 'Concept'}, 'is_a_form_of': {'dst': 'System', 'matched': 1, 'properties': {'created_at': [1, False, 'String'], 'dst_class': [1, False, 'String'], 'dst_id': [1, False, 'Number'], 'src_class': [1, False, 'String'], 'src_id': [1, False, 'Number'], 'type': [1, False, 'String']}, 'src': 'System'}, 'is_a_project_of': {'dst': 'System', 'matched': 1, 'properties': {'created_at': [1, False, 'String'], 'dst_class': [1, False, 'String'], 'dst_id': [1, False, 'Number'], 'src_class': [1, False, 'String'], 'src_id': [1, False, 'Number'], 'type': [1, False, 'String']}, 'src': 'Concept'}, 'is_a_provider_of': {'dst': 'Concept', 'matched': 1, 'properties': {'created_at': [1, False, 'String'], 'dst_class': [1, False, 'String'], 'dst_id': [1, False, 'Number'], 'src_class': [1, False, 'String'], 'src_id': [1, False, 'Number'], 'type': [1, False, 'String']}, 'src': 'System'}, 'is_a_service_for': {'dst': 'Software', 'matched': 1, 'properties': {'created_at': [1, False, 'String'], 'dst_class': [1, False, 'String'], 'dst_id': [1, False, 'Number'], 'src_class': [1, False, 'String'], 'src_id': [1, False, 'Number'], 'type': [1, False, 'String']}, 'src': 'Service'}, 'is_a_type_of': {'dst': 'System', 'matched': 2, 'properties': {'created_at': [2, False, 'String'], 'dst_class': [2, False, 'String'], 'dst_id': [2, False, 'Number'], 'src_class': [2, False, 'String'], 'src_id': [2, False, 'Number'], 'type': [2, False, 'String']}, 'src': 'System'}, 'is_a_vendor_specific_solution_of': {'dst': 'System', 'matched': 2, 'properties': {'created_at': [2, False, 'String'], 'dst_class': [2, False, 'String'], 'dst_id': [2, False, 'Number'], 'src_class': [2, False, 'String'], 'src_id': [2, False, 'Number'], 'type': [2, False, 'String']}, 'src': 'System'}, 'is_also_known_as': {'dst': 'Organization', 'matched': 3, 'properties': {'created_at': [3, False, 'String'], 'dst_class': [3, False, 'String'], 'dst_id': [3, False, 'Number'], 'src_class': [3, False, 'String'], 'src_id': [3, False, 'Number'], 'type': [3, False, 'String']}, 'src': 'Organization'}, 'is_alternative_to': {'dst': 'System', 'matched': 2, 'properties': {'created_at': [2, False, 'String'], 'dst_class': [2, False, 'String'], 'dst_id': [2, False, 'Number'], 'src_class': [2, False, 'String'], 'src_id': [2, False, 'Number'], 'type': [2, False, 'String']}, 'src': 'Software'}, 'is_an': {'dst': 'Concept', 'matched': 1, 'properties': {'created_at': [1, False, 'String'], 'dst_class': [1, False, 'String'], 'dst_id': [1, False, 'Number'], 'src_class': [1, False, 'String'], 'src_id': [1, False, 'Number'], 'type': [1, False, 'String']}, 'src': 'System'}, 'is_an_example_of': {'dst': 'System', 'matched': 1, 'properties': {'created_at': [1, False, 'String'], 'dst_class': [1, False, 'String'], 'dst_id': [1, False, 'Number'], 'src_class': [1, False, 'String'], 'src_id': [1, False, 'Number'], 'type': [1, False, 'String']}, 'src': 'System'}, 'is_attribute_of': {'dst': 'Concept', 'matched': 1, 'properties': {'created_at': [1, False, 'String'], 'dst_class': [1, False, 'String'], 'dst_id': [1, False, 'Number'], 'src_class': [1, False, 'String'], 'src_id': [1, False, 'Number'], 'type': [1, False, 'String']}, 'src': 'Concept'}, 'is_based_on': {'dst': 'Software', 'matched': 1, 'properties': {'created_at': [1, False, 'String'], 'dst_class': [1, False, 'String'], 'dst_id': [1, False, 'Number'], 'src_class': [1, False, 'String'], 'src_id': [1, False, 'Number'], 'type': [1, False, 'String']}, 'src': 'Software'}, 'is_benchmark_for': {'dst': 'Concept', 'matched': 1, 'properties': {'created_at': [1, False, 'String'], 'dst_class': [1, False, 'String'], 'dst_id': [1, False, 'Number'], 'src_class': [1, False, 'String'], 'src_id': [1, False, 'Number'], 'type': [1, False, 'String']}, 'src': 'Concept'}, 'is_characteristic_of': {'dst': 'System', 'matched': 8, 'properties': {'created_at': [8, False, 'String'], 'dst_class': [8, False, 'String'], 'dst_id': [8, False, 'Number'], 'src_class': [8, False, 'String'], 'src_id': [8, False, 'Number'], 'type': [8, False, 'String']}, 'src': 'Concept'}, 'is_collaboration_of': {'dst': 'Organization', 'matched': 2, 'properties': {'created_at': [2, False, 'String'], 'dst_class': [2, False, 'String'], 'dst_id': [2, False, 'Number'], 'src_class': [2, False, 'String'], 'src_id': [2, False, 'Number'], 'type': [2, False, 'String']}, 'src': 'System'}, 'is_component_of': {'dst': 'System', 'matched': 1, 'properties': {'created_at': [1, False, 'String'], 'dst_class': [1, False, 'String'], 'dst_id': [1, False, 'Number'], 'src_class': [1, False, 'String'], 'src_id': [1, False, 'Number'], 'type': [1, False, 'String']}, 'src': 'Software'}, 'is_concern_for': {'dst': 'Concept', 'matched': 2, 'properties': {'created_at': [2, False, 'String'], 'dst_class': [2, False, 'String'], 'dst_id': [2, False, 'Number'], 'src_class': [2, False, 'String'], 'src_id': [2, False, 'Number'], 'type': [2, False, 'String']}, 'src': 'Concept'}, 'is_default_hypervisor_for': {'dst': 'System', 'matched': 1, 'properties': {'created_at': [1, False, 'String'], 'dst_class': [1, False, 'String'], 'dst_id': [1, False, 'Number'], 'src_class': [1, False, 'String'], 'src_id': [1, False, 'Number'], 'type': [1, False, 'String']}, 'src': 'Software'}, 'is_design_approach_for': {'dst': 'Service', 'matched': 1, 'properties': {'created_at': [1, False, 'String'], 'dst_class': [1, False, 'String'], 'dst_id': [1, False, 'Number'], 'src_class': [1, False, 'String'], 'src_id': [1, False, 'Number'], 'type': [1, False, 'String']}, 'src': 'Concept'}, 'is_distributed_for': {'dst': 'Concept', 'matched': 1, 'properties': {'created_at': [1, False, 'String'], 'dst_class': [1, False, 'String'], 'dst_id': [1, False, 'Number'], 'src_class': [1, False, 'String'], 'src_id': [1, False, 'Number'], 'type': [1, False, 'String']}, 'src': 'System'}, 'is_example_of': {'dst': 'System', 'matched': 1, 'properties': {'created_at': [1, False, 'String'], 'dst_class': [1, False, 'String'], 'dst_id': [1, False, 'Number'], 'src_class': [1, False, 'String'], 'src_id': [1, False, 'Number'], 'type': [1, False, 'String']}, 'src': 'System'}, 'is_extended_model_of': {'dst': 'Concept', 'matched': 1, 'properties': {'created_at': [1, False, 'String'], 'dst_class': [1, False, 'String'], 'dst_id': [1, False, 'Number'], 'src_class': [1, False, 'String'], 'src_id': [1, False, 'Number'], 'type': [1, False, 'String']}, 'src': 'Service'}, 'is_extension_of': {'dst': 'System', 'matched': 1, 'properties': {'created_at': [1, False, 'String'], 'dst_class': [1, False, 'String'], 'dst_id': [1, False, 'Number'], 'src_class': [1, False, 'String'], 'src_id': [1, False, 'Number'], 'type': [1, False, 'String']}, 'src': 'System'}, 'is_for': {'dst': 'System', 'matched': 1, 'properties': {'created_at': [1, False, 'String'], 'dst_class': [1, False, 'String'], 'dst_id': [1, False, 'Number'], 'src_class': [1, False, 'String'], 'src_id': [1, False, 'Number'], 'type': [1, False, 'String']}, 'src': 'Service'}, 'is_hidden_from': {'dst': 'User', 'matched': 1, 'properties': {'created_at': [1, False, 'String'], 'dst_class': [1, False, 'String'], 'dst_id': [1, False, 'Number'], 'src_class': [1, False, 'String'], 'src_id': [1, False, 'Number'], 'type': [1, False, 'String']}, 'src': 'Concept'}, 'is_implemented_via': {'dst': 'Concept', 'matched': 1, 'properties': {'created_at': [1, False, 'String'], 'dst_class': [1, False, 'String'], 'dst_id': [1, False, 'Number'], 'src_class': [1, False, 'String'], 'src_id': [1, False, 'Number'], 'type': [1, False, 'String']}, 'src': 'Concept'}, 'is_in': {'dst': 'System', 'matched': 1, 'properties': {'created_at': [1, False, 'String'], 'dst_class': [1, False, 'String'], 'dst_id': [1, False, 'Number'], 'src_class': [1, False, 'String'], 'src_id': [1, False, 'Number'], 'type': [1, False, 'String']}, 'src': 'Software'}, 'is_inside': {'dst': 'Network', 'matched': 1, 'properties': {'created_at': [1, False, 'String'], 'dst_class': [1, False, 'String'], 'dst_id': [1, False, 'Number'], 'src_class': [1, False, 'String'], 'src_id': [1, False, 'Number'], 'type': [1, False, 'String']}, 'src': 'Software'}, 'is_less_secure_than': {'dst': 'Software', 'matched': 1, 'properties': {'created_at': [1, False, 'String'], 'dst_class': [1, False, 'String'], 'dst_id': [1, False, 'Number'], 'src_class': [1, False, 'String'], 'src_id': [1, False, 'Number'], 'type': [1, False, 'String']}, 'src': 'Software'}, 'is_level_of': {'dst': 'Concept', 'matched': 1, 'properties': {'created_at': [1, False, 'String'], 'dst_class': [1, False, 'String'], 'dst_id': [1, False, 'Number'], 'src_class': [1, False, 'String'], 'src_id': [1, False, 'Number'], 'type': [1, False, 'String']}, 'src': 'Concept'}, 'is_managed_service_for': {'dst': 'Software', 'matched': 3, 'properties': {'created_at': [3, False, 'String'], 'dst_class': [3, False, 'String'], 'dst_id': [3, False, 'Number'], 'src_class': [3, False, 'String'], 'src_id': [3, False, 'Number'], 'type': [3, False, 'String']}, 'src': 'Service'}, 'is_mandatory_for': {'dst': 'System', 'matched': 1, 'properties': {'created_at': [1, False, 'String'], 'dst_class': [1, False, 'String'], 'dst_id': [1, False, 'Number'], 'src_class': [1, False, 'String'], 'src_id': [1, False, 'Number'], 'type': [1, False, 'String']}, 'src': 'Service'}, 'is_more_secure_than': {'dst': 'Software', 'matched': 1, 'properties': {'created_at': [1, False, 'String'], 'dst_class': [1, False, 'String'], 'dst_id': [1, False, 'Number'], 'src_class': [1, False, 'String'], 'src_id': [1, False, 'Number'], 'type': [1, False, 'String']}, 'src': 'Software'}, 'is_network_of': {'dst': 'System', 'matched': 1, 'properties': {'created_at': [1, False, 'String'], 'dst_class': [1, False, 'String'], 'dst_id': [1, False, 'Number'], 'src_class': [1, False, 'String'], 'src_id': [1, False, 'Number'], 'type': [1, False, 'String']}, 'src': 'Network'}, 'is_opportunity_for': {'dst': 'Concept', 'matched': 1, 'properties': {'created_at': [1, False, 'String'], 'dst_class': [1, False, 'String'], 'dst_id': [1, False, 'Number'], 'src_class': [1, False, 'String'], 'src_id': [1, False, 'Number'], 'type': [1, False, 'String']}, 'src': 'Software'}, 'is_orchestration_tool_for': {'dst': 'Concept', 'matched': 2, 'properties': {'created_at': [2, False, 'String'], 'dst_class': [2, False, 'String'], 'dst_id': [2, False, 'Number'], 'src_class': [2, False, 'String'], 'src_id': [2, False, 'Number'], 'type': [2, False, 'String']}, 'src': 'Software'}, 'is_part_of': {'dst': 'System', 'matched': 2, 'properties': {'created_at': [2, False, 'String'], 'dst_class': [2, False, 'String'], 'dst_id': [2, False, 'Number'], 'src_class': [2, False, 'String'], 'src_id': [2, False, 'Number'], 'type': [2, False, 'String']}, 'src': 'System'}, 'is_platform_for': {'dst': 'Concept', 'matched': 1, 'properties': {'created_at': [1, False, 'String'], 'dst_class': [1, False, 'String'], 'dst_id': [1, False, 'Number'], 'src_class': [1, False, 'String'], 'src_id': [1, False, 'Number'], 'type': [1, False, 'String']}, 'src': 'Software'}, 'is_present_in': {'dst': 'System', 'matched': 5, 'properties': {'created_at': [5, False, 'String'], 'dst_class': [5, False, 'String'], 'dst_id': [5, False, 'Number'], 'src_class': [5, False, 'String'], 'src_id': [5, False, 'Number'], 'type': [5, False, 'String']}, 'src': 'Concept'}, 'is_provided_as': {'dst': 'Service', 'matched': 1, 'properties': {'created_at': [1, False, 'String'], 'dst_class': [1, False, 'String'], 'dst_id': [1, False, 'Number'], 'src_class': [1, False, 'String'], 'src_id': [1, False, 'Number'], 'type': [1, False, 'String']}, 'src': 'Hardware'}, 'is_provider_of': {'dst': 'System', 'matched': 3, 'properties': {'created_at': [3, False, 'String'], 'dst_class': [3, False, 'String'], 'dst_id': [3, False, 'Number'], 'src_class': [3, False, 'String'], 'src_id': [3, False, 'Number'], 'type': [3, False, 'String']}, 'src': 'Organization'}, 'is_responsible_for': {'dst': 'Concept', 'matched': 4, 'properties': {'created_at': [4, False, 'String'], 'dst_class': [4, False, 'String'], 'dst_id': [4, False, 'Number'], 'src_class': [4, False, 'String'], 'src_id': [4, False, 'Number'], 'type': [4, False, 'String']}, 'src': 'Software'}, 'is_similar_to': {'dst': 'System', 'matched': 1, 'properties': {'created_at': [1, False, 'String'], 'dst_class': [1, False, 'String'], 'dst_id': [1, False, 'Number'], 'src_class': [1, False, 'String'], 'src_id': [1, False, 'Number'], 'type': [1, False, 'String']}, 'src': 'Concept'}, 'is_stakeholder_in': {'dst': 'Concept', 'matched': 1, 'properties': {'created_at': [1, False, 'String'], 'dst_class': [1, False, 'String'], 'dst_id': [1, False, 'Number'], 'src_class': [1, False, 'String'], 'src_id': [1, False, 'Number'], 'type': [1, False, 'String']}, 'src': 'User'}, 'is_type_of': {'dst': 'System', 'matched': 3, 'properties': {'created_at': [3, False, 'String'], 'dst_class': [3, False, 'String'], 'dst_id': [3, False, 'Number'], 'src_class': [3, False, 'String'], 'src_id': [3, False, 'Number'], 'type': [3, False, 'String']}, 'src': 'System'}, 'is_virtualized_by': {'dst': 'Concept', 'matched': 1, 'properties': {'created_at': [1, False, 'String'], 'dst_class': [1, False, 'String'], 'dst_id': [1, False, 'Number'], 'src_class': [1, False, 'String'], 'src_id': [1, False, 'Number'], 'type': [1, False, 'String']}, 'src': 'Service'}, 'is_within': {'dst': 'Organization', 'matched': 1, 'properties': {'created_at': [1, False, 'String'], 'dst_class': [1, False, 'String'], 'dst_id': [1, False, 'Number'], 'src_class': [1, False, 'String'], 'src_id': [1, False, 'Number'], 'type': [1, False, 'String']}, 'src': 'Network'}, 'lacks': {'dst': 'Concept', 'matched': 1, 'properties': {'created_at': [1, False, 'String'], 'dst_class': [1, False, 'String'], 'dst_id': [1, False, 'Number'], 'src_class': [1, False, 'String'], 'src_id': [1, False, 'Number'], 'type': [1, False, 'String']}, 'src': 'System'}, 'lists': {'dst': 'System', 'matched': 1, 'properties': {'created_at': [1, False, 'String'], 'dst_class': [1, False, 'String'], 'dst_id': [1, False, 'Number'], 'src_class': [1, False, 'String'], 'src_id': [1, False, 'Number'], 'type': [1, False, 'String']}, 'src': 'Concept'}, 'located_within': {'dst': 'Organization', 'matched': 1, 'properties': {'created_at': [1, False, 'String'], 'dst_class': [1, False, 'String'], 'dst_id': [1, False, 'Number'], 'src_class': [1, False, 'String'], 'src_id': [1, False, 'Number'], 'type': [1, False, 'String']}, 'src': 'Network'}, 'maintains': {'dst': 'Service', 'matched': 1, 'properties': {'created_at': [1, False, 'String'], 'dst_class': [1, False, 'String'], 'dst_id': [1, False, 'Number'], 'src_class': [1, False, 'String'], 'src_id': [1, False, 'Number'], 'type': [1, False, 'String']}, 'src': 'System'}, 'makes_available_to': {'dst': 'User', 'matched': 1, 'properties': {'created_at': [1, False, 'String'], 'dst_class': [1, False, 'String'], 'dst_id': [1, False, 'Number'], 'src_class': [1, False, 'String'], 'src_id': [1, False, 'Number'], 'type': [1, False, 'String']}, 'src': 'Concept'}, 'managed_on_top_of': {'dst': 'Software', 'matched': 1, 'properties': {'created_at': [1, False, 'String'], 'dst_class': [1, False, 'String'], 'dst_id': [1, False, 'Number'], 'src_class': [1, False, 'String'], 'src_id': [1, False, 'Number'], 'type': [1, False, 'String']}, 'src': 'Concept'}, 'managed_via': {'dst': 'Network', 'matched': 2, 'properties': {'created_at': [2, False, 'String'], 'dst_class': [2, False, 'String'], 'dst_id': [2, False, 'Number'], 'src_class': [2, False, 'String'], 'src_id': [2, False, 'Number'], 'type': [2, False, 'String']}, 'src': 'Concept'}, 'manages': {'dst': 'Software', 'matched': 2, 'properties': {'created_at': [2, False, 'String'], 'dst_class': [2, False, 'String'], 'dst_id': [2, False, 'Number'], 'src_class': [2, False, 'String'], 'src_id': [2, False, 'Number'], 'type': [2, False, 'String']}, 'src': 'User'}, 'manages_communication_between': {'dst': 'User', 'matched': 1, 'properties': {'created_at': [1, False, 'String'], 'dst_class': [1, False, 'String'], 'dst_id': [1, False, 'Number'], 'src_class': [1, False, 'String'], 'src_id': [1, False, 'Number'], 'type': [1, False, 'String']}, 'src': 'Service'}, 'manages_flow_between': {'dst': 'User', 'matched': 1, 'properties': {'created_at': [1, False, 'String'], 'dst_class': [1, False, 'String'], 'dst_id': [1, False, 'Number'], 'src_class': [1, False, 'String'], 'src_id': [1, False, 'Number'], 'type': [1, False, 'String']}, 'src': 'Service'}, 'manages_network_communication_between': {'dst': 'Concept', 'matched': 1, 'properties': {'created_at': [1, False, 'String'], 'dst_class': [1, False, 'String'], 'dst_id': [1, False, 'Number'], 'src_class': [1, False, 'String'], 'src_id': [1, False, 'Number'], 'type': [1, False, 'String']}, 'src': 'Software'}, 'manages_on': {'dst': 'Concept', 'matched': 1, 'properties': {'created_at': [1, False, 'String'], 'dst_class': [1, False, 'String'], 'dst_id': [1, False, 'Number'], 'src_class': [1, False, 'String'], 'src_id': [1, False, 'Number'], 'type': [1, False, 'String']}, 'src': 'Concept'}, 'manages_resource_distribution_between': {'dst': 'User', 'matched': 1, 'properties': {'created_at': [1, False, 'String'], 'dst_class': [1, False, 'String'], 'dst_id': [1, False, 'Number'], 'src_class': [1, False, 'String'], 'src_id': [1, False, 'Number'], 'type': [1, False, 'String']}, 'src': 'Service'}, 'merged_in': {'dst': 'System', 'matched': 2, 'properties': {'created_at': [2, False, 'String'], 'dst_class': [2, False, 'String'], 'dst_id': [2, False, 'Number'], 'src_class': [2, False, 'String'], 'src_id': [2, False, 'Number'], 'type': [2, False, 'String']}, 'src': 'Service'}, 'migratable_compared_to': {'dst': 'Hardware', 'matched': 1, 'properties': {'created_at': [1, False, 'String'], 'dst_class': [1, False, 'String'], 'dst_id': [1, False, 'Number'], 'src_class': [1, False, 'String'], 'src_id': [1, False, 'Number'], 'type': [1, False, 'String']}, 'src': 'Concept'}, 'monitors': {'dst': 'Organization', 'matched': 1, 'properties': {'created_at': [1, False, 'String'], 'dst_class': [1, False, 'String'], 'dst_id': [1, False, 'Number'], 'src_class': [1, False, 'String'], 'src_id': [1, False, 'Number'], 'type': [1, False, 'String']}, 'src': 'Service'}, 'more_elastic_than': {'dst': 'Concept', 'matched': 1, 'properties': {'created_at': [1, False, 'String'], 'dst_class': [1, False, 'String'], 'dst_id': [1, False, 'Number'], 'src_class': [1, False, 'String'], 'src_id': [1, False, 'Number'], 'type': [1, False, 'String']}, 'src': 'Concept'}, 'not_controlled_by': {'dst': 'Organization', 'matched': 1, 'properties': {'created_at': [1, False, 'String'], 'dst_class': [1, False, 'String'], 'dst_id': [1, False, 'Number'], 'src_class': [1, False, 'String'], 'src_id': [1, False, 'Number'], 'type': [1, False, 'String']}, 'src': 'Service'}, 'not_tied_to': {'dst': 'Service', 'matched': 1, 'properties': {'created_at': [1, False, 'String'], 'dst_class': [1, False, 'String'], 'dst_id': [1, False, 'Number'], 'src_class': [1, False, 'String'], 'src_id': [1, False, 'Number'], 'type': [1, False, 'String']}, 'src': 'Network'}, 'occurs_in': {'dst': 'System', 'matched': 1, 'properties': {'created_at': [1, False, 'String'], 'dst_class': [1, False, 'String'], 'dst_id': [1, False, 'Number'], 'src_class': [1, False, 'String'], 'src_id': [1, False, 'Number'], 'type': [1, False, 'String']}, 'src': 'Concept'}, 'offers': {'dst': 'Service', 'matched': 1, 'properties': {'created_at': [1, False, 'String'], 'dst_class': [1, False, 'String'], 'dst_id': [1, False, 'Number'], 'src_class': [1, False, 'String'], 'src_id': [1, False, 'Number'], 'type': [1, False, 'String']}, 'src': 'System'}, 'operates_at_level_of': {'dst': 'Hardware', 'matched': 1, 'properties': {'created_at': [1, False, 'String'], 'dst_class': [1, False, 'String'], 'dst_id': [1, False, 'Number'], 'src_class': [1, False, 'String'], 'src_id': [1, False, 'Number'], 'type': [1, False, 'String']}, 'src': 'Network'}, 'operates_like': {'dst': 'System', 'matched': 1, 'properties': {'created_at': [1, False, 'String'], 'dst_class': [1, False, 'String'], 'dst_id': [1, False, 'Number'], 'src_class': [1, False, 'String'], 'src_id': [1, False, 'Number'], 'type': [1, False, 'String']}, 'src': 'System'}, 'operates_on': {'dst': 'System', 'matched': 6, 'properties': {'created_at': [6, False, 'String'], 'dst_class': [6, False, 'String'], 'dst_id': [6, False, 'Number'], 'src_class': [6, False, 'String'], 'src_id': [6, False, 'Number'], 'type': [6, False, 'String']}, 'src': 'Service'}, 'optimizes': {'dst': 'Hardware', 'matched': 1, 'properties': {'created_at': [1, False, 'String'], 'dst_class': [1, False, 'String'], 'dst_id': [1, False, 'Number'], 'src_class': [1, False, 'String'], 'src_id': [1, False, 'Number'], 'type': [1, False, 'String']}, 'src': 'Organization'}, 'orchestrates': {'dst': 'Concept', 'matched': 1, 'properties': {'created_at': [1, False, 'String'], 'dst_class': [1, False, 'String'], 'dst_id': [1, False, 'Number'], 'src_class': [1, False, 'String'], 'src_id': [1, False, 'Number'], 'type': [1, False, 'String']}, 'src': 'Software'}, 'owns': {'dst': 'System', 'matched': 4, 'properties': {'created_at': [4, False, 'String'], 'dst_class': [4, False, 'String'], 'dst_id': [4, False, 'Number'], 'src_class': [4, False, 'String'], 'src_id': [4, False, 'Number'], 'type': [4, False, 'String']}, 'src': 'Organization'}, 'part_of': {'dst': 'Network', 'matched': 1, 'properties': {'created_at': [1, False, 'String'], 'dst_class': [1, False, 'String'], 'dst_id': [1, False, 'Number'], 'src_class': [1, False, 'String'], 'src_id': [1, False, 'Number'], 'type': [1, False, 'String']}, 'src': 'Network'}, 'pays_for_consumption_in': {'dst': 'Concept', 'matched': 1, 'properties': {'created_at': [1, False, 'String'], 'dst_class': [1, False, 'String'], 'dst_id': [1, False, 'Number'], 'src_class': [1, False, 'String'], 'src_id': [1, False, 'Number'], 'type': [1, False, 'String']}, 'src': 'User'}, 'performed_by': {'dst': 'User', 'matched': 1, 'properties': {'created_at': [1, False, 'String'], 'dst_class': [1, False, 'String'], 'dst_id': [1, False, 'Number'], 'src_class': [1, False, 'String'], 'src_id': [1, False, 'Number'], 'type': [1, False, 'String']}, 'src': 'Service'}, 'performs': {'dst': 'Concept', 'matched': 1, 'properties': {'created_at': [1, False, 'String'], 'dst_class': [1, False, 'String'], 'dst_id': [1, False, 'Number'], 'src_class': [1, False, 'String'], 'src_id': [1, False, 'Number'], 'type': [1, False, 'String']}, 'src': 'Software'}, 'prefers': {'dst': 'Software', 'matched': 1, 'properties': {'created_at': [1, False, 'String'], 'dst_class': [1, False, 'String'], 'dst_id': [1, False, 'Number'], 'src_class': [1, False, 'String'], 'src_id': [1, False, 'Number'], 'type': [1, False, 'String']}, 'src': 'System'}, 'prevents_interference_between': {'dst': 'Concept', 'matched': 2, 'properties': {'created_at': [2, False, 'String'], 'dst_class': [2, False, 'String'], 'dst_id': [2, False, 'Number'], 'src_class': [2, False, 'String'], 'src_id': [2, False, 'Number'], 'type': [2, False, 'String']}, 'src': 'Concept'}, 'provided_by': {'dst': 'Service', 'matched': 1, 'properties': {'created_at': [1, False, 'String'], 'dst_class': [1, False, 'String'], 'dst_id': [1, False, 'Number'], 'src_class': [1, False, 'String'], 'src_id': [1, False, 'Number'], 'type': [1, False, 'String']}, 'src': 'Software'}, 'provided_via': {'dst': 'Concept', 'matched': 1, 'properties': {'created_at': [1, False, 'String'], 'dst_class': [1, False, 'String'], 'dst_id': [1, False, 'Number'], 'src_class': [1, False, 'String'], 'src_id': [1, False, 'Number'], 'type': [1, False, 'String']}, 'src': 'Service'}, 'provides': {'dst': 'Service', 'matched': 1, 'properties': {'created_at': [1, False, 'String'], 'dst_class': [1, False, 'String'], 'dst_id': [1, False, 'Number'], 'src_class': [1, False, 'String'], 'src_id': [1, False, 'Number'], 'type': [1, False, 'String']}, 'src': 'System'}, 'provides_abstraction_by_modeling': {'dst': 'Software', 'matched': 1, 'properties': {'created_at': [1, False, 'String'], 'dst_class': [1, False, 'String'], 'dst_id': [1, False, 'Number'], 'src_class': [1, False, 'String'], 'src_id': [1, False, 'Number'], 'type': [1, False, 'String']}, 'src': 'Concept'}, 'provides_environment_for': {'dst': 'Software', 'matched': 1, 'properties': {'created_at': [1, False, 'String'], 'dst_class': [1, False, 'String'], 'dst_id': [1, False, 'Number'], 'src_class': [1, False, 'String'], 'src_id': [1, False, 'Number'], 'type': [1, False, 'String']}, 'src': 'Concept'}, 'provides_for': {'dst': 'User', 'matched': 1, 'properties': {'created_at': [1, False, 'String'], 'dst_class': [1, False, 'String'], 'dst_id': [1, False, 'Number'], 'src_class': [1, False, 'String'], 'src_id': [1, False, 'Number'], 'type': [1, False, 'String']}, 'src': 'Service'}, 'provides_interconnectivity_for': {'dst': 'Hardware', 'matched': 1, 'properties': {'created_at': [1, False, 'String'], 'dst_class': [1, False, 'String'], 'dst_id': [1, False, 'Number'], 'src_class': [1, False, 'String'], 'src_id': [1, False, 'Number'], 'type': [1, False, 'String']}, 'src': 'Network'}, 'provides_over': {'dst': 'Service', 'matched': 1, 'properties': {'created_at': [1, False, 'String'], 'dst_class': [1, False, 'String'], 'dst_id': [1, False, 'Number'], 'src_class': [1, False, 'String'], 'src_id': [1, False, 'Number'], 'type': [1, False, 'String']}, 'src': 'System'}, 'provides_services_similar_to': {'dst': 'System', 'matched': 1, 'properties': {'created_at': [1, False, 'String'], 'dst_class': [1, False, 'String'], 'dst_id': [1, False, 'Number'], 'src_class': [1, False, 'String'], 'src_id': [1, False, 'Number'], 'type': [1, False, 'String']}, 'src': 'Organization'}, 'provides_solution_for': {'dst': 'Software', 'matched': 1, 'properties': {'created_at': [1, False, 'String'], 'dst_class': [1, False, 'String'], 'dst_id': [1, False, 'Number'], 'src_class': [1, False, 'String'], 'src_id': [1, False, 'Number'], 'type': [1, False, 'String']}, 'src': 'Software'}, 'reduces': {'dst': 'Concept', 'matched': 1, 'properties': {'created_at': [1, False, 'String'], 'dst_class': [1, False, 'String'], 'dst_id': [1, False, 'Number'], 'src_class': [1, False, 'String'], 'src_id': [1, False, 'Number'], 'type': [1, False, 'String']}, 'src': 'Software'}, 'reduces_costs_for': {'dst': 'Hardware', 'matched': 1, 'properties': {'created_at': [1, False, 'String'], 'dst_class': [1, False, 'String'], 'dst_id': [1, False, 'Number'], 'src_class': [1, False, 'String'], 'src_id': [1, False, 'Number'], 'type': [1, False, 'String']}, 'src': 'Concept'}, 'reduces_need_for': {'dst': 'Hardware', 'matched': 2, 'properties': {'created_at': [2, False, 'String'], 'dst_class': [2, False, 'String'], 'dst_id': [2, False, 'Number'], 'src_class': [2, False, 'String'], 'src_id': [2, False, 'Number'], 'type': [2, False, 'String']}, 'src': 'Concept'}, 'relies_on': {'dst': 'Concept', 'matched': 1, 'properties': {'created_at': [1, False, 'String'], 'dst_class': [1, False, 'String'], 'dst_id': [1, False, 'Number'], 'src_class': [1, False, 'String'], 'src_id': [1, False, 'Number'], 'type': [1, False, 'String']}, 'src': 'System'}, 'requests_from': {'dst': 'Organization', 'matched': 1, 'properties': {'created_at': [1, False, 'String'], 'dst_class': [1, False, 'String'], 'dst_id': [1, False, 'Number'], 'src_class': [1, False, 'String'], 'src_id': [1, False, 'Number'], 'type': [1, False, 'String']}, 'src': 'User'}, 'requires': {'dst': 'Concept', 'matched': 1, 'properties': {'created_at': [1, False, 'String'], 'dst_class': [1, False, 'String'], 'dst_id': [1, False, 'Number'], 'src_class': [1, False, 'String'], 'src_id': [1, False, 'Number'], 'type': [1, False, 'String']}, 'src': 'User'}, 'requires_modification_of': {'dst': 'Software', 'matched': 1, 'properties': {'created_at': [1, False, 'String'], 'dst_class': [1, False, 'String'], 'dst_id': [1, False, 'Number'], 'src_class': [1, False, 'String'], 'src_id': [1, False, 'Number'], 'type': [1, False, 'String']}, 'src': 'Concept'}, 'responsible_for': {'dst': 'Concept', 'matched': 1, 'properties': {'created_at': [1, False, 'String'], 'dst_class': [1, False, 'String'], 'dst_id': [1, False, 'Number'], 'src_class': [1, False, 'String'], 'src_id': [1, False, 'Number'], 'type': [1, False, 'String']}, 'src': 'Organization'}, 'responsible_for_managing': {'dst': 'Hardware', 'matched': 1, 'properties': {'created_at': [1, False, 'String'], 'dst_class': [1, False, 'String'], 'dst_id': [1, False, 'Number'], 'src_class': [1, False, 'String'], 'src_id': [1, False, 'Number'], 'type': [1, False, 'String']}, 'src': 'Organization'}, 'restricted_to': {'dst': 'Organization', 'matched': 2, 'properties': {'created_at': [2, False, 'String'], 'dst_class': [2, False, 'String'], 'dst_id': [2, False, 'Number'], 'src_class': [2, False, 'String'], 'src_id': [2, False, 'Number'], 'type': [2, False, 'String']}, 'src': 'System'}, 'restricts_exposure_of': {'dst': 'Hardware', 'matched': 1, 'properties': {'created_at': [1, False, 'String'], 'dst_class': [1, False, 'String'], 'dst_id': [1, False, 'Number'], 'src_class': [1, False, 'String'], 'src_id': [1, False, 'Number'], 'type': [1, False, 'String']}, 'src': 'Network'}, 'runs': {'dst': 'Concept', 'matched': 1, 'properties': {'created_at': [1, False, 'String'], 'dst_class': [1, False, 'String'], 'dst_id': [1, False, 'Number'], 'src_class': [1, False, 'String'], 'src_id': [1, False, 'Number'], 'type': [1, False, 'String']}, 'src': 'Software'}, 'runs_across': {'dst': 'Software', 'matched': 1, 'properties': {'created_at': [1, False, 'String'], 'dst_class': [1, False, 'String'], 'dst_id': [1, False, 'Number'], 'src_class': [1, False, 'String'], 'src_id': [1, False, 'Number'], 'type': [1, False, 'String']}, 'src': 'Software'}, 'runs_alongside': {'dst': 'System', 'matched': 1, 'properties': {'created_at': [1, False, 'String'], 'dst_class': [1, False, 'String'], 'dst_id': [1, False, 'Number'], 'src_class': [1, False, 'String'], 'src_id': [1, False, 'Number'], 'type': [1, False, 'String']}, 'src': 'Software'}, 'runs_inside': {'dst': 'Software', 'matched': 1, 'properties': {'created_at': [1, False, 'String'], 'dst_class': [1, False, 'String'], 'dst_id': [1, False, 'Number'], 'src_class': [1, False, 'String'], 'src_id': [1, False, 'Number'], 'type': [1, False, 'String']}, 'src': 'Software'}, 'runs_on': {'dst': 'Hardware', 'matched': 4, 'properties': {'created_at': [4, False, 'String'], 'dst_class': [4, False, 'String'], 'dst_id': [4, False, 'Number'], 'src_class': [4, False, 'String'], 'src_id': [4, False, 'Number'], 'type': [4, False, 'String']}, 'src': 'Software'}, 'runs_on_top_of': {'dst': 'Software', 'matched': 1, 'properties': {'created_at': [1, False, 'String'], 'dst_class': [1, False, 'String'], 'dst_id': [1, False, 'Number'], 'src_class': [1, False, 'String'], 'src_id': [1, False, 'Number'], 'type': [1, False, 'String']}, 'src': 'Software'}, 'scales': {'dst': 'Concept', 'matched': 1, 'properties': {'created_at': [1, False, 'String'], 'dst_class': [1, False, 'String'], 'dst_id': [1, False, 'Number'], 'src_class': [1, False, 'String'], 'src_id': [1, False, 'Number'], 'type': [1, False, 'String']}, 'src': 'Software'}, 'scales_across': {'dst': 'System', 'matched': 1, 'properties': {'created_at': [1, False, 'String'], 'dst_class': [1, False, 'String'], 'dst_id': [1, False, 'Number'], 'src_class': [1, False, 'String'], 'src_id': [1, False, 'Number'], 'type': [1, False, 'String']}, 'src': 'Software'}, 'secures_access_to': {'dst': 'Organization', 'matched': 1, 'properties': {'created_at': [1, False, 'String'], 'dst_class': [1, False, 'String'], 'dst_id': [1, False, 'Number'], 'src_class': [1, False, 'String'], 'src_id': [1, False, 'Number'], 'type': [1, False, 'String']}, 'src': 'Concept'}, 'shares_characteristics_with': {'dst': 'System', 'matched': 1, 'properties': {'created_at': [1, False, 'String'], 'dst_class': [1, False, 'String'], 'dst_id': [1, False, 'Number'], 'src_class': [1, False, 'String'], 'src_id': [1, False, 'Number'], 'type': [1, False, 'String']}, 'src': 'System'}, 'shares_kernel_of': {'dst': 'Software', 'matched': 1, 'properties': {'created_at': [1, False, 'String'], 'dst_class': [1, False, 'String'], 'dst_id': [1, False, 'Number'], 'src_class': [1, False, 'String'], 'src_id': [1, False, 'Number'], 'type': [1, False, 'String']}, 'src': 'Concept'}, 'similar_to': {'dst': 'Concept', 'matched': 1, 'properties': {'created_at': [1, False, 'String'], 'dst_class': [1, False, 'String'], 'dst_id': [1, False, 'Number'], 'src_class': [1, False, 'String'], 'src_id': [1, False, 'Number'], 'type': [1, False, 'String']}, 'src': 'Service'}, 'simplifies': {'dst': 'Concept', 'matched': 2, 'properties': {'created_at': [2, False, 'String'], 'dst_class': [2, False, 'String'], 'dst_id': [2, False, 'Number'], 'src_class': [2, False, 'String'], 'src_id': [2, False, 'Number'], 'type': [2, False, 'String']}, 'src': 'Concept'}, 'specifies': {'dst': 'Service', 'matched': 1, 'properties': {'created_at': [1, False, 'String'], 'dst_class': [1, False, 'String'], 'dst_id': [1, False, 'Number'], 'src_class': [1, False, 'String'], 'src_id': [1, False, 'Number'], 'type': [1, False, 'String']}, 'src': 'User'}, 'stores': {'dst': 'System', 'matched': 1, 'properties': {'created_at': [1, False, 'String'], 'dst_class': [1, False, 'String'], 'dst_id': [1, False, 'Number'], 'src_class': [1, False, 'String'], 'src_id': [1, False, 'Number'], 'type': [1, False, 'String']}, 'src': 'Service'}, 'supports': {'dst': 'Concept', 'matched': 2, 'properties': {'created_at': [2, False, 'String'], 'dst_class': [2, False, 'String'], 'dst_id': [2, False, 'Number'], 'src_class': [2, False, 'String'], 'src_id': [2, False, 'Number'], 'type': [2, False, 'String']}, 'src': 'System'}, 'supports_use_of': {'dst': 'Software', 'matched': 1, 'properties': {'created_at': [1, False, 'String'], 'dst_class': [1, False, 'String'], 'dst_id': [1, False, 'Number'], 'src_class': [1, False, 'String'], 'src_id': [1, False, 'Number'], 'type': [1, False, 'String']}, 'src': 'System'}, 'synchronizes': {'dst': 'Hardware', 'matched': 1, 'properties': {'created_at': [1, False, 'String'], 'dst_class': [1, False, 'String'], 'dst_id': [1, False, 'Number'], 'src_class': [1, False, 'String'], 'src_id': [1, False, 'Number'], 'type': [1, False, 'String']}, 'src': 'Service'}, 'to': {'dst': 'User', 'matched': 1, 'properties': {'created_at': [1, False, 'String'], 'dst_class': [1, False, 'String'], 'dst_id': [1, False, 'Number'], 'src_class': [1, False, 'String'], 'src_id': [1, False, 'Number'], 'type': [1, False, 'String']}, 'src': 'Service'}, 'tracks': {'dst': 'Software', 'matched': 1, 'properties': {'created_at': [1, False, 'String'], 'dst_class': [1, False, 'String'], 'dst_id': [1, False, 'Number'], 'src_class': [1, False, 'String'], 'src_id': [1, False, 'Number'], 'type': [1, False, 'String']}, 'src': 'Service'}, 'used_as': {'dst': 'Concept', 'matched': 1, 'properties': {'created_at': [1, False, 'String'], 'dst_class': [1, False, 'String'], 'dst_id': [1, False, 'Number'], 'src_class': [1, False, 'String'], 'src_id': [1, False, 'Number'], 'type': [1, False, 'String']}, 'src': 'Service'}, 'used_by': {'dst': 'Organization', 'matched': 1, 'properties': {'created_at': [1, False, 'String'], 'dst_class': [1, False, 'String'], 'dst_id': [1, False, 'Number'], 'src_class': [1, False, 'String'], 'src_id': [1, False, 'Number'], 'type': [1, False, 'String']}, 'src': 'Software'}, 'used_for': {'dst': 'Service', 'matched': 2, 'properties': {'created_at': [2, False, 'String'], 'dst_class': [2, False, 'String'], 'dst_id': [2, False, 'Number'], 'src_class': [2, False, 'String'], 'src_id': [2, False, 'Number'], 'type': [2, False, 'String']}, 'src': 'Software'}, 'used_for_installation_in': {'dst': 'Concept', 'matched': 1, 'properties': {'created_at': [1, False, 'String'], 'dst_class': [1, False, 'String'], 'dst_id': [1, False, 'Number'], 'src_class': [1, False, 'String'], 'src_id': [1, False, 'Number'], 'type': [1, False, 'String']}, 'src': 'Software'}, 'used_in': {'dst': 'System', 'matched': 1, 'properties': {'created_at': [1, False, 'String'], 'dst_class': [1, False, 'String'], 'dst_id': [1, False, 'Number'], 'src_class': [1, False, 'String'], 'src_id': [1, False, 'Number'], 'type': [1, False, 'String']}, 'src': 'System'}, 'used_on': {'dst': 'Service', 'matched': 1, 'properties': {'created_at': [1, False, 'String'], 'dst_class': [1, False, 'String'], 'dst_id': [1, False, 'Number'], 'src_class': [1, False, 'String'], 'src_id': [1, False, 'Number'], 'type': [1, False, 'String']}, 'src': 'Service'}, 'used_to_build': {'dst': 'System', 'matched': 1, 'properties': {'created_at': [1, False, 'String'], 'dst_class': [1, False, 'String'], 'dst_id': [1, False, 'Number'], 'src_class': [1, False, 'String'], 'src_id': [1, False, 'Number'], 'type': [1, False, 'String']}, 'src': 'Service'}, 'used_to_construct': {'dst': 'System', 'matched': 1, 'properties': {'created_at': [1, False, 'String'], 'dst_class': [1, False, 'String'], 'dst_id': [1, False, 'Number'], 'src_class': [1, False, 'String'], 'src_id': [1, False, 'Number'], 'type': [1, False, 'String']}, 'src': 'System'}, 'used_with': {'dst': 'Hardware', 'matched': 1, 'properties': {'created_at': [1, False, 'String'], 'dst_class': [1, False, 'String'], 'dst_id': [1, False, 'Number'], 'src_class': [1, False, 'String'], 'src_id': [1, False, 'Number'], 'type': [1, False, 'String']}, 'src': 'Software'}, 'uses': {'dst': 'Organization', 'matched': 1, 'properties': {'created_at': [1, False, 'String'], 'dst_class': [1, False, 'String'], 'dst_id': [1, False, 'Number'], 'src_class': [1, False, 'String'], 'src_id': [1, False, 'Number'], 'type': [1, False, 'String']}, 'src': 'User'}, 'uses_as': {'dst': 'Hardware', 'matched': 1, 'properties': {'created_at': [1, False, 'String'], 'dst_class': [1, False, 'String'], 'dst_id': [1, False, 'Number'], 'src_class': [1, False, 'String'], 'src_id': [1, False, 'Number'], 'type': [1, False, 'String']}, 'src': 'Software'}, 'uses_as_extension_of': {'dst': 'Hardware', 'matched': 1, 'properties': {'created_at': [1, False, 'String'], 'dst_class': [1, False, 'String'], 'dst_id': [1, False, 'Number'], 'src_class': [1, False, 'String'], 'src_id': [1, False, 'Number'], 'type': [1, False, 'String']}, 'src': 'Software'}, 'utilized_by': {'dst': 'Software', 'matched': 1, 'properties': {'created_at': [1, False, 'String'], 'dst_class': [1, False, 'String'], 'dst_id': [1, False, 'Number'], 'src_class': [1, False, 'String'], 'src_id': [1, False, 'Number'], 'type': [1, False, 'String']}, 'src': 'Concept'}, 'utilized_for': {'dst': 'Hardware', 'matched': 1, 'properties': {'created_at': [1, False, 'String'], 'dst_class': [1, False, 'String'], 'dst_id': [1, False, 'Number'], 'src_class': [1, False, 'String'], 'src_id': [1, False, 'Number'], 'type': [1, False, 'String']}, 'src': 'Hardware'}, 'utilizes': {'dst': 'Service', 'matched': 1, 'properties': {'created_at': [1, False, 'String'], 'dst_class': [1, False, 'String'], 'dst_id': [1, False, 'Number'], 'src_class': [1, False, 'String'], 'src_id': [1, False, 'Number'], 'type': [1, False, 'String']}, 'src': 'System'}, 'valid_within': {'dst': 'Network', 'matched': 1, 'properties': {'created_at': [1, False, 'String'], 'dst_class': [1, False, 'String'], 'dst_id': [1, False, 'Number'], 'src_class': [1, False, 'String'], 'src_id': [1, False, 'Number'], 'type': [1, False, 'String']}, 'src': 'Network'}, 'varies_by_service_type': {'dst': 'Concept', 'matched': 3, 'properties': {'created_at': [3, False, 'String'], 'dst_class': [3, False, 'String'], 'dst_id': [3, False, 'Number'], 'src_class': [3, False, 'String'], 'src_id': [3, False, 'Number'], 'type': [3, False, 'String']}, 'src': 'Concept'}, 'virtualizes': {'dst': 'Software', 'matched': 1, 'properties': {'created_at': [1, False, 'String'], 'dst_class': [1, False, 'String'], 'dst_id': [1, False, 'Number'], 'src_class': [1, False, 'String'], 'src_id': [1, False, 'Number'], 'type': [1, False, 'String']}, 'src': 'Concept'}, 'virtualizes_as_multiple': {'dst': 'Hardware', 'matched': 1, 'properties': {'created_at': [1, False, 'String'], 'dst_class': [1, False, 'String'], 'dst_id': [1, False, 'Number'], 'src_class': [1, False, 'String'], 'src_id': [1, False, 'Number'], 'type': [1, False, 'String']}, 'src': 'Concept'}}, 'returned': 527}, 'entities': {'classes': {'Concept': {'matched': 137, 'properties': {'advantages': [3, False, 'String'], 'benefits': [14, False, 'String'], 'challenges': [3, False, 'String'], 'characteristics': [23, False, 'String'], 'comparison_points': [10, False, 'String'], 'definition': [64, False, 'String'], 'disadvantages': [3, False, 'String'], 'elasticity': [1, False, 'String'], 'id': [137, False, 'Number'], 'infrastructure_foundation': [1, False, 'String'], 'inspiration_source': [5, False, 'String'], 'investment_requirement': [1, False, 'String'], 'key_aspects': [24, False, 'String'], 'lifespan': [1, False, 'String'], 'limitations': [3, False, 'String'], 'name': [137, False, 'String'], 'objective': [3, False, 'String'], 'os_modification_requirement': [2, False, 'String'], 'performance_impact': [1, False, 'String'], 'performance_optimization': [1, False, 'String'], 'purpose': [3, False, 'String'], 'role': [9, False, 'String'], 'status': [6, False, 'String'], 'type': [8, False, 'String'], 'use_cases': [7, False, 'String']}}, 'Hardware': {'matched': 21, 'properties': {'architecture_type': [3, False, 'String'], 'configuration': [2, False, 'String'], 'function': [5, False, 'String'], 'geographical_location': [2, False, 'String'], 'id': [21, False, 'Number'], 'management_responsibility': [1, False, 'String'], 'management_scope': [1, False, 'String'], 'name': [21, False, 'String'], 'processor_type': [1, False, 'String'], 'resource_type': [3, False, 'String'], 'type': [17, False, 'String']}}, 'Network': {'matched': 26, 'properties': {'backbone_components': [2, False, 'String'], 'characteristics': [1, False, 'String'], 'connectivity_method': [2, False, 'String'], 'content_delivery_mechanism': [2, False, 'String'], 'definition': [5, False, 'String'], 'description': [4, False, 'String'], 'id': [26, False, 'Number'], 'ip_assignment_method': [3, False, 'String'], 'isolation_mechanism': [4, False, 'String'], 'name': [26, False, 'String'], 'region_based_delivery_benefit': [1, False, 'String'], 'routing_capability': [1, False, 'String'], 'security_rules': [4, False, 'String'], 'subnetting_capability': [1, False, 'String'], 'type': [11, False, 'String'], 'use_cases': [1, False, 'String'], 'virtual_network_components': [1, False, 'String']}}, 'Organization': {'matched': 20, 'properties': {'benefits': [1, False, 'String'], 'contributions': [5, False, 'String'], 'id': [20, False, 'Number'], 'management_options': [1, False, 'String'], 'market_dominance': [5, False, 'String'], 'name': [20, False, 'String'], 'offerings': [2, False, 'String'], 'resource_management_responsibility': [1, False, 'String'], 'role': [4, False, 'String'], 'security_investment': [1, False, 'String'], 'type': [8, False, 'String']}}, 'Service': {'matched': 69, 'properties': {'access_level': [1, False, 'String'], 'access_speed': [4, False, 'String'], 'architecture_approach': [2, False, 'String'], 'audit_scope': [1, False, 'String'], 'automation_tools': [2, False, 'String'], 'billing_automation': [1, False, 'String'], 'capacity': [2, False, 'String'], 'characteristics': [2, False, 'String'], 'comparison_points': [1, False, 'String'], 'configuration_capability': [1, False, 'String'], 'cost': [2, False, 'String'], 'data_retention_purpose': [2, False, 'String'], 'data_storage_format': [2, False, 'String'], 'default_offerings': [1, False, 'String'], 'description': [28, False, 'String'], 'firewall_rules': [1, False, 'String'], 'function': [1, False, 'String'], 'global_reach': [1, False, 'String'], 'id': [69, False, 'Number'], 'independence_requirement': [1, False, 'String'], 'interoperability_capability': [1, False, 'String'], 'ip_assignment_method': [1, False, 'String'], 'latency': [2, False, 'String'], 'management_options': [1, False, 'String'], 'migration_service_availability': [1, False, 'String'], 'model_type': [17, False, 'String'], 'modifiability': [2, False, 'String'], 'monitoring_tools': [3, False, 'String'], 'name': [69, False, 'String'], 'objective': [1, False, 'String'], 'os_installation_support': [4, False, 'String'], 'portability_capability': [1, False, 'String'], 'pricing_model': [2, False, 'String'], 'protocol_support': [1, False, 'String'], 'provider_responsibility': [7, False, 'String'], 'provisioning_capability': [2, False, 'String'], 'query_language_support': [2, False, 'String'], 'redundancy': [1, False, 'String'], 'resource_allocation_model': [1, False, 'String'], 'resource_management_responsibility': [2, False, 'String'], 'role': [7, False, 'String'], 'routing_capability': [1, False, 'String'], 'scalability_features': [6, False, 'String'], 'security_measures': [1, False, 'String'], 'service_delivery_method': [5, False, 'String'], 'service_orchestration': [3, False, 'String'], 'status': [6, False, 'String'], 'structure_type': [4, False, 'String'], 'supported_database_types': [1, False, 'String'], 'supported_storage_types': [1, False, 'String'], 'type': [3, False, 'String'], 'use_cases': [9, False, 'String'], 'user_responsibility': [4, False, 'String']}}, 'Software': {'matched': 48, 'properties': {'abstraction_level': [1, False, 'String'], 'access_control': [1, False, 'String'], 'architecture_approach': [4, False, 'String'], 'command_execution_method': [3, False, 'String'], 'cost_characteristic': [1, False, 'String'], 'default_hypervisor': [2, False, 'String'], 'definition': [3, False, 'String'], 'deployment_method': [2, False, 'String'], 'device_mediation': [1, False, 'String'], 'efficiency_characteristic': [2, False, 'String'], 'efficiency_mechanism': [1, False, 'String'], 'function': [20, False, 'String'], 'hardware_access_control': [2, False, 'String'], 'id': [48, False, 'Number'], 'inspiration_source': [1, False, 'String'], 'installation_requirements': [3, False, 'String'], 'intended_use_definition': [1, False, 'String'], 'licensing_cost': [1, False, 'String'], 'live_migration_support': [1, False, 'String'], 'management_responsibility': [3, False, 'String'], 'management_scope': [1, False, 'String'], 'migration_capability': [1, False, 'String'], 'name': [48, False, 'String'], 'open_source_status': [2, False, 'String'], 'orchestration_capability': [1, False, 'String'], 'performance_optimization': [1, False, 'String'], 'platform_management': [1, False, 'String'], 'process_isolation': [1, False, 'String'], 'resource_allocation': [1, False, 'String'], 'role': [4, False, 'String'], 'scalability_characteristic': [1, False, 'String'], 'scaling_capability': [4, False, 'String'], 'security_consideration': [3, False, 'String'], 'setup_definition': [1, False, 'String'], 'supported_virtualization_models': [1, False, 'String'], 'type': [28, False, 'String'], 'vm_execution_management': [2, False, 'String'], 'workload_support': [1, False, 'String']}}, 'System': {'matched': 54, 'properties': {'access_definition': [3, False, 'String'], 'acquisition_options': [1, False, 'String'], 'architecture_type': [6, False, 'String'], 'automation_capability': [1, False, 'String'], 'autoscaling_capability': [1, False, 'String'], 'backend_abstraction': [1, False, 'String'], 'challenges': [1, False, 'String'], 'characteristics': [4, False, 'String'], 'cluster_on_demand_capability': [2, False, 'String'], 'commercial_versions_availability': [1, False, 'String'], 'common_characteristics': [3, False, 'String'], 'comparison_points': [4, False, 'String'], 'computational_problem_scale': [1, False, 'String'], 'control_level': [1, False, 'String'], 'core_objective': [1, False, 'String'], 'cost_characteristic': [1, False, 'String'], 'definition': [11, False, 'String'], 'description': [6, False, 'String'], 'device_communication_model': [1, False, 'String'], 'essential_characteristics': [1, False, 'String'], 'financial_compensation_incentive': [1, False, 'String'], 'flexibility_benefit': [1, False, 'String'], 'geographical_distribution': [3, False, 'String'], 'geographical_proximity': [1, False, 'String'], 'hardware_limitations': [1, False, 'String'], 'hardware_requirement': [2, False, 'String'], 'homogeneity_characteristic': [4, False, 'String'], 'hpc_service_availability': [2, False, 'String'], 'id': [54, False, 'Number'], 'incentive_model': [1, False, 'String'], 'infrastructure_foundation': [3, False, 'String'], 'installation_requirements': [1, False, 'String'], 'interoperability_capability': [1, False, 'String'], 'investment_requirement': [1, False, 'String'], 'ip_assignment_method': [1, False, 'String'], 'kubernetes_integration': [1, False, 'String'], 'layered_design_capability': [1, False, 'String'], 'limitations': [2, False, 'String'], 'market_dominance': [1, False, 'String'], 'massive_scale_capability': [3, False, 'String'], 'middleware_complexity': [2, False, 'String'], 'migration_capability': [1, False, 'String'], 'name': [54, False, 'String'], 'network_type': [1, False, 'String'], 'nist_definition_relation': [2, False, 'String'], 'node_count_requirement': [2, False, 'String'], 'open_source_status': [1, False, 'String'], 'operation_manner': [3, False, 'String'], 'operator_wait_time': [1, False, 'String'], 'parallelization_applicability': [1, False, 'String'], 'payment_model': [1, False, 'String'], 'performance_impact': [2, False, 'String'], 'privacy_compliance_requirement': [2, False, 'String'], 'programming_language_requirement': [1, False, 'String'], 'purpose': [2, False, 'String'], 'resilience_characteristic': [4, False, 'String'], 'resource_distribution_model': [3, False, 'String'], 'resource_selling_capability': [1, False, 'String'], 'resource_sharing_incentive': [1, False, 'String'], 'resource_utilization_method': [2, False, 'String'], 'role': [1, False, 'String'], 'scalability_characteristic': [3, False, 'String'], 'security_concern': [5, False, 'String'], 'service_orientation': [3, False, 'String'], 'setup_definition': [2, False, 'String'], 'task_distribution_impact': [1, False, 'String'], 'type': [19, False, 'String'], 'ubiquitous_access': [1, False, 'String'], 'use_cases': [5, False, 'String'], 'user_perspective': [2, False, 'String'], 'vendor_lock_in_avoidance': [1, False, 'String'], 'workload_support': [1, False, 'String']}}, 'User': {'matched': 5, 'properties': {'access_level': [3, False, 'String'], 'automation_capability': [1, False, 'String'], 'id': [5, False, 'Number'], 'interaction_method': [1, False, 'String'], 'name': [5, False, 'String'], 'participation_model': [1, False, 'String'], 'payment_model': [1, False, 'String'], 'resource_consumption': [1, False, 'String'], 'role': [3, False, 'String']}}, '_Blob': {'matched': 1, 'properties': {'description': [1, False, 'String'], 'id': [1, False, 'Number'], 'name': [1, False, 'String'], 'type': [1, False, 'String'], 'upload_timestamp': [1, False, 'String']}}, '_Descriptor': {'matched': 380, 'properties': {'_label': [380, False, 'String'], 'source_entity_class': [380, False, 'String'], 'source_entity_id': [380, False, 'Number']}}, '_DescriptorSet': {'matched': 1, 'properties': {'_dimensions': [1, False, 'Number'], '_name': [1, False, 'String']}}}, 'returned': 11}, 'refreshed': '2025-07-20T10:55:48.573923Z', 'status': 0}}], [])\n"
          ]
        }
      ]
    },
    {
      "cell_type": "code",
      "source": [
        "# Core imports\n",
        "import os\n",
        "import json\n",
        "import time\n",
        "from typing import Dict, List, Any\n",
        "from tqdm import tqdm\n",
        "import numpy as np\n",
        "\n",
        "# Data models and utilities\n",
        "from pydantic import BaseModel, Field\n",
        "from google.colab import userdata, files\n",
        "from aperturedb.CommonLibrary import create_connector\n",
        "from IPython.display import HTML, display\n",
        "import pprint\n",
        "from google import genai\n",
        "from google.genai import types, errors"
      ],
      "metadata": {
        "id": "d6yVimXjJCnz"
      },
      "execution_count": 20,
      "outputs": []
    },
    {
      "cell_type": "markdown",
      "source": [
        "Set up the API keys. You can get a Google API key [here](https://aistudio.google.com/apikey)."
      ],
      "metadata": {
        "id": "o0YQcnL0bZez"
      }
    },
    {
      "cell_type": "code",
      "source": [
        "google_api_key = userdata.get(\"GOOGLE_API_KEY\")"
      ],
      "metadata": {
        "id": "eLXTd1mXmcUm"
      },
      "execution_count": 21,
      "outputs": []
    },
    {
      "cell_type": "markdown",
      "source": [
        "## 2. Defining the Retrieval Logic\n",
        "\n",
        "The core of any RAG system is the retrieval mechanism. Here, we define the main functions for both of our RAG approaches.\n",
        "\n",
        "First, lets define the confgurations for our vector search system. We use Google's [`gemini-embedding-001`](https://ai.google.dev/gemini-api/docs/embeddings) embedding model here, with dimensions configured to 768 - same as our document embeddings' dimensions. It is necessary for these dimensions to match."
      ],
      "metadata": {
        "id": "YtHFpOQHbjso"
      }
    },
    {
      "cell_type": "code",
      "source": [
        "GEMINI_MODEL_NAME = \"gemini-embedding-001\"\n",
        "EMBEDDING_DIMENSIONS = 768\n",
        "gemini_client = genai.Client(api_key=google_api_key)\n",
        "DESCRIPTOR_SET_NAME = \"entity_embeddings_gemini\""
      ],
      "metadata": {
        "id": "wotoO9RAo1-F"
      },
      "execution_count": 22,
      "outputs": []
    },
    {
      "cell_type": "markdown",
      "source": [
        "Both of our RAG methods will start with a vector search to find initial, semantically relevant entities. This function takes a user's query, embeds it using the `gemini-embedding-001` model, and performs a K-Nearest Neighbor (KNN) search in ApertureDB to find the most similar entities in our knowledge base.\n",
        "\n",
        "ApertureDB's ability to chain commands is powerful here: we first `FindDescriptor` to get the top K vectors, then immediately find the `Entity` connected to each vector via the `has_embedding` relationship, all in a single query."
      ],
      "metadata": {
        "id": "-GJ12X2ucNqq"
      }
    },
    {
      "cell_type": "code",
      "source": [
        "def find_semantic_entry_points(query_text: str, k: int, client, gemini_client) -> List[Dict[str, Any]]:\n",
        "    \"\"\"\n",
        "    Finds the top K most semantically relevant entities in the knowledge graph\n",
        "    based on a user query using vector search and graph traversal.\n",
        "    Uses Gemini for generating the embedding of the query.\n",
        "    \"\"\"\n",
        "    # Create Gemini embedding config\n",
        "    embed_cfg = types.EmbedContentConfig(\n",
        "        output_dimensionality=EMBEDDING_DIMENSIONS,\n",
        "        task_type=\"QUESTION_ANSWERING\",  # since it's will be used for Q&A. RETRIEVAL_QUERY can also be used here.\n",
        "    )\n",
        "\n",
        "    # Get embedding from Gemini\n",
        "    result = gemini_client.models.embed_content(\n",
        "        model=GEMINI_MODEL_NAME,\n",
        "        contents=[query_text],\n",
        "        config=embed_cfg,\n",
        "    )\n",
        "\n",
        "    # Extract embedding\n",
        "    query_embedding = result.embeddings[0].values\n",
        "    query_embedding_bytes = np.array(query_embedding, dtype=np.float32).tobytes()\n",
        "\n",
        "    # Execute a FindDescriptor KNN query and traverse to linked entities\n",
        "    query = [\n",
        "        {\n",
        "            \"FindDescriptor\": {\n",
        "                \"set\": DESCRIPTOR_SET_NAME,\n",
        "                \"k_neighbors\": k,\n",
        "                \"distances\": True,\n",
        "                \"blobs\": False,\n",
        "                \"results\": {\n",
        "                    \"all_properties\": True\n",
        "                },\n",
        "                \"_ref\": 1,\n",
        "            }\n",
        "        },\n",
        "        {\n",
        "            \"FindEntity\": {\n",
        "                \"is_connected_to\": {\n",
        "                    \"ref\": 1,\n",
        "                    \"connection_class\": \"has_embedding\",\n",
        "                },\n",
        "                \"results\": {\n",
        "                    \"all_properties\": True\n",
        "                },\n",
        "            }\n",
        "        },\n",
        "    ]\n",
        "\n",
        "    response, _ = client.query(query, [query_embedding_bytes])\n",
        "\n",
        "    # Extract results\n",
        "    descriptor_results = response[0].get(\"FindDescriptor\", {}).get(\"entities\", [])\n",
        "    entity_results = response[1].get(\"FindEntity\", {}).get(\"entities\", [])\n",
        "\n",
        "    # Map descriptor -> class, entity -> full data\n",
        "    id_to_class_map = {\n",
        "        d.get('source_entity_id'): d.get('source_entity_class')\n",
        "        for d in descriptor_results\n",
        "    }\n",
        "    id_to_entity_data_map = {\n",
        "        e.get('id'): e\n",
        "        for e in entity_results\n",
        "    }\n",
        "\n",
        "    enriched_entities = []\n",
        "    for descriptor_item in descriptor_results:\n",
        "        entity_id = descriptor_item.get('source_entity_id')\n",
        "        if entity_id in id_to_entity_data_map:\n",
        "            entity_data = id_to_entity_data_map[entity_id].copy()\n",
        "            entity_data['class'] = id_to_class_map.get(entity_id)\n",
        "            enriched_entities.append(entity_data)\n",
        "\n",
        "    return enriched_entities"
      ],
      "metadata": {
        "id": "LuH5sf-npCtg"
      },
      "execution_count": 23,
      "outputs": []
    },
    {
      "cell_type": "markdown",
      "source": [
        " A helper function to format retreived entities into a string to be passed as context into an LLM prompt."
      ],
      "metadata": {
        "id": "G7KQIEztcVRv"
      }
    },
    {
      "cell_type": "code",
      "source": [
        "def _format_entity_properties(entity: Dict[str, Any]) -> str:\n",
        "    \"\"\"Helper to format entity properties into a string.\"\"\"\n",
        "    formatted_props = []\n",
        "    entity_name = entity.get('name', f\"Entity_{entity.get('id', 'Unknown')}\")\n",
        "    entity_class = entity.get('class', 'Unknown')\n",
        "\n",
        "    formatted_props.append(f\"Entity: '{entity_name}' (Class: '{entity_class}', ID: {entity.get('id', 'N/A')})\")\n",
        "\n",
        "    for key, value in entity.items():\n",
        "        if not key.startswith('_') and key not in ['name', 'class', 'id', '_uniqueid']:\n",
        "            if isinstance(value, (dict, list)):\n",
        "                value_str = str(value)\n",
        "            else:\n",
        "                value_str = str(value)\n",
        "            formatted_props.append(f\"  - {key}: {value_str}\")\n",
        "    return \"\\n\".join(formatted_props)"
      ],
      "metadata": {
        "id": "QsYVrzOQAp5L"
      },
      "execution_count": 24,
      "outputs": []
    },
    {
      "cell_type": "markdown",
      "source": [
        "This is the key component of Graph RAG. Starting from the initial entities, this function traverses the graph outwards for a set number of `hops`, collecting connected entities and their relationships to build a rich, interconnected context."
      ],
      "metadata": {
        "id": "OijArLTtchcy"
      }
    },
    {
      "cell_type": "code",
      "source": [
        "def build_traversal_context(start_entities: List[Dict[str, Any]], max_hops: int, max_entities: int, client) -> str:\n",
        "    \"\"\"\n",
        "    Performs a bounded BFS graph traversal from start_entities, collecting\n",
        "    and formatting entities and connections into a context string.\n",
        "    \"\"\"\n",
        "    context_strings: List[str] = []\n",
        "\n",
        "    collected_entities: Dict[int, Dict[str, Any]] = {}\n",
        "    collected_connections: List[Dict[str, Any]] = []\n",
        "\n",
        "    explored_entity_ids: set = set()\n",
        "\n",
        "    frontier_ids_for_current_hop: List[int] = []\n",
        "\n",
        "    # Initialize the frontier with the starting entities\n",
        "    frontier_ids_for_current_hop: List[int] = []\n",
        "\n",
        "    for entity in start_entities:\n",
        "        entity_id = entity.get(\"id\")\n",
        "        if entity_id is None or entity_id in explored_entity_ids:\n",
        "            continue\n",
        "\n",
        "        # Add the starting entity to the context and mark as explored\n",
        "        context_strings.append(_format_entity_properties(entity))\n",
        "        explored_entity_ids.add(entity_id)\n",
        "        frontier_ids_for_current_hop.append(entity_id)\n",
        "        collected_entities[entity_id] = entity\n",
        "\n",
        "        if len(explored_entity_ids) >= max_entities:\n",
        "            break\n",
        "\n",
        "    # Perform BFS traversal up to max_hops\n",
        "    for hop in range(1, max_hops + 1):\n",
        "        if not frontier_ids_for_current_hop or len(explored_entity_ids) >= max_entities:\n",
        "            break\n",
        "\n",
        "        all_connections_this_hop: List[Dict[str, Any]] = []\n",
        "        queries_for_this_hop = []\n",
        "        # Build queries to find connections for entities in the current frontier\n",
        "        for i, entity_id in enumerate(frontier_ids_for_current_hop):\n",
        "            ref_id = i + 1\n",
        "            entity_class = collected_entities[entity_id].get('class', 'Unknown')\n",
        "            queries_for_this_hop.extend([\n",
        "                {\"FindEntity\": {\"with_class\": entity_class, \"constraints\": {\"id\": [\"==\", entity_id]}, \"_ref\": ref_id}},\n",
        "                {\"FindConnection\": {\"src\": ref_id, \"results\": {\"all_properties\": True}}},\n",
        "                {\"FindConnection\": {\"dst\": ref_id, \"results\": {\"all_properties\": True}}}\n",
        "            ])\n",
        "\n",
        "        # Execute the queries to find connections\n",
        "        responses, _ = client.query(queries_for_this_hop)\n",
        "\n",
        "        # Collect unique connections found in this hop\n",
        "        conn_uids_seen = set()\n",
        "        for resp_block in responses:\n",
        "            if \"FindConnection\" in resp_block and resp_block[\"FindConnection\"].get(\"connections\"):\n",
        "                for conn in resp_block[\"FindConnection\"][\"connections\"]:\n",
        "                    if conn[\"_uniqueid\"] not in conn_uids_seen:\n",
        "                        all_connections_this_hop.append(conn)\n",
        "                        conn_uids_seen.add(conn[\"_uniqueid\"])\n",
        "\n",
        "        collected_connections.extend(all_connections_this_hop)\n",
        "\n",
        "        # Map entity IDs to their classes from the connections\n",
        "        id_to_class_map = {}\n",
        "        for conn in all_connections_this_hop:\n",
        "            if conn.get('src_id') is not None and conn.get('src_class') is not None:\n",
        "                id_to_class_map[conn['src_id']] = conn['src_class']\n",
        "            if conn.get('dst_id') is not None and conn.get('dst_class') is not None:\n",
        "                id_to_class_map[conn['dst_id']] = conn['dst_class']\n",
        "\n",
        "        # Identify new entities to fetch in the next hop\n",
        "        unique_new_entity_ids_to_fetch = set()\n",
        "        for conn in all_connections_this_hop:\n",
        "            src_id = conn.get(\"src_id\")\n",
        "            dst_id = conn.get(\"dst_id\")\n",
        "\n",
        "            # If source is in current frontier and destination is not explored, add destination\n",
        "            if src_id in frontier_ids_for_current_hop and dst_id not in explored_entity_ids:\n",
        "                unique_new_entity_ids_to_fetch.add(dst_id)\n",
        "            # If destination is in current frontier and source is not explored, add source\n",
        "            elif dst_id in frontier_ids_for_current_hop and src_id not in explored_entity_ids:\n",
        "                unique_new_entity_ids_to_fetch.add(src_id)\n",
        "\n",
        "        next_frontier_ids = []\n",
        "        # Fetch new entities and add to context if within limits\n",
        "        if unique_new_entity_ids_to_fetch:\n",
        "            valid_ids_to_fetch = [id for id in list(unique_new_entity_ids_to_fetch) if id is not None]\n",
        "            if not valid_ids_to_fetch: continue\n",
        "\n",
        "            fetch_new_entities_query = [{\"FindEntity\": {\"constraints\": {\"id\": [\"in\", valid_ids_to_fetch]}, \"results\": {\"all_properties\": True}}}]\n",
        "            fetch_responses, _ = client.query(fetch_new_entities_query)\n",
        "\n",
        "            if fetch_responses and \"FindEntity\" in fetch_responses[0] and fetch_responses[0][\"FindEntity\"].get(\"entities\"):\n",
        "                for entity in fetch_responses[0][\"FindEntity\"][\"entities\"]:\n",
        "                    if len(explored_entity_ids) >= max_entities: break\n",
        "                    entity_id = entity.get(\"id\")\n",
        "                    if entity_id not in explored_entity_ids:\n",
        "                        # Add entity class from the map if available\n",
        "                        entity['class'] = id_to_class_map.get(entity_id, 'Unknown')\n",
        "\n",
        "                        collected_entities[entity_id] = entity\n",
        "                        explored_entity_ids.add(entity_id)\n",
        "                        next_frontier_ids.append(entity_id)\n",
        "                        context_strings.append(_format_entity_properties(entity))\n",
        "\n",
        "        # Format and add connections to the context\n",
        "        for conn in all_connections_this_hop:\n",
        "            src_id = conn.get(\"src_id\")\n",
        "            dst_id = conn.get(\"dst_id\")\n",
        "\n",
        "            # Only add connection string if both entities are in the cache (meaning they were added to context)\n",
        "            if src_id in collected_entities and dst_id in collected_entities:\n",
        "                src_entity, dst_entity = collected_entities[src_id], collected_entities[dst_id]\n",
        "                conn_class = conn.get(\"class\") or conn.get(\"type\", \"related_to\")\n",
        "                conn_str = f\"  - [{src_entity.get('name')}] --({conn_class})--> [{dst_entity.get('name')}]\"\n",
        "                if conn_str not in context_strings:\n",
        "                    context_strings.append(conn_str)\n",
        "\n",
        "        # Update the frontier for the next hop\n",
        "        frontier_ids_for_current_hop = next_frontier_ids\n",
        "\n",
        "    # Return the structured data along with the formatted string\n",
        "    return (\"\\n\".join(context_strings), collected_entities, collected_connections)"
      ],
      "metadata": {
        "id": "BGqErwr1pptB"
      },
      "execution_count": 25,
      "outputs": []
    },
    {
      "cell_type": "markdown",
      "source": [
        "This function combines the semantic search and graph traversal steps into a single pipeline. It returns both the formatted text for the LLM and the structured data for visualization."
      ],
      "metadata": {
        "id": "Nf4XObUleJMO"
      }
    },
    {
      "cell_type": "code",
      "source": [
        "def graph_rag(query_text: str, k: int, max_hops: int, max_entities: int, client, gemini_client) -> tuple:\n",
        "    \"\"\"\n",
        "    Performs a full Graph RAG retrieval.\n",
        "\n",
        "    It first finds the top-k semantically similar entities, then performs a\n",
        "    bounded graph traversal from those entry points to build a rich,\n",
        "    interconnected context string.\n",
        "\n",
        "    Returns a tuple containing:\n",
        "    1. The formatted context string for the LLM.\n",
        "    2. A dictionary of the entity objects found.\n",
        "    3. A list of the connection objects found.\n",
        "    \"\"\"\n",
        "    # Find the top K most relevant entry points in the graph.\n",
        "    start_entities = find_semantic_entry_points(query_text, k, client, gemini_client)\n",
        "\n",
        "    # Build the final context string by traversing the graph from those entry points.\n",
        "    return build_traversal_context(\n",
        "        start_entities=start_entities,\n",
        "        max_hops=max_hops,\n",
        "        max_entities=max_entities,\n",
        "        client=client\n",
        "    )"
      ],
      "metadata": {
        "id": "0uXydDNWY2bg"
      },
      "execution_count": 26,
      "outputs": []
    },
    {
      "cell_type": "markdown",
      "source": [
        "Let's run a test query. We'll start with `k=3` initial entities and traverse `2` hops, up to a maximum of `20` total entities. The output context includes both entity properties and the relationships between them."
      ],
      "metadata": {
        "id": "370l6YhOeMXq"
      }
    },
    {
      "cell_type": "code",
      "source": [
        "query = \"What does a hypervisor do?\"\n",
        "k_initial_entities = 3 # The number of initial entities to find\n",
        "max_hops_config = 2 # The maximum depth for the traversal\n",
        "max_entities_context_limit = 20 # The hard limit on the total number of entities\n",
        "\n",
        "graph_rag_context, retrieved_entities, retrieved_connections = graph_rag(\n",
        "    query_text=query,\n",
        "    k=k_initial_entities,\n",
        "    max_hops=max_hops_config,\n",
        "    max_entities=max_entities_context_limit,\n",
        "    client=client,\n",
        "    gemini_client=gemini_client\n",
        ")\n",
        "\n",
        "print(\"--- Generated Graph RAG Context ---\")\n",
        "print(graph_rag_context)"
      ],
      "metadata": {
        "colab": {
          "base_uri": "https://localhost:8080/",
          "height": 0
        },
        "id": "nx6zfQQK59s3",
        "outputId": "74979a7c-6cd6-4fbc-d67f-61541887a514"
      },
      "execution_count": 27,
      "outputs": [
        {
          "output_type": "stream",
          "name": "stdout",
          "text": [
            "--- Generated Graph RAG Context ---\n",
            "Entity: 'Hypervisor' (Class: 'Software', ID: 202)\n",
            "  - access_control: Hypervisors emulate hardware devices, allowing VMs to interact with peripherals.\n",
            "  - command_execution_method: Privileged Instructions from guest VMs (e.g., hardware access) must go through\n",
            "  - definition: a software layer that allows multiple virtual machines (VMs) to run on a single physical machine by abstracting hardware resources.\n",
            "  - device_mediation: Hypervisors emulate hardware devices, allowing VMs to interact with peripherals.\n",
            "  - hardware_access_control: Ensures that instructions requiring hardware access execute under the hypervisor’s control.\n",
            "  - process_isolation: Ensures that VM processes do not interfere with each other’s memory space (prevents buffer overflow).\n",
            "  - resource_allocation: Allocates CPU, memory, and storage to VMs efficiently.\n",
            "  - role: software layer\n",
            "  - vm_execution_management: All VMs are created and managed on top of a hypervisor.\n",
            "Entity: 'Hypervisors' (Class: 'Software', ID: 200)\n",
            "  - function: manage VM isolation\n",
            "  - vm_execution_management: manage VM isolation\n",
            "Entity: 'Device Mediation & Access Control' (Class: 'Concept', ID: 71)\n",
            "  - characteristics: Hypervisors emulate hardware devices, allowing VMs to interact with peripherals.\n",
            "  - definition: Hypervisors emulate hardware devices, allowing VMs to interact with peripherals.\n",
            "Entity: 'Virtualization' (Class: 'Concept', ID: 20)\n",
            "  - benefits: Resource Management, Ease of Migration, Flexibility, Cost Savings\n",
            "  - characteristics: common characteristic that helps achieve essential cloud features.\n",
            "  - definition: allows creation of virtual objects from physical resources\n",
            "  - infrastructure_foundation: Most cloud computing infrastructures rely on virtualization\n",
            "  - key_aspects: Virtual Memory, Virtual Storage, Virtual Operating Systems\n",
            "  - limitations: Virtualization alone is not cloud computing\n",
            "  - purpose: Efficient utilization of key resources., Provides abstraction by modeling hardware or software environments., Enables the creation of interfaces that simulate physical components., Utilized by hypervisors to create and manage virtual machines.\n",
            "  - role: key enabler\n",
            "  - status: can be implemented natively or without cloud computing.\n",
            "Entity: 'Resource Management' (Class: 'Concept', ID: 47)\n",
            "  - objective: Optimizes computing power, storage, and network resources.\n",
            "Entity: 'Logical isolation' (Class: 'Concept', ID: 111)\n",
            "  - status: enforced\n",
            "Entity: 'Process Isolation' (Class: 'Concept', ID: 65)\n",
            "  - definition: Ensures that VM processes do not interfere with each other’s memory space (prevents buffer overflow).\n",
            "Entity: 'Virtual Machine Execution' (Class: 'Concept', ID: 66)\n",
            "  - characteristics: All VMs are created and managed on top of a hypervisor.\n",
            "Entity: 'Hardware Access Control' (Class: 'Concept', ID: 67)\n",
            "  - definition: Ensures that instructions requiring hardware access execute under the hypervisor’s control.\n",
            "Entity: 'VM Process Isolation (Kernel-Level)' (Class: 'Concept', ID: 70)\n",
            "  - characteristics: Kernel-Level\n",
            "  - definition: Prevents VMs from overlapping or interfering with each other’s memory or processing space.\n",
            "Entity: 'Direct Execution of Commands from VMs' (Class: 'Concept', ID: 72)\n",
            "  - characteristics: Privileged Instructions from guest VMs (e.g., hardware access) must go through\n",
            "  - key_aspects: Privileged Instructions from guest VMs (e.g., hardware access) must go through the hypervisor.\n",
            "Entity: 'SWOT Analysis' (Class: 'Concept', ID: 81)\n",
            "  - objective: assess hypervisors' role in cloud computing.\n",
            "Entity: 'Virtual Machines (VMs)' (Class: 'Concept', ID: 87)\n",
            "  - characteristics: contain a full-fledged OS, take up several GBs\n",
            "  - comparison_points: VMs contain a full-fledged OS and take up several GBs.\n",
            "Entity: 'OS' (Class: 'Software', ID: 195)\n",
            "  - type: Operating Systems\n",
            "Entity: 'software' (Class: 'Software', ID: 198)\n",
            "  - cost_characteristic: costs to decrease relatively\n",
            "Entity: 'Virtual machines' (Class: 'Software', ID: 201)\n",
            "  - live_migration_support: can be migrated easily compared to physical machines.\n",
            "  - type: VMs\n",
            "Entity: 'Type 1 Hypervisor' (Class: 'Software', ID: 203)\n",
            "  - command_execution_method: execute commands directly\n",
            "  - definition: Runs directly on the physical hardware without an underlying OS.\n",
            "  - deployment_method: Runs directly on hardware.\n",
            "  - efficiency_characteristic: More efficient\n",
            "  - efficiency_mechanism: efficient\n",
            "  - installation_requirements: Bare Metal\n",
            "  - scalability_characteristic: scalable\n",
            "  - scaling_capability: Highly scalable\n",
            "  - security_consideration: more secure since they run directly on hardware\n",
            "  - type: Hypervisor Type\n",
            "Entity: 'KVM' (Class: 'Software', ID: 205)\n",
            "  - architecture_approach: runs alongside the Linux OS\n",
            "  - default_hypervisor: default\n",
            "  - hardware_access_control: Allows direct access to hardware.\n",
            "  - open_source_status: Open-source Linux hypervisor\n",
            "  - type: Hypervisor\n",
            "Entity: 'Type 2 Hypervisor' (Class: 'Software', ID: 207)\n",
            "  - command_execution_method: depend on the base OS for execution\n",
            "  - definition: Runs on top of an existing OS, which manages hardware access.\n",
            "  - deployment_method: Runs on top of an existing OS.\n",
            "  - efficiency_characteristic: Less efficient\n",
            "  - installation_requirements: Hosted\n",
            "  - scaling_capability: Less scalable\n",
            "  - security_consideration: introduce additional risk due to dependency on the host OS\n",
            "  - type: Hypervisor Type\n",
            "Entity: 'AWS' (Class: 'Organization', ID: 240)\n",
            "  - management_options: provides its own cloud services without external brokers.\n",
            "  - market_dominance: 95-96% of cloud infrastructure belongs to a few major companies like: AWS, GCP, Azure, IBM Cloud\n",
            "  - offerings: bare metal as EC2 instances, other services similar to OpenStack\n",
            "  - type: Public Cloud Provider\n",
            "  - [Hypervisor] --(enables)--> [Virtual Machines (VMs)]\n",
            "  - [Hypervisor] --(is_a_type_of)--> [software]\n",
            "  - [Hypervisor] --(example)--> [KVM]\n",
            "  - [Hypervisor] --(has_feature)--> [VM Process Isolation (Kernel-Level)]\n",
            "  - [Hypervisor] --(has_feature)--> [Device Mediation & Access Control]\n",
            "  - [Hypervisor] --(has_feature)--> [Direct Execution of Commands from VMs]\n",
            "  - [Hypervisor] --(is_responsible_for)--> [Process Isolation]\n",
            "  - [Hypervisor] --(is_responsible_for)--> [Resource Management]\n",
            "  - [Hypervisor] --(is_responsible_for)--> [Virtual Machine Execution]\n",
            "  - [Hypervisor] --(is_responsible_for)--> [Hardware Access Control]\n",
            "  - [KVM] --(is_a)--> [Hypervisor]\n",
            "  - [Virtual Machines (VMs)] --(runs_on)--> [Hypervisor]\n",
            "  - [Virtual Machines (VMs)] --(created_on_top_of)--> [Hypervisor]\n",
            "  - [Virtual Machines (VMs)] --(managed_on_top_of)--> [Hypervisor]\n",
            "  - [Virtual Machines (VMs)] --(commands_routed_through)--> [Hypervisor]\n",
            "  - [Hypervisors] --(manages)--> [Virtual machines]\n",
            "  - [Hypervisors] --(manages)--> [Logical isolation]\n",
            "  - [Hypervisors] --(creates)--> [Virtual machines]\n",
            "  - [Hypervisors] --(has_type)--> [Type 1 Hypervisor]\n",
            "  - [Hypervisors] --(has_type)--> [Type 2 Hypervisor]\n",
            "  - [AWS] --(uses)--> [Hypervisors]\n",
            "  - [Virtualization] --(utilized_by)--> [Hypervisors]\n",
            "  - [OS] --(communicates_with)--> [Hypervisors]\n",
            "  - [SWOT Analysis] --(assesses)--> [Hypervisors]\n"
          ]
        }
      ]
    },
    {
      "cell_type": "markdown",
      "source": [
        "Lets invoke gemini-2.5-flash LLM with the query and the retrieved context to produce the final answer.\n"
      ],
      "metadata": {
        "id": "KVz04x-jeQBm"
      }
    },
    {
      "cell_type": "code",
      "source": [
        "response = gemini_client.models.generate_content(\n",
        "    model=\"gemini-2.5-flash\",\n",
        "    contents=f\"Use the given context to answer the user's query. \\nQuery: {query}, \\nRetrieved Contex: {graph_rag_context}\"\n",
        ")\n",
        "\n",
        "answer = (response.text)\n",
        "\n",
        "print(answer)"
      ],
      "metadata": {
        "colab": {
          "base_uri": "https://localhost:8080/",
          "height": 0
        },
        "id": "vKNIFHMn1zok",
        "outputId": "4c1ceaa4-e3d1-4450-dd6f-a916d4196e41"
      },
      "execution_count": 28,
      "outputs": [
        {
          "output_type": "stream",
          "name": "stdout",
          "text": [
            "A hypervisor is a software layer that enables multiple virtual machines (VMs) to run on a single physical machine by abstracting hardware resources.\n",
            "\n",
            "Its key functions include:\n",
            "*   **Creating and Managing VMs**: All virtual machines are created and managed on top of a hypervisor.\n",
            "*   **Resource Allocation**: It efficiently allocates CPU, memory, and storage to VMs.\n",
            "*   **Hardware Abstraction and Mediation**: Hypervisors emulate hardware devices, allowing VMs to interact with peripherals and control hardware access. Privileged instructions from guest VMs (e.g., hardware access) must go through the hypervisor.\n",
            "*   **Process and VM Isolation**: It ensures that VM processes do not interfere with each other's memory space, preventing buffer overflows and managing VM isolation.\n"
          ]
        }
      ]
    },
    {
      "cell_type": "markdown",
      "source": [
        "### Explainability\n",
        "A key advantage of Graph RAG is explainability. This function uses the structured data returned from the pipeline to visualize the exact subgraph used for context generation.\n"
      ],
      "metadata": {
        "id": "Uzy5pVfrec2g"
      }
    },
    {
      "cell_type": "code",
      "source": [
        "import graphviz\n",
        "from IPython.display import display\n",
        "\n",
        "def visualize_from_data(\n",
        "    entities: Dict[int, Dict[str, Any]],\n",
        "    connections: List[Dict[str, Any]]\n",
        "):\n",
        "    \"\"\"\n",
        "    Generates and displays a graph visualization from pre-fetched entity and connection data.\n",
        "\n",
        "    \"\"\"\n",
        "    dot = graphviz.Digraph('RetrievedContext', comment='Subgraph used for RAG')\n",
        "    dot.attr('node', shape='box', style='rounded,filled', fillcolor='#E3F2FD', fontname=\"Helvetica\")\n",
        "    dot.attr('edge', color='#546E7A', fontsize='10', fontname=\"Helvetica\")\n",
        "    dot.attr(rankdir='TB', splines='true')\n",
        "\n",
        "    if not entities:\n",
        "        print(\"No data to visualize.\")\n",
        "        return\n",
        "\n",
        "    # Add all entities as nodes\n",
        "    for entity_id, props in entities.items():\n",
        "        label = props.get('name', f\"ID:{entity_id}\")\n",
        "        dot.node(str(entity_id), label)\n",
        "\n",
        "    # Add all connections as edges\n",
        "    for conn in connections:\n",
        "        src_id = conn.get(\"src_id\")\n",
        "        dst_id = conn.get(\"dst_id\")\n",
        "        # Ensure we only draw edges for nodes that are actually in our entity list\n",
        "        if src_id in entities and dst_id in entities:\n",
        "            conn_class = conn.get(\"class\") or conn.get(\"type\", \"related_to\")\n",
        "            dot.edge(str(src_id), str(dst_id), label=conn_class)\n",
        "\n",
        "    print(\"--- Retrieved Subgraph (Explainability View) ---\")\n",
        "    display(dot)"
      ],
      "metadata": {
        "id": "fagMEwlMfsLt"
      },
      "execution_count": 29,
      "outputs": []
    },
    {
      "cell_type": "markdown",
      "source": [
        "Calling the function shows the cluster of concepts the system retrieved to answer the query.\n"
      ],
      "metadata": {
        "id": "dTF19RkReixG"
      }
    },
    {
      "cell_type": "code",
      "source": [
        "visualize_from_data(retrieved_entities, retrieved_connections)"
      ],
      "metadata": {
        "colab": {
          "base_uri": "https://localhost:8080/",
          "height": 339
        },
        "id": "m8oxfv3Vfp9k",
        "outputId": "437a9570-f8ef-4510-aec0-b83c9f8dc98d"
      },
      "execution_count": 30,
      "outputs": [
        {
          "output_type": "stream",
          "name": "stdout",
          "text": [
            "--- Retrieved Subgraph (Explainability View) ---\n"
          ]
        },
        {
          "output_type": "display_data",
          "data": {
            "image/svg+xml": "<?xml version=\"1.0\" encoding=\"UTF-8\" standalone=\"no\"?>\n<!DOCTYPE svg PUBLIC \"-//W3C//DTD SVG 1.1//EN\"\n \"http://www.w3.org/Graphics/SVG/1.1/DTD/svg11.dtd\">\n<!-- Generated by graphviz version 2.43.0 (0)\n -->\n<!-- Title: RetrievedContext Pages: 1 -->\n<svg width=\"2445pt\" height=\"210pt\"\n viewBox=\"0.00 0.00 2445.00 210.00\" xmlns=\"http://www.w3.org/2000/svg\" xmlns:xlink=\"http://www.w3.org/1999/xlink\">\n<g id=\"graph0\" class=\"graph\" transform=\"scale(1 1) rotate(0) translate(4 206)\">\n<title>RetrievedContext</title>\n<polygon fill=\"white\" stroke=\"transparent\" points=\"-4,4 -4,-206 2441,-206 2441,4 -4,4\"/>\n<!-- 202 -->\n<g id=\"node1\" class=\"node\">\n<title>202</title>\n<path fill=\"#e3f2fd\" stroke=\"black\" d=\"M1369,-202C1369,-202 1312,-202 1312,-202 1306,-202 1300,-196 1300,-190 1300,-190 1300,-178 1300,-178 1300,-172 1306,-166 1312,-166 1312,-166 1369,-166 1369,-166 1375,-166 1381,-172 1381,-178 1381,-178 1381,-190 1381,-190 1381,-196 1375,-202 1369,-202\"/>\n<text text-anchor=\"middle\" x=\"1340.5\" y=\"-180.3\" font-family=\"Helvetica,sans-Serif\" font-size=\"14.00\">Hypervisor</text>\n</g>\n<!-- 71 -->\n<g id=\"node3\" class=\"node\">\n<title>71</title>\n<path fill=\"#e3f2fd\" stroke=\"black\" d=\"M215,-119C215,-119 12,-119 12,-119 6,-119 0,-113 0,-107 0,-107 0,-95 0,-95 0,-89 6,-83 12,-83 12,-83 215,-83 215,-83 221,-83 227,-89 227,-95 227,-95 227,-107 227,-107 227,-113 221,-119 215,-119\"/>\n<text text-anchor=\"middle\" x=\"113.5\" y=\"-97.3\" font-family=\"Helvetica,sans-Serif\" font-size=\"14.00\">Device Mediation &amp; Access Control</text>\n</g>\n<!-- 202&#45;&gt;71 -->\n<g id=\"edge5\" class=\"edge\">\n<title>202&#45;&gt;71</title>\n<path fill=\"none\" stroke=\"#546e7a\" d=\"M1299.56,-182.79C1172.93,-181.84 776.44,-176.61 449.5,-148 375.73,-141.54 293.35,-130.33 228.62,-120.59\"/>\n<polygon fill=\"#546e7a\" stroke=\"#546e7a\" points=\"228.8,-117.08 218.38,-119.04 227.75,-124 228.8,-117.08\"/>\n<text text-anchor=\"middle\" x=\"475.5\" y=\"-140\" font-family=\"Helvetica,sans-Serif\" font-size=\"10.00\">has_feature</text>\n</g>\n<!-- 47 -->\n<g id=\"node5\" class=\"node\">\n<title>47</title>\n<path fill=\"#e3f2fd\" stroke=\"black\" d=\"M391.5,-119C391.5,-119 257.5,-119 257.5,-119 251.5,-119 245.5,-113 245.5,-107 245.5,-107 245.5,-95 245.5,-95 245.5,-89 251.5,-83 257.5,-83 257.5,-83 391.5,-83 391.5,-83 397.5,-83 403.5,-89 403.5,-95 403.5,-95 403.5,-107 403.5,-107 403.5,-113 397.5,-119 391.5,-119\"/>\n<text text-anchor=\"middle\" x=\"324.5\" y=\"-97.3\" font-family=\"Helvetica,sans-Serif\" font-size=\"14.00\">Resource Management</text>\n</g>\n<!-- 202&#45;&gt;47 -->\n<g id=\"edge8\" class=\"edge\">\n<title>202&#45;&gt;47</title>\n<path fill=\"none\" stroke=\"#546e7a\" d=\"M1299.75,-182.86C1186.06,-182.09 855.91,-177.29 583.5,-148 526.68,-141.89 463.53,-130.76 413.81,-120.98\"/>\n<polygon fill=\"#546e7a\" stroke=\"#546e7a\" points=\"414.22,-117.5 403.73,-118.98 412.86,-124.36 414.22,-117.5\"/>\n<text text-anchor=\"middle\" x=\"623\" y=\"-140\" font-family=\"Helvetica,sans-Serif\" font-size=\"10.00\">is_responsible_for</text>\n</g>\n<!-- 65 -->\n<g id=\"node7\" class=\"node\">\n<title>65</title>\n<path fill=\"#e3f2fd\" stroke=\"black\" d=\"M529,-119C529,-119 434,-119 434,-119 428,-119 422,-113 422,-107 422,-107 422,-95 422,-95 422,-89 428,-83 434,-83 434,-83 529,-83 529,-83 535,-83 541,-89 541,-95 541,-95 541,-107 541,-107 541,-113 535,-119 529,-119\"/>\n<text text-anchor=\"middle\" x=\"481.5\" y=\"-97.3\" font-family=\"Helvetica,sans-Serif\" font-size=\"14.00\">Process Isolation</text>\n</g>\n<!-- 202&#45;&gt;65 -->\n<g id=\"edge7\" class=\"edge\">\n<title>202&#45;&gt;65</title>\n<path fill=\"none\" stroke=\"#546e7a\" d=\"M1299.66,-181.39C1206.54,-177.52 971.42,-166.62 775.5,-148 677.84,-138.72 650.69,-137.81 551,-119.18\"/>\n<polygon fill=\"#546e7a\" stroke=\"#546e7a\" points=\"551.59,-115.73 541.12,-117.32 550.3,-122.61 551.59,-115.73\"/>\n<text text-anchor=\"middle\" x=\"815\" y=\"-140\" font-family=\"Helvetica,sans-Serif\" font-size=\"10.00\">is_responsible_for</text>\n</g>\n<!-- 66 -->\n<g id=\"node8\" class=\"node\">\n<title>66</title>\n<path fill=\"#e3f2fd\" stroke=\"black\" d=\"M720,-119C720,-119 571,-119 571,-119 565,-119 559,-113 559,-107 559,-107 559,-95 559,-95 559,-89 565,-83 571,-83 571,-83 720,-83 720,-83 726,-83 732,-89 732,-95 732,-95 732,-107 732,-107 732,-113 726,-119 720,-119\"/>\n<text text-anchor=\"middle\" x=\"645.5\" y=\"-97.3\" font-family=\"Helvetica,sans-Serif\" font-size=\"14.00\">Virtual Machine Execution</text>\n</g>\n<!-- 202&#45;&gt;66 -->\n<g id=\"edge9\" class=\"edge\">\n<title>202&#45;&gt;66</title>\n<path fill=\"none\" stroke=\"#546e7a\" d=\"M1299.93,-180.19C1227.72,-175.03 1072.22,-163.15 941.5,-148 854.99,-137.97 831.25,-133.7 742.2,-119.26\"/>\n<polygon fill=\"#546e7a\" stroke=\"#546e7a\" points=\"742.63,-115.78 732.2,-117.64 741.51,-122.69 742.63,-115.78\"/>\n<text text-anchor=\"middle\" x=\"981\" y=\"-140\" font-family=\"Helvetica,sans-Serif\" font-size=\"10.00\">is_responsible_for</text>\n</g>\n<!-- 67 -->\n<g id=\"node9\" class=\"node\">\n<title>67</title>\n<path fill=\"#e3f2fd\" stroke=\"black\" d=\"M907,-119C907,-119 762,-119 762,-119 756,-119 750,-113 750,-107 750,-107 750,-95 750,-95 750,-89 756,-83 762,-83 762,-83 907,-83 907,-83 913,-83 919,-89 919,-95 919,-95 919,-107 919,-107 919,-113 913,-119 907,-119\"/>\n<text text-anchor=\"middle\" x=\"834.5\" y=\"-97.3\" font-family=\"Helvetica,sans-Serif\" font-size=\"14.00\">Hardware Access Control</text>\n</g>\n<!-- 202&#45;&gt;67 -->\n<g id=\"edge10\" class=\"edge\">\n<title>202&#45;&gt;67</title>\n<path fill=\"none\" stroke=\"#546e7a\" d=\"M1299.67,-177.89C1249.59,-171.49 1162.16,-159.92 1087.5,-148 1019.2,-137.09 1000.21,-132.35 929.05,-119.29\"/>\n<polygon fill=\"#546e7a\" stroke=\"#546e7a\" points=\"929.61,-115.83 919.15,-117.48 928.35,-122.72 929.61,-115.83\"/>\n<text text-anchor=\"middle\" x=\"1127\" y=\"-140\" font-family=\"Helvetica,sans-Serif\" font-size=\"10.00\">is_responsible_for</text>\n</g>\n<!-- 70 -->\n<g id=\"node10\" class=\"node\">\n<title>70</title>\n<path fill=\"#e3f2fd\" stroke=\"black\" d=\"M1158,-119C1158,-119 949,-119 949,-119 943,-119 937,-113 937,-107 937,-107 937,-95 937,-95 937,-89 943,-83 949,-83 949,-83 1158,-83 1158,-83 1164,-83 1170,-89 1170,-95 1170,-95 1170,-107 1170,-107 1170,-113 1164,-119 1158,-119\"/>\n<text text-anchor=\"middle\" x=\"1053.5\" y=\"-97.3\" font-family=\"Helvetica,sans-Serif\" font-size=\"14.00\">VM Process Isolation (Kernel&#45;Level)</text>\n</g>\n<!-- 202&#45;&gt;70 -->\n<g id=\"edge4\" class=\"edge\">\n<title>202&#45;&gt;70</title>\n<path fill=\"none\" stroke=\"#546e7a\" d=\"M1299.98,-172.58C1273.82,-165.78 1239.09,-156.59 1208.5,-148 1179.14,-139.75 1146.78,-130.22 1119.25,-121.98\"/>\n<polygon fill=\"#546e7a\" stroke=\"#546e7a\" points=\"1119.93,-118.53 1109.35,-119 1117.92,-125.23 1119.93,-118.53\"/>\n<text text-anchor=\"middle\" x=\"1234.5\" y=\"-140\" font-family=\"Helvetica,sans-Serif\" font-size=\"10.00\">has_feature</text>\n</g>\n<!-- 72 -->\n<g id=\"node11\" class=\"node\">\n<title>72</title>\n<path fill=\"#e3f2fd\" stroke=\"black\" d=\"M1443,-119C1443,-119 1200,-119 1200,-119 1194,-119 1188,-113 1188,-107 1188,-107 1188,-95 1188,-95 1188,-89 1194,-83 1200,-83 1200,-83 1443,-83 1443,-83 1449,-83 1455,-89 1455,-95 1455,-95 1455,-107 1455,-107 1455,-113 1449,-119 1443,-119\"/>\n<text text-anchor=\"middle\" x=\"1321.5\" y=\"-97.3\" font-family=\"Helvetica,sans-Serif\" font-size=\"14.00\">Direct Execution of Commands from VMs</text>\n</g>\n<!-- 202&#45;&gt;72 -->\n<g id=\"edge6\" class=\"edge\">\n<title>202&#45;&gt;72</title>\n<path fill=\"none\" stroke=\"#546e7a\" d=\"M1299.63,-173.07C1286.8,-167.81 1274.03,-159.89 1266.5,-148 1261.16,-139.56 1264.57,-131.89 1271.77,-125.34\"/>\n<polygon fill=\"#546e7a\" stroke=\"#546e7a\" points=\"1274.12,-127.95 1280.05,-119.17 1269.94,-122.34 1274.12,-127.95\"/>\n<text text-anchor=\"middle\" x=\"1292.5\" y=\"-140\" font-family=\"Helvetica,sans-Serif\" font-size=\"10.00\">has_feature</text>\n</g>\n<!-- 87 -->\n<g id=\"node13\" class=\"node\">\n<title>87</title>\n<path fill=\"#e3f2fd\" stroke=\"black\" d=\"M1705.5,-119C1705.5,-119 1571.5,-119 1571.5,-119 1565.5,-119 1559.5,-113 1559.5,-107 1559.5,-107 1559.5,-95 1559.5,-95 1559.5,-89 1565.5,-83 1571.5,-83 1571.5,-83 1705.5,-83 1705.5,-83 1711.5,-83 1717.5,-89 1717.5,-95 1717.5,-95 1717.5,-107 1717.5,-107 1717.5,-113 1711.5,-119 1705.5,-119\"/>\n<text text-anchor=\"middle\" x=\"1638.5\" y=\"-97.3\" font-family=\"Helvetica,sans-Serif\" font-size=\"14.00\">Virtual Machines (VMs)</text>\n</g>\n<!-- 202&#45;&gt;87 -->\n<g id=\"edge1\" class=\"edge\">\n<title>202&#45;&gt;87</title>\n<path fill=\"none\" stroke=\"#546e7a\" d=\"M1367.56,-165.95C1386.3,-154.43 1409.74,-140.68 1420.5,-137 1472.78,-119.11 1491.03,-127.52 1549.27,-119.07\"/>\n<polygon fill=\"#546e7a\" stroke=\"#546e7a\" points=\"1550.04,-122.49 1559.38,-117.49 1548.96,-115.57 1550.04,-122.49\"/>\n<text text-anchor=\"middle\" x=\"1437.5\" y=\"-140\" font-family=\"Helvetica,sans-Serif\" font-size=\"10.00\">enables</text>\n</g>\n<!-- 198 -->\n<g id=\"node15\" class=\"node\">\n<title>198</title>\n<path fill=\"#e3f2fd\" stroke=\"black\" d=\"M1529.5,-119C1529.5,-119 1485.5,-119 1485.5,-119 1479.5,-119 1473.5,-113 1473.5,-107 1473.5,-107 1473.5,-95 1473.5,-95 1473.5,-89 1479.5,-83 1485.5,-83 1485.5,-83 1529.5,-83 1529.5,-83 1535.5,-83 1541.5,-89 1541.5,-95 1541.5,-95 1541.5,-107 1541.5,-107 1541.5,-113 1535.5,-119 1529.5,-119\"/>\n<text text-anchor=\"middle\" x=\"1507.5\" y=\"-97.3\" font-family=\"Helvetica,sans-Serif\" font-size=\"14.00\">software</text>\n</g>\n<!-- 202&#45;&gt;198 -->\n<g id=\"edge2\" class=\"edge\">\n<title>202&#45;&gt;198</title>\n<path fill=\"none\" stroke=\"#546e7a\" d=\"M1335.93,-165.75C1334.48,-156.17 1334.73,-144.67 1341.5,-137 1359.63,-116.45 1437,-125.98 1463.5,-119 1463.6,-118.97 1463.7,-118.95 1463.8,-118.92\"/>\n<polygon fill=\"#546e7a\" stroke=\"#546e7a\" points=\"1464.59,-122.34 1473.15,-116.1 1462.57,-115.64 1464.59,-122.34\"/>\n<text text-anchor=\"middle\" x=\"1369.5\" y=\"-140\" font-family=\"Helvetica,sans-Serif\" font-size=\"10.00\">is_a_type_of</text>\n</g>\n<!-- 205 -->\n<g id=\"node18\" class=\"node\">\n<title>205</title>\n<path fill=\"#e3f2fd\" stroke=\"black\" d=\"M1935.5,-119C1935.5,-119 1905.5,-119 1905.5,-119 1899.5,-119 1893.5,-113 1893.5,-107 1893.5,-107 1893.5,-95 1893.5,-95 1893.5,-89 1899.5,-83 1905.5,-83 1905.5,-83 1935.5,-83 1935.5,-83 1941.5,-83 1947.5,-89 1947.5,-95 1947.5,-95 1947.5,-107 1947.5,-107 1947.5,-113 1941.5,-119 1935.5,-119\"/>\n<text text-anchor=\"middle\" x=\"1920.5\" y=\"-97.3\" font-family=\"Helvetica,sans-Serif\" font-size=\"14.00\">KVM</text>\n</g>\n<!-- 202&#45;&gt;205 -->\n<g id=\"edge3\" class=\"edge\">\n<title>202&#45;&gt;205</title>\n<path fill=\"none\" stroke=\"#546e7a\" d=\"M1381.28,-182.67C1485.49,-181.43 1759.39,-175.55 1845.5,-148 1861.34,-142.93 1877.27,-133.85 1890.35,-125.09\"/>\n<polygon fill=\"#546e7a\" stroke=\"#546e7a\" points=\"1892.71,-127.72 1898.92,-119.13 1888.71,-121.97 1892.71,-127.72\"/>\n<text text-anchor=\"middle\" x=\"1889\" y=\"-140\" font-family=\"Helvetica,sans-Serif\" font-size=\"10.00\">example</text>\n</g>\n<!-- 200 -->\n<g id=\"node2\" class=\"node\">\n<title>200</title>\n<path fill=\"#e3f2fd\" stroke=\"black\" d=\"M2187.5,-119C2187.5,-119 2123.5,-119 2123.5,-119 2117.5,-119 2111.5,-113 2111.5,-107 2111.5,-107 2111.5,-95 2111.5,-95 2111.5,-89 2117.5,-83 2123.5,-83 2123.5,-83 2187.5,-83 2187.5,-83 2193.5,-83 2199.5,-89 2199.5,-95 2199.5,-95 2199.5,-107 2199.5,-107 2199.5,-113 2193.5,-119 2187.5,-119\"/>\n<text text-anchor=\"middle\" x=\"2155.5\" y=\"-97.3\" font-family=\"Helvetica,sans-Serif\" font-size=\"14.00\">Hypervisors</text>\n</g>\n<!-- 111 -->\n<g id=\"node6\" class=\"node\">\n<title>111</title>\n<path fill=\"#e3f2fd\" stroke=\"black\" d=\"M2004,-36C2004,-36 1915,-36 1915,-36 1909,-36 1903,-30 1903,-24 1903,-24 1903,-12 1903,-12 1903,-6 1909,0 1915,0 1915,0 2004,0 2004,0 2010,0 2016,-6 2016,-12 2016,-12 2016,-24 2016,-24 2016,-30 2010,-36 2004,-36\"/>\n<text text-anchor=\"middle\" x=\"1959.5\" y=\"-14.3\" font-family=\"Helvetica,sans-Serif\" font-size=\"14.00\">Logical isolation</text>\n</g>\n<!-- 200&#45;&gt;111 -->\n<g id=\"edge17\" class=\"edge\">\n<title>200&#45;&gt;111</title>\n<path fill=\"none\" stroke=\"#546e7a\" d=\"M2111.37,-87.76C2091.28,-81.7 2067.38,-73.79 2046.5,-65 2030.07,-58.08 2012.58,-49.16 1997.62,-41.02\"/>\n<polygon fill=\"#546e7a\" stroke=\"#546e7a\" points=\"1999.12,-37.85 1988.67,-36.08 1995.73,-43.97 1999.12,-37.85\"/>\n<text text-anchor=\"middle\" x=\"2066.5\" y=\"-57\" font-family=\"Helvetica,sans-Serif\" font-size=\"10.00\">manages</text>\n</g>\n<!-- 201 -->\n<g id=\"node16\" class=\"node\">\n<title>201</title>\n<path fill=\"#e3f2fd\" stroke=\"black\" d=\"M2139,-36C2139,-36 2046,-36 2046,-36 2040,-36 2034,-30 2034,-24 2034,-24 2034,-12 2034,-12 2034,-6 2040,0 2046,0 2046,0 2139,0 2139,0 2145,0 2151,-6 2151,-12 2151,-12 2151,-24 2151,-24 2151,-30 2145,-36 2139,-36\"/>\n<text text-anchor=\"middle\" x=\"2092.5\" y=\"-14.3\" font-family=\"Helvetica,sans-Serif\" font-size=\"14.00\">Virtual machines</text>\n</g>\n<!-- 200&#45;&gt;201 -->\n<g id=\"edge16\" class=\"edge\">\n<title>200&#45;&gt;201</title>\n<path fill=\"none\" stroke=\"#546e7a\" d=\"M2111.6,-82.97C2104.4,-78.23 2097.88,-72.32 2093.5,-65 2090.24,-59.56 2088.91,-53.06 2088.62,-46.69\"/>\n<polygon fill=\"#546e7a\" stroke=\"#546e7a\" points=\"2092.13,-46.41 2088.97,-36.3 2085.14,-46.18 2092.13,-46.41\"/>\n<text text-anchor=\"middle\" x=\"2113.5\" y=\"-57\" font-family=\"Helvetica,sans-Serif\" font-size=\"10.00\">manages</text>\n</g>\n<!-- 200&#45;&gt;201 -->\n<g id=\"edge18\" class=\"edge\">\n<title>200&#45;&gt;201</title>\n<path fill=\"none\" stroke=\"#546e7a\" d=\"M2149.32,-82.86C2145.56,-73.77 2140.19,-62.7 2133.5,-54 2130.59,-50.21 2127.21,-46.54 2123.66,-43.09\"/>\n<polygon fill=\"#546e7a\" stroke=\"#546e7a\" points=\"2126,-40.49 2116.24,-36.36 2121.29,-45.67 2126,-40.49\"/>\n<text text-anchor=\"middle\" x=\"2157\" y=\"-57\" font-family=\"Helvetica,sans-Serif\" font-size=\"10.00\">creates</text>\n</g>\n<!-- 203 -->\n<g id=\"node17\" class=\"node\">\n<title>203</title>\n<path fill=\"#e3f2fd\" stroke=\"black\" d=\"M2282,-36C2282,-36 2181,-36 2181,-36 2175,-36 2169,-30 2169,-24 2169,-24 2169,-12 2169,-12 2169,-6 2175,0 2181,0 2181,0 2282,0 2282,0 2288,0 2294,-6 2294,-12 2294,-12 2294,-24 2294,-24 2294,-30 2288,-36 2282,-36\"/>\n<text text-anchor=\"middle\" x=\"2231.5\" y=\"-14.3\" font-family=\"Helvetica,sans-Serif\" font-size=\"14.00\">Type 1 Hypervisor</text>\n</g>\n<!-- 200&#45;&gt;203 -->\n<g id=\"edge19\" class=\"edge\">\n<title>200&#45;&gt;203</title>\n<path fill=\"none\" stroke=\"#546e7a\" d=\"M2171.62,-82.82C2182.3,-71.44 2196.48,-56.33 2208.36,-43.66\"/>\n<polygon fill=\"#546e7a\" stroke=\"#546e7a\" points=\"2211.12,-45.84 2215.41,-36.15 2206.01,-41.05 2211.12,-45.84\"/>\n<text text-anchor=\"middle\" x=\"2218.5\" y=\"-57\" font-family=\"Helvetica,sans-Serif\" font-size=\"10.00\">has_type</text>\n</g>\n<!-- 207 -->\n<g id=\"node19\" class=\"node\">\n<title>207</title>\n<path fill=\"#e3f2fd\" stroke=\"black\" d=\"M2425,-36C2425,-36 2324,-36 2324,-36 2318,-36 2312,-30 2312,-24 2312,-24 2312,-12 2312,-12 2312,-6 2318,0 2324,0 2324,0 2425,0 2425,0 2431,0 2437,-6 2437,-12 2437,-12 2437,-24 2437,-24 2437,-30 2431,-36 2425,-36\"/>\n<text text-anchor=\"middle\" x=\"2374.5\" y=\"-14.3\" font-family=\"Helvetica,sans-Serif\" font-size=\"14.00\">Type 2 Hypervisor</text>\n</g>\n<!-- 200&#45;&gt;207 -->\n<g id=\"edge20\" class=\"edge\">\n<title>200&#45;&gt;207</title>\n<path fill=\"none\" stroke=\"#546e7a\" d=\"M2199.55,-83.71C2233.84,-71.03 2281.64,-53.35 2318.61,-39.67\"/>\n<polygon fill=\"#546e7a\" stroke=\"#546e7a\" points=\"2320.08,-42.86 2328.25,-36.11 2317.66,-36.29 2320.08,-42.86\"/>\n<text text-anchor=\"middle\" x=\"2298.5\" y=\"-57\" font-family=\"Helvetica,sans-Serif\" font-size=\"10.00\">has_type</text>\n</g>\n<!-- 20 -->\n<g id=\"node4\" class=\"node\">\n<title>20</title>\n<path fill=\"#e3f2fd\" stroke=\"black\" d=\"M2027.5,-202C2027.5,-202 1957.5,-202 1957.5,-202 1951.5,-202 1945.5,-196 1945.5,-190 1945.5,-190 1945.5,-178 1945.5,-178 1945.5,-172 1951.5,-166 1957.5,-166 1957.5,-166 2027.5,-166 2027.5,-166 2033.5,-166 2039.5,-172 2039.5,-178 2039.5,-178 2039.5,-190 2039.5,-190 2039.5,-196 2033.5,-202 2027.5,-202\"/>\n<text text-anchor=\"middle\" x=\"1992.5\" y=\"-180.3\" font-family=\"Helvetica,sans-Serif\" font-size=\"14.00\">Virtualization</text>\n</g>\n<!-- 20&#45;&gt;200 -->\n<g id=\"edge22\" class=\"edge\">\n<title>20&#45;&gt;200</title>\n<path fill=\"none\" stroke=\"#546e7a\" d=\"M2021.72,-165.93C2037.47,-156.95 2057.34,-145.98 2075.5,-137 2084.97,-132.31 2095.22,-127.59 2105.12,-123.18\"/>\n<polygon fill=\"#546e7a\" stroke=\"#546e7a\" points=\"2106.72,-126.3 2114.46,-119.08 2103.9,-119.9 2106.72,-126.3\"/>\n<text text-anchor=\"middle\" x=\"2099\" y=\"-140\" font-family=\"Helvetica,sans-Serif\" font-size=\"10.00\">utilized_by</text>\n</g>\n<!-- 81 -->\n<g id=\"node12\" class=\"node\">\n<title>81</title>\n<path fill=\"#e3f2fd\" stroke=\"black\" d=\"M2157.5,-202C2157.5,-202 2069.5,-202 2069.5,-202 2063.5,-202 2057.5,-196 2057.5,-190 2057.5,-190 2057.5,-178 2057.5,-178 2057.5,-172 2063.5,-166 2069.5,-166 2069.5,-166 2157.5,-166 2157.5,-166 2163.5,-166 2169.5,-172 2169.5,-178 2169.5,-178 2169.5,-190 2169.5,-190 2169.5,-196 2163.5,-202 2157.5,-202\"/>\n<text text-anchor=\"middle\" x=\"2113.5\" y=\"-180.3\" font-family=\"Helvetica,sans-Serif\" font-size=\"14.00\">SWOT Analysis</text>\n</g>\n<!-- 81&#45;&gt;200 -->\n<g id=\"edge24\" class=\"edge\">\n<title>81&#45;&gt;200</title>\n<path fill=\"none\" stroke=\"#546e7a\" d=\"M2119.11,-165.98C2122.29,-157.13 2126.6,-146.25 2131.5,-137 2133.14,-133.91 2134.99,-130.77 2136.92,-127.69\"/>\n<polygon fill=\"#546e7a\" stroke=\"#546e7a\" points=\"2139.87,-129.58 2142.48,-119.31 2134.03,-125.71 2139.87,-129.58\"/>\n<text text-anchor=\"middle\" x=\"2153\" y=\"-140\" font-family=\"Helvetica,sans-Serif\" font-size=\"10.00\">assesses</text>\n</g>\n<!-- 87&#45;&gt;202 -->\n<g id=\"edge12\" class=\"edge\">\n<title>87&#45;&gt;202</title>\n<path fill=\"none\" stroke=\"#546e7a\" d=\"M1559.08,-117.48C1526.54,-124.2 1492.92,-131.72 1477.5,-137 1466.78,-140.67 1465.06,-143.88 1454.5,-148 1434.04,-155.98 1410.96,-163.36 1390.95,-169.26\"/>\n<polygon fill=\"#546e7a\" stroke=\"#546e7a\" points=\"1389.72,-165.97 1381.1,-172.12 1391.67,-172.7 1389.72,-165.97\"/>\n<text text-anchor=\"middle\" x=\"1495\" y=\"-140\" font-family=\"Helvetica,sans-Serif\" font-size=\"10.00\">runs_on</text>\n</g>\n<!-- 87&#45;&gt;202 -->\n<g id=\"edge13\" class=\"edge\">\n<title>87&#45;&gt;202</title>\n<path fill=\"none\" stroke=\"#546e7a\" d=\"M1584.33,-119.07C1568.45,-124.43 1551.15,-130.62 1535.5,-137 1525.01,-141.27 1523.24,-144.4 1512.5,-148 1472.66,-161.35 1425.84,-170.48 1391.11,-176.05\"/>\n<polygon fill=\"#546e7a\" stroke=\"#546e7a\" points=\"1390.54,-172.6 1381.2,-177.6 1391.62,-179.51 1390.54,-172.6\"/>\n<text text-anchor=\"middle\" x=\"1576\" y=\"-140\" font-family=\"Helvetica,sans-Serif\" font-size=\"10.00\">created_on_top_of</text>\n</g>\n<!-- 87&#45;&gt;202 -->\n<g id=\"edge14\" class=\"edge\">\n<title>87&#45;&gt;202</title>\n<path fill=\"none\" stroke=\"#546e7a\" d=\"M1634.68,-119.11C1631.53,-129.14 1625.97,-141.16 1616.5,-148 1581.54,-173.25 1461.04,-180.3 1391.36,-182.26\"/>\n<polygon fill=\"#546e7a\" stroke=\"#546e7a\" points=\"1390.96,-178.77 1381.05,-182.52 1391.14,-185.77 1390.96,-178.77\"/>\n<text text-anchor=\"middle\" x=\"1670.5\" y=\"-140\" font-family=\"Helvetica,sans-Serif\" font-size=\"10.00\">managed_on_top_of</text>\n</g>\n<!-- 87&#45;&gt;202 -->\n<g id=\"edge15\" class=\"edge\">\n<title>87&#45;&gt;202</title>\n<path fill=\"none\" stroke=\"#546e7a\" d=\"M1702.96,-119.02C1719.25,-126.36 1729.4,-136.04 1718.5,-148 1696.89,-171.7 1489.59,-179.59 1391.49,-182.02\"/>\n<polygon fill=\"#546e7a\" stroke=\"#546e7a\" points=\"1391.13,-178.52 1381.21,-182.26 1391.29,-185.52 1391.13,-178.52\"/>\n<text text-anchor=\"middle\" x=\"1782.5\" y=\"-140\" font-family=\"Helvetica,sans-Serif\" font-size=\"10.00\">commands_routed_through</text>\n</g>\n<!-- 195 -->\n<g id=\"node14\" class=\"node\">\n<title>195</title>\n<path fill=\"#e3f2fd\" stroke=\"black\" d=\"M2229.5,-202C2229.5,-202 2199.5,-202 2199.5,-202 2193.5,-202 2187.5,-196 2187.5,-190 2187.5,-190 2187.5,-178 2187.5,-178 2187.5,-172 2193.5,-166 2199.5,-166 2199.5,-166 2229.5,-166 2229.5,-166 2235.5,-166 2241.5,-172 2241.5,-178 2241.5,-178 2241.5,-190 2241.5,-190 2241.5,-196 2235.5,-202 2229.5,-202\"/>\n<text text-anchor=\"middle\" x=\"2214.5\" y=\"-180.3\" font-family=\"Helvetica,sans-Serif\" font-size=\"14.00\">OS</text>\n</g>\n<!-- 195&#45;&gt;200 -->\n<g id=\"edge23\" class=\"edge\">\n<title>195&#45;&gt;200</title>\n<path fill=\"none\" stroke=\"#546e7a\" d=\"M2201.99,-165.82C2193.85,-154.65 2183.1,-139.9 2173.99,-127.38\"/>\n<polygon fill=\"#546e7a\" stroke=\"#546e7a\" points=\"2176.71,-125.18 2167.99,-119.15 2171.05,-129.3 2176.71,-125.18\"/>\n<text text-anchor=\"middle\" x=\"2233.5\" y=\"-140\" font-family=\"Helvetica,sans-Serif\" font-size=\"10.00\">communicates_with</text>\n</g>\n<!-- 205&#45;&gt;202 -->\n<g id=\"edge11\" class=\"edge\">\n<title>205&#45;&gt;202</title>\n<path fill=\"none\" stroke=\"#546e7a\" d=\"M1921.89,-119.4C1921.65,-129.28 1919.46,-141.03 1911.5,-148 1872.9,-181.81 1524.54,-183.84 1391.67,-183.37\"/>\n<polygon fill=\"#546e7a\" stroke=\"#546e7a\" points=\"1391.37,-179.87 1381.36,-183.33 1391.34,-186.87 1391.37,-179.87\"/>\n<text text-anchor=\"middle\" x=\"1928\" y=\"-140\" font-family=\"Helvetica,sans-Serif\" font-size=\"10.00\">is_a</text>\n</g>\n<!-- 240 -->\n<g id=\"node20\" class=\"node\">\n<title>240</title>\n<path fill=\"#e3f2fd\" stroke=\"black\" d=\"M2322.5,-202C2322.5,-202 2292.5,-202 2292.5,-202 2286.5,-202 2280.5,-196 2280.5,-190 2280.5,-190 2280.5,-178 2280.5,-178 2280.5,-172 2286.5,-166 2292.5,-166 2292.5,-166 2322.5,-166 2322.5,-166 2328.5,-166 2334.5,-172 2334.5,-178 2334.5,-178 2334.5,-190 2334.5,-190 2334.5,-196 2328.5,-202 2322.5,-202\"/>\n<text text-anchor=\"middle\" x=\"2307.5\" y=\"-180.3\" font-family=\"Helvetica,sans-Serif\" font-size=\"14.00\">AWS</text>\n</g>\n<!-- 240&#45;&gt;200 -->\n<g id=\"edge21\" class=\"edge\">\n<title>240&#45;&gt;200</title>\n<path fill=\"none\" stroke=\"#546e7a\" d=\"M2301.63,-165.88C2297.45,-156.09 2290.89,-144.35 2281.5,-137 2261,-120.97 2233.6,-112.28 2209.58,-107.57\"/>\n<polygon fill=\"#546e7a\" stroke=\"#546e7a\" points=\"2209.99,-104.08 2199.53,-105.78 2208.76,-110.98 2209.99,-104.08\"/>\n<text text-anchor=\"middle\" x=\"2302.5\" y=\"-140\" font-family=\"Helvetica,sans-Serif\" font-size=\"10.00\">uses</text>\n</g>\n</g>\n</svg>\n",
            "text/plain": [
              "<graphviz.graphs.Digraph at 0x7972f20b2010>"
            ]
          },
          "metadata": {}
        }
      ]
    },
    {
      "cell_type": "markdown",
      "source": [
        "## Vanilla RAG Pipeline (Baseline)\n",
        "For comparison, this is our baseline Vanilla RAG. It performs the same initial vector search but does no graph traversal."
      ],
      "metadata": {
        "id": "E8C68tcselNY"
      }
    },
    {
      "cell_type": "code",
      "source": [
        "def vanilla_rag(query_text: str, k: int, client, gemini_client) -> str:\n",
        "    \"\"\"\n",
        "    Performs a simple vanilla RAG retrieval.\n",
        "\n",
        "    It finds the top-k semantically similar entities (acting as documents)\n",
        "    based on the query and formats their properties into a single context string.\n",
        "    This function does NOT perform any graph traversal.\n",
        "    \"\"\"\n",
        "    # Retrieve the top K most relevant entities based on semantic similarity.\n",
        "    top_entities = find_semantic_entry_points(query_text, k, client, gemini_client)\n",
        "\n",
        "    # ormat the retrieved entities into a single context string.\n",
        "    context_strings = []\n",
        "    for entity in top_entities:\n",
        "        context_strings.append(_format_entity_properties(entity))\n",
        "\n",
        "    return \"\\n\\n\".join(context_strings)\n"
      ],
      "metadata": {
        "id": "Q_PEmhp0Dia6"
      },
      "execution_count": 31,
      "outputs": []
    },
    {
      "cell_type": "markdown",
      "source": [
        "We run the Vanilla RAG pipeline, retrieving 20 documents to match the context size of our Graph RAG test."
      ],
      "metadata": {
        "id": "dnSgpD9GeraM"
      }
    },
    {
      "cell_type": "code",
      "source": [
        "query = \"What does a hypervisor do?\"\n",
        "k_documents = 20 # The number of top documents (entities) to retrieve. Here k is equivalent to the max_entities parameter in graph RAG above\n",
        "\n",
        "vanilla_rag_context = vanilla_rag(\n",
        "    query_text=query,\n",
        "    k=k_documents,\n",
        "    client=client,\n",
        "    gemini_client=gemini_client\n",
        ")\n",
        "\n",
        "print(\"--- Generated Vanilla RAG Context ---\")\n",
        "print(vanilla_rag_context)"
      ],
      "metadata": {
        "colab": {
          "base_uri": "https://localhost:8080/",
          "height": 0
        },
        "id": "MPr0-q8yYDNc",
        "outputId": "8f15cc29-ac1d-46dd-e2ad-cda3c145ea72"
      },
      "execution_count": 32,
      "outputs": [
        {
          "output_type": "stream",
          "name": "stdout",
          "text": [
            "--- Generated Vanilla RAG Context ---\n",
            "Entity: 'Hypervisor' (Class: 'Software', ID: 202)\n",
            "  - access_control: Hypervisors emulate hardware devices, allowing VMs to interact with peripherals.\n",
            "  - command_execution_method: Privileged Instructions from guest VMs (e.g., hardware access) must go through\n",
            "  - definition: a software layer that allows multiple virtual machines (VMs) to run on a single physical machine by abstracting hardware resources.\n",
            "  - device_mediation: Hypervisors emulate hardware devices, allowing VMs to interact with peripherals.\n",
            "  - hardware_access_control: Ensures that instructions requiring hardware access execute under the hypervisor’s control.\n",
            "  - process_isolation: Ensures that VM processes do not interfere with each other’s memory space (prevents buffer overflow).\n",
            "  - resource_allocation: Allocates CPU, memory, and storage to VMs efficiently.\n",
            "  - role: software layer\n",
            "  - vm_execution_management: All VMs are created and managed on top of a hypervisor.\n",
            "\n",
            "Entity: 'Hypervisors' (Class: 'Software', ID: 200)\n",
            "  - function: manage VM isolation\n",
            "  - vm_execution_management: manage VM isolation\n",
            "\n",
            "Entity: 'Device Mediation & Access Control' (Class: 'Concept', ID: 71)\n",
            "  - characteristics: Hypervisors emulate hardware devices, allowing VMs to interact with peripherals.\n",
            "  - definition: Hypervisors emulate hardware devices, allowing VMs to interact with peripherals.\n",
            "\n",
            "Entity: 'Virtual Machine Execution' (Class: 'Concept', ID: 66)\n",
            "  - characteristics: All VMs are created and managed on top of a hypervisor.\n",
            "\n",
            "Entity: 'Compute Node' (Class: 'Hardware', ID: 283)\n",
            "  - function: Runs virtual machines (VMs) using a hypervisor (e.g., KVM) and manages VM execution and resource allocation.\n",
            "  - type: Node\n",
            "\n",
            "Entity: 'KVM' (Class: 'Software', ID: 205)\n",
            "  - architecture_approach: runs alongside the Linux OS\n",
            "  - default_hypervisor: default\n",
            "  - hardware_access_control: Allows direct access to hardware.\n",
            "  - open_source_status: Open-source Linux hypervisor\n",
            "  - type: Hypervisor\n",
            "\n",
            "Entity: 'KVM Hypervisor' (Class: 'Software', ID: 236)\n",
            "  - default_hypervisor: Default hypervisor used in OpenStack.\n",
            "  - type: Hypervisor\n",
            "\n",
            "Entity: 'Type 2 Hypervisor' (Class: 'Software', ID: 207)\n",
            "  - command_execution_method: depend on the base OS for execution\n",
            "  - definition: Runs on top of an existing OS, which manages hardware access.\n",
            "  - deployment_method: Runs on top of an existing OS.\n",
            "  - efficiency_characteristic: Less efficient\n",
            "  - installation_requirements: Hosted\n",
            "  - scaling_capability: Less scalable\n",
            "  - security_consideration: introduce additional risk due to dependency on the host OS\n",
            "  - type: Hypervisor Type\n",
            "\n",
            "Entity: 'Type 1 Hypervisor' (Class: 'Software', ID: 203)\n",
            "  - command_execution_method: execute commands directly\n",
            "  - definition: Runs directly on the physical hardware without an underlying OS.\n",
            "  - deployment_method: Runs directly on hardware.\n",
            "  - efficiency_characteristic: More efficient\n",
            "  - efficiency_mechanism: efficient\n",
            "  - installation_requirements: Bare Metal\n",
            "  - scalability_characteristic: scalable\n",
            "  - scaling_capability: Highly scalable\n",
            "  - security_consideration: more secure since they run directly on hardware\n",
            "  - type: Hypervisor Type\n",
            "\n",
            "Entity: 'I/O Virtualization' (Class: 'Concept', ID: 52)\n",
            "  - definition: Virtualizes input/output devices like storage, network interfaces, and disk controllers.\n",
            "\n",
            "Entity: 'System-Level Virtualization' (Class: 'Concept', ID: 59)\n",
            "  - characteristics: Allows multiple operating systems to run on a single hardware system.\n",
            "\n",
            "Entity: 'Direct Execution of Commands from VMs' (Class: 'Concept', ID: 72)\n",
            "  - characteristics: Privileged Instructions from guest VMs (e.g., hardware access) must go through\n",
            "  - key_aspects: Privileged Instructions from guest VMs (e.g., hardware access) must go through the hypervisor.\n",
            "\n",
            "Entity: 'Hardware Access Control' (Class: 'Concept', ID: 67)\n",
            "  - definition: Ensures that instructions requiring hardware access execute under the hypervisor’s control.\n",
            "\n",
            "Entity: 'Virtualization' (Class: 'Concept', ID: 20)\n",
            "  - benefits: Resource Management, Ease of Migration, Flexibility, Cost Savings\n",
            "  - characteristics: common characteristic that helps achieve essential cloud features.\n",
            "  - definition: allows creation of virtual objects from physical resources\n",
            "  - infrastructure_foundation: Most cloud computing infrastructures rely on virtualization\n",
            "  - key_aspects: Virtual Memory, Virtual Storage, Virtual Operating Systems\n",
            "  - limitations: Virtualization alone is not cloud computing\n",
            "  - purpose: Efficient utilization of key resources., Provides abstraction by modeling hardware or software environments., Enables the creation of interfaces that simulate physical components., Utilized by hypervisors to create and manage virtual machines.\n",
            "  - role: key enabler\n",
            "  - status: can be implemented natively or without cloud computing.\n",
            "\n",
            "Entity: 'Full Virtualization' (Class: 'Concept', ID: 79)\n",
            "  - comparison_points: Hardware Interface: Same as physical; OS Modification: Not required; Performance: Lower due to emulation\n",
            "  - definition: Hypervisor exposes the same hardware interface to the virtual machine as it does in physical hardware.\n",
            "  - disadvantages: Higher overhead due to full emulation.\n",
            "  - os_modification_requirement: OS inside VM does not need modification.\n",
            "\n",
            "Entity: 'Para-Virtualization' (Class: 'Concept', ID: 80)\n",
            "  - comparison_points: Hardware Interface: Optimized for VM; OS Modification: Required; Performance: Higher due to direct hypervisor interaction\n",
            "  - definition: Hypervisor provides a specialized interface that does not exist in physical hardware.\n",
            "  - os_modification_requirement: Guest OS must be modified to communicate with the hypervisor.\n",
            "  - performance_optimization: Performance optimization due to lower overhead.\n",
            "\n",
            "Entity: 'AWS Nitro Hypervisor' (Class: 'Software', ID: 213)\n",
            "  - architecture_approach: based on Xen\n",
            "\n",
            "Entity: 'Middleware' (Class: 'Software', ID: 192)\n",
            "  - abstraction_level: abstracts hardware, OS, and software details from users.\n",
            "  - function: responsible for resource pooling.\n",
            "  - role: responsible for managing resources in the cloud.\n",
            "  - type: software layer\n",
            "\n",
            "Entity: 'Server/Machine Virtualization' (Class: 'Concept', ID: 46)\n",
            "  - characteristics: Enables multiple VMs to run on a single physical machine. Abstracts hardware resources.\n",
            "  - type: level of virtualization\n",
            "\n",
            "Entity: 'Xen' (Class: 'Software', ID: 206)\n",
            "  - supported_virtualization_models: both para-virtualization and full virtualization\n",
            "  - type: Type 1 Hypervisor\n"
          ]
        }
      ]
    },
    {
      "cell_type": "markdown",
      "source": [
        "The resulting context and the query is similarly passed to the gemini-2.5-flash to generate the response."
      ],
      "metadata": {
        "id": "B7bNL-xWeuLB"
      }
    },
    {
      "cell_type": "code",
      "source": [
        "response = gemini_client.models.generate_content(\n",
        "    model=\"gemini-2.5-flash\",\n",
        "    contents=f\"Use the given context to answer the user's query. \\nQuery: {query}, \\nRetrieved Contex: {vanilla_rag_context}\"\n",
        ")\n",
        "\n",
        "answer = (response.text)\n",
        "\n",
        "print(answer)"
      ],
      "metadata": {
        "colab": {
          "base_uri": "https://localhost:8080/",
          "height": 0
        },
        "id": "ewsaxZmMYYL4",
        "outputId": "977af93f-0f3b-418a-e199-85d16dce95a8"
      },
      "execution_count": 33,
      "outputs": [
        {
          "output_type": "stream",
          "name": "stdout",
          "text": [
            "A hypervisor is a software layer that allows multiple virtual machines (VMs) to run on a single physical machine by abstracting hardware resources.\n",
            "\n",
            "Its key functions include:\n",
            "*   **Resource Allocation:** Allocates CPU, memory, and storage to VMs efficiently.\n",
            "*   **VM Management:** Creates and manages all VMs.\n",
            "*   **Hardware Emulation & Device Mediation:** Emulates hardware devices, allowing VMs to interact with peripherals.\n",
            "*   **Hardware Access Control:** Ensures that instructions requiring hardware access execute under its control.\n",
            "*   **Process Isolation:** Manages VM isolation, preventing VM processes from interfering with each other’s memory space.\n",
            "*   **Command Execution Control:** Privileged instructions from guest VMs (e.g., hardware access) must go through the hypervisor.\n"
          ]
        }
      ]
    },
    {
      "cell_type": "markdown",
      "source": [
        "I asked two separate reasoning LLMs, GPT-o3 and Gemini 2.5 Pro, to evaluate which response is better. I gave the query, response 1 (Graph RAG) and response 2 (Vanilla RAG)."
      ],
      "metadata": {
        "id": "vi6LVfJje5vc"
      }
    },
    {
      "cell_type": "markdown",
      "source": [
        "# GPT o3"
      ],
      "metadata": {
        "id": "UdyTDDrebG_h"
      }
    },
    {
      "cell_type": "markdown",
      "source": [
        "**Response 1** is stronger overall.\n",
        "\n",
        "| Criterion                   | Response 1                                                                                                                                 | Response 2                                                                                 | Why Response 1 Wins                                                                                                                   |\n",
        "| --------------------------- | ------------------------------------------------------------------------------------------------------------------------------------------ | ------------------------------------------------------------------------------------------ | ------------------------------------------------------------------------------------------------------------------------------------- |\n",
        "| **Accuracy**                | Correctly identifies the four primary duties of a hypervisor (VM creation/management, resource allocation, hardware mediation, isolation). | Also accurate, but splits “hardware control” into two bullets that describe the same idea. | Both are factually right, but Response 2’s duplication (“Hardware Access Control” vs. “Command Execution Control”) blurs the message. |\n",
        "| **Coverage vs. Redundancy** | Covers each responsibility once, so the list is complete yet compact.                                                                      | Adds two near-identical bullets, inflating the list to six items without new content.      | Concise lists are easier to scan and remember.                                                                                        |\n",
        "| **Clarity & Flow**          | Orders tasks from “spin up VMs” → “allocate resources” → “mediate hardware” → “isolate VMs,” which matches the lifecycle of a VM.          | Starts with resources, then VM management, then jumps around.                              | Logical sequencing helps readers follow the story.                                                                                    |\n",
        "| **Brevity**                 | Four bullets, each clearly worded.                                                                                                         | Six bullets, a bit repetitive.                                                             | Less text, same insight.                                                                                                              |\n",
        "| **Style / Readability**     | Parallel phrasing and consistent formatting.                                                                                               | Good formatting, but redundancy hurts clarity.                                             | More polished and streamlined.                                                                                                        |\n",
        "\n",
        "If you merged Response 2’s two redundant bullets or re-phrased them under a single “Privileged Instruction Handling” point, the two answers would be nearly identical. As written, though, Response 1 communicates the same information with fewer words and no duplication, so it’s the better pick.\n",
        "\n"
      ],
      "metadata": {
        "id": "Sj2jgjkXJByQ"
      }
    },
    {
      "cell_type": "markdown",
      "source": [
        "# Gemini-2.5-pro"
      ],
      "metadata": {
        "id": "wTG1SCxYbLaw"
      }
    },
    {
      "cell_type": "markdown",
      "source": [
        "Response 1 is better.\n",
        "\n",
        "Here's why:\n",
        "\n",
        "* **Better Organization:** Response 1 groups related concepts more logically. For instance, it combines hardware emulation and privileged instruction control under the single, clear heading \"Hardware Abstraction and Mediation.\" Response 2 splits these into three separate, overlapping points (\"Hardware Emulation,\" \"Hardware Access Control,\" and \"Command Execution Control\"), which is redundant and less clear.\n",
        "* **More Concise:** By avoiding redundancy, Response 1 is more direct and easier to read.\n",
        "* **Clarity:** The structure of Response 1 provides a clearer overview of a hypervisor's primary roles without getting bogged down in repetitive details."
      ],
      "metadata": {
        "id": "QTMymM_XJSHK"
      }
    },
    {
      "cell_type": "markdown",
      "source": [
        "# EVALS"
      ],
      "metadata": {
        "id": "LPPT4hYxyPDg"
      }
    },
    {
      "cell_type": "markdown",
      "source": [
        "Note: These eval queries' golden IDs are specific to this data. Since each time somewhat different entities and connections will be generated due to the non-deterministic nature of LLMs, these queries may not give good NUMERICAL metrics results for you. The LLM-as-a-judge evals, however will work.\n",
        "\n",
        "If you are using your own data source, you get generate your own synthetic eval queries and golden ids by providing the generated entity documents from [part 1](https://colab.research.google.com/drive/1KTAa5n-v_8casxUrxP4PZVqOUbVwYo6I#scrollTo=3SlKRY8KgTL8) to an LLM, ask it to first generate some queries then map relevant k context entities' ids to the queries."
      ],
      "metadata": {
        "id": "DKLNX4yVfkUL"
      }
    },
    {
      "cell_type": "markdown",
      "source": [
        "## Evaluation Part 1: Numerical Metrics\n",
        "\n",
        "We'll first evaluate the two methods using standard retrieval metrics:\n",
        "\n",
        "* **Precision@k:** Measures the fraction of retrieved items that are relevant.\n",
        "\n",
        "$$\n",
        "\\text{Precision@k} = \\frac{\\left| \\text{Retrieved} \\cap \\text{Golden} \\right|}\n",
        "                           {\\left| \\text{Retrieved} \\right|}\n",
        "$$\n",
        "\n",
        "* **Recall@k:** Measures the fraction of relevant items that were successfully retrieved.\n",
        "\n",
        "$$\n",
        "\\text{Recall@k} = \\frac{\\left| \\text{Retrieved} \\cap \\text{Golden} \\right|}\n",
        "                       {\\left| \\text{Golden} \\right|}\n",
        "$$\n",
        "\n",
        "* **Mean Average Precision (MAP):** The mean of Average Precision (AP) scores across all queries.  \n",
        "  AP rewards ranking relevant items higher in the list.\n",
        "\n",
        "$$\n",
        "\\text{AP} = \\frac{\\displaystyle \\sum_{k=1}^{n}\n",
        "                 \\bigl(P(k)\\,\\times\\,\\text{rel}(k)\\bigr)}\n",
        "                 {\\text{Number of relevant documents}}\n",
        "$$\n",
        "\n",
        "where $P(k)$ is the precision at cut-off $k$ and $\\text{rel}(k)$ is 1 if the item at rank $k$ is relevant, 0 otherwise."
      ],
      "metadata": {
        "id": "ZWRJQyWgfSNV"
      }
    },
    {
      "cell_type": "markdown",
      "source": [
        "### Evaluation Set\n",
        "We use a predefined set of 10 queries and a corresponding \"golden set\" of ideal entity IDs for each.\n",
        "\n",
        "Note that we need the returned entities' entity ids from each RAG method to compute our evaluaion metrics."
      ],
      "metadata": {
        "id": "m4NEGwrylJvW"
      }
    },
    {
      "cell_type": "code",
      "source": [
        "eval_queries = [\n",
        "  \"Explain how the core concept of 'Virtualization' enables the on-demand resource provisioning provided by the 'Elastic Compute Cloud (EC2)' service.\",\n",
        "  \"Describe the relationship between a 'Type 2 Hypervisor' and the host 'Operating System' it runs on, and why this dependency is considered a security weakness compared to a 'Type 1 Hypervisor'.\",\n",
        "  \"How do the 'Identity Service' and 'Compute Service' within OpenStack collaborate to manage the lifecycle of a virtual machine requested by a user?\",\n",
        "  \"Trace the connection from the 'IaaS' service model down to the specific components like 'Virtual Machines' and 'Applications' that a 'User' is responsible for managing.\",\n",
        "  \"Explain how the 'para-virtualization' model, used by the 'Xen' hypervisor, requires guest 'OS' modification to achieve higher performance.\",\n",
        "  \"Describe how a 'Virtual Private Cloud (VPC)' and 'Network Policies' work together to provide logical isolation on shared physical hardware.\",\n",
        "  \"Compare 'Clusters' and 'Grids' by detailing their differing approaches to 'homogeneity', 'geographical distribution', and 'middleware' complexity.\",\n",
        "  \"What is the role of a 'Cloud Auditor' in ensuring the 'Security' and 'compliance' of a 'Cloud Service Provider'?\",\n",
        "  \"Starting from the 'On-Demand Self-Service' concept, explain how a user can interact with a 'web interface' to utilize cloud resources without direct operator intervention.\",\n",
        "  \"Describe the link between the 'Microservices Architecture' concept and 'Containers', and explain how this pairing enables the creation of scalable 'Cloud-Native Applications'.\"\n",
        "]"
      ],
      "metadata": {
        "id": "N8UurTTUzmPD"
      },
      "execution_count": 99,
      "outputs": []
    },
    {
      "cell_type": "code",
      "source": [
        "golden_ids = {\n",
        "  \"0\": [20, 287, 13, 16, 202, 197, 87, 46, 303, 15, 293, 149, 104, 47, 66],\n",
        "  \"1\": [207, 195, 203, 83, 40, 202, 225, 85, 208, 204, 269, 59, 29, 77, 84],\n",
        "  \"2\": [345, 343, 178, 73, 197, 260, 282, 346, 131, 104, 342, 283, 136, 350, 261],\n",
        "  \"3\": [293, 260, 33, 197, 199, 195, 32, 74, 87, 34, 292, 267, 35, 36, 311],\n",
        "  \"4\": [80, 206, 195, 96, 79, 202, 213, 225, 78, 203, 173, 205, 26, 82, 84],\n",
        "  \"5\": [359, 360, 111, 269, 112, 371, 372, 368, 110, 175, 51, 370, 379, 380, 164],\n",
        "  \"6\": [143, 144, 19, 31, 192, 138, 151, 149, 147, 153, 152, 358, 5, 27, 28],\n",
        "  \"7\": [300, 40, 245, 29, 38, 252, 256, 117, 118, 169, 41, 33, 301, 298, 299],\n",
        "  \"8\": [13, 260, 24, 262, 14, 342, 146, 149, 194, 212, 261, 73, 303, 289, 264],\n",
        "  \"9\": [89, 86, 88, 44, 16, 214, 193, 28, 132, 218, 217, 306, 42, 149, 93]\n",
        "}"
      ],
      "metadata": {
        "id": "_DjE6XCZzqce"
      },
      "execution_count": 100,
      "outputs": []
    },
    {
      "cell_type": "markdown",
      "source": [
        "A function to retrieve entity ids of entities fetched and traversed using the above-defined graph RAG function."
      ],
      "metadata": {
        "id": "9mm73Oo8fWrz"
      }
    },
    {
      "cell_type": "code",
      "source": [
        "def retrieve_graph_rag_ids(query_text: str, k: int, max_hops: int, max_entities: int, client, gemini_client) -> List[int]:\n",
        "    \"\"\"\n",
        "    Runs the Graph RAG process to retrieve only the entity IDs.\n",
        "\n",
        "    \"\"\"\n",
        "    # We call the modified graph_rag function to get the structured data\n",
        "    _, retrieved_entities_dict, _ = graph_rag(\n",
        "        query_text=query_text,\n",
        "        k=k,\n",
        "        max_hops=max_hops,\n",
        "        max_entities=max_entities,\n",
        "        client=client,\n",
        "        gemini_client=gemini_client\n",
        "    )\n",
        "    # The keys of the entities dictionary are the unique entity IDs collected\n",
        "    retrieved_ids = list(retrieved_entities_dict.keys())\n",
        "    print(\"\\nGraph RAG ids: \", retrieved_ids)\n",
        "    return retrieved_ids"
      ],
      "metadata": {
        "id": "PkGVMFPhZenx"
      },
      "execution_count": 101,
      "outputs": []
    },
    {
      "cell_type": "markdown",
      "source": [
        "A function to retrieve entity ids of entities fetched using the above-defined vanilla RAG function."
      ],
      "metadata": {
        "id": "wHVoc_8Kf1bV"
      }
    },
    {
      "cell_type": "code",
      "source": [
        "def retrieve_vanilla_rag_ids(query_text: str, k: int, client, gemini_client) -> List[int]:\n",
        "    \"\"\"\n",
        "    Runs the core logic of Vanilla RAG to retrieve only the entity IDs.\n",
        "\n",
        "    \"\"\"\n",
        "    # find_semantic_entry_points returns a list of entity dictionaries\n",
        "    retrieved_entities = find_semantic_entry_points(query_text, k, client, gemini_client)\n",
        "    # Extract just the 'id' from each dictionary\n",
        "    retrieved_ids = [entity.get('id') for entity in retrieved_entities if entity.get('id') is not None]\n",
        "    print(\"\\nVanilla RAG ids: \", retrieved_ids)\n",
        "    return retrieved_ids"
      ],
      "metadata": {
        "id": "OlILomaWyXPL"
      },
      "execution_count": 102,
      "outputs": []
    },
    {
      "cell_type": "markdown",
      "source": [
        "Helper functions to calculate vector search metrics."
      ],
      "metadata": {
        "id": "ip-2lnc_f4bi"
      }
    },
    {
      "cell_type": "code",
      "source": [
        "def calculate_precision(retrieved: List[int], golden: List[int]) -> float:\n",
        "    \"\"\"Calculates precision: |retrieved & golden| / |retrieved|\"\"\"\n",
        "    if not retrieved:\n",
        "        return 0.0\n",
        "\n",
        "    retrieved_set = set(retrieved)\n",
        "    golden_set = set(golden)\n",
        "    intersection = retrieved_set.intersection(golden_set)\n",
        "\n",
        "    return len(intersection) / len(retrieved_set)\n",
        "\n",
        "def calculate_recall(retrieved: List[int], golden: List[int]) -> float:\n",
        "    \"\"\"Calculates recall: |retrieved & golden| / |golden|\"\"\"\n",
        "    if not golden:\n",
        "        return 0.0\n",
        "\n",
        "    retrieved_set = set(retrieved)\n",
        "    golden_set = set(golden)\n",
        "    intersection = retrieved_set.intersection(golden_set)\n",
        "\n",
        "    return len(intersection) / len(golden_set)\n",
        "\n",
        "def calculate_average_precision(retrieved: List[int], golden: List[int]) -> float:\n",
        "    \"\"\"Calculates Mean Average Precision (MAP), which rewards correct ranking.\"\"\"\n",
        "    if not golden:\n",
        "        return 0.0\n",
        "\n",
        "    golden_set = set(golden)\n",
        "    hits = 0\n",
        "    sum_of_precisions = 0.0\n",
        "\n",
        "    for i, p in enumerate(retrieved):\n",
        "        if p in golden_set:\n",
        "            hits += 1\n",
        "            sum_of_precisions += hits / (i + 1)\n",
        "\n",
        "    return sum_of_precisions / len(golden_set)"
      ],
      "metadata": {
        "id": "8dVXAaZ7yc8g"
      },
      "execution_count": 103,
      "outputs": []
    },
    {
      "cell_type": "markdown",
      "source": [
        "Lets define a function to run our evauation. We use k = 15. This the max amount of entities to be used for evauation. This is the same as the amount of golden ids for each query in the svaluation set.\n",
        "The initial k for graoh RAG is set as 5 so 1/3 entities for graph RAG are through vector search and the remaining 2/3 are fetched via graph traversal with max hops configured to 2."
      ],
      "metadata": {
        "id": "YRUwQziHgFEv"
      }
    },
    {
      "cell_type": "code",
      "source": [
        "def run_evaluation(eval_queries: List[str], golden_ids: Dict[str, List[int]], client, gemini_client):\n",
        "    \"\"\"\n",
        "    Orchestrates the evaluation process for both Vanilla and Graph RAG.\n",
        "    \"\"\"\n",
        "    vanilla_results = {}\n",
        "    graph_results = {}\n",
        "\n",
        "    # Define evaluation parameters\n",
        "    RETRIEVAL_BUDGET = 15 # this is the k for vanilla RAG and max_entities for graph RAG\n",
        "    GRAPH_RAG_K_INITIAL = 5\n",
        "    GRAPH_RAG_MAX_HOPS = 2\n",
        "\n",
        "    for i, query in enumerate(tqdm(eval_queries, desc=\"Evaluating Queries\")):\n",
        "        query_id = str(i)\n",
        "        golden_set = golden_ids[query_id]\n",
        "\n",
        "        # Evaluate Vanilla RAG\n",
        "        vanilla_retrieved = retrieve_vanilla_rag_ids(query, RETRIEVAL_BUDGET, client, gemini_client)\n",
        "        vanilla_results[query_id] = {\n",
        "            'precision': calculate_precision(vanilla_retrieved, golden_set),\n",
        "            'recall': calculate_recall(vanilla_retrieved, golden_set),\n",
        "            'average_precision': calculate_average_precision(vanilla_retrieved, golden_set)\n",
        "        }\n",
        "\n",
        "        # Evaluate Graph RAG\n",
        "        graph_retrieved = retrieve_graph_rag_ids(\n",
        "            query,\n",
        "            k=GRAPH_RAG_K_INITIAL,\n",
        "            max_hops=GRAPH_RAG_MAX_HOPS,\n",
        "            max_entities=RETRIEVAL_BUDGET,\n",
        "            client=client,\n",
        "            gemini_client=gemini_client\n",
        "        )\n",
        "        graph_results[query_id] = {\n",
        "            'precision': calculate_precision(graph_retrieved, golden_set),\n",
        "            'recall': calculate_recall(graph_retrieved, golden_set),\n",
        "            'average_precision': calculate_average_precision(graph_retrieved, golden_set)\n",
        "        }\n",
        "\n",
        "    return vanilla_results, graph_results"
      ],
      "metadata": {
        "id": "YGzRNwJjy1Du"
      },
      "execution_count": 104,
      "outputs": []
    },
    {
      "cell_type": "markdown",
      "source": [
        "Helper function to display the evaluation results."
      ],
      "metadata": {
        "id": "S-6wjbE0gofK"
      }
    },
    {
      "cell_type": "code",
      "source": [
        "def display_evaluation_results(vanilla_results: dict, graph_results: dict):\n",
        "    \"\"\"Calculates and prints the mean of the metrics in a formatted table.\"\"\"\n",
        "\n",
        "    def calculate_means(results: dict):\n",
        "        num_queries = len(results)\n",
        "        if num_queries == 0:\n",
        "            return {'precision': 0, 'recall': 0, 'map': 0}\n",
        "\n",
        "        mean_p = sum(res['precision'] for res in results.values()) / num_queries\n",
        "        mean_r = sum(res['recall'] for res in results.values()) / num_queries\n",
        "        mean_ap = sum(res['average_precision'] for res in results.values()) / num_queries\n",
        "\n",
        "        return {'precision': mean_p, 'recall': mean_r, 'map': mean_ap}\n",
        "\n",
        "    vanilla_means = calculate_means(vanilla_results)\n",
        "    graph_means = calculate_means(graph_results)\n",
        "\n",
        "    print(\"\\n\" + \"=\"*50)\n",
        "    print(\"           Retrieval Evaluation Summary\")\n",
        "    print(\"=\"*50)\n",
        "    print(f\"{'Metric':<20} | {'Vanilla RAG':<15} | {'Graph RAG':<15}\")\n",
        "    print(\"-\"*50)\n",
        "    print(f\"{'Precision':<20} | {vanilla_means['precision']:<15.4f} | {graph_means['precision']:<15.4f}\")\n",
        "    print(f\"{'Recall':<20} | {vanilla_means['recall']:<15.4f} | {graph_means['recall']:<15.4f}\")\n",
        "    print(f\"{'MAP (Rank-Aware)':<20} | {vanilla_means['map']:<15.4f} | {graph_means['map']:<15.4f}\")\n",
        "    print(\"=\"*50)"
      ],
      "metadata": {
        "id": "lrr2d9Z1zSYf"
      },
      "execution_count": 105,
      "outputs": []
    },
    {
      "cell_type": "markdown",
      "source": [
        "Lets run our evals."
      ],
      "metadata": {
        "id": "zplLR4xOgsko"
      }
    },
    {
      "cell_type": "code",
      "source": [
        "vanilla_results, graph_results = run_evaluation(eval_queries, golden_ids, client, gemini_client)\n",
        "display_evaluation_results(vanilla_results, graph_results)"
      ],
      "metadata": {
        "colab": {
          "base_uri": "https://localhost:8080/"
        },
        "id": "Izdm4uASzhSy",
        "outputId": "4b7c14f7-de21-45da-959f-d09584a613db"
      },
      "execution_count": 106,
      "outputs": [
        {
          "output_type": "stream",
          "name": "stderr",
          "text": [
            "Evaluating Queries:  10%|█         | 1/10 [00:00<00:05,  1.80it/s]"
          ]
        },
        {
          "output_type": "stream",
          "name": "stdout",
          "text": [
            "\n",
            "Vanilla RAG ids:  [287, 20, 149, 46, 202, 49, 16, 66, 60, 314, 51, 146, 52, 341, 58]\n",
            "\n",
            "Graph RAG ids:  [287, 20, 149, 46, 202, 8, 9, 10, 11, 13, 14, 15, 16, 17, 18]\n"
          ]
        },
        {
          "output_type": "stream",
          "name": "stderr",
          "text": [
            "\rEvaluating Queries:  20%|██        | 2/10 [00:00<00:03,  2.19it/s]"
          ]
        },
        {
          "output_type": "stream",
          "name": "stdout",
          "text": [
            "\n",
            "Vanilla RAG ids:  [83, 207, 203, 202, 209, 72, 208, 62, 205, 200, 79, 206, 204, 85, 66]\n",
            "\n",
            "Graph RAG ids:  [83, 207, 203, 202, 209, 44, 47, 58, 59, 62, 65, 66, 67, 70, 71]\n",
            "\n",
            "Vanilla RAG ids:  [343, 345, 287, 319, 283, 346, 282, 351, 73, 136, 311, 293, 350, 321, 341]\n"
          ]
        },
        {
          "output_type": "stream",
          "name": "stderr",
          "text": [
            "\rEvaluating Queries:  30%|███       | 3/10 [00:01<00:03,  2.23it/s]"
          ]
        },
        {
          "output_type": "stream",
          "name": "stdout",
          "text": [
            "\n",
            "Graph RAG ids:  [343, 345, 287, 319, 283, 16, 47, 104, 105, 106, 107, 110, 131, 66, 73]\n",
            "\n",
            "Vanilla RAG ids:  [293, 311, 295, 294, 119, 296, 260, 34, 287, 313, 136, 66, 32, 343, 33]\n"
          ]
        },
        {
          "output_type": "stream",
          "name": "stderr",
          "text": [
            "\rEvaluating Queries:  40%|████      | 4/10 [00:01<00:02,  2.45it/s]"
          ]
        },
        {
          "output_type": "stream",
          "name": "stdout",
          "text": [
            "\n",
            "Graph RAG ids:  [293, 311, 295, 294, 119, 117, 178, 193, 256, 287, 260, 6, 8, 13, 14]\n",
            "\n",
            "Vanilla RAG ids:  [80, 206, 79, 202, 205, 213, 207, 71, 200, 66, 203, 72, 157, 52, 61]\n"
          ]
        },
        {
          "output_type": "stream",
          "name": "stderr",
          "text": [
            "\rEvaluating Queries:  50%|█████     | 5/10 [00:02<00:01,  2.58it/s]"
          ]
        },
        {
          "output_type": "stream",
          "name": "stdout",
          "text": [
            "\n",
            "Graph RAG ids:  [80, 206, 79, 202, 205, 42, 47, 65, 66, 67, 70, 71, 72, 78, 87]\n",
            "\n",
            "Vanilla RAG ids:  [360, 368, 359, 110, 367, 121, 311, 51, 202, 344, 366, 76, 65, 345, 370]\n"
          ]
        },
        {
          "output_type": "stream",
          "name": "stderr",
          "text": [
            "\rEvaluating Queries:  60%|██████    | 6/10 [00:02<00:01,  2.75it/s]"
          ]
        },
        {
          "output_type": "stream",
          "name": "stdout",
          "text": [
            "\n",
            "Graph RAG ids:  [360, 368, 359, 110, 367, 40, 111, 164, 179, 229, 240, 252, 322, 344, 345]\n",
            "\n",
            "Vanilla RAG ids:  [143, 144, 152, 19, 192, 138, 153, 15, 31, 149, 260, 146, 5, 156, 157]\n"
          ]
        },
        {
          "output_type": "stream",
          "name": "stderr",
          "text": [
            "\rEvaluating Queries:  70%|███████   | 7/10 [00:02<00:01,  2.71it/s]"
          ]
        },
        {
          "output_type": "stream",
          "name": "stdout",
          "text": [
            "\n",
            "Graph RAG ids:  [143, 144, 152, 19, 192, 5, 15, 40, 47, 96, 142, 145, 146, 147, 149]\n",
            "\n",
            "Vanilla RAG ids:  [300, 245, 252, 33, 257, 169, 253, 17, 32, 345, 146, 149, 286, 256, 34]\n"
          ]
        },
        {
          "output_type": "stream",
          "name": "stderr",
          "text": [
            "\rEvaluating Queries:  80%|████████  | 8/10 [00:03<00:00,  2.77it/s]"
          ]
        },
        {
          "output_type": "stream",
          "name": "stdout",
          "text": [
            "\n",
            "Graph RAG ids:  [300, 245, 252, 33, 257, 15, 32, 34, 35, 36, 38, 39, 40, 43, 96]\n",
            "\n",
            "Vanilla RAG ids:  [13, 146, 260, 24, 14, 149, 295, 27, 287, 298, 16, 342, 15, 32, 296]\n"
          ]
        },
        {
          "output_type": "stream",
          "name": "stderr",
          "text": [
            "\rEvaluating Queries:  90%|█████████ | 9/10 [00:03<00:00,  2.82it/s]"
          ]
        },
        {
          "output_type": "stream",
          "name": "stdout",
          "text": [
            "\n",
            "Graph RAG ids:  [13, 146, 260, 24, 14, 6, 8, 15, 32, 34, 36, 38, 47, 121, 87]\n",
            "\n",
            "Vanilla RAG ids:  [89, 88, 86, 193, 93, 215, 306, 214, 217, 149, 132, 218, 50, 91, 119]\n"
          ]
        },
        {
          "output_type": "stream",
          "name": "stderr",
          "text": [
            "Evaluating Queries: 100%|██████████| 10/10 [00:03<00:00,  2.61it/s]"
          ]
        },
        {
          "output_type": "stream",
          "name": "stdout",
          "text": [
            "\n",
            "Graph RAG ids:  [89, 88, 86, 193, 93, 40, 60, 87, 90, 91, 92, 94, 149, 153, 174]\n",
            "\n",
            "==================================================\n",
            "           Retrieval Evaluation Summary\n",
            "==================================================\n",
            "Metric               | Vanilla RAG     | Graph RAG      \n",
            "--------------------------------------------------\n",
            "Precision            | 0.5000          | 0.3933         \n",
            "Recall               | 0.5000          | 0.3933         \n",
            "MAP (Rank-Aware)     | 0.4366          | 0.3388         \n",
            "==================================================\n"
          ]
        },
        {
          "output_type": "stream",
          "name": "stderr",
          "text": [
            "\n"
          ]
        }
      ]
    },
    {
      "cell_type": "markdown",
      "source": [
        "The results show that **Vanilla RAG scores higher** on these metrics.\n",
        "\n",
        "This is because these metrics measure simple ID overlap. Vanilla RAG's strategy is 100% optimized for this (retrieving the top 15 most similar items through pure vector search), while Graph RAG's strategy involves exploring structurally-related nodes that may be less semantically similar, thus lowering its overlap score. This highlights the limitations of using these metrics alone to judge the *utility* of a retrieved context.\n",
        "These metrics also do not reflect the cost and speed optimisation provided by graph traversal over vector search."
      ],
      "metadata": {
        "id": "8AtSUsZNgva6"
      }
    },
    {
      "cell_type": "markdown",
      "source": [
        "## Evaluation Part 2: LLM-as-a-Judge"
      ],
      "metadata": {
        "id": "YXaJxALJRW1E"
      }
    },
    {
      "cell_type": "markdown",
      "source": [
        "Given the limitations of numerical metrics, we'll use a more qualitative approach. An LLM-as-a-Judge will evaluate the **quality of the final generated answer** from each RAG method. This better reflects the true performance of the system.\n",
        "\n",
        "**The Process:**\n",
        "1.  Generate an answer using the Vanilla RAG context.\n",
        "2.  Generate an answer using the Graph RAG context.\n",
        "3.  Have a powerful reasoning LLM act as a judge and vote for the better answer.\n",
        "\n",
        "For the answer generation, we use [`gemini-2.5-flash`](https://ai.google.dev/gemini-api/docs/models#gemini-2.5-flash), whereas [`gemini-2.5-pro`](https://ai.google.dev/gemini-api/docs/models#gemini-2.5-pro) is best-suited to be the judge.\n",
        "\n",
        "For the answer generation, the LLM is simple provided the query + the retrieved context and is prompted to generate the answer based solely on that context.\n",
        "\n",
        "The judge LLM is instructed to only respond with the choice 1 (for vanilla RAG response preference) or 2 (for graph RAG response preference)."
      ],
      "metadata": {
        "id": "s-aGvKm4hIpB"
      }
    },
    {
      "cell_type": "code",
      "source": [
        "def generate_answer(query: str, context: str, generator_client) -> str:\n",
        "    \"\"\"\n",
        "    Generates an answer to a query using the provided context.\n",
        "    Uses the gemini-2.5-flash model for speed and efficiency.\n",
        "    \"\"\"\n",
        "    prompt = (\n",
        "        \"Based only on the provided context, answer the following query concisely. \"\n",
        "        \"If the context does not contain the answer, state that you cannot answer based on the information given.\\n\\n\"\n",
        "        f\"Query: {query}\\n\\n\"\n",
        "        f\"Context:\\n{context}\\n\\n\"\n",
        "        \"Answer:\"\n",
        "    )\n",
        "\n",
        "    try:\n",
        "        # Use the gemini_client already initialized\n",
        "        response = generator_client.models.generate_content(\n",
        "            model=\"gemini-2.5-flash\",\n",
        "            contents=prompt\n",
        "        )\n",
        "        print(response.text)\n",
        "        return response.text\n",
        "    except Exception as e:\n",
        "        print(f\"An error occurred during answer generation: {e}\")\n",
        "        return \"Error: Could not generate an answer.\"\n",
        "\n",
        "def judge_answers(query: str, answer_1: str, answer_2: str, judge_client) -> int:\n",
        "    \"\"\"\n",
        "    Asks a powerful LLM judge to decide which of two answers is better.\n",
        "    Uses gemini-2.5-pro for its strong reasoning capabilities.\n",
        "    Returns 1 for Answer 1 or 2 for Answer 2.\n",
        "    \"\"\"\n",
        "    prompt = (\n",
        "        \"You are an impartial judge. Your task is to evaluate two AI-generated answers to a user's query and determine which is better. \"\n",
        "        \"Consider correctness, completeness, and clarity. Length doesn't matter - a shorter answer may be better than a longer one and vice versa. Penalise irrelevant remarks.\\n\\n\"\n",
        "        f\"USER QUERY:\\n'{query}'\\n\\n\"\n",
        "        \"--- ANSWER 1 ---\\n\"\n",
        "        f\"{answer_1}\\n\\n\"\n",
        "        \"--- ANSWER 2 ---\\n\"\n",
        "        f\"{answer_2}\\n\\n\"\n",
        "        \"--- INSTRUCTIONS ---\\n\"\n",
        "        \"Output only the number of the better answer: '1' or '2'.\"\n",
        "    )\n",
        "\n",
        "    try:\n",
        "        # Use the gemini_client for the judge model\n",
        "        response = judge_client.models.generate_content(\n",
        "            model=\"gemini-2.5-pro\",\n",
        "            contents=prompt\n",
        "        )\n",
        "\n",
        "        # Parse the last line of the response to get the deterministic vote\n",
        "        last_line = response.text.strip().split('\\n')[-1].strip()\n",
        "        if last_line == \"1\":\n",
        "            return 1\n",
        "        elif last_line == \"2\":\n",
        "            return 2\n",
        "        else:\n",
        "            # If the model fails to follow instructions, default to 0.\n",
        "            return 0\n",
        "    except Exception as e:\n",
        "        print(f\"An error occurred during judging: {e}\")\n",
        "        return 0 # Return 0 for error"
      ],
      "metadata": {
        "id": "DNpss89VRuMc"
      },
      "execution_count": 112,
      "outputs": []
    },
    {
      "cell_type": "markdown",
      "source": [
        "We define the orchestration function to run the LLM-as-a-Judge evals."
      ],
      "metadata": {
        "id": "5iMkrWVqht_6"
      }
    },
    {
      "cell_type": "code",
      "source": [
        "def run_llm_as_judge_evaluation(eval_queries: List[str], client, gemini_client):\n",
        "    \"\"\"\n",
        "    Orchestrates the end-to-end evaluation using an LLM-as-a-Judge.\n",
        "    \"\"\"\n",
        "    scores = {\"vanilla_wins\": 0, \"graph_wins\": 0, \"errors\": 0}\n",
        "\n",
        "    # Define RAG parameters for this evaluation ---\n",
        "    VANILLA_K = 15\n",
        "    GRAPH_K_INITIAL = 5\n",
        "    GRAPH_MAX_HOPS = 2\n",
        "    GRAPH_MAX_ENTITIES = 15\n",
        "\n",
        "    print(\"--- Starting LLM-as-a-Judge Evaluation ---\")\n",
        "\n",
        "    for query in tqdm(eval_queries, desc=\"Judging Queries\"):\n",
        "        # Get contexts from both RAG methods\n",
        "        vanilla_context = vanilla_rag(query, VANILLA_K, client, gemini_client)\n",
        "        graph_context, _, _ = graph_rag(\n",
        "            query, GRAPH_K_INITIAL, GRAPH_MAX_HOPS, GRAPH_MAX_ENTITIES, client, gemini_client\n",
        "        )\n",
        "\n",
        "        # Generate an answer for each context\n",
        "        print(f\"\\nGenerating answers for query: '{query[:50]}...'\")\n",
        "        answer_vanilla = generate_answer(query, vanilla_context, gemini_client)\n",
        "        answer_graph = generate_answer(query, graph_context, gemini_client)\n",
        "\n",
        "        # Have the judge decide which answer is better\n",
        "        vote = judge_answers(query, answer_vanilla, answer_graph, gemini_client)\n",
        "\n",
        "        # Tally the votes\n",
        "        if vote == 1:\n",
        "            scores[\"vanilla_wins\"] += 1\n",
        "            print(\">> Judge voted for: Vanilla RAG\")\n",
        "        elif vote == 2:\n",
        "            scores[\"graph_wins\"] += 1\n",
        "            print(\">> Judge voted for: Graph RAG\")\n",
        "        else:\n",
        "            scores[\"errors\"] += 1\n",
        "            print(\">> Failed to vote.\")\n",
        "\n",
        "    print(\"\\n--- LLM-as-a-Judge Evaluation Complete ---\")\n",
        "    return scores\n"
      ],
      "metadata": {
        "id": "hO3xQRSrSY5o"
      },
      "execution_count": 113,
      "outputs": []
    },
    {
      "cell_type": "markdown",
      "source": [
        "Helper function to display theresults of the LLM-as-a-Judge evals."
      ],
      "metadata": {
        "id": "rIhL42Juh0E1"
      }
    },
    {
      "cell_type": "code",
      "source": [
        "def display_judge_results(scores: dict):\n",
        "    \"\"\"Prints the final scorecard from the LLM-as-a-Judge evaluation.\"\"\"\n",
        "    total_queries = sum(scores.values())\n",
        "\n",
        "    print(\"\\n\" + \"=\"*50)\n",
        "    print(\"           LLM-as-a-Judge Final Scorecard\")\n",
        "    print(\"=\"*50)\n",
        "    print(f\"Total Queries Judged: {total_queries}\")\n",
        "    print(f\"Vanilla RAG Wins:     {scores['vanilla_wins']}\")\n",
        "    print(f\"Graph RAG Wins:       {scores['graph_wins']}\")\n",
        "    print(f\"Errors:       {scores['errors']}\")\n",
        "    print(\"=\"*50)\n",
        "\n",
        "    if scores['graph_wins'] > scores['vanilla_wins']:\n",
        "        print(\"\\nVerdict: Graph RAG produced higher-quality answers.\")\n",
        "    elif scores['vanilla_wins'] > scores['graph_wins']:\n",
        "        print(\"\\nVerdict: Vanilla RAG produced higher-quality answers.\")\n",
        "    else:\n",
        "        print(\"\\nVerdict: It's a tie!\")"
      ],
      "metadata": {
        "id": "t62hFlmcSwHx"
      },
      "execution_count": 114,
      "outputs": []
    },
    {
      "cell_type": "markdown",
      "source": [
        "Lets run the evals and collect the scores."
      ],
      "metadata": {
        "id": "4mtqn982iElU"
      }
    },
    {
      "cell_type": "code",
      "source": [
        "judge_scores = run_llm_as_judge_evaluation(eval_queries, client, gemini_client)"
      ],
      "metadata": {
        "colab": {
          "base_uri": "https://localhost:8080/"
        },
        "id": "3BEbrdjtW30K",
        "outputId": "24679805-b8e2-4e32-bf43-c2b4f55f20eb"
      },
      "execution_count": 131,
      "outputs": [
        {
          "output_type": "stream",
          "name": "stdout",
          "text": [
            "--- Starting LLM-as-a-Judge Evaluation ---\n"
          ]
        },
        {
          "output_type": "stream",
          "name": "stderr",
          "text": [
            "\rJudging Queries:   0%|          | 0/10 [00:00<?, ?it/s]"
          ]
        },
        {
          "output_type": "stream",
          "name": "stdout",
          "text": [
            "\n",
            "Generating answers for query: 'Explain how the core concept of 'Virtualization' e...'\n",
            "Virtualization enables EC2's on-demand resource provisioning by allowing the creation of virtual machines (VMs) from physical resources. Hypervisors, which utilize virtualization, create and manage these VMs, allowing multiple VMs to run on a single physical machine while efficiently allocating CPU, memory, and storage. This capability supports EC2's provision of virtual machines with on-demand resource allocation and rapid elasticity.\n",
            "Virtualization enables on-demand resource provisioning for EC2 by allowing the creation of virtual machines (VMs) from underlying physical resources, thereby efficiently utilizing key resources. This capability is a key enabler for 'Rapid Elasticity', which allows resources to scale up or down dynamically based on demand, and 'Resource Pooling', where physical resources are combined into a shared pool for on-demand allocation and reallocation. EC2 leverages these aspects of Virtualization to provide its \"on-demand resource allocation\" of VMs and its \"rapid elasticity\" features.\n"
          ]
        },
        {
          "output_type": "stream",
          "name": "stderr",
          "text": [
            "\rJudging Queries:  10%|█         | 1/10 [00:21<03:09, 21.02s/it]"
          ]
        },
        {
          "output_type": "stream",
          "name": "stdout",
          "text": [
            ">> Judge voted for: Graph RAG\n",
            "\n",
            "Generating answers for query: 'Describe the relationship between a 'Type 2 Hyperv...'\n",
            "A 'Type 2 Hypervisor' runs on top of an existing host 'Operating System' and depends on it for execution and hardware access. This dependency is considered a security weakness because it introduces additional risk and security vulnerabilities due to its reliance on the host OS. In contrast, a 'Type 1 Hypervisor' is more secure as it runs directly on the physical hardware without an underlying OS.\n",
            "A Type 2 Hypervisor runs on top of an existing Operating System (OS) and depends on the host OS for execution and management of hardware access.\n",
            "\n",
            "This dependency is considered a security weakness compared to a Type 1 Hypervisor because it introduces additional risk and security vulnerabilities due to its reliance on the host OS. A Type 1 Hypervisor, conversely, runs directly on the physical hardware without an underlying OS, making it more secure.\n"
          ]
        },
        {
          "output_type": "stream",
          "name": "stderr",
          "text": [
            "\rJudging Queries:  20%|██        | 2/10 [00:38<02:29, 18.69s/it]"
          ]
        },
        {
          "output_type": "stream",
          "name": "stdout",
          "text": [
            ">> Judge voted for: Graph RAG\n",
            "\n",
            "Generating answers for query: 'How do the 'Identity Service' and 'Compute Service...'\n",
            "The provided context describes the individual roles of the 'Identity Service' (authentication and authorization) and the 'Compute Service' (manages VM lifecycle), but it does not detail how they collaborate to manage the lifecycle of a virtual machine requested by a user.\n",
            "The 'Identity Service' provides authentication and authorization and ensures access controls for a user's request to create a virtual machine. Once authorized, the 'Compute Service' manages the lifecycle of the virtual machine, including its creation.\n"
          ]
        },
        {
          "output_type": "stream",
          "name": "stderr",
          "text": [
            "\rJudging Queries:  30%|███       | 3/10 [00:51<01:54, 16.39s/it]"
          ]
        },
        {
          "output_type": "stream",
          "name": "stdout",
          "text": [
            ">> Judge voted for: Graph RAG\n",
            "\n",
            "Generating answers for query: 'Trace the connection from the 'IaaS' service model...'\n",
            "Based only on the provided context, I cannot fully trace the connection from 'IaaS' down to the specific components 'Virtual Machines' and 'Applications' that a 'User' is responsible for managing.\n",
            "\n",
            "The context states that for 'IaaS', a 'User' is responsible to \"build entire cloud-based infrastructure\" or \"build their infrastructure\". 'Elastic Compute Cloud (EC2)' is identified as an 'IaaS' service that \"provides virtual machines (VMs)\". However, the context does not explicitly state that the 'User' is responsible for *managing* these 'Virtual Machines' or 'Applications' within the IaaS model, beyond building the infrastructure. It only mentions building the infrastructure and IaaS providing VMs. For 'Applications', the context for other service models (SaaS, PaaS) explicitly states users *do not* manage applications.\n",
            "Under the 'Infrastructure as a Service (IaaS)' service model, the 'User' is responsible for building their entire cloud-based infrastructure. This includes managing specific components like 'Virtual Machines', which are provided by IaaS services such as 'Elastic Compute Cloud (EC2)'. The provided context does not explicitly state that 'Users' are responsible for managing 'Applications' within the IaaS model.\n"
          ]
        },
        {
          "output_type": "stream",
          "name": "stderr",
          "text": [
            "\rJudging Queries:  40%|████      | 4/10 [01:22<02:13, 22.22s/it]"
          ]
        },
        {
          "output_type": "stream",
          "name": "stdout",
          "text": [
            ">> Judge voted for: Vanilla RAG\n",
            "\n",
            "Generating answers for query: 'Explain how the 'para-virtualization' model, used ...'\n",
            "The 'para-virtualization' model, used by 'Xen', requires guest 'OS' modification because the guest 'OS' must be adapted to communicate with the hypervisor directly. This direct hypervisor interaction leads to higher performance due to lower overhead.\n",
            "The 'para-virtualization' model, used by the 'Xen' hypervisor, requires guest OS modification to achieve higher performance because the guest OS must be modified to communicate directly with the hypervisor. This direct interaction leads to lower overhead and thus higher performance.\n"
          ]
        },
        {
          "output_type": "stream",
          "name": "stderr",
          "text": [
            "\rJudging Queries:  50%|█████     | 5/10 [01:49<01:58, 23.78s/it]"
          ]
        },
        {
          "output_type": "stream",
          "name": "stdout",
          "text": [
            ">> Judge voted for: Graph RAG\n",
            "\n",
            "Generating answers for query: 'Describe how a 'Virtual Private Cloud (VPC)' and '...'\n",
            "A Virtual Private Cloud (VPC) provides a logically isolated section within AWS on shared physical hardware (as multiple virtual networks can operate on shared physical infrastructure). Network Policies then work to ensure isolation within that VPC.\n",
            "A Virtual Private Cloud (VPC) provides a logically isolated section within AWS, offering dedicated cloud space for clients and logical network isolation. Network Policies ensure isolation specifically *within* this VPC. Together, the VPC establishes the isolated environment, and Network Policies enforce isolation rules inside that environment.\n"
          ]
        },
        {
          "output_type": "stream",
          "name": "stderr",
          "text": [
            "\rJudging Queries:  60%|██████    | 6/10 [02:08<01:28, 22.10s/it]"
          ]
        },
        {
          "output_type": "stream",
          "name": "stdout",
          "text": [
            ">> Judge voted for: Graph RAG\n",
            "\n",
            "Generating answers for query: 'Compare 'Clusters' and 'Grids' by detailing their ...'\n",
            "**Homogeneity:**\n",
            "*   **Clusters:** Consist of machines with the same type of hardware and OS, making them homogeneous.\n",
            "*   **Grids:** Consist of heterogeneous systems that may have different hardware, OS, and configurations.\n",
            "\n",
            "**Geographical Distribution:**\n",
            "*   **Clusters:** All machines are geographically close and in the same environment.\n",
            "*   **Grids:** Are geographically distributed.\n",
            "\n",
            "**Middleware Complexity:**\n",
            "*   **Clusters:** Have fewer middleware complexities.\n",
            "*   **Grids:** Middleware has to handle diverse configurations, leading to potential performance degradation.\n",
            "**Homogeneity:**\n",
            "*   **Clusters:** All machines have the same type of hardware and OS (homogeneous).\n",
            "*   **Grids:** Consist of heterogeneous systems that may have different hardware, OS, and configurations.\n",
            "\n",
            "**Geographical Distribution:**\n",
            "*   **Clusters:** All machines are geographically close and in the same environment.\n",
            "*   **Grids:** Geographically distributed.\n",
            "\n",
            "**Middleware Complexity:**\n",
            "*   **Clusters:** Have fewer complexities.\n",
            "*   **Grids:** Has to handle diverse configurations, leading to potential performance degradation.\n"
          ]
        },
        {
          "output_type": "stream",
          "name": "stderr",
          "text": [
            "\rJudging Queries:  70%|███████   | 7/10 [02:18<00:55, 18.37s/it]"
          ]
        },
        {
          "output_type": "stream",
          "name": "stdout",
          "text": [
            ">> Judge voted for: Vanilla RAG\n",
            "\n",
            "Generating answers for query: 'What is the role of a 'Cloud Auditor' in ensuring ...'\n",
            "A 'Cloud Auditor' ensures 'security compliance' and 'security and reliability' for cloud providers.\n",
            "The role of a 'Cloud Auditor' in ensuring the 'Security' and 'compliance' of a 'Cloud Service Provider' is to audit the security compliance of the provider and ensure security and reliability. Auditors must be independent and not internally controlled by the cloud provider.\n"
          ]
        },
        {
          "output_type": "stream",
          "name": "stderr",
          "text": [
            "\rJudging Queries:  80%|████████  | 8/10 [02:32<00:33, 16.95s/it]"
          ]
        },
        {
          "output_type": "stream",
          "name": "stdout",
          "text": [
            ">> Judge voted for: Graph RAG\n",
            "\n",
            "Generating answers for query: 'Starting from the 'On-Demand Self-Service' concept...'\n",
            "Starting from the 'On-Demand Self-Service' concept, users can configure and deploy services independently, without requiring human intervention or waiting for an operator. This is possible because services are already deployed and provided via a 'web interface'. Users interact with the cloud system through this web interface to utilize cloud resources directly, without needing direct access to computing resources or operator intervention.\n",
            "Starting from the 'On-Demand Self-Service' concept, users can configure and deploy services independently, without requiring human intervention. This is enabled because services are already deployed and provided via a 'web interface'. Users then interact with this 'web interface' to utilize cloud resources, eliminating the need for direct operator intervention.\n"
          ]
        },
        {
          "output_type": "stream",
          "name": "stderr",
          "text": [
            "\rJudging Queries:  90%|█████████ | 9/10 [02:51<00:17, 17.51s/it]"
          ]
        },
        {
          "output_type": "stream",
          "name": "stdout",
          "text": [
            ">> Judge voted for: Vanilla RAG\n",
            "\n",
            "Generating answers for query: 'Describe the link between the 'Microservices Archi...'\n",
            "The 'Microservices Architecture' concept involves splitting applications into \"small, independent services\". 'Containers' are lightweight, provide \"an isolated environment to run specific applications\", and \"can be created and destroyed rapidly\".\n",
            "\n",
            "This pairing enables the creation of scalable 'Cloud-Native Applications' by allowing each \"small, independent service\" (microservice) to be packaged and run within its own \"lightweight\" container. Since 'Containers' are \"more elastic than virtual machines\" and can be rapidly created or destroyed, they facilitate the independent scaling of individual microservices. This aligns with the \"Highly Scalable\" and \"Flexible\" characteristics of 'Cloud-Native Applications' and allows the architecture to \"leverage cloud elasticity\".\n",
            "The context indicates that 'Cloud-Native Applications' are \"built using\" both 'Microservices Architecture' and 'Containers'. 'Microservices Architecture' splits applications into \"small, independent services,\" while 'Containers' provide \"lightweight, isolated environment[s] to run specific applications\" and \"can be created and destroyed rapidly.\" This suggests that the independent services of a microservices architecture are packaged and run within containers.\n",
            "\n",
            "This pairing enables the creation of scalable 'Cloud-Native Applications' because:\n",
            "*   'Microservices Architecture' has the advantage to \"leverage cloud elasticity.\"\n",
            "*   'Containers' are \"more elastic than virtual machines\" and offer \"Faster Execution\" as they \"spawn quickly,\" supporting rapid scaling.\n",
            "*   'Cloud-Native Applications' are \"Highly Scalable\" and \"comprise\" 'Kubernetes', which \"manages and scales containers across multiple machines,\" thereby orchestrating the scaling of the containerized microservices.\n"
          ]
        },
        {
          "output_type": "stream",
          "name": "stderr",
          "text": [
            "Judging Queries: 100%|██████████| 10/10 [03:23<00:00, 20.33s/it]"
          ]
        },
        {
          "output_type": "stream",
          "name": "stdout",
          "text": [
            ">> Judge voted for: Vanilla RAG\n",
            "\n",
            "--- LLM-as-a-Judge Evaluation Complete ---\n"
          ]
        },
        {
          "output_type": "stream",
          "name": "stderr",
          "text": [
            "\n"
          ]
        }
      ]
    },
    {
      "cell_type": "markdown",
      "source": [
        "The moment of truth - lets display the results."
      ],
      "metadata": {
        "id": "sC4QKZ5_iiY0"
      }
    },
    {
      "cell_type": "code",
      "source": [
        "display_judge_results(judge_scores)"
      ],
      "metadata": {
        "colab": {
          "base_uri": "https://localhost:8080/"
        },
        "id": "BsbNNcZ-YPJb",
        "outputId": "5776f201-d8a2-4b73-d428-fe175a1bbe60"
      },
      "execution_count": 132,
      "outputs": [
        {
          "output_type": "stream",
          "name": "stdout",
          "text": [
            "\n",
            "==================================================\n",
            "           LLM-as-a-Judge Final Scorecard\n",
            "==================================================\n",
            "Total Queries Judged: 10\n",
            "Vanilla RAG Wins:     4\n",
            "Graph RAG Wins:       6\n",
            "Errors:       0\n",
            "==================================================\n",
            "\n",
            "Verdict: Graph RAG produced higher-quality answers.\n"
          ]
        }
      ]
    },
    {
      "cell_type": "markdown",
      "source": [
        "The final scorecard shows that **Graph RAG is the winner.**\n",
        "\n",
        "This result demonstrates that while its retrieved context had less direct overlap with the golden set, the structure and rich connections within that context enabled the generator LLM to produce superior, more helpful answers. This confirms the value of Graph RAG in a way that the numerical metrics could not."
      ],
      "metadata": {
        "id": "7F2lmtZnipXN"
      }
    }
  ]
}