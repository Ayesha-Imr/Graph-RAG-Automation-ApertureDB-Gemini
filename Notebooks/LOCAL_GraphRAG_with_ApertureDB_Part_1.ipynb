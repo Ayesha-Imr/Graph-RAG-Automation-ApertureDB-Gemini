{
  "nbformat": 4,
  "nbformat_minor": 0,
  "metadata": {
    "colab": {
      "provenance": [],
      "authorship_tag": "ABX9TyNA/aOwbPV0qjK/vLMSXcd4",
      "include_colab_link": true
    },
    "kernelspec": {
      "name": "python3",
      "display_name": "Python 3"
    },
    "language_info": {
      "name": "python"
    }
  },
  "cells": [
    {
      "cell_type": "markdown",
      "metadata": {
        "id": "view-in-github",
        "colab_type": "text"
      },
      "source": [
        "<a href=\"https://colab.research.google.com/github/Ayesha-Imr/Graph-RAG-Automation-ApertureDB-Gemini/blob/main/Notebooks/LOCAL_GraphRAG_with_ApertureDB_Part_1.ipynb\" target=\"_parent\"><img src=\"https://colab.research.google.com/assets/colab-badge.svg\" alt=\"Open In Colab\"/></a>"
      ]
    },
    {
      "cell_type": "markdown",
      "source": [
        "# GraphRAG with ApertureDB: Part 1 - Building the Semantic Layer\n",
        "\n",
        "This notebook covers the first major phase of building our GraphRAG system: augmenting the existing knowledge graph with a semantic layer. This involves creating vector embeddings for our entities and ingesting them into ApertureDB, linking them directly to the graph structure.\n",
        "\n",
        "**Prerequisites:** This notebook is a successor to the [**Automating Knowledge Graph Creation with Gemini & ApertureDB**](https://colab.research.google.com/drive/1okdpqXhikbgrf5Ep3lT1yT7GjAIv7AFh?usp=sharing) notebook and assumes you have already created and ingested your plaintext graph in an ApertureDB instance. If not, please check out that notebook and run it with your preferred data source so you have a knowledge graph to work with. *(Worry not, everything is automated, all you have to do is add the required API keys, upload your chosen pdf aka knowledgebase and run all the cells - easy peasy!)*"
      ],
      "metadata": {
        "id": "X0pWcgojnygK"
      }
    },
    {
      "cell_type": "markdown",
      "source": [
        "## 1. Setup and Initialization\n",
        "\n",
        "First, we'll install the required Python packages and configure our environment. This includes [Gemini embeddings](https://ai.google.dev/gemini-api/docs/embeddings) for embeddings, [ApertureDB](https://www.aperturedata.io/) and some utility packages. We then import all necessary modules and establish a connection to our ApertureDB instance using the stored Google Drive folder."
      ],
      "metadata": {
        "id": "E0wr185Bn3c6"
      }
    },
    {
      "cell_type": "code",
      "execution_count": 1,
      "metadata": {
        "id": "rJ2XAsHjCACU",
        "colab": {
          "base_uri": "https://localhost:8080/"
        },
        "outputId": "e2688916-9755-4555-caaa-aa0644fbe3ed"
      },
      "outputs": [
        {
          "output_type": "stream",
          "name": "stdout",
          "text": [
            "  Preparing metadata (setup.py) ... \u001b[?25l\u001b[?25hdone\n",
            "\u001b[2K   \u001b[90m━━━━━━━━━━━━━━━━━━━━━━━━━━━━━━━━━━━━━━━━\u001b[0m \u001b[32m141.0/141.0 kB\u001b[0m \u001b[31m11.4 MB/s\u001b[0m eta \u001b[36m0:00:00\u001b[0m\n",
            "\u001b[2K   \u001b[90m━━━━━━━━━━━━━━━━━━━━━━━━━━━━━━━━━━━━━━━━\u001b[0m \u001b[32m47.2/47.2 kB\u001b[0m \u001b[31m3.4 MB/s\u001b[0m eta \u001b[36m0:00:00\u001b[0m\n",
            "\u001b[2K   \u001b[90m━━━━━━━━━━━━━━━━━━━━━━━━━━━━━━━━━━━━━━━━\u001b[0m \u001b[32m137.8/137.8 kB\u001b[0m \u001b[31m12.0 MB/s\u001b[0m eta \u001b[36m0:00:00\u001b[0m\n",
            "\u001b[2K   \u001b[90m━━━━━━━━━━━━━━━━━━━━━━━━━━━━━━━━━━━━━━━━\u001b[0m \u001b[32m119.6/119.6 kB\u001b[0m \u001b[31m10.3 MB/s\u001b[0m eta \u001b[36m0:00:00\u001b[0m\n",
            "\u001b[2K   \u001b[90m━━━━━━━━━━━━━━━━━━━━━━━━━━━━━━━━━━━━━━━━\u001b[0m \u001b[32m139.9/139.9 kB\u001b[0m \u001b[31m12.3 MB/s\u001b[0m eta \u001b[36m0:00:00\u001b[0m\n",
            "\u001b[2K   \u001b[90m━━━━━━━━━━━━━━━━━━━━━━━━━━━━━━━━━━━━━━━━\u001b[0m \u001b[32m13.9/13.9 MB\u001b[0m \u001b[31m95.1 MB/s\u001b[0m eta \u001b[36m0:00:00\u001b[0m\n",
            "\u001b[2K   \u001b[90m━━━━━━━━━━━━━━━━━━━━━━━━━━━━━━━━━━━━━━━━\u001b[0m \u001b[32m1.6/1.6 MB\u001b[0m \u001b[31m73.5 MB/s\u001b[0m eta \u001b[36m0:00:00\u001b[0m\n",
            "\u001b[2K   \u001b[90m━━━━━━━━━━━━━━━━━━━━━━━━━━━━━━━━━━━━━━━━\u001b[0m \u001b[32m1.3/1.3 MB\u001b[0m \u001b[31m59.6 MB/s\u001b[0m eta \u001b[36m0:00:00\u001b[0m\n",
            "\u001b[2K   \u001b[90m━━━━━━━━━━━━━━━━━━━━━━━━━━━━━━━━━━━━━━━━\u001b[0m \u001b[32m85.3/85.3 kB\u001b[0m \u001b[31m7.5 MB/s\u001b[0m eta \u001b[36m0:00:00\u001b[0m\n",
            "\u001b[2K   \u001b[90m━━━━━━━━━━━━━━━━━━━━━━━━━━━━━━━━━━━━━━━━\u001b[0m \u001b[32m2.2/2.2 MB\u001b[0m \u001b[31m79.3 MB/s\u001b[0m eta \u001b[36m0:00:00\u001b[0m\n",
            "\u001b[?25h  Building wheel for keepalive-socket (setup.py) ... \u001b[?25l\u001b[?25hdone\n"
          ]
        }
      ],
      "source": [
        "!pip install -q aperturedb google-genai udocker"
      ]
    },
    {
      "cell_type": "markdown",
      "source": [
        "### Local ApertureDB session setup via udocker"
      ],
      "metadata": {
        "id": "jOo1K_QHX6cT"
      }
    },
    {
      "cell_type": "markdown",
      "source": [
        "This data is from the previous knowledge graph creation [notenook](https://colab.research.google.com/drive/1okdpqXhikbgrf5Ep3lT1yT7GjAIv7AFh?usp=sharing). We'll be using this to continue with our graph RAG implementation."
      ],
      "metadata": {
        "id": "YBn4QMI5X_54"
      }
    },
    {
      "cell_type": "code",
      "source": [
        "from google.colab import drive\n",
        "drive.mount('/content/drive')"
      ],
      "metadata": {
        "colab": {
          "base_uri": "https://localhost:8080/"
        },
        "id": "FtQ5gfW3YYV_",
        "outputId": "b188e158-b86c-4190-90fe-30d418d678b5"
      },
      "execution_count": 3,
      "outputs": [
        {
          "output_type": "stream",
          "name": "stdout",
          "text": [
            "Mounted at /content/drive\n"
          ]
        }
      ]
    },
    {
      "cell_type": "code",
      "source": [
        "DATA_ROOT = \"/content/drive/MyDrive/aperturedb_data\""
      ],
      "metadata": {
        "id": "r2d6s4ZzYhPa"
      },
      "execution_count": 4,
      "outputs": []
    },
    {
      "cell_type": "code",
      "source": [
        "!udocker --allow-root install\n",
        "!udocker --allow-root install"
      ],
      "metadata": {
        "colab": {
          "base_uri": "https://localhost:8080/"
        },
        "id": "4OR3B24qYjYw",
        "outputId": "d71779c5-9a9e-4f5b-816b-84f543e62ade"
      },
      "execution_count": 5,
      "outputs": [
        {
          "output_type": "stream",
          "name": "stdout",
          "text": [
            "Info: creating repo: /root/.udocker\n",
            "Info: udocker command line interface 1.3.17\n",
            "Info: searching for udockertools >= 1.2.11\n",
            "Info: installing udockertools 1.2.11\n",
            "Info: installation of udockertools successful\n"
          ]
        }
      ]
    },
    {
      "cell_type": "code",
      "source": [
        "!udocker --allow-root pull aperturedata/aperturedb-community:latest\n",
        "!udocker --allow-root create --name=aperturedb aperturedata/aperturedb-community:latest"
      ],
      "metadata": {
        "colab": {
          "base_uri": "https://localhost:8080/"
        },
        "id": "q8KsYWl5YlKM",
        "outputId": "080b4635-990e-41dc-be0f-a08f44ec7437"
      },
      "execution_count": 6,
      "outputs": [
        {
          "output_type": "stream",
          "name": "stdout",
          "text": [
            "Info: downloading layer sha256:7c84311f635af4c4a0fec53e53c35b7b388a8b7e40025346a1d4af37423ea2c2\n",
            "Info: downloading layer sha256:a6e6f81788d18a6a24869a662a78e4798c46eba38d0cca171080f1e131146a16\n",
            "Info: downloading layer sha256:6c6f170a129049940a474f88f5fc649d7d96700ef0748bbc590476942c609949\n",
            "Info: downloading layer sha256:9b3453b1064fb34bae3e701ecd6cfce41e99f8fc037857b7c9de26f917ad8840\n",
            "Info: downloading layer sha256:5090e15fdc6a26ebc57cdfff090b7090d1020672ce22b4a290451acc9c16da6d\n",
            "Info: downloading layer sha256:c2bf41e51776f1206dd05060633eada7174bc768aa6f062cc6fa3b5def95ca94\n",
            "Info: downloading layer sha256:e17caecd6bd74e6c419f0d21e9522006fded22eedf72be6b9046819a6265903c\n",
            "Info: downloading layer sha256:aece8493d3972efa43bfd4ee3cdba659c0f787f8f59c82fb3e48c87cbb22a12e\n",
            "85ac9941-8f18-376f-a6eb-5118eb3f01bd\n"
          ]
        }
      ]
    },
    {
      "cell_type": "code",
      "source": [
        "!nohup udocker --allow-root run \\\n",
        "    --publish=55555:55555 \\\n",
        "    --env=\"ADB_MASTER_KEY=admin\" \\\n",
        "    --env=\"ADB_FORCE_SSL=false\" \\\n",
        "    --volume=$DATA_ROOT/db:/aperturedb/db \\\n",
        "    aperturedb  > /content/adb_server.log 2>&1 &"
      ],
      "metadata": {
        "id": "vS8OAFIcYlHP"
      },
      "execution_count": 7,
      "outputs": []
    },
    {
      "cell_type": "code",
      "source": [
        "import time\n",
        "time.sleep(15)"
      ],
      "metadata": {
        "id": "_oCoKtgaY1vV"
      },
      "execution_count": 8,
      "outputs": []
    },
    {
      "cell_type": "code",
      "source": [
        "!tail -n 15 /content/adb_server.log | sed -e 's/^/LOG │ /'"
      ],
      "metadata": {
        "colab": {
          "base_uri": "https://localhost:8080/"
        },
        "id": "Ryy2SdyRY3SA",
        "outputId": "75397f0b-d44d-495a-d8a1-01c35cd16c73"
      },
      "execution_count": 9,
      "outputs": [
        {
          "output_type": "stream",
          "name": "stdout",
          "text": [
            "LOG │ ApertureDB Server, Version: 0.18.10, Branch: feature/community-docker, Commit: 728440c99395bca1a3346dc8e4d51917a8d16764\n"
          ]
        }
      ]
    },
    {
      "cell_type": "code",
      "source": [
        "!lsof -nP -iTCP:55555"
      ],
      "metadata": {
        "colab": {
          "base_uri": "https://localhost:8080/"
        },
        "id": "aNd-wPubY5l6",
        "outputId": "b6477c6b-b57b-4b0a-990b-05e35f1bd421"
      },
      "execution_count": 10,
      "outputs": [
        {
          "output_type": "stream",
          "name": "stdout",
          "text": [
            "COMMAND    PID USER   FD   TYPE DEVICE SIZE/OFF NODE NAME\n",
            "apertured 1889 root   16u  IPv4  59837      0t0  TCP *:55555 (LISTEN)\n"
          ]
        }
      ]
    },
    {
      "cell_type": "markdown",
      "source": [
        "Connect to ApertureDB client"
      ],
      "metadata": {
        "id": "krIKOnZwZLzO"
      }
    },
    {
      "cell_type": "code",
      "source": [
        "from aperturedb import Connector\n",
        "client = Connector.Connector(\n",
        "    host=\"127.0.0.1\", port=55555,\n",
        "    user=\"admin\",  password=\"admin\",\n",
        "    use_ssl=False\n",
        ")\n",
        "status = client.query([{\"GetStatus\": {}}], [])\n",
        "print(status)"
      ],
      "metadata": {
        "colab": {
          "base_uri": "https://localhost:8080/"
        },
        "id": "XvU7cfNHY7dM",
        "outputId": "d43625d2-47ee-47af-c791-6cd5ba310017"
      },
      "execution_count": 11,
      "outputs": [
        {
          "output_type": "stream",
          "name": "stdout",
          "text": [
            "([{'GetStatus': {'info': 'OK', 'status': 0, 'system': 'ApertureDB', 'version': '0.18.10'}}], [])\n"
          ]
        }
      ]
    },
    {
      "cell_type": "markdown",
      "source": [
        "Verify the existence of our data in the DB"
      ],
      "metadata": {
        "id": "tICH9pomZHI-"
      }
    },
    {
      "cell_type": "code",
      "source": [
        "schema = client.query([{\"GetSchema\": {}}], [])\n",
        "print(schema)"
      ],
      "metadata": {
        "colab": {
          "base_uri": "https://localhost:8080/"
        },
        "id": "FMeXH7svY-bL",
        "outputId": "99e2e149-3c63-4f01-b521-4eefcc1a2983"
      },
      "execution_count": 13,
      "outputs": [
        {
          "output_type": "stream",
          "name": "stdout",
          "text": [
            "([{'GetSchema': {'connections': {'classes': {'abstracts': {'dst': 'Software', 'matched': 2, 'properties': {'created_at': [2, False, 'String'], 'dst_class': [2, False, 'String'], 'dst_id': [2, False, 'Number'], 'src_class': [2, False, 'String'], 'src_id': [2, False, 'Number'], 'type': [2, False, 'String']}, 'src': 'Software'}, 'accesses': {'dst': 'Software', 'matched': 1, 'properties': {'created_at': [1, False, 'String'], 'dst_class': [1, False, 'String'], 'dst_id': [1, False, 'Number'], 'src_class': [1, False, 'String'], 'src_id': [1, False, 'Number'], 'type': [1, False, 'String']}, 'src': 'User'}, 'acts_as': {'dst': 'Organization', 'matched': 1, 'properties': {'created_at': [1, False, 'String'], 'dst_class': [1, False, 'String'], 'dst_id': [1, False, 'Number'], 'src_class': [1, False, 'String'], 'src_id': [1, False, 'Number'], 'type': [1, False, 'String']}, 'src': 'Service'}, 'acts_as_bridge_between': {'dst': 'Software', 'matched': 1, 'properties': {'created_at': [1, False, 'String'], 'dst_class': [1, False, 'String'], 'dst_id': [1, False, 'Number'], 'src_class': [1, False, 'String'], 'src_id': [1, False, 'Number'], 'type': [1, False, 'String']}, 'src': 'Software'}, 'acts_as_middle_layer_between': {'dst': 'Hardware', 'matched': 1, 'properties': {'created_at': [1, False, 'String'], 'dst_class': [1, False, 'String'], 'dst_id': [1, False, 'Number'], 'src_class': [1, False, 'String'], 'src_id': [1, False, 'Number'], 'type': [1, False, 'String']}, 'src': 'Concept'}, 'acts_as_time_source_for': {'dst': 'Service', 'matched': 1, 'properties': {'created_at': [1, False, 'String'], 'dst_class': [1, False, 'String'], 'dst_id': [1, False, 'Number'], 'src_class': [1, False, 'String'], 'src_id': [1, False, 'Number'], 'type': [1, False, 'String']}, 'src': 'Hardware'}, 'acts_on_behalf_of': {'dst': 'Organization', 'matched': 1, 'properties': {'created_at': [1, False, 'String'], 'dst_class': [1, False, 'String'], 'dst_id': [1, False, 'Number'], 'src_class': [1, False, 'String'], 'src_id': [1, False, 'Number'], 'type': [1, False, 'String']}, 'src': 'Service'}, 'adds': {'dst': 'Concept', 'matched': 1, 'properties': {'created_at': [1, False, 'String'], 'dst_class': [1, False, 'String'], 'dst_id': [1, False, 'Number'], 'src_class': [1, False, 'String'], 'src_id': [1, False, 'Number'], 'type': [1, False, 'String']}, 'src': 'Software'}, 'aggregates': {'dst': 'Service', 'matched': 1, 'properties': {'created_at': [1, False, 'String'], 'dst_class': [1, False, 'String'], 'dst_id': [1, False, 'Number'], 'src_class': [1, False, 'String'], 'src_id': [1, False, 'Number'], 'type': [1, False, 'String']}, 'src': 'Service'}, 'allocated_from': {'dst': 'Organization', 'matched': 1, 'properties': {'created_at': [1, False, 'String'], 'dst_class': [1, False, 'String'], 'dst_id': [1, False, 'Number'], 'src_class': [1, False, 'String'], 'src_id': [1, False, 'Number'], 'type': [1, False, 'String']}, 'src': 'Network'}, 'allocates': {'dst': 'Network', 'matched': 1, 'properties': {'created_at': [1, False, 'String'], 'dst_class': [1, False, 'String'], 'dst_id': [1, False, 'Number'], 'src_class': [1, False, 'String'], 'src_id': [1, False, 'Number'], 'type': [1, False, 'String']}, 'src': 'Organization'}, 'allocates_machines_for': {'dst': 'Service', 'matched': 1, 'properties': {'created_at': [1, False, 'String'], 'dst_class': [1, False, 'String'], 'dst_id': [1, False, 'Number'], 'src_class': [1, False, 'String'], 'src_id': [1, False, 'Number'], 'type': [1, False, 'String']}, 'src': 'System'}, 'allocates_to': {'dst': 'Hardware', 'matched': 3, 'properties': {'created_at': [3, False, 'String'], 'dst_class': [3, False, 'String'], 'dst_id': [3, False, 'Number'], 'src_class': [3, False, 'String'], 'src_id': [3, False, 'Number'], 'type': [3, False, 'String']}, 'src': 'Concept'}, 'allows_access_to': {'dst': 'Hardware', 'matched': 1, 'properties': {'created_at': [1, False, 'String'], 'dst_class': [1, False, 'String'], 'dst_id': [1, False, 'Number'], 'src_class': [1, False, 'String'], 'src_id': [1, False, 'Number'], 'type': [1, False, 'String']}, 'src': 'Software'}, 'allows_bidding_on': {'dst': 'Service', 'matched': 1, 'properties': {'created_at': [1, False, 'String'], 'dst_class': [1, False, 'String'], 'dst_id': [1, False, 'Number'], 'src_class': [1, False, 'String'], 'src_id': [1, False, 'Number'], 'type': [1, False, 'String']}, 'src': 'Concept'}, 'allows_configuration_of': {'dst': 'Service', 'matched': 1, 'properties': {'created_at': [1, False, 'String'], 'dst_class': [1, False, 'String'], 'dst_id': [1, False, 'Number'], 'src_class': [1, False, 'String'], 'src_id': [1, False, 'Number'], 'type': [1, False, 'String']}, 'src': 'Concept'}, 'allows_construction_of': {'dst': 'Concept', 'matched': 1, 'properties': {'created_at': [1, False, 'String'], 'dst_class': [1, False, 'String'], 'dst_id': [1, False, 'Number'], 'src_class': [1, False, 'String'], 'src_id': [1, False, 'Number'], 'type': [1, False, 'String']}, 'src': 'System'}, 'allows_deployment_of': {'dst': 'Service', 'matched': 1, 'properties': {'created_at': [1, False, 'String'], 'dst_class': [1, False, 'String'], 'dst_id': [1, False, 'Number'], 'src_class': [1, False, 'String'], 'src_id': [1, False, 'Number'], 'type': [1, False, 'String']}, 'src': 'Concept'}, 'allows_to_run': {'dst': 'Software', 'matched': 1, 'properties': {'created_at': [1, False, 'String'], 'dst_class': [1, False, 'String'], 'dst_id': [1, False, 'Number'], 'src_class': [1, False, 'String'], 'src_id': [1, False, 'Number'], 'type': [1, False, 'String']}, 'src': 'Network'}, 'also_known_as': {'dst': 'System', 'matched': 1, 'properties': {'created_at': [1, False, 'String'], 'dst_class': [1, False, 'String'], 'dst_id': [1, False, 'Number'], 'src_class': [1, False, 'String'], 'src_id': [1, False, 'Number'], 'type': [1, False, 'String']}, 'src': 'System'}, 'applies_to': {'dst': 'User', 'matched': 1, 'properties': {'created_at': [1, False, 'String'], 'dst_class': [1, False, 'String'], 'dst_id': [1, False, 'Number'], 'src_class': [1, False, 'String'], 'src_id': [1, False, 'Number'], 'type': [1, False, 'String']}, 'src': 'Concept'}, 'assesses': {'dst': 'Software', 'matched': 1, 'properties': {'created_at': [1, False, 'String'], 'dst_class': [1, False, 'String'], 'dst_id': [1, False, 'Number'], 'src_class': [1, False, 'String'], 'src_id': [1, False, 'Number'], 'type': [1, False, 'String']}, 'src': 'Concept'}, 'assigned_to': {'dst': 'Network', 'matched': 1, 'properties': {'created_at': [1, False, 'String'], 'dst_class': [1, False, 'String'], 'dst_id': [1, False, 'Number'], 'src_class': [1, False, 'String'], 'src_id': [1, False, 'Number'], 'type': [1, False, 'String']}, 'src': 'User'}, 'assigned_via': {'dst': 'Network', 'matched': 1, 'properties': {'created_at': [1, False, 'String'], 'dst_class': [1, False, 'String'], 'dst_id': [1, False, 'Number'], 'src_class': [1, False, 'String'], 'src_id': [1, False, 'Number'], 'type': [1, False, 'String']}, 'src': 'Network'}, 'assigns': {'dst': 'Hardware', 'matched': 1, 'properties': {'created_at': [1, False, 'String'], 'dst_class': [1, False, 'String'], 'dst_id': [1, False, 'Number'], 'src_class': [1, False, 'String'], 'src_id': [1, False, 'Number'], 'type': [1, False, 'String']}, 'src': 'User'}, 'associated_with': {'dst': 'Software', 'matched': 2, 'properties': {'created_at': [2, False, 'String'], 'dst_class': [2, False, 'String'], 'dst_id': [2, False, 'Number'], 'src_class': [2, False, 'String'], 'src_id': [2, False, 'Number'], 'type': [2, False, 'String']}, 'src': 'Concept'}, 'attached_to': {'dst': 'Software', 'matched': 1, 'properties': {'created_at': [1, False, 'String'], 'dst_class': [1, False, 'String'], 'dst_id': [1, False, 'Number'], 'src_class': [1, False, 'String'], 'src_id': [1, False, 'Number'], 'type': [1, False, 'String']}, 'src': 'Software'}, 'audits_for': {'dst': 'Concept', 'matched': 1, 'properties': {'created_at': [1, False, 'String'], 'dst_class': [1, False, 'String'], 'dst_id': [1, False, 'Number'], 'src_class': [1, False, 'String'], 'src_id': [1, False, 'Number'], 'type': [1, False, 'String']}, 'src': 'Service'}, 'automates_functions_within': {'dst': 'System', 'matched': 1, 'properties': {'created_at': [1, False, 'String'], 'dst_class': [1, False, 'String'], 'dst_id': [1, False, 'Number'], 'src_class': [1, False, 'String'], 'src_id': [1, False, 'Number'], 'type': [1, False, 'String']}, 'src': 'User'}, 'belongs_to': {'dst': 'User', 'matched': 1, 'properties': {'created_at': [1, False, 'String'], 'dst_class': [1, False, 'String'], 'dst_id': [1, False, 'Number'], 'src_class': [1, False, 'String'], 'src_id': [1, False, 'Number'], 'type': [1, False, 'String']}, 'src': 'Network'}, 'belongs_to_data_source': {'dst': '_Blob', 'matched': 5, 'properties': {'created_at': [5, False, 'String'], 'dst_class': [5, False, 'String'], 'dst_id': [5, False, 'Number'], 'src_id': [5, False, 'Number'], 'type': [5, False, 'String']}, 'src': 'User'}, 'benefits': {'dst': 'Concept', 'matched': 2, 'properties': {'created_at': [2, False, 'String'], 'dst_class': [2, False, 'String'], 'dst_id': [2, False, 'Number'], 'src_class': [2, False, 'String'], 'src_id': [2, False, 'Number'], 'type': [2, False, 'String']}, 'src': 'Concept'}, 'between': {'dst': 'Hardware', 'matched': 1, 'properties': {'created_at': [1, False, 'String'], 'dst_class': [1, False, 'String'], 'dst_id': [1, False, 'Number'], 'src_class': [1, False, 'String'], 'src_id': [1, False, 'Number'], 'type': [1, False, 'String']}, 'src': 'Concept'}, 'builds': {'dst': 'Concept', 'matched': 1, 'properties': {'created_at': [1, False, 'String'], 'dst_class': [1, False, 'String'], 'dst_id': [1, False, 'Number'], 'src_class': [1, False, 'String'], 'src_id': [1, False, 'Number'], 'type': [1, False, 'String']}, 'src': 'User'}, 'built_using': {'dst': 'Concept', 'matched': 2, 'properties': {'created_at': [2, False, 'String'], 'dst_class': [2, False, 'String'], 'dst_id': [2, False, 'Number'], 'src_class': [2, False, 'String'], 'src_id': [2, False, 'Number'], 'type': [2, False, 'String']}, 'src': 'Concept'}, 'bypasses': {'dst': 'Software', 'matched': 1, 'properties': {'created_at': [1, False, 'String'], 'dst_class': [1, False, 'String'], 'dst_id': [1, False, 'Number'], 'src_class': [1, False, 'String'], 'src_id': [1, False, 'Number'], 'type': [1, False, 'String']}, 'src': 'Service'}, 'can_be_assigned_to': {'dst': 'Service', 'matched': 1, 'properties': {'created_at': [1, False, 'String'], 'dst_class': [1, False, 'String'], 'dst_id': [1, False, 'Number'], 'src_class': [1, False, 'String'], 'src_id': [1, False, 'Number'], 'type': [1, False, 'String']}, 'src': 'Network'}, 'can_be_built_on': {'dst': 'System', 'matched': 1, 'properties': {'created_at': [1, False, 'String'], 'dst_class': [1, False, 'String'], 'dst_id': [1, False, 'Number'], 'src_class': [1, False, 'String'], 'src_id': [1, False, 'Number'], 'type': [1, False, 'String']}, 'src': 'System'}, 'can_be_classified_as': {'dst': 'System', 'matched': 1, 'properties': {'created_at': [1, False, 'String'], 'dst_class': [1, False, 'String'], 'dst_id': [1, False, 'Number'], 'src_class': [1, False, 'String'], 'src_id': [1, False, 'Number'], 'type': [1, False, 'String']}, 'src': 'System'}, 'can_be_deployed_in': {'dst': 'System', 'matched': 1, 'properties': {'created_at': [1, False, 'String'], 'dst_class': [1, False, 'String'], 'dst_id': [1, False, 'Number'], 'src_class': [1, False, 'String'], 'src_id': [1, False, 'Number'], 'type': [1, False, 'String']}, 'src': 'Concept'}, 'can_be_managed_by': {'dst': 'Organization', 'matched': 2, 'properties': {'created_at': [2, False, 'String'], 'dst_class': [2, False, 'String'], 'dst_id': [2, False, 'Number'], 'src_class': [2, False, 'String'], 'src_id': [2, False, 'Number'], 'type': [2, False, 'String']}, 'src': 'Concept'}, 'can_be_provided_in': {'dst': 'System', 'matched': 1, 'properties': {'created_at': [1, False, 'String'], 'dst_class': [1, False, 'String'], 'dst_id': [1, False, 'Number'], 'src_class': [1, False, 'String'], 'src_id': [1, False, 'Number'], 'type': [1, False, 'String']}, 'src': 'Concept'}, 'can_cause': {'dst': 'Concept', 'matched': 1, 'properties': {'created_at': [1, False, 'String'], 'dst_class': [1, False, 'String'], 'dst_id': [1, False, 'Number'], 'src_class': [1, False, 'String'], 'src_id': [1, False, 'Number'], 'type': [1, False, 'String']}, 'src': 'Software'}, 'can_create': {'dst': 'System', 'matched': 2, 'properties': {'created_at': [2, False, 'String'], 'dst_class': [2, False, 'String'], 'dst_id': [2, False, 'Number'], 'src_class': [2, False, 'String'], 'src_id': [2, False, 'Number'], 'type': [2, False, 'String']}, 'src': 'System'}, 'can_have': {'dst': 'Concept', 'matched': 1, 'properties': {'created_at': [1, False, 'String'], 'dst_class': [1, False, 'String'], 'dst_id': [1, False, 'Number'], 'src_class': [1, False, 'String'], 'src_id': [1, False, 'Number'], 'type': [1, False, 'String']}, 'src': 'System'}, 'can_participate_in': {'dst': 'System', 'matched': 1, 'properties': {'created_at': [1, False, 'String'], 'dst_class': [1, False, 'String'], 'dst_id': [1, False, 'Number'], 'src_class': [1, False, 'String'], 'src_id': [1, False, 'Number'], 'type': [1, False, 'String']}, 'src': 'User'}, 'can_request': {'dst': 'System', 'matched': 1, 'properties': {'created_at': [1, False, 'String'], 'dst_class': [1, False, 'String'], 'dst_id': [1, False, 'Number'], 'src_class': [1, False, 'String'], 'src_id': [1, False, 'Number'], 'type': [1, False, 'String']}, 'src': 'User'}, 'can_sell_resources_in': {'dst': 'System', 'matched': 1, 'properties': {'created_at': [1, False, 'String'], 'dst_class': [1, False, 'String'], 'dst_id': [1, False, 'Number'], 'src_class': [1, False, 'String'], 'src_id': [1, False, 'Number'], 'type': [1, False, 'String']}, 'src': 'User'}, 'changes_unless': {'dst': 'Network', 'matched': 1, 'properties': {'created_at': [1, False, 'String'], 'dst_class': [1, False, 'String'], 'dst_id': [1, False, 'Number'], 'src_class': [1, False, 'String'], 'src_id': [1, False, 'Number'], 'type': [1, False, 'String']}, 'src': 'Network'}, 'collects_stats_from': {'dst': 'Concept', 'matched': 1, 'properties': {'created_at': [1, False, 'String'], 'dst_class': [1, False, 'String'], 'dst_id': [1, False, 'Number'], 'src_class': [1, False, 'String'], 'src_id': [1, False, 'Number'], 'type': [1, False, 'String']}, 'src': 'Software'}, 'combines': {'dst': 'System', 'matched': 2, 'properties': {'created_at': [2, False, 'String'], 'dst_class': [2, False, 'String'], 'dst_id': [2, False, 'Number'], 'src_class': [2, False, 'String'], 'src_id': [2, False, 'Number'], 'type': [2, False, 'String']}, 'src': 'System'}, 'commands_routed_through': {'dst': 'Software', 'matched': 1, 'properties': {'created_at': [1, False, 'String'], 'dst_class': [1, False, 'String'], 'dst_id': [1, False, 'Number'], 'src_class': [1, False, 'String'], 'src_id': [1, False, 'Number'], 'type': [1, False, 'String']}, 'src': 'Concept'}, 'communicates_with': {'dst': 'Software', 'matched': 1, 'properties': {'created_at': [1, False, 'String'], 'dst_class': [1, False, 'String'], 'dst_id': [1, False, 'Number'], 'src_class': [1, False, 'String'], 'src_id': [1, False, 'Number'], 'type': [1, False, 'String']}, 'src': 'Software'}, 'comprises': {'dst': 'Software', 'matched': 1, 'properties': {'created_at': [1, False, 'String'], 'dst_class': [1, False, 'String'], 'dst_id': [1, False, 'Number'], 'src_class': [1, False, 'String'], 'src_id': [1, False, 'Number'], 'type': [1, False, 'String']}, 'src': 'Concept'}, 'connected_to': {'dst': 'Hardware', 'matched': 1, 'properties': {'created_at': [1, False, 'String'], 'dst_class': [1, False, 'String'], 'dst_id': [1, False, 'Number'], 'src_class': [1, False, 'String'], 'src_id': [1, False, 'Number'], 'type': [1, False, 'String']}, 'src': 'Software'}, 'connects': {'dst': 'Hardware', 'matched': 1, 'properties': {'created_at': [1, False, 'String'], 'dst_class': [1, False, 'String'], 'dst_id': [1, False, 'Number'], 'src_class': [1, False, 'String'], 'src_id': [1, False, 'Number'], 'type': [1, False, 'String']}, 'src': 'Software'}, 'consists_of': {'dst': 'Network', 'matched': 2, 'properties': {'created_at': [2, False, 'String'], 'dst_class': [2, False, 'String'], 'dst_id': [2, False, 'Number'], 'src_class': [2, False, 'String'], 'src_id': [2, False, 'Number'], 'type': [2, False, 'String']}, 'src': 'Service'}, 'consolidates': {'dst': 'Concept', 'matched': 1, 'properties': {'created_at': [1, False, 'String'], 'dst_class': [1, False, 'String'], 'dst_id': [1, False, 'Number'], 'src_class': [1, False, 'String'], 'src_id': [1, False, 'Number'], 'type': [1, False, 'String']}, 'src': 'System'}, 'constructed_from': {'dst': 'Hardware', 'matched': 1, 'properties': {'created_at': [1, False, 'String'], 'dst_class': [1, False, 'String'], 'dst_id': [1, False, 'Number'], 'src_class': [1, False, 'String'], 'src_id': [1, False, 'Number'], 'type': [1, False, 'String']}, 'src': 'System'}, 'consumes_fewer_resources_than': {'dst': 'Concept', 'matched': 1, 'properties': {'created_at': [1, False, 'String'], 'dst_class': [1, False, 'String'], 'dst_id': [1, False, 'Number'], 'src_class': [1, False, 'String'], 'src_id': [1, False, 'Number'], 'type': [1, False, 'String']}, 'src': 'Concept'}, 'contains': {'dst': 'Software', 'matched': 1, 'properties': {'created_at': [1, False, 'String'], 'dst_class': [1, False, 'String'], 'dst_id': [1, False, 'Number'], 'src_class': [1, False, 'String'], 'src_id': [1, False, 'Number'], 'type': [1, False, 'String']}, 'src': 'Software'}, 'contrasts_with': {'dst': 'Concept', 'matched': 1, 'properties': {'created_at': [1, False, 'String'], 'dst_class': [1, False, 'String'], 'dst_id': [1, False, 'Number'], 'src_class': [1, False, 'String'], 'src_id': [1, False, 'Number'], 'type': [1, False, 'String']}, 'src': 'Concept'}, 'contributes_to': {'dst': 'System', 'matched': 2, 'properties': {'created_at': [2, False, 'String'], 'dst_class': [2, False, 'String'], 'dst_id': [2, False, 'Number'], 'src_class': [2, False, 'String'], 'src_id': [2, False, 'Number'], 'type': [2, False, 'String']}, 'src': 'System'}, 'controls': {'dst': 'Concept', 'matched': 1, 'properties': {'created_at': [1, False, 'String'], 'dst_class': [1, False, 'String'], 'dst_id': [1, False, 'Number'], 'src_class': [1, False, 'String'], 'src_id': [1, False, 'Number'], 'type': [1, False, 'String']}, 'src': 'User'}, 'created_for': {'dst': 'System', 'matched': 1, 'properties': {'created_at': [1, False, 'String'], 'dst_class': [1, False, 'String'], 'dst_id': [1, False, 'Number'], 'src_class': [1, False, 'String'], 'src_id': [1, False, 'Number'], 'type': [1, False, 'String']}, 'src': 'System'}, 'created_from': {'dst': 'Hardware', 'matched': 3, 'properties': {'created_at': [3, False, 'String'], 'dst_class': [3, False, 'String'], 'dst_id': [3, False, 'Number'], 'src_class': [3, False, 'String'], 'src_id': [3, False, 'Number'], 'type': [3, False, 'String']}, 'src': 'Concept'}, 'created_on_top_of': {'dst': 'Software', 'matched': 1, 'properties': {'created_at': [1, False, 'String'], 'dst_class': [1, False, 'String'], 'dst_id': [1, False, 'Number'], 'src_class': [1, False, 'String'], 'src_id': [1, False, 'Number'], 'type': [1, False, 'String']}, 'src': 'Concept'}, 'creates': {'dst': 'Network', 'matched': 1, 'properties': {'created_at': [1, False, 'String'], 'dst_class': [1, False, 'String'], 'dst_id': [1, False, 'Number'], 'src_class': [1, False, 'String'], 'src_id': [1, False, 'Number'], 'type': [1, False, 'String']}, 'src': 'User'}, 'creation_involves': {'dst': 'Service', 'matched': 6, 'properties': {'created_at': [6, False, 'String'], 'dst_class': [6, False, 'String'], 'dst_id': [6, False, 'Number'], 'src_class': [6, False, 'String'], 'src_id': [6, False, 'Number'], 'type': [6, False, 'String']}, 'src': 'Concept'}, 'decides': {'dst': 'Hardware', 'matched': 1, 'properties': {'created_at': [1, False, 'String'], 'dst_class': [1, False, 'String'], 'dst_id': [1, False, 'Number'], 'src_class': [1, False, 'String'], 'src_id': [1, False, 'Number'], 'type': [1, False, 'String']}, 'src': 'Service'}, 'defined_by': {'dst': 'Concept', 'matched': 1, 'properties': {'created_at': [1, False, 'String'], 'dst_class': [1, False, 'String'], 'dst_id': [1, False, 'Number'], 'src_class': [1, False, 'String'], 'src_id': [1, False, 'Number'], 'type': [1, False, 'String']}, 'src': 'Organization'}, 'defines': {'dst': 'System', 'matched': 1, 'properties': {'created_at': [1, False, 'String'], 'dst_class': [1, False, 'String'], 'dst_id': [1, False, 'Number'], 'src_class': [1, False, 'String'], 'src_id': [1, False, 'Number'], 'type': [1, False, 'String']}, 'src': 'Organization'}, 'defines_access_for': {'dst': 'User', 'matched': 1, 'properties': {'created_at': [1, False, 'String'], 'dst_class': [1, False, 'String'], 'dst_id': [1, False, 'Number'], 'src_class': [1, False, 'String'], 'src_id': [1, False, 'Number'], 'type': [1, False, 'String']}, 'src': 'Concept'}, 'defines_access_to': {'dst': 'Service', 'matched': 1, 'properties': {'created_at': [1, False, 'String'], 'dst_class': [1, False, 'String'], 'dst_id': [1, False, 'Number'], 'src_class': [1, False, 'String'], 'src_id': [1, False, 'Number'], 'type': [1, False, 'String']}, 'src': 'Concept'}, 'defines_responsibility_between': {'dst': 'User', 'matched': 1, 'properties': {'created_at': [1, False, 'String'], 'dst_class': [1, False, 'String'], 'dst_id': [1, False, 'Number'], 'src_class': [1, False, 'String'], 'src_id': [1, False, 'Number'], 'type': [1, False, 'String']}, 'src': 'Concept'}, 'defines_service_level_for': {'dst': 'User', 'matched': 1, 'properties': {'created_at': [1, False, 'String'], 'dst_class': [1, False, 'String'], 'dst_id': [1, False, 'Number'], 'src_class': [1, False, 'String'], 'src_id': [1, False, 'Number'], 'type': [1, False, 'String']}, 'src': 'Concept'}, 'delivers': {'dst': 'Service', 'matched': 1, 'properties': {'created_at': [1, False, 'String'], 'dst_class': [1, False, 'String'], 'dst_id': [1, False, 'Number'], 'src_class': [1, False, 'String'], 'src_id': [1, False, 'Number'], 'type': [1, False, 'String']}, 'src': 'Service'}, 'delivers_as': {'dst': 'Service', 'matched': 1, 'properties': {'created_at': [1, False, 'String'], 'dst_class': [1, False, 'String'], 'dst_id': [1, False, 'Number'], 'src_class': [1, False, 'String'], 'src_id': [1, False, 'Number'], 'type': [1, False, 'String']}, 'src': 'Service'}, 'delivers_to': {'dst': 'User', 'matched': 1, 'properties': {'created_at': [1, False, 'String'], 'dst_class': [1, False, 'String'], 'dst_id': [1, False, 'Number'], 'src_class': [1, False, 'String'], 'src_id': [1, False, 'Number'], 'type': [1, False, 'String']}, 'src': 'Service'}, 'demonstrates': {'dst': 'Concept', 'matched': 1, 'properties': {'created_at': [1, False, 'String'], 'dst_class': [1, False, 'String'], 'dst_id': [1, False, 'Number'], 'src_class': [1, False, 'String'], 'src_id': [1, False, 'Number'], 'type': [1, False, 'String']}, 'src': 'Network'}, 'depends_on': {'dst': 'Software', 'matched': 1, 'properties': {'created_at': [1, False, 'String'], 'dst_class': [1, False, 'String'], 'dst_id': [1, False, 'Number'], 'src_class': [1, False, 'String'], 'src_id': [1, False, 'Number'], 'type': [1, False, 'String']}, 'src': 'Software'}, 'designed_for': {'dst': 'User', 'matched': 2, 'properties': {'created_at': [2, False, 'String'], 'dst_class': [2, False, 'String'], 'dst_id': [2, False, 'Number'], 'src_class': [2, False, 'String'], 'src_id': [2, False, 'Number'], 'type': [2, False, 'String']}, 'src': 'Service'}, 'developed_by': {'dst': 'Organization', 'matched': 1, 'properties': {'created_at': [1, False, 'String'], 'dst_class': [1, False, 'String'], 'dst_id': [1, False, 'Number'], 'src_class': [1, False, 'String'], 'src_id': [1, False, 'Number'], 'type': [1, False, 'String']}, 'src': 'Software'}, 'differs_from': {'dst': 'System', 'matched': 1, 'properties': {'created_at': [1, False, 'String'], 'dst_class': [1, False, 'String'], 'dst_id': [1, False, 'Number'], 'src_class': [1, False, 'String'], 'src_id': [1, False, 'Number'], 'type': [1, False, 'String']}, 'src': 'System'}, 'distributes_across': {'dst': 'Concept', 'matched': 1, 'properties': {'created_at': [1, False, 'String'], 'dst_class': [1, False, 'String'], 'dst_id': [1, False, 'Number'], 'src_class': [1, False, 'String'], 'src_id': [1, False, 'Number'], 'type': [1, False, 'String']}, 'src': 'Software'}, 'distributes_to': {'dst': 'User', 'matched': 1, 'properties': {'created_at': [1, False, 'String'], 'dst_class': [1, False, 'String'], 'dst_id': [1, False, 'Number'], 'src_class': [1, False, 'String'], 'src_id': [1, False, 'Number'], 'type': [1, False, 'String']}, 'src': 'Network'}, 'distributes_traffic_to': {'dst': 'Service', 'matched': 1, 'properties': {'created_at': [1, False, 'String'], 'dst_class': [1, False, 'String'], 'dst_id': [1, False, 'Number'], 'src_class': [1, False, 'String'], 'src_id': [1, False, 'Number'], 'type': [1, False, 'String']}, 'src': 'Service'}, 'does_not_require_modification_of': {'dst': 'Software', 'matched': 1, 'properties': {'created_at': [1, False, 'String'], 'dst_class': [1, False, 'String'], 'dst_id': [1, False, 'Number'], 'src_class': [1, False, 'String'], 'src_id': [1, False, 'Number'], 'type': [1, False, 'String']}, 'src': 'Concept'}, 'due_to': {'dst': 'Concept', 'matched': 1, 'properties': {'created_at': [1, False, 'String'], 'dst_class': [1, False, 'String'], 'dst_id': [1, False, 'Number'], 'src_class': [1, False, 'String'], 'src_id': [1, False, 'Number'], 'type': [1, False, 'String']}, 'src': 'Software'}, 'eases_migration_of': {'dst': 'Concept', 'matched': 1, 'properties': {'created_at': [1, False, 'String'], 'dst_class': [1, False, 'String'], 'dst_id': [1, False, 'Number'], 'src_class': [1, False, 'String'], 'src_id': [1, False, 'Number'], 'type': [1, False, 'String']}, 'src': 'Concept'}, 'emulates': {'dst': 'Hardware', 'matched': 2, 'properties': {'created_at': [2, False, 'String'], 'dst_class': [2, False, 'String'], 'dst_id': [2, False, 'Number'], 'src_class': [2, False, 'String'], 'src_id': [2, False, 'Number'], 'type': [2, False, 'String']}, 'src': 'Software'}, 'enables': {'dst': 'User', 'matched': 2, 'properties': {'created_at': [2, False, 'String'], 'dst_class': [2, False, 'String'], 'dst_id': [2, False, 'Number'], 'src_class': [2, False, 'String'], 'src_id': [2, False, 'Number'], 'type': [2, False, 'String']}, 'src': 'System'}, 'enables_building_of': {'dst': 'System', 'matched': 1, 'properties': {'created_at': [1, False, 'String'], 'dst_class': [1, False, 'String'], 'dst_id': [1, False, 'Number'], 'src_class': [1, False, 'String'], 'src_id': [1, False, 'Number'], 'type': [1, False, 'String']}, 'src': 'Organization'}, 'enables_communication_between': {'dst': 'Service', 'matched': 1, 'properties': {'created_at': [1, False, 'String'], 'dst_class': [1, False, 'String'], 'dst_id': [1, False, 'Number'], 'src_class': [1, False, 'String'], 'src_id': [1, False, 'Number'], 'type': [1, False, 'String']}, 'src': 'Service'}, 'enables_connection_between': {'dst': 'User', 'matched': 1, 'properties': {'created_at': [1, False, 'String'], 'dst_class': [1, False, 'String'], 'dst_id': [1, False, 'Number'], 'src_class': [1, False, 'String'], 'src_id': [1, False, 'Number'], 'type': [1, False, 'String']}, 'src': 'Concept'}, 'enables_connection_for': {'dst': 'Software', 'matched': 1, 'properties': {'created_at': [1, False, 'String'], 'dst_class': [1, False, 'String'], 'dst_id': [1, False, 'Number'], 'src_class': [1, False, 'String'], 'src_id': [1, False, 'Number'], 'type': [1, False, 'String']}, 'src': 'Software'}, 'enables_construction_of': {'dst': 'Concept', 'matched': 1, 'properties': {'created_at': [1, False, 'String'], 'dst_class': [1, False, 'String'], 'dst_id': [1, False, 'Number'], 'src_class': [1, False, 'String'], 'src_id': [1, False, 'Number'], 'type': [1, False, 'String']}, 'src': 'System'}, 'enables_creation_of': {'dst': 'Concept', 'matched': 3, 'properties': {'created_at': [3, False, 'String'], 'dst_class': [3, False, 'String'], 'dst_id': [3, False, 'Number'], 'src_class': [3, False, 'String'], 'src_id': [3, False, 'Number'], 'type': [3, False, 'String']}, 'src': 'Concept'}, 'enables_data_transfer_between': {'dst': 'Hardware', 'matched': 2, 'properties': {'created_at': [2, False, 'String'], 'dst_class': [2, False, 'String'], 'dst_id': [2, False, 'Number'], 'src_class': [2, False, 'String'], 'src_id': [2, False, 'Number'], 'type': [2, False, 'String']}, 'src': 'Network'}, 'enables_independence_from': {'dst': 'Software', 'matched': 1, 'properties': {'created_at': [1, False, 'String'], 'dst_class': [1, False, 'String'], 'dst_id': [1, False, 'Number'], 'src_class': [1, False, 'String'], 'src_id': [1, False, 'Number'], 'type': [1, False, 'String']}, 'src': 'Software'}, 'enables_migration_across': {'dst': 'Organization', 'matched': 1, 'properties': {'created_at': [1, False, 'String'], 'dst_class': [1, False, 'String'], 'dst_id': [1, False, 'Number'], 'src_class': [1, False, 'String'], 'src_id': [1, False, 'Number'], 'type': [1, False, 'String']}, 'src': 'System'}, 'enables_migration_between': {'dst': 'Organization', 'matched': 1, 'properties': {'created_at': [1, False, 'String'], 'dst_class': [1, False, 'String'], 'dst_id': [1, False, 'Number'], 'src_class': [1, False, 'String'], 'src_id': [1, False, 'Number'], 'type': [1, False, 'String']}, 'src': 'Service'}, 'enforces': {'dst': 'Concept', 'matched': 1, 'properties': {'created_at': [1, False, 'String'], 'dst_class': [1, False, 'String'], 'dst_id': [1, False, 'Number'], 'src_class': [1, False, 'String'], 'src_id': [1, False, 'Number'], 'type': [1, False, 'String']}, 'src': 'Concept'}, 'enhances': {'dst': 'Concept', 'matched': 1, 'properties': {'created_at': [1, False, 'String'], 'dst_class': [1, False, 'String'], 'dst_id': [1, False, 'Number'], 'src_class': [1, False, 'String'], 'src_id': [1, False, 'Number'], 'type': [1, False, 'String']}, 'src': 'Concept'}, 'ensures': {'dst': 'Concept', 'matched': 2, 'properties': {'created_at': [2, False, 'String'], 'dst_class': [2, False, 'String'], 'dst_id': [2, False, 'Number'], 'src_class': [2, False, 'String'], 'src_id': [2, False, 'Number'], 'type': [2, False, 'String']}, 'src': 'System'}, 'ensures_compatibility_between': {'dst': 'System', 'matched': 1, 'properties': {'created_at': [1, False, 'String'], 'dst_class': [1, False, 'String'], 'dst_id': [1, False, 'Number'], 'src_class': [1, False, 'String'], 'src_id': [1, False, 'Number'], 'type': [1, False, 'String']}, 'src': 'Service'}, 'example': {'dst': 'Software', 'matched': 1, 'properties': {'created_at': [1, False, 'String'], 'dst_class': [1, False, 'String'], 'dst_id': [1, False, 'Number'], 'src_class': [1, False, 'String'], 'src_id': [1, False, 'Number'], 'type': [1, False, 'String']}, 'src': 'Software'}, 'exemplified_by': {'dst': 'Software', 'matched': 1, 'properties': {'created_at': [1, False, 'String'], 'dst_class': [1, False, 'String'], 'dst_id': [1, False, 'Number'], 'src_class': [1, False, 'String'], 'src_id': [1, False, 'Number'], 'type': [1, False, 'String']}, 'src': 'Service'}, 'exists_in': {'dst': 'Network', 'matched': 1, 'properties': {'created_at': [1, False, 'String'], 'dst_class': [1, False, 'String'], 'dst_id': [1, False, 'Number'], 'src_class': [1, False, 'String'], 'src_id': [1, False, 'Number'], 'type': [1, False, 'String']}, 'src': 'System'}, 'extends': {'dst': 'System', 'matched': 1, 'properties': {'created_at': [1, False, 'String'], 'dst_class': [1, False, 'String'], 'dst_id': [1, False, 'Number'], 'src_class': [1, False, 'String'], 'src_id': [1, False, 'Number'], 'type': [1, False, 'String']}, 'src': 'Network'}, 'extends_to': {'dst': 'Organization', 'matched': 1, 'properties': {'created_at': [1, False, 'String'], 'dst_class': [1, False, 'String'], 'dst_id': [1, False, 'Number'], 'src_class': [1, False, 'String'], 'src_id': [1, False, 'Number'], 'type': [1, False, 'String']}, 'src': 'Network'}, 'faces_concerns': {'dst': 'Concept', 'matched': 2, 'properties': {'created_at': [2, False, 'String'], 'dst_class': [2, False, 'String'], 'dst_id': [2, False, 'Number'], 'src_class': [2, False, 'String'], 'src_id': [2, False, 'Number'], 'type': [2, False, 'String']}, 'src': 'System'}, 'faces_issue': {'dst': 'Concept', 'matched': 1, 'properties': {'created_at': [1, False, 'String'], 'dst_class': [1, False, 'String'], 'dst_id': [1, False, 'Number'], 'src_class': [1, False, 'String'], 'src_id': [1, False, 'Number'], 'type': [1, False, 'String']}, 'src': 'System'}, 'features': {'dst': 'System', 'matched': 1, 'properties': {'created_at': [1, False, 'String'], 'dst_class': [1, False, 'String'], 'dst_id': [1, False, 'Number'], 'src_class': [1, False, 'String'], 'src_id': [1, False, 'Number'], 'type': [1, False, 'String']}, 'src': 'System'}, 'focuses_on': {'dst': 'System', 'matched': 1, 'properties': {'created_at': [1, False, 'String'], 'dst_class': [1, False, 'String'], 'dst_id': [1, False, 'Number'], 'src_class': [1, False, 'String'], 'src_id': [1, False, 'Number'], 'type': [1, False, 'String']}, 'src': 'Concept'}, 'for': {'dst': 'Network', 'matched': 2, 'properties': {'created_at': [2, False, 'String'], 'dst_class': [2, False, 'String'], 'dst_id': [2, False, 'Number'], 'src_class': [2, False, 'String'], 'src_id': [2, False, 'Number'], 'type': [2, False, 'String']}, 'src': 'Software'}, 'for_managing': {'dst': 'System', 'matched': 1, 'properties': {'created_at': [1, False, 'String'], 'dst_class': [1, False, 'String'], 'dst_id': [1, False, 'Number'], 'src_class': [1, False, 'String'], 'src_id': [1, False, 'Number'], 'type': [1, False, 'String']}, 'src': 'Concept'}, 'for_monitoring': {'dst': 'Service', 'matched': 1, 'properties': {'created_at': [1, False, 'String'], 'dst_class': [1, False, 'String'], 'dst_id': [1, False, 'Number'], 'src_class': [1, False, 'String'], 'src_id': [1, False, 'Number'], 'type': [1, False, 'String']}, 'src': 'Service'}, 'for_role_in': {'dst': 'Concept', 'matched': 1, 'properties': {'created_at': [1, False, 'String'], 'dst_class': [1, False, 'String'], 'dst_id': [1, False, 'Number'], 'src_class': [1, False, 'String'], 'src_id': [1, False, 'Number'], 'type': [1, False, 'String']}, 'src': 'Concept'}, 'forms': {'dst': 'System', 'matched': 1, 'properties': {'created_at': [1, False, 'String'], 'dst_class': [1, False, 'String'], 'dst_id': [1, False, 'Number'], 'src_class': [1, False, 'String'], 'src_id': [1, False, 'Number'], 'type': [1, False, 'String']}, 'src': 'System'}, 'forms_foundation_of': {'dst': 'System', 'matched': 2, 'properties': {'created_at': [2, False, 'String'], 'dst_class': [2, False, 'String'], 'dst_id': [2, False, 'Number'], 'src_class': [2, False, 'String'], 'src_id': [2, False, 'Number'], 'type': [2, False, 'String']}, 'src': 'System'}, 'from': {'dst': 'System', 'matched': 1, 'properties': {'created_at': [1, False, 'String'], 'dst_class': [1, False, 'String'], 'dst_id': [1, False, 'Number'], 'src_class': [1, False, 'String'], 'src_id': [1, False, 'Number'], 'type': [1, False, 'String']}, 'src': 'Service'}, 'from_provider': {'dst': 'Organization', 'matched': 1, 'properties': {'created_at': [1, False, 'String'], 'dst_class': [1, False, 'String'], 'dst_id': [1, False, 'Number'], 'src_class': [1, False, 'String'], 'src_id': [1, False, 'Number'], 'type': [1, False, 'String']}, 'src': 'Service'}, 'grants_access_to': {'dst': 'User', 'matched': 1, 'properties': {'created_at': [1, False, 'String'], 'dst_class': [1, False, 'String'], 'dst_id': [1, False, 'Number'], 'src_class': [1, False, 'String'], 'src_id': [1, False, 'Number'], 'type': [1, False, 'String']}, 'src': 'System'}, 'handles': {'dst': 'Software', 'matched': 1, 'properties': {'created_at': [1, False, 'String'], 'dst_class': [1, False, 'String'], 'dst_id': [1, False, 'Number'], 'src_class': [1, False, 'String'], 'src_id': [1, False, 'Number'], 'type': [1, False, 'String']}, 'src': 'User'}, 'has': {'dst': 'Network', 'matched': 1, 'properties': {'created_at': [1, False, 'String'], 'dst_class': [1, False, 'String'], 'dst_id': [1, False, 'Number'], 'src_class': [1, False, 'String'], 'src_id': [1, False, 'Number'], 'type': [1, False, 'String']}, 'src': 'User'}, 'has_benefit': {'dst': 'Concept', 'matched': 6, 'properties': {'created_at': [6, False, 'String'], 'dst_class': [6, False, 'String'], 'dst_id': [6, False, 'Number'], 'src_class': [6, False, 'String'], 'src_id': [6, False, 'Number'], 'type': [6, False, 'String']}, 'src': 'Organization'}, 'has_challenge': {'dst': 'Concept', 'matched': 1, 'properties': {'created_at': [1, False, 'String'], 'dst_class': [1, False, 'String'], 'dst_id': [1, False, 'Number'], 'src_class': [1, False, 'String'], 'src_id': [1, False, 'Number'], 'type': [1, False, 'String']}, 'src': 'System'}, 'has_characteristic': {'dst': 'Concept', 'matched': 1, 'properties': {'created_at': [1, False, 'String'], 'dst_class': [1, False, 'String'], 'dst_id': [1, False, 'Number'], 'src_class': [1, False, 'String'], 'src_id': [1, False, 'Number'], 'type': [1, False, 'String']}, 'src': 'Concept'}, 'has_component': {'dst': 'Software', 'matched': 2, 'properties': {'created_at': [2, False, 'String'], 'dst_class': [2, False, 'String'], 'dst_id': [2, False, 'Number'], 'src_class': [2, False, 'String'], 'src_id': [2, False, 'Number'], 'type': [2, False, 'String']}, 'src': 'System'}, 'has_concern': {'dst': 'Concept', 'matched': 1, 'properties': {'created_at': [1, False, 'String'], 'dst_class': [1, False, 'String'], 'dst_id': [1, False, 'Number'], 'src_class': [1, False, 'String'], 'src_id': [1, False, 'Number'], 'type': [1, False, 'String']}, 'src': 'System'}, 'has_deployment_approach': {'dst': 'Service', 'matched': 1, 'properties': {'created_at': [1, False, 'String'], 'dst_class': [1, False, 'String'], 'dst_id': [1, False, 'Number'], 'src_class': [1, False, 'String'], 'src_id': [1, False, 'Number'], 'type': [1, False, 'String']}, 'src': 'Software'}, 'has_disadvantage': {'dst': 'Concept', 'matched': 1, 'properties': {'created_at': [1, False, 'String'], 'dst_class': [1, False, 'String'], 'dst_id': [1, False, 'Number'], 'src_class': [1, False, 'String'], 'src_id': [1, False, 'Number'], 'type': [1, False, 'String']}, 'src': 'Concept'}, 'has_drawback': {'dst': 'Concept', 'matched': 1, 'properties': {'created_at': [1, False, 'String'], 'dst_class': [1, False, 'String'], 'dst_id': [1, False, 'Number'], 'src_class': [1, False, 'String'], 'src_id': [1, False, 'Number'], 'type': [1, False, 'String']}, 'src': 'System'}, 'has_feature': {'dst': 'Concept', 'matched': 3, 'properties': {'created_at': [3, False, 'String'], 'dst_class': [3, False, 'String'], 'dst_id': [3, False, 'Number'], 'src_class': [3, False, 'String'], 'src_id': [3, False, 'Number'], 'type': [3, False, 'String']}, 'src': 'Software'}, 'has_foundational_blocks_in': {'dst': 'System', 'matched': 1, 'properties': {'created_at': [1, False, 'String'], 'dst_class': [1, False, 'String'], 'dst_id': [1, False, 'Number'], 'src_class': [1, False, 'String'], 'src_id': [1, False, 'Number'], 'type': [1, False, 'String']}, 'src': 'System'}, 'has_interface': {'dst': 'Software', 'matched': 2, 'properties': {'created_at': [2, False, 'String'], 'dst_class': [2, False, 'String'], 'dst_id': [2, False, 'Number'], 'src_class': [2, False, 'String'], 'src_id': [2, False, 'Number'], 'type': [2, False, 'String']}, 'src': 'Concept'}, 'has_level': {'dst': 'Concept', 'matched': 3, 'properties': {'created_at': [3, False, 'String'], 'dst_class': [3, False, 'String'], 'dst_id': [3, False, 'Number'], 'src_class': [3, False, 'String'], 'src_id': [3, False, 'Number'], 'type': [3, False, 'String']}, 'src': 'Concept'}, 'has_limits_as': {'dst': 'Concept', 'matched': 1, 'properties': {'created_at': [1, False, 'String'], 'dst_class': [1, False, 'String'], 'dst_id': [1, False, 'Number'], 'src_class': [1, False, 'String'], 'src_id': [1, False, 'Number'], 'type': [1, False, 'String']}, 'src': 'Concept'}, 'has_priority_for': {'dst': 'Organization', 'matched': 1, 'properties': {'created_at': [1, False, 'String'], 'dst_class': [1, False, 'String'], 'dst_id': [1, False, 'Number'], 'src_class': [1, False, 'String'], 'src_id': [1, False, 'Number'], 'type': [1, False, 'String']}, 'src': 'Concept'}, 'has_security_concern_with': {'dst': 'System', 'matched': 1, 'properties': {'created_at': [1, False, 'String'], 'dst_class': [1, False, 'String'], 'dst_id': [1, False, 'Number'], 'src_class': [1, False, 'String'], 'src_id': [1, False, 'Number'], 'type': [1, False, 'String']}, 'src': 'Organization'}, 'has_type': {'dst': 'Software', 'matched': 2, 'properties': {'created_at': [2, False, 'String'], 'dst_class': [2, False, 'String'], 'dst_id': [2, False, 'Number'], 'src_class': [2, False, 'String'], 'src_id': [2, False, 'Number'], 'type': [2, False, 'String']}, 'src': 'Software'}, 'helps_in': {'dst': 'Concept', 'matched': 1, 'properties': {'created_at': [1, False, 'String'], 'dst_class': [1, False, 'String'], 'dst_id': [1, False, 'Number'], 'src_class': [1, False, 'String'], 'src_id': [1, False, 'Number'], 'type': [1, False, 'String']}, 'src': 'Service'}, 'hides': {'dst': 'Concept', 'matched': 1, 'properties': {'created_at': [1, False, 'String'], 'dst_class': [1, False, 'String'], 'dst_id': [1, False, 'Number'], 'src_class': [1, False, 'String'], 'src_id': [1, False, 'Number'], 'type': [1, False, 'String']}, 'src': 'System'}, 'identifies': {'dst': 'Service', 'matched': 1, 'properties': {'created_at': [1, False, 'String'], 'dst_class': [1, False, 'String'], 'dst_id': [1, False, 'Number'], 'src_class': [1, False, 'String'], 'src_id': [1, False, 'Number'], 'type': [1, False, 'String']}, 'src': 'Concept'}, 'impacts': {'dst': 'Concept', 'matched': 3, 'properties': {'created_at': [3, False, 'String'], 'dst_class': [3, False, 'String'], 'dst_id': [3, False, 'Number'], 'src_class': [3, False, 'String'], 'src_id': [3, False, 'Number'], 'type': [3, False, 'String']}, 'src': 'Software'}, 'implemented_at': {'dst': 'Software', 'matched': 4, 'properties': {'created_at': [4, False, 'String'], 'dst_class': [4, False, 'String'], 'dst_id': [4, False, 'Number'], 'src_class': [4, False, 'String'], 'src_id': [4, False, 'Number'], 'type': [4, False, 'String']}, 'src': 'Concept'}, 'implemented_in': {'dst': 'System', 'matched': 1, 'properties': {'created_at': [1, False, 'String'], 'dst_class': [1, False, 'String'], 'dst_id': [1, False, 'Number'], 'src_class': [1, False, 'String'], 'src_id': [1, False, 'Number'], 'type': [1, False, 'String']}, 'src': 'System'}, 'implements': {'dst': 'Concept', 'matched': 2, 'properties': {'created_at': [2, False, 'String'], 'dst_class': [2, False, 'String'], 'dst_id': [2, False, 'Number'], 'src_class': [2, False, 'String'], 'src_id': [2, False, 'Number'], 'type': [2, False, 'String']}, 'src': 'Organization'}, 'improves': {'dst': 'Concept', 'matched': 1, 'properties': {'created_at': [1, False, 'String'], 'dst_class': [1, False, 'String'], 'dst_id': [1, False, 'Number'], 'src_class': [1, False, 'String'], 'src_id': [1, False, 'Number'], 'type': [1, False, 'String']}, 'src': 'Network'}, 'includes': {'dst': 'Service', 'matched': 4, 'properties': {'created_at': [4, False, 'String'], 'dst_class': [4, False, 'String'], 'dst_id': [4, False, 'Number'], 'src_class': [4, False, 'String'], 'src_id': [4, False, 'Number'], 'type': [4, False, 'String']}, 'src': 'Service'}, 'includes_support_for': {'dst': 'Concept', 'matched': 2, 'properties': {'created_at': [2, False, 'String'], 'dst_class': [2, False, 'String'], 'dst_id': [2, False, 'Number'], 'src_class': [2, False, 'String'], 'src_id': [2, False, 'Number'], 'type': [2, False, 'String']}, 'src': 'Concept'}, 'inspired_by': {'dst': 'System', 'matched': 1, 'properties': {'created_at': [1, False, 'String'], 'dst_class': [1, False, 'String'], 'dst_id': [1, False, 'Number'], 'src_class': [1, False, 'String'], 'src_id': [1, False, 'Number'], 'type': [1, False, 'String']}, 'src': 'Software'}, 'integrates_with': {'dst': 'Service', 'matched': 4, 'properties': {'created_at': [4, False, 'String'], 'dst_class': [4, False, 'String'], 'dst_id': [4, False, 'Number'], 'src_class': [4, False, 'String'], 'src_id': [4, False, 'Number'], 'type': [4, False, 'String']}, 'src': 'Organization'}, 'interacts_via': {'dst': 'Software', 'matched': 1, 'properties': {'created_at': [1, False, 'String'], 'dst_class': [1, False, 'String'], 'dst_id': [1, False, 'Number'], 'src_class': [1, False, 'String'], 'src_id': [1, False, 'Number'], 'type': [1, False, 'String']}, 'src': 'User'}, 'interacts_with': {'dst': 'System', 'matched': 2, 'properties': {'created_at': [2, False, 'String'], 'dst_class': [2, False, 'String'], 'dst_id': [2, False, 'Number'], 'src_class': [2, False, 'String'], 'src_id': [2, False, 'Number'], 'type': [2, False, 'String']}, 'src': 'User'}, 'introduces_risk_due_to_dependency_on': {'dst': 'Software', 'matched': 1, 'properties': {'created_at': [1, False, 'String'], 'dst_class': [1, False, 'String'], 'dst_id': [1, False, 'Number'], 'src_class': [1, False, 'String'], 'src_id': [1, False, 'Number'], 'type': [1, False, 'String']}, 'src': 'Software'}, 'involves': {'dst': 'User', 'matched': 1, 'properties': {'created_at': [1, False, 'String'], 'dst_class': [1, False, 'String'], 'dst_id': [1, False, 'Number'], 'src_class': [1, False, 'String'], 'src_id': [1, False, 'Number'], 'type': [1, False, 'String']}, 'src': 'Concept'}, 'is_a': {'dst': 'System', 'matched': 1, 'properties': {'created_at': [1, False, 'String'], 'dst_class': [1, False, 'String'], 'dst_id': [1, False, 'Number'], 'src_class': [1, False, 'String'], 'src_id': [1, False, 'Number'], 'type': [1, False, 'String']}, 'src': 'System'}, 'is_a_benefit_of': {'dst': 'Concept', 'matched': 2, 'properties': {'created_at': [2, False, 'String'], 'dst_class': [2, False, 'String'], 'dst_id': [2, False, 'Number'], 'src_class': [2, False, 'String'], 'src_id': [2, False, 'Number'], 'type': [2, False, 'String']}, 'src': 'Concept'}, 'is_a_challenge_in': {'dst': 'System', 'matched': 1, 'properties': {'created_at': [1, False, 'String'], 'dst_class': [1, False, 'String'], 'dst_id': [1, False, 'Number'], 'src_class': [1, False, 'String'], 'src_id': [1, False, 'Number'], 'type': [1, False, 'String']}, 'src': 'Concept'}, 'is_a_characteristic_of': {'dst': 'System', 'matched': 1, 'properties': {'created_at': [1, False, 'String'], 'dst_class': [1, False, 'String'], 'dst_id': [1, False, 'Number'], 'src_class': [1, False, 'String'], 'src_id': [1, False, 'Number'], 'type': [1, False, 'String']}, 'src': 'Concept'}, 'is_a_concern_for': {'dst': 'Concept', 'matched': 2, 'properties': {'created_at': [2, False, 'String'], 'dst_class': [2, False, 'String'], 'dst_id': [2, False, 'Number'], 'src_class': [2, False, 'String'], 'src_id': [2, False, 'Number'], 'type': [2, False, 'String']}, 'src': 'Concept'}, 'is_a_concern_in': {'dst': 'System', 'matched': 2, 'properties': {'created_at': [2, False, 'String'], 'dst_class': [2, False, 'String'], 'dst_id': [2, False, 'Number'], 'src_class': [2, False, 'String'], 'src_id': [2, False, 'Number'], 'type': [2, False, 'String']}, 'src': 'Concept'}, 'is_a_feature_of': {'dst': 'Organization', 'matched': 1, 'properties': {'created_at': [1, False, 'String'], 'dst_class': [1, False, 'String'], 'dst_id': [1, False, 'Number'], 'src_class': [1, False, 'String'], 'src_id': [1, False, 'Number'], 'type': [1, False, 'String']}, 'src': 'Concept'}, 'is_a_form_of': {'dst': 'System', 'matched': 1, 'properties': {'created_at': [1, False, 'String'], 'dst_class': [1, False, 'String'], 'dst_id': [1, False, 'Number'], 'src_class': [1, False, 'String'], 'src_id': [1, False, 'Number'], 'type': [1, False, 'String']}, 'src': 'System'}, 'is_a_project_of': {'dst': 'System', 'matched': 1, 'properties': {'created_at': [1, False, 'String'], 'dst_class': [1, False, 'String'], 'dst_id': [1, False, 'Number'], 'src_class': [1, False, 'String'], 'src_id': [1, False, 'Number'], 'type': [1, False, 'String']}, 'src': 'Concept'}, 'is_a_provider_of': {'dst': 'Concept', 'matched': 1, 'properties': {'created_at': [1, False, 'String'], 'dst_class': [1, False, 'String'], 'dst_id': [1, False, 'Number'], 'src_class': [1, False, 'String'], 'src_id': [1, False, 'Number'], 'type': [1, False, 'String']}, 'src': 'System'}, 'is_a_service_for': {'dst': 'Software', 'matched': 1, 'properties': {'created_at': [1, False, 'String'], 'dst_class': [1, False, 'String'], 'dst_id': [1, False, 'Number'], 'src_class': [1, False, 'String'], 'src_id': [1, False, 'Number'], 'type': [1, False, 'String']}, 'src': 'Service'}, 'is_a_type_of': {'dst': 'System', 'matched': 2, 'properties': {'created_at': [2, False, 'String'], 'dst_class': [2, False, 'String'], 'dst_id': [2, False, 'Number'], 'src_class': [2, False, 'String'], 'src_id': [2, False, 'Number'], 'type': [2, False, 'String']}, 'src': 'System'}, 'is_a_vendor_specific_solution_of': {'dst': 'System', 'matched': 2, 'properties': {'created_at': [2, False, 'String'], 'dst_class': [2, False, 'String'], 'dst_id': [2, False, 'Number'], 'src_class': [2, False, 'String'], 'src_id': [2, False, 'Number'], 'type': [2, False, 'String']}, 'src': 'System'}, 'is_also_known_as': {'dst': 'Organization', 'matched': 3, 'properties': {'created_at': [3, False, 'String'], 'dst_class': [3, False, 'String'], 'dst_id': [3, False, 'Number'], 'src_class': [3, False, 'String'], 'src_id': [3, False, 'Number'], 'type': [3, False, 'String']}, 'src': 'Organization'}, 'is_alternative_to': {'dst': 'System', 'matched': 2, 'properties': {'created_at': [2, False, 'String'], 'dst_class': [2, False, 'String'], 'dst_id': [2, False, 'Number'], 'src_class': [2, False, 'String'], 'src_id': [2, False, 'Number'], 'type': [2, False, 'String']}, 'src': 'Software'}, 'is_an': {'dst': 'Concept', 'matched': 1, 'properties': {'created_at': [1, False, 'String'], 'dst_class': [1, False, 'String'], 'dst_id': [1, False, 'Number'], 'src_class': [1, False, 'String'], 'src_id': [1, False, 'Number'], 'type': [1, False, 'String']}, 'src': 'System'}, 'is_an_example_of': {'dst': 'System', 'matched': 1, 'properties': {'created_at': [1, False, 'String'], 'dst_class': [1, False, 'String'], 'dst_id': [1, False, 'Number'], 'src_class': [1, False, 'String'], 'src_id': [1, False, 'Number'], 'type': [1, False, 'String']}, 'src': 'System'}, 'is_attribute_of': {'dst': 'Concept', 'matched': 1, 'properties': {'created_at': [1, False, 'String'], 'dst_class': [1, False, 'String'], 'dst_id': [1, False, 'Number'], 'src_class': [1, False, 'String'], 'src_id': [1, False, 'Number'], 'type': [1, False, 'String']}, 'src': 'Concept'}, 'is_based_on': {'dst': 'Software', 'matched': 1, 'properties': {'created_at': [1, False, 'String'], 'dst_class': [1, False, 'String'], 'dst_id': [1, False, 'Number'], 'src_class': [1, False, 'String'], 'src_id': [1, False, 'Number'], 'type': [1, False, 'String']}, 'src': 'Software'}, 'is_benchmark_for': {'dst': 'Concept', 'matched': 1, 'properties': {'created_at': [1, False, 'String'], 'dst_class': [1, False, 'String'], 'dst_id': [1, False, 'Number'], 'src_class': [1, False, 'String'], 'src_id': [1, False, 'Number'], 'type': [1, False, 'String']}, 'src': 'Concept'}, 'is_characteristic_of': {'dst': 'System', 'matched': 8, 'properties': {'created_at': [8, False, 'String'], 'dst_class': [8, False, 'String'], 'dst_id': [8, False, 'Number'], 'src_class': [8, False, 'String'], 'src_id': [8, False, 'Number'], 'type': [8, False, 'String']}, 'src': 'Concept'}, 'is_collaboration_of': {'dst': 'Organization', 'matched': 2, 'properties': {'created_at': [2, False, 'String'], 'dst_class': [2, False, 'String'], 'dst_id': [2, False, 'Number'], 'src_class': [2, False, 'String'], 'src_id': [2, False, 'Number'], 'type': [2, False, 'String']}, 'src': 'System'}, 'is_component_of': {'dst': 'System', 'matched': 1, 'properties': {'created_at': [1, False, 'String'], 'dst_class': [1, False, 'String'], 'dst_id': [1, False, 'Number'], 'src_class': [1, False, 'String'], 'src_id': [1, False, 'Number'], 'type': [1, False, 'String']}, 'src': 'Software'}, 'is_concern_for': {'dst': 'Concept', 'matched': 2, 'properties': {'created_at': [2, False, 'String'], 'dst_class': [2, False, 'String'], 'dst_id': [2, False, 'Number'], 'src_class': [2, False, 'String'], 'src_id': [2, False, 'Number'], 'type': [2, False, 'String']}, 'src': 'Concept'}, 'is_default_hypervisor_for': {'dst': 'System', 'matched': 1, 'properties': {'created_at': [1, False, 'String'], 'dst_class': [1, False, 'String'], 'dst_id': [1, False, 'Number'], 'src_class': [1, False, 'String'], 'src_id': [1, False, 'Number'], 'type': [1, False, 'String']}, 'src': 'Software'}, 'is_design_approach_for': {'dst': 'Service', 'matched': 1, 'properties': {'created_at': [1, False, 'String'], 'dst_class': [1, False, 'String'], 'dst_id': [1, False, 'Number'], 'src_class': [1, False, 'String'], 'src_id': [1, False, 'Number'], 'type': [1, False, 'String']}, 'src': 'Concept'}, 'is_distributed_for': {'dst': 'Concept', 'matched': 1, 'properties': {'created_at': [1, False, 'String'], 'dst_class': [1, False, 'String'], 'dst_id': [1, False, 'Number'], 'src_class': [1, False, 'String'], 'src_id': [1, False, 'Number'], 'type': [1, False, 'String']}, 'src': 'System'}, 'is_example_of': {'dst': 'System', 'matched': 1, 'properties': {'created_at': [1, False, 'String'], 'dst_class': [1, False, 'String'], 'dst_id': [1, False, 'Number'], 'src_class': [1, False, 'String'], 'src_id': [1, False, 'Number'], 'type': [1, False, 'String']}, 'src': 'System'}, 'is_extended_model_of': {'dst': 'Concept', 'matched': 1, 'properties': {'created_at': [1, False, 'String'], 'dst_class': [1, False, 'String'], 'dst_id': [1, False, 'Number'], 'src_class': [1, False, 'String'], 'src_id': [1, False, 'Number'], 'type': [1, False, 'String']}, 'src': 'Service'}, 'is_extension_of': {'dst': 'System', 'matched': 1, 'properties': {'created_at': [1, False, 'String'], 'dst_class': [1, False, 'String'], 'dst_id': [1, False, 'Number'], 'src_class': [1, False, 'String'], 'src_id': [1, False, 'Number'], 'type': [1, False, 'String']}, 'src': 'System'}, 'is_for': {'dst': 'System', 'matched': 1, 'properties': {'created_at': [1, False, 'String'], 'dst_class': [1, False, 'String'], 'dst_id': [1, False, 'Number'], 'src_class': [1, False, 'String'], 'src_id': [1, False, 'Number'], 'type': [1, False, 'String']}, 'src': 'Service'}, 'is_hidden_from': {'dst': 'User', 'matched': 1, 'properties': {'created_at': [1, False, 'String'], 'dst_class': [1, False, 'String'], 'dst_id': [1, False, 'Number'], 'src_class': [1, False, 'String'], 'src_id': [1, False, 'Number'], 'type': [1, False, 'String']}, 'src': 'Concept'}, 'is_implemented_via': {'dst': 'Concept', 'matched': 1, 'properties': {'created_at': [1, False, 'String'], 'dst_class': [1, False, 'String'], 'dst_id': [1, False, 'Number'], 'src_class': [1, False, 'String'], 'src_id': [1, False, 'Number'], 'type': [1, False, 'String']}, 'src': 'Concept'}, 'is_in': {'dst': 'System', 'matched': 1, 'properties': {'created_at': [1, False, 'String'], 'dst_class': [1, False, 'String'], 'dst_id': [1, False, 'Number'], 'src_class': [1, False, 'String'], 'src_id': [1, False, 'Number'], 'type': [1, False, 'String']}, 'src': 'Software'}, 'is_inside': {'dst': 'Network', 'matched': 1, 'properties': {'created_at': [1, False, 'String'], 'dst_class': [1, False, 'String'], 'dst_id': [1, False, 'Number'], 'src_class': [1, False, 'String'], 'src_id': [1, False, 'Number'], 'type': [1, False, 'String']}, 'src': 'Software'}, 'is_less_secure_than': {'dst': 'Software', 'matched': 1, 'properties': {'created_at': [1, False, 'String'], 'dst_class': [1, False, 'String'], 'dst_id': [1, False, 'Number'], 'src_class': [1, False, 'String'], 'src_id': [1, False, 'Number'], 'type': [1, False, 'String']}, 'src': 'Software'}, 'is_level_of': {'dst': 'Concept', 'matched': 1, 'properties': {'created_at': [1, False, 'String'], 'dst_class': [1, False, 'String'], 'dst_id': [1, False, 'Number'], 'src_class': [1, False, 'String'], 'src_id': [1, False, 'Number'], 'type': [1, False, 'String']}, 'src': 'Concept'}, 'is_managed_service_for': {'dst': 'Software', 'matched': 3, 'properties': {'created_at': [3, False, 'String'], 'dst_class': [3, False, 'String'], 'dst_id': [3, False, 'Number'], 'src_class': [3, False, 'String'], 'src_id': [3, False, 'Number'], 'type': [3, False, 'String']}, 'src': 'Service'}, 'is_mandatory_for': {'dst': 'System', 'matched': 1, 'properties': {'created_at': [1, False, 'String'], 'dst_class': [1, False, 'String'], 'dst_id': [1, False, 'Number'], 'src_class': [1, False, 'String'], 'src_id': [1, False, 'Number'], 'type': [1, False, 'String']}, 'src': 'Service'}, 'is_more_secure_than': {'dst': 'Software', 'matched': 1, 'properties': {'created_at': [1, False, 'String'], 'dst_class': [1, False, 'String'], 'dst_id': [1, False, 'Number'], 'src_class': [1, False, 'String'], 'src_id': [1, False, 'Number'], 'type': [1, False, 'String']}, 'src': 'Software'}, 'is_network_of': {'dst': 'System', 'matched': 1, 'properties': {'created_at': [1, False, 'String'], 'dst_class': [1, False, 'String'], 'dst_id': [1, False, 'Number'], 'src_class': [1, False, 'String'], 'src_id': [1, False, 'Number'], 'type': [1, False, 'String']}, 'src': 'Network'}, 'is_opportunity_for': {'dst': 'Concept', 'matched': 1, 'properties': {'created_at': [1, False, 'String'], 'dst_class': [1, False, 'String'], 'dst_id': [1, False, 'Number'], 'src_class': [1, False, 'String'], 'src_id': [1, False, 'Number'], 'type': [1, False, 'String']}, 'src': 'Software'}, 'is_orchestration_tool_for': {'dst': 'Concept', 'matched': 2, 'properties': {'created_at': [2, False, 'String'], 'dst_class': [2, False, 'String'], 'dst_id': [2, False, 'Number'], 'src_class': [2, False, 'String'], 'src_id': [2, False, 'Number'], 'type': [2, False, 'String']}, 'src': 'Software'}, 'is_part_of': {'dst': 'System', 'matched': 2, 'properties': {'created_at': [2, False, 'String'], 'dst_class': [2, False, 'String'], 'dst_id': [2, False, 'Number'], 'src_class': [2, False, 'String'], 'src_id': [2, False, 'Number'], 'type': [2, False, 'String']}, 'src': 'System'}, 'is_platform_for': {'dst': 'Concept', 'matched': 1, 'properties': {'created_at': [1, False, 'String'], 'dst_class': [1, False, 'String'], 'dst_id': [1, False, 'Number'], 'src_class': [1, False, 'String'], 'src_id': [1, False, 'Number'], 'type': [1, False, 'String']}, 'src': 'Software'}, 'is_present_in': {'dst': 'System', 'matched': 5, 'properties': {'created_at': [5, False, 'String'], 'dst_class': [5, False, 'String'], 'dst_id': [5, False, 'Number'], 'src_class': [5, False, 'String'], 'src_id': [5, False, 'Number'], 'type': [5, False, 'String']}, 'src': 'Concept'}, 'is_provided_as': {'dst': 'Service', 'matched': 1, 'properties': {'created_at': [1, False, 'String'], 'dst_class': [1, False, 'String'], 'dst_id': [1, False, 'Number'], 'src_class': [1, False, 'String'], 'src_id': [1, False, 'Number'], 'type': [1, False, 'String']}, 'src': 'Hardware'}, 'is_provider_of': {'dst': 'System', 'matched': 3, 'properties': {'created_at': [3, False, 'String'], 'dst_class': [3, False, 'String'], 'dst_id': [3, False, 'Number'], 'src_class': [3, False, 'String'], 'src_id': [3, False, 'Number'], 'type': [3, False, 'String']}, 'src': 'Organization'}, 'is_responsible_for': {'dst': 'Concept', 'matched': 4, 'properties': {'created_at': [4, False, 'String'], 'dst_class': [4, False, 'String'], 'dst_id': [4, False, 'Number'], 'src_class': [4, False, 'String'], 'src_id': [4, False, 'Number'], 'type': [4, False, 'String']}, 'src': 'Software'}, 'is_similar_to': {'dst': 'System', 'matched': 1, 'properties': {'created_at': [1, False, 'String'], 'dst_class': [1, False, 'String'], 'dst_id': [1, False, 'Number'], 'src_class': [1, False, 'String'], 'src_id': [1, False, 'Number'], 'type': [1, False, 'String']}, 'src': 'Concept'}, 'is_stakeholder_in': {'dst': 'Concept', 'matched': 1, 'properties': {'created_at': [1, False, 'String'], 'dst_class': [1, False, 'String'], 'dst_id': [1, False, 'Number'], 'src_class': [1, False, 'String'], 'src_id': [1, False, 'Number'], 'type': [1, False, 'String']}, 'src': 'User'}, 'is_type_of': {'dst': 'System', 'matched': 3, 'properties': {'created_at': [3, False, 'String'], 'dst_class': [3, False, 'String'], 'dst_id': [3, False, 'Number'], 'src_class': [3, False, 'String'], 'src_id': [3, False, 'Number'], 'type': [3, False, 'String']}, 'src': 'System'}, 'is_virtualized_by': {'dst': 'Concept', 'matched': 1, 'properties': {'created_at': [1, False, 'String'], 'dst_class': [1, False, 'String'], 'dst_id': [1, False, 'Number'], 'src_class': [1, False, 'String'], 'src_id': [1, False, 'Number'], 'type': [1, False, 'String']}, 'src': 'Service'}, 'is_within': {'dst': 'Organization', 'matched': 1, 'properties': {'created_at': [1, False, 'String'], 'dst_class': [1, False, 'String'], 'dst_id': [1, False, 'Number'], 'src_class': [1, False, 'String'], 'src_id': [1, False, 'Number'], 'type': [1, False, 'String']}, 'src': 'Network'}, 'lacks': {'dst': 'Concept', 'matched': 1, 'properties': {'created_at': [1, False, 'String'], 'dst_class': [1, False, 'String'], 'dst_id': [1, False, 'Number'], 'src_class': [1, False, 'String'], 'src_id': [1, False, 'Number'], 'type': [1, False, 'String']}, 'src': 'System'}, 'lists': {'dst': 'System', 'matched': 1, 'properties': {'created_at': [1, False, 'String'], 'dst_class': [1, False, 'String'], 'dst_id': [1, False, 'Number'], 'src_class': [1, False, 'String'], 'src_id': [1, False, 'Number'], 'type': [1, False, 'String']}, 'src': 'Concept'}, 'located_within': {'dst': 'Organization', 'matched': 1, 'properties': {'created_at': [1, False, 'String'], 'dst_class': [1, False, 'String'], 'dst_id': [1, False, 'Number'], 'src_class': [1, False, 'String'], 'src_id': [1, False, 'Number'], 'type': [1, False, 'String']}, 'src': 'Network'}, 'maintains': {'dst': 'Service', 'matched': 1, 'properties': {'created_at': [1, False, 'String'], 'dst_class': [1, False, 'String'], 'dst_id': [1, False, 'Number'], 'src_class': [1, False, 'String'], 'src_id': [1, False, 'Number'], 'type': [1, False, 'String']}, 'src': 'System'}, 'makes_available_to': {'dst': 'User', 'matched': 1, 'properties': {'created_at': [1, False, 'String'], 'dst_class': [1, False, 'String'], 'dst_id': [1, False, 'Number'], 'src_class': [1, False, 'String'], 'src_id': [1, False, 'Number'], 'type': [1, False, 'String']}, 'src': 'Concept'}, 'managed_on_top_of': {'dst': 'Software', 'matched': 1, 'properties': {'created_at': [1, False, 'String'], 'dst_class': [1, False, 'String'], 'dst_id': [1, False, 'Number'], 'src_class': [1, False, 'String'], 'src_id': [1, False, 'Number'], 'type': [1, False, 'String']}, 'src': 'Concept'}, 'managed_via': {'dst': 'Network', 'matched': 2, 'properties': {'created_at': [2, False, 'String'], 'dst_class': [2, False, 'String'], 'dst_id': [2, False, 'Number'], 'src_class': [2, False, 'String'], 'src_id': [2, False, 'Number'], 'type': [2, False, 'String']}, 'src': 'Concept'}, 'manages': {'dst': 'Software', 'matched': 2, 'properties': {'created_at': [2, False, 'String'], 'dst_class': [2, False, 'String'], 'dst_id': [2, False, 'Number'], 'src_class': [2, False, 'String'], 'src_id': [2, False, 'Number'], 'type': [2, False, 'String']}, 'src': 'User'}, 'manages_communication_between': {'dst': 'User', 'matched': 1, 'properties': {'created_at': [1, False, 'String'], 'dst_class': [1, False, 'String'], 'dst_id': [1, False, 'Number'], 'src_class': [1, False, 'String'], 'src_id': [1, False, 'Number'], 'type': [1, False, 'String']}, 'src': 'Service'}, 'manages_flow_between': {'dst': 'User', 'matched': 1, 'properties': {'created_at': [1, False, 'String'], 'dst_class': [1, False, 'String'], 'dst_id': [1, False, 'Number'], 'src_class': [1, False, 'String'], 'src_id': [1, False, 'Number'], 'type': [1, False, 'String']}, 'src': 'Service'}, 'manages_network_communication_between': {'dst': 'Concept', 'matched': 1, 'properties': {'created_at': [1, False, 'String'], 'dst_class': [1, False, 'String'], 'dst_id': [1, False, 'Number'], 'src_class': [1, False, 'String'], 'src_id': [1, False, 'Number'], 'type': [1, False, 'String']}, 'src': 'Software'}, 'manages_on': {'dst': 'Concept', 'matched': 1, 'properties': {'created_at': [1, False, 'String'], 'dst_class': [1, False, 'String'], 'dst_id': [1, False, 'Number'], 'src_class': [1, False, 'String'], 'src_id': [1, False, 'Number'], 'type': [1, False, 'String']}, 'src': 'Concept'}, 'manages_resource_distribution_between': {'dst': 'User', 'matched': 1, 'properties': {'created_at': [1, False, 'String'], 'dst_class': [1, False, 'String'], 'dst_id': [1, False, 'Number'], 'src_class': [1, False, 'String'], 'src_id': [1, False, 'Number'], 'type': [1, False, 'String']}, 'src': 'Service'}, 'merged_in': {'dst': 'System', 'matched': 2, 'properties': {'created_at': [2, False, 'String'], 'dst_class': [2, False, 'String'], 'dst_id': [2, False, 'Number'], 'src_class': [2, False, 'String'], 'src_id': [2, False, 'Number'], 'type': [2, False, 'String']}, 'src': 'Service'}, 'migratable_compared_to': {'dst': 'Hardware', 'matched': 1, 'properties': {'created_at': [1, False, 'String'], 'dst_class': [1, False, 'String'], 'dst_id': [1, False, 'Number'], 'src_class': [1, False, 'String'], 'src_id': [1, False, 'Number'], 'type': [1, False, 'String']}, 'src': 'Concept'}, 'monitors': {'dst': 'Organization', 'matched': 1, 'properties': {'created_at': [1, False, 'String'], 'dst_class': [1, False, 'String'], 'dst_id': [1, False, 'Number'], 'src_class': [1, False, 'String'], 'src_id': [1, False, 'Number'], 'type': [1, False, 'String']}, 'src': 'Service'}, 'more_elastic_than': {'dst': 'Concept', 'matched': 1, 'properties': {'created_at': [1, False, 'String'], 'dst_class': [1, False, 'String'], 'dst_id': [1, False, 'Number'], 'src_class': [1, False, 'String'], 'src_id': [1, False, 'Number'], 'type': [1, False, 'String']}, 'src': 'Concept'}, 'not_controlled_by': {'dst': 'Organization', 'matched': 1, 'properties': {'created_at': [1, False, 'String'], 'dst_class': [1, False, 'String'], 'dst_id': [1, False, 'Number'], 'src_class': [1, False, 'String'], 'src_id': [1, False, 'Number'], 'type': [1, False, 'String']}, 'src': 'Service'}, 'not_tied_to': {'dst': 'Service', 'matched': 1, 'properties': {'created_at': [1, False, 'String'], 'dst_class': [1, False, 'String'], 'dst_id': [1, False, 'Number'], 'src_class': [1, False, 'String'], 'src_id': [1, False, 'Number'], 'type': [1, False, 'String']}, 'src': 'Network'}, 'occurs_in': {'dst': 'System', 'matched': 1, 'properties': {'created_at': [1, False, 'String'], 'dst_class': [1, False, 'String'], 'dst_id': [1, False, 'Number'], 'src_class': [1, False, 'String'], 'src_id': [1, False, 'Number'], 'type': [1, False, 'String']}, 'src': 'Concept'}, 'offers': {'dst': 'Service', 'matched': 1, 'properties': {'created_at': [1, False, 'String'], 'dst_class': [1, False, 'String'], 'dst_id': [1, False, 'Number'], 'src_class': [1, False, 'String'], 'src_id': [1, False, 'Number'], 'type': [1, False, 'String']}, 'src': 'System'}, 'operates_at_level_of': {'dst': 'Hardware', 'matched': 1, 'properties': {'created_at': [1, False, 'String'], 'dst_class': [1, False, 'String'], 'dst_id': [1, False, 'Number'], 'src_class': [1, False, 'String'], 'src_id': [1, False, 'Number'], 'type': [1, False, 'String']}, 'src': 'Network'}, 'operates_like': {'dst': 'System', 'matched': 1, 'properties': {'created_at': [1, False, 'String'], 'dst_class': [1, False, 'String'], 'dst_id': [1, False, 'Number'], 'src_class': [1, False, 'String'], 'src_id': [1, False, 'Number'], 'type': [1, False, 'String']}, 'src': 'System'}, 'operates_on': {'dst': 'System', 'matched': 6, 'properties': {'created_at': [6, False, 'String'], 'dst_class': [6, False, 'String'], 'dst_id': [6, False, 'Number'], 'src_class': [6, False, 'String'], 'src_id': [6, False, 'Number'], 'type': [6, False, 'String']}, 'src': 'Service'}, 'optimizes': {'dst': 'Hardware', 'matched': 1, 'properties': {'created_at': [1, False, 'String'], 'dst_class': [1, False, 'String'], 'dst_id': [1, False, 'Number'], 'src_class': [1, False, 'String'], 'src_id': [1, False, 'Number'], 'type': [1, False, 'String']}, 'src': 'Organization'}, 'orchestrates': {'dst': 'Concept', 'matched': 1, 'properties': {'created_at': [1, False, 'String'], 'dst_class': [1, False, 'String'], 'dst_id': [1, False, 'Number'], 'src_class': [1, False, 'String'], 'src_id': [1, False, 'Number'], 'type': [1, False, 'String']}, 'src': 'Software'}, 'owns': {'dst': 'System', 'matched': 4, 'properties': {'created_at': [4, False, 'String'], 'dst_class': [4, False, 'String'], 'dst_id': [4, False, 'Number'], 'src_class': [4, False, 'String'], 'src_id': [4, False, 'Number'], 'type': [4, False, 'String']}, 'src': 'Organization'}, 'part_of': {'dst': 'Network', 'matched': 1, 'properties': {'created_at': [1, False, 'String'], 'dst_class': [1, False, 'String'], 'dst_id': [1, False, 'Number'], 'src_class': [1, False, 'String'], 'src_id': [1, False, 'Number'], 'type': [1, False, 'String']}, 'src': 'Network'}, 'pays_for_consumption_in': {'dst': 'Concept', 'matched': 1, 'properties': {'created_at': [1, False, 'String'], 'dst_class': [1, False, 'String'], 'dst_id': [1, False, 'Number'], 'src_class': [1, False, 'String'], 'src_id': [1, False, 'Number'], 'type': [1, False, 'String']}, 'src': 'User'}, 'performed_by': {'dst': 'User', 'matched': 1, 'properties': {'created_at': [1, False, 'String'], 'dst_class': [1, False, 'String'], 'dst_id': [1, False, 'Number'], 'src_class': [1, False, 'String'], 'src_id': [1, False, 'Number'], 'type': [1, False, 'String']}, 'src': 'Service'}, 'performs': {'dst': 'Concept', 'matched': 1, 'properties': {'created_at': [1, False, 'String'], 'dst_class': [1, False, 'String'], 'dst_id': [1, False, 'Number'], 'src_class': [1, False, 'String'], 'src_id': [1, False, 'Number'], 'type': [1, False, 'String']}, 'src': 'Software'}, 'prefers': {'dst': 'Software', 'matched': 1, 'properties': {'created_at': [1, False, 'String'], 'dst_class': [1, False, 'String'], 'dst_id': [1, False, 'Number'], 'src_class': [1, False, 'String'], 'src_id': [1, False, 'Number'], 'type': [1, False, 'String']}, 'src': 'System'}, 'prevents_interference_between': {'dst': 'Concept', 'matched': 2, 'properties': {'created_at': [2, False, 'String'], 'dst_class': [2, False, 'String'], 'dst_id': [2, False, 'Number'], 'src_class': [2, False, 'String'], 'src_id': [2, False, 'Number'], 'type': [2, False, 'String']}, 'src': 'Concept'}, 'provided_by': {'dst': 'Service', 'matched': 1, 'properties': {'created_at': [1, False, 'String'], 'dst_class': [1, False, 'String'], 'dst_id': [1, False, 'Number'], 'src_class': [1, False, 'String'], 'src_id': [1, False, 'Number'], 'type': [1, False, 'String']}, 'src': 'Software'}, 'provided_via': {'dst': 'Concept', 'matched': 1, 'properties': {'created_at': [1, False, 'String'], 'dst_class': [1, False, 'String'], 'dst_id': [1, False, 'Number'], 'src_class': [1, False, 'String'], 'src_id': [1, False, 'Number'], 'type': [1, False, 'String']}, 'src': 'Service'}, 'provides': {'dst': 'Service', 'matched': 1, 'properties': {'created_at': [1, False, 'String'], 'dst_class': [1, False, 'String'], 'dst_id': [1, False, 'Number'], 'src_class': [1, False, 'String'], 'src_id': [1, False, 'Number'], 'type': [1, False, 'String']}, 'src': 'System'}, 'provides_abstraction_by_modeling': {'dst': 'Software', 'matched': 1, 'properties': {'created_at': [1, False, 'String'], 'dst_class': [1, False, 'String'], 'dst_id': [1, False, 'Number'], 'src_class': [1, False, 'String'], 'src_id': [1, False, 'Number'], 'type': [1, False, 'String']}, 'src': 'Concept'}, 'provides_environment_for': {'dst': 'Software', 'matched': 1, 'properties': {'created_at': [1, False, 'String'], 'dst_class': [1, False, 'String'], 'dst_id': [1, False, 'Number'], 'src_class': [1, False, 'String'], 'src_id': [1, False, 'Number'], 'type': [1, False, 'String']}, 'src': 'Concept'}, 'provides_for': {'dst': 'User', 'matched': 1, 'properties': {'created_at': [1, False, 'String'], 'dst_class': [1, False, 'String'], 'dst_id': [1, False, 'Number'], 'src_class': [1, False, 'String'], 'src_id': [1, False, 'Number'], 'type': [1, False, 'String']}, 'src': 'Service'}, 'provides_interconnectivity_for': {'dst': 'Hardware', 'matched': 1, 'properties': {'created_at': [1, False, 'String'], 'dst_class': [1, False, 'String'], 'dst_id': [1, False, 'Number'], 'src_class': [1, False, 'String'], 'src_id': [1, False, 'Number'], 'type': [1, False, 'String']}, 'src': 'Network'}, 'provides_over': {'dst': 'Service', 'matched': 1, 'properties': {'created_at': [1, False, 'String'], 'dst_class': [1, False, 'String'], 'dst_id': [1, False, 'Number'], 'src_class': [1, False, 'String'], 'src_id': [1, False, 'Number'], 'type': [1, False, 'String']}, 'src': 'System'}, 'provides_services_similar_to': {'dst': 'System', 'matched': 1, 'properties': {'created_at': [1, False, 'String'], 'dst_class': [1, False, 'String'], 'dst_id': [1, False, 'Number'], 'src_class': [1, False, 'String'], 'src_id': [1, False, 'Number'], 'type': [1, False, 'String']}, 'src': 'Organization'}, 'provides_solution_for': {'dst': 'Software', 'matched': 1, 'properties': {'created_at': [1, False, 'String'], 'dst_class': [1, False, 'String'], 'dst_id': [1, False, 'Number'], 'src_class': [1, False, 'String'], 'src_id': [1, False, 'Number'], 'type': [1, False, 'String']}, 'src': 'Software'}, 'reduces': {'dst': 'Concept', 'matched': 1, 'properties': {'created_at': [1, False, 'String'], 'dst_class': [1, False, 'String'], 'dst_id': [1, False, 'Number'], 'src_class': [1, False, 'String'], 'src_id': [1, False, 'Number'], 'type': [1, False, 'String']}, 'src': 'Software'}, 'reduces_costs_for': {'dst': 'Hardware', 'matched': 1, 'properties': {'created_at': [1, False, 'String'], 'dst_class': [1, False, 'String'], 'dst_id': [1, False, 'Number'], 'src_class': [1, False, 'String'], 'src_id': [1, False, 'Number'], 'type': [1, False, 'String']}, 'src': 'Concept'}, 'reduces_need_for': {'dst': 'Hardware', 'matched': 2, 'properties': {'created_at': [2, False, 'String'], 'dst_class': [2, False, 'String'], 'dst_id': [2, False, 'Number'], 'src_class': [2, False, 'String'], 'src_id': [2, False, 'Number'], 'type': [2, False, 'String']}, 'src': 'Concept'}, 'relies_on': {'dst': 'Concept', 'matched': 1, 'properties': {'created_at': [1, False, 'String'], 'dst_class': [1, False, 'String'], 'dst_id': [1, False, 'Number'], 'src_class': [1, False, 'String'], 'src_id': [1, False, 'Number'], 'type': [1, False, 'String']}, 'src': 'System'}, 'requests_from': {'dst': 'Organization', 'matched': 1, 'properties': {'created_at': [1, False, 'String'], 'dst_class': [1, False, 'String'], 'dst_id': [1, False, 'Number'], 'src_class': [1, False, 'String'], 'src_id': [1, False, 'Number'], 'type': [1, False, 'String']}, 'src': 'User'}, 'requires': {'dst': 'Concept', 'matched': 1, 'properties': {'created_at': [1, False, 'String'], 'dst_class': [1, False, 'String'], 'dst_id': [1, False, 'Number'], 'src_class': [1, False, 'String'], 'src_id': [1, False, 'Number'], 'type': [1, False, 'String']}, 'src': 'User'}, 'requires_modification_of': {'dst': 'Software', 'matched': 1, 'properties': {'created_at': [1, False, 'String'], 'dst_class': [1, False, 'String'], 'dst_id': [1, False, 'Number'], 'src_class': [1, False, 'String'], 'src_id': [1, False, 'Number'], 'type': [1, False, 'String']}, 'src': 'Concept'}, 'responsible_for': {'dst': 'Concept', 'matched': 1, 'properties': {'created_at': [1, False, 'String'], 'dst_class': [1, False, 'String'], 'dst_id': [1, False, 'Number'], 'src_class': [1, False, 'String'], 'src_id': [1, False, 'Number'], 'type': [1, False, 'String']}, 'src': 'Organization'}, 'responsible_for_managing': {'dst': 'Hardware', 'matched': 1, 'properties': {'created_at': [1, False, 'String'], 'dst_class': [1, False, 'String'], 'dst_id': [1, False, 'Number'], 'src_class': [1, False, 'String'], 'src_id': [1, False, 'Number'], 'type': [1, False, 'String']}, 'src': 'Organization'}, 'restricted_to': {'dst': 'Organization', 'matched': 2, 'properties': {'created_at': [2, False, 'String'], 'dst_class': [2, False, 'String'], 'dst_id': [2, False, 'Number'], 'src_class': [2, False, 'String'], 'src_id': [2, False, 'Number'], 'type': [2, False, 'String']}, 'src': 'System'}, 'restricts_exposure_of': {'dst': 'Hardware', 'matched': 1, 'properties': {'created_at': [1, False, 'String'], 'dst_class': [1, False, 'String'], 'dst_id': [1, False, 'Number'], 'src_class': [1, False, 'String'], 'src_id': [1, False, 'Number'], 'type': [1, False, 'String']}, 'src': 'Network'}, 'runs': {'dst': 'Concept', 'matched': 1, 'properties': {'created_at': [1, False, 'String'], 'dst_class': [1, False, 'String'], 'dst_id': [1, False, 'Number'], 'src_class': [1, False, 'String'], 'src_id': [1, False, 'Number'], 'type': [1, False, 'String']}, 'src': 'Software'}, 'runs_across': {'dst': 'Software', 'matched': 1, 'properties': {'created_at': [1, False, 'String'], 'dst_class': [1, False, 'String'], 'dst_id': [1, False, 'Number'], 'src_class': [1, False, 'String'], 'src_id': [1, False, 'Number'], 'type': [1, False, 'String']}, 'src': 'Software'}, 'runs_alongside': {'dst': 'System', 'matched': 1, 'properties': {'created_at': [1, False, 'String'], 'dst_class': [1, False, 'String'], 'dst_id': [1, False, 'Number'], 'src_class': [1, False, 'String'], 'src_id': [1, False, 'Number'], 'type': [1, False, 'String']}, 'src': 'Software'}, 'runs_inside': {'dst': 'Software', 'matched': 1, 'properties': {'created_at': [1, False, 'String'], 'dst_class': [1, False, 'String'], 'dst_id': [1, False, 'Number'], 'src_class': [1, False, 'String'], 'src_id': [1, False, 'Number'], 'type': [1, False, 'String']}, 'src': 'Software'}, 'runs_on': {'dst': 'Hardware', 'matched': 4, 'properties': {'created_at': [4, False, 'String'], 'dst_class': [4, False, 'String'], 'dst_id': [4, False, 'Number'], 'src_class': [4, False, 'String'], 'src_id': [4, False, 'Number'], 'type': [4, False, 'String']}, 'src': 'Software'}, 'runs_on_top_of': {'dst': 'Software', 'matched': 1, 'properties': {'created_at': [1, False, 'String'], 'dst_class': [1, False, 'String'], 'dst_id': [1, False, 'Number'], 'src_class': [1, False, 'String'], 'src_id': [1, False, 'Number'], 'type': [1, False, 'String']}, 'src': 'Software'}, 'scales': {'dst': 'Concept', 'matched': 1, 'properties': {'created_at': [1, False, 'String'], 'dst_class': [1, False, 'String'], 'dst_id': [1, False, 'Number'], 'src_class': [1, False, 'String'], 'src_id': [1, False, 'Number'], 'type': [1, False, 'String']}, 'src': 'Software'}, 'scales_across': {'dst': 'System', 'matched': 1, 'properties': {'created_at': [1, False, 'String'], 'dst_class': [1, False, 'String'], 'dst_id': [1, False, 'Number'], 'src_class': [1, False, 'String'], 'src_id': [1, False, 'Number'], 'type': [1, False, 'String']}, 'src': 'Software'}, 'secures_access_to': {'dst': 'Organization', 'matched': 1, 'properties': {'created_at': [1, False, 'String'], 'dst_class': [1, False, 'String'], 'dst_id': [1, False, 'Number'], 'src_class': [1, False, 'String'], 'src_id': [1, False, 'Number'], 'type': [1, False, 'String']}, 'src': 'Concept'}, 'shares_characteristics_with': {'dst': 'System', 'matched': 1, 'properties': {'created_at': [1, False, 'String'], 'dst_class': [1, False, 'String'], 'dst_id': [1, False, 'Number'], 'src_class': [1, False, 'String'], 'src_id': [1, False, 'Number'], 'type': [1, False, 'String']}, 'src': 'System'}, 'shares_kernel_of': {'dst': 'Software', 'matched': 1, 'properties': {'created_at': [1, False, 'String'], 'dst_class': [1, False, 'String'], 'dst_id': [1, False, 'Number'], 'src_class': [1, False, 'String'], 'src_id': [1, False, 'Number'], 'type': [1, False, 'String']}, 'src': 'Concept'}, 'similar_to': {'dst': 'Concept', 'matched': 1, 'properties': {'created_at': [1, False, 'String'], 'dst_class': [1, False, 'String'], 'dst_id': [1, False, 'Number'], 'src_class': [1, False, 'String'], 'src_id': [1, False, 'Number'], 'type': [1, False, 'String']}, 'src': 'Service'}, 'simplifies': {'dst': 'Concept', 'matched': 2, 'properties': {'created_at': [2, False, 'String'], 'dst_class': [2, False, 'String'], 'dst_id': [2, False, 'Number'], 'src_class': [2, False, 'String'], 'src_id': [2, False, 'Number'], 'type': [2, False, 'String']}, 'src': 'Concept'}, 'specifies': {'dst': 'Service', 'matched': 1, 'properties': {'created_at': [1, False, 'String'], 'dst_class': [1, False, 'String'], 'dst_id': [1, False, 'Number'], 'src_class': [1, False, 'String'], 'src_id': [1, False, 'Number'], 'type': [1, False, 'String']}, 'src': 'User'}, 'stores': {'dst': 'System', 'matched': 1, 'properties': {'created_at': [1, False, 'String'], 'dst_class': [1, False, 'String'], 'dst_id': [1, False, 'Number'], 'src_class': [1, False, 'String'], 'src_id': [1, False, 'Number'], 'type': [1, False, 'String']}, 'src': 'Service'}, 'supports': {'dst': 'Concept', 'matched': 2, 'properties': {'created_at': [2, False, 'String'], 'dst_class': [2, False, 'String'], 'dst_id': [2, False, 'Number'], 'src_class': [2, False, 'String'], 'src_id': [2, False, 'Number'], 'type': [2, False, 'String']}, 'src': 'System'}, 'supports_use_of': {'dst': 'Software', 'matched': 1, 'properties': {'created_at': [1, False, 'String'], 'dst_class': [1, False, 'String'], 'dst_id': [1, False, 'Number'], 'src_class': [1, False, 'String'], 'src_id': [1, False, 'Number'], 'type': [1, False, 'String']}, 'src': 'System'}, 'synchronizes': {'dst': 'Hardware', 'matched': 1, 'properties': {'created_at': [1, False, 'String'], 'dst_class': [1, False, 'String'], 'dst_id': [1, False, 'Number'], 'src_class': [1, False, 'String'], 'src_id': [1, False, 'Number'], 'type': [1, False, 'String']}, 'src': 'Service'}, 'to': {'dst': 'User', 'matched': 1, 'properties': {'created_at': [1, False, 'String'], 'dst_class': [1, False, 'String'], 'dst_id': [1, False, 'Number'], 'src_class': [1, False, 'String'], 'src_id': [1, False, 'Number'], 'type': [1, False, 'String']}, 'src': 'Service'}, 'tracks': {'dst': 'Software', 'matched': 1, 'properties': {'created_at': [1, False, 'String'], 'dst_class': [1, False, 'String'], 'dst_id': [1, False, 'Number'], 'src_class': [1, False, 'String'], 'src_id': [1, False, 'Number'], 'type': [1, False, 'String']}, 'src': 'Service'}, 'used_as': {'dst': 'Concept', 'matched': 1, 'properties': {'created_at': [1, False, 'String'], 'dst_class': [1, False, 'String'], 'dst_id': [1, False, 'Number'], 'src_class': [1, False, 'String'], 'src_id': [1, False, 'Number'], 'type': [1, False, 'String']}, 'src': 'Service'}, 'used_by': {'dst': 'Organization', 'matched': 1, 'properties': {'created_at': [1, False, 'String'], 'dst_class': [1, False, 'String'], 'dst_id': [1, False, 'Number'], 'src_class': [1, False, 'String'], 'src_id': [1, False, 'Number'], 'type': [1, False, 'String']}, 'src': 'Software'}, 'used_for': {'dst': 'Service', 'matched': 2, 'properties': {'created_at': [2, False, 'String'], 'dst_class': [2, False, 'String'], 'dst_id': [2, False, 'Number'], 'src_class': [2, False, 'String'], 'src_id': [2, False, 'Number'], 'type': [2, False, 'String']}, 'src': 'Software'}, 'used_for_installation_in': {'dst': 'Concept', 'matched': 1, 'properties': {'created_at': [1, False, 'String'], 'dst_class': [1, False, 'String'], 'dst_id': [1, False, 'Number'], 'src_class': [1, False, 'String'], 'src_id': [1, False, 'Number'], 'type': [1, False, 'String']}, 'src': 'Software'}, 'used_in': {'dst': 'System', 'matched': 1, 'properties': {'created_at': [1, False, 'String'], 'dst_class': [1, False, 'String'], 'dst_id': [1, False, 'Number'], 'src_class': [1, False, 'String'], 'src_id': [1, False, 'Number'], 'type': [1, False, 'String']}, 'src': 'System'}, 'used_on': {'dst': 'Service', 'matched': 1, 'properties': {'created_at': [1, False, 'String'], 'dst_class': [1, False, 'String'], 'dst_id': [1, False, 'Number'], 'src_class': [1, False, 'String'], 'src_id': [1, False, 'Number'], 'type': [1, False, 'String']}, 'src': 'Service'}, 'used_to_build': {'dst': 'System', 'matched': 1, 'properties': {'created_at': [1, False, 'String'], 'dst_class': [1, False, 'String'], 'dst_id': [1, False, 'Number'], 'src_class': [1, False, 'String'], 'src_id': [1, False, 'Number'], 'type': [1, False, 'String']}, 'src': 'Service'}, 'used_to_construct': {'dst': 'System', 'matched': 1, 'properties': {'created_at': [1, False, 'String'], 'dst_class': [1, False, 'String'], 'dst_id': [1, False, 'Number'], 'src_class': [1, False, 'String'], 'src_id': [1, False, 'Number'], 'type': [1, False, 'String']}, 'src': 'System'}, 'used_with': {'dst': 'Hardware', 'matched': 1, 'properties': {'created_at': [1, False, 'String'], 'dst_class': [1, False, 'String'], 'dst_id': [1, False, 'Number'], 'src_class': [1, False, 'String'], 'src_id': [1, False, 'Number'], 'type': [1, False, 'String']}, 'src': 'Software'}, 'uses': {'dst': 'Organization', 'matched': 1, 'properties': {'created_at': [1, False, 'String'], 'dst_class': [1, False, 'String'], 'dst_id': [1, False, 'Number'], 'src_class': [1, False, 'String'], 'src_id': [1, False, 'Number'], 'type': [1, False, 'String']}, 'src': 'User'}, 'uses_as': {'dst': 'Hardware', 'matched': 1, 'properties': {'created_at': [1, False, 'String'], 'dst_class': [1, False, 'String'], 'dst_id': [1, False, 'Number'], 'src_class': [1, False, 'String'], 'src_id': [1, False, 'Number'], 'type': [1, False, 'String']}, 'src': 'Software'}, 'uses_as_extension_of': {'dst': 'Hardware', 'matched': 1, 'properties': {'created_at': [1, False, 'String'], 'dst_class': [1, False, 'String'], 'dst_id': [1, False, 'Number'], 'src_class': [1, False, 'String'], 'src_id': [1, False, 'Number'], 'type': [1, False, 'String']}, 'src': 'Software'}, 'utilized_by': {'dst': 'Software', 'matched': 1, 'properties': {'created_at': [1, False, 'String'], 'dst_class': [1, False, 'String'], 'dst_id': [1, False, 'Number'], 'src_class': [1, False, 'String'], 'src_id': [1, False, 'Number'], 'type': [1, False, 'String']}, 'src': 'Concept'}, 'utilized_for': {'dst': 'Hardware', 'matched': 1, 'properties': {'created_at': [1, False, 'String'], 'dst_class': [1, False, 'String'], 'dst_id': [1, False, 'Number'], 'src_class': [1, False, 'String'], 'src_id': [1, False, 'Number'], 'type': [1, False, 'String']}, 'src': 'Hardware'}, 'utilizes': {'dst': 'Service', 'matched': 1, 'properties': {'created_at': [1, False, 'String'], 'dst_class': [1, False, 'String'], 'dst_id': [1, False, 'Number'], 'src_class': [1, False, 'String'], 'src_id': [1, False, 'Number'], 'type': [1, False, 'String']}, 'src': 'System'}, 'valid_within': {'dst': 'Network', 'matched': 1, 'properties': {'created_at': [1, False, 'String'], 'dst_class': [1, False, 'String'], 'dst_id': [1, False, 'Number'], 'src_class': [1, False, 'String'], 'src_id': [1, False, 'Number'], 'type': [1, False, 'String']}, 'src': 'Network'}, 'varies_by_service_type': {'dst': 'Concept', 'matched': 3, 'properties': {'created_at': [3, False, 'String'], 'dst_class': [3, False, 'String'], 'dst_id': [3, False, 'Number'], 'src_class': [3, False, 'String'], 'src_id': [3, False, 'Number'], 'type': [3, False, 'String']}, 'src': 'Concept'}, 'virtualizes': {'dst': 'Software', 'matched': 1, 'properties': {'created_at': [1, False, 'String'], 'dst_class': [1, False, 'String'], 'dst_id': [1, False, 'Number'], 'src_class': [1, False, 'String'], 'src_id': [1, False, 'Number'], 'type': [1, False, 'String']}, 'src': 'Concept'}, 'virtualizes_as_multiple': {'dst': 'Hardware', 'matched': 1, 'properties': {'created_at': [1, False, 'String'], 'dst_class': [1, False, 'String'], 'dst_id': [1, False, 'Number'], 'src_class': [1, False, 'String'], 'src_id': [1, False, 'Number'], 'type': [1, False, 'String']}, 'src': 'Concept'}}, 'returned': 518}, 'entities': {'classes': {'Concept': {'matched': 137, 'properties': {'advantages': [3, False, 'String'], 'benefits': [14, False, 'String'], 'challenges': [3, False, 'String'], 'characteristics': [23, False, 'String'], 'comparison_points': [10, False, 'String'], 'definition': [64, False, 'String'], 'disadvantages': [3, False, 'String'], 'elasticity': [1, False, 'String'], 'id': [137, False, 'Number'], 'infrastructure_foundation': [1, False, 'String'], 'inspiration_source': [5, False, 'String'], 'investment_requirement': [1, False, 'String'], 'key_aspects': [24, False, 'String'], 'lifespan': [1, False, 'String'], 'limitations': [3, False, 'String'], 'name': [137, False, 'String'], 'objective': [3, False, 'String'], 'os_modification_requirement': [2, False, 'String'], 'performance_impact': [1, False, 'String'], 'performance_optimization': [1, False, 'String'], 'purpose': [3, False, 'String'], 'role': [9, False, 'String'], 'status': [6, False, 'String'], 'type': [8, False, 'String'], 'use_cases': [7, False, 'String']}}, 'Hardware': {'matched': 21, 'properties': {'architecture_type': [3, False, 'String'], 'configuration': [2, False, 'String'], 'function': [5, False, 'String'], 'geographical_location': [2, False, 'String'], 'id': [21, False, 'Number'], 'management_responsibility': [1, False, 'String'], 'management_scope': [1, False, 'String'], 'name': [21, False, 'String'], 'processor_type': [1, False, 'String'], 'resource_type': [3, False, 'String'], 'type': [17, False, 'String']}}, 'Network': {'matched': 26, 'properties': {'backbone_components': [2, False, 'String'], 'characteristics': [1, False, 'String'], 'connectivity_method': [2, False, 'String'], 'content_delivery_mechanism': [2, False, 'String'], 'definition': [5, False, 'String'], 'description': [4, False, 'String'], 'id': [26, False, 'Number'], 'ip_assignment_method': [3, False, 'String'], 'isolation_mechanism': [4, False, 'String'], 'name': [26, False, 'String'], 'region_based_delivery_benefit': [1, False, 'String'], 'routing_capability': [1, False, 'String'], 'security_rules': [4, False, 'String'], 'subnetting_capability': [1, False, 'String'], 'type': [11, False, 'String'], 'use_cases': [1, False, 'String'], 'virtual_network_components': [1, False, 'String']}}, 'Organization': {'matched': 20, 'properties': {'benefits': [1, False, 'String'], 'contributions': [5, False, 'String'], 'id': [20, False, 'Number'], 'management_options': [1, False, 'String'], 'market_dominance': [5, False, 'String'], 'name': [20, False, 'String'], 'offerings': [2, False, 'String'], 'resource_management_responsibility': [1, False, 'String'], 'role': [4, False, 'String'], 'security_investment': [1, False, 'String'], 'type': [8, False, 'String']}}, 'Service': {'matched': 69, 'properties': {'access_level': [1, False, 'String'], 'access_speed': [4, False, 'String'], 'architecture_approach': [2, False, 'String'], 'audit_scope': [1, False, 'String'], 'automation_tools': [2, False, 'String'], 'billing_automation': [1, False, 'String'], 'capacity': [2, False, 'String'], 'characteristics': [2, False, 'String'], 'comparison_points': [1, False, 'String'], 'configuration_capability': [1, False, 'String'], 'cost': [2, False, 'String'], 'data_retention_purpose': [2, False, 'String'], 'data_storage_format': [2, False, 'String'], 'default_offerings': [1, False, 'String'], 'description': [28, False, 'String'], 'firewall_rules': [1, False, 'String'], 'function': [1, False, 'String'], 'global_reach': [1, False, 'String'], 'id': [69, False, 'Number'], 'independence_requirement': [1, False, 'String'], 'interoperability_capability': [1, False, 'String'], 'ip_assignment_method': [1, False, 'String'], 'latency': [2, False, 'String'], 'management_options': [1, False, 'String'], 'migration_service_availability': [1, False, 'String'], 'model_type': [17, False, 'String'], 'modifiability': [2, False, 'String'], 'monitoring_tools': [3, False, 'String'], 'name': [69, False, 'String'], 'objective': [1, False, 'String'], 'os_installation_support': [4, False, 'String'], 'portability_capability': [1, False, 'String'], 'pricing_model': [2, False, 'String'], 'protocol_support': [1, False, 'String'], 'provider_responsibility': [7, False, 'String'], 'provisioning_capability': [2, False, 'String'], 'query_language_support': [2, False, 'String'], 'redundancy': [1, False, 'String'], 'resource_allocation_model': [1, False, 'String'], 'resource_management_responsibility': [2, False, 'String'], 'role': [7, False, 'String'], 'routing_capability': [1, False, 'String'], 'scalability_features': [6, False, 'String'], 'security_measures': [1, False, 'String'], 'service_delivery_method': [5, False, 'String'], 'service_orchestration': [3, False, 'String'], 'status': [6, False, 'String'], 'structure_type': [4, False, 'String'], 'supported_database_types': [1, False, 'String'], 'supported_storage_types': [1, False, 'String'], 'type': [3, False, 'String'], 'use_cases': [9, False, 'String'], 'user_responsibility': [4, False, 'String']}}, 'Software': {'matched': 48, 'properties': {'abstraction_level': [1, False, 'String'], 'access_control': [1, False, 'String'], 'architecture_approach': [4, False, 'String'], 'command_execution_method': [3, False, 'String'], 'cost_characteristic': [1, False, 'String'], 'default_hypervisor': [2, False, 'String'], 'definition': [3, False, 'String'], 'deployment_method': [2, False, 'String'], 'device_mediation': [1, False, 'String'], 'efficiency_characteristic': [2, False, 'String'], 'efficiency_mechanism': [1, False, 'String'], 'function': [20, False, 'String'], 'hardware_access_control': [2, False, 'String'], 'id': [48, False, 'Number'], 'inspiration_source': [1, False, 'String'], 'installation_requirements': [3, False, 'String'], 'intended_use_definition': [1, False, 'String'], 'licensing_cost': [1, False, 'String'], 'live_migration_support': [1, False, 'String'], 'management_responsibility': [3, False, 'String'], 'management_scope': [1, False, 'String'], 'migration_capability': [1, False, 'String'], 'name': [48, False, 'String'], 'open_source_status': [2, False, 'String'], 'orchestration_capability': [1, False, 'String'], 'performance_optimization': [1, False, 'String'], 'platform_management': [1, False, 'String'], 'process_isolation': [1, False, 'String'], 'resource_allocation': [1, False, 'String'], 'role': [4, False, 'String'], 'scalability_characteristic': [1, False, 'String'], 'scaling_capability': [4, False, 'String'], 'security_consideration': [3, False, 'String'], 'setup_definition': [1, False, 'String'], 'supported_virtualization_models': [1, False, 'String'], 'type': [28, False, 'String'], 'vm_execution_management': [2, False, 'String'], 'workload_support': [1, False, 'String']}}, 'System': {'matched': 54, 'properties': {'access_definition': [3, False, 'String'], 'acquisition_options': [1, False, 'String'], 'architecture_type': [6, False, 'String'], 'automation_capability': [1, False, 'String'], 'autoscaling_capability': [1, False, 'String'], 'backend_abstraction': [1, False, 'String'], 'challenges': [1, False, 'String'], 'characteristics': [4, False, 'String'], 'cluster_on_demand_capability': [2, False, 'String'], 'commercial_versions_availability': [1, False, 'String'], 'common_characteristics': [3, False, 'String'], 'comparison_points': [4, False, 'String'], 'computational_problem_scale': [1, False, 'String'], 'control_level': [1, False, 'String'], 'core_objective': [1, False, 'String'], 'cost_characteristic': [1, False, 'String'], 'definition': [11, False, 'String'], 'description': [6, False, 'String'], 'device_communication_model': [1, False, 'String'], 'essential_characteristics': [1, False, 'String'], 'financial_compensation_incentive': [1, False, 'String'], 'flexibility_benefit': [1, False, 'String'], 'geographical_distribution': [3, False, 'String'], 'geographical_proximity': [1, False, 'String'], 'hardware_limitations': [1, False, 'String'], 'hardware_requirement': [2, False, 'String'], 'homogeneity_characteristic': [4, False, 'String'], 'hpc_service_availability': [2, False, 'String'], 'id': [54, False, 'Number'], 'incentive_model': [1, False, 'String'], 'infrastructure_foundation': [3, False, 'String'], 'installation_requirements': [1, False, 'String'], 'interoperability_capability': [1, False, 'String'], 'investment_requirement': [1, False, 'String'], 'ip_assignment_method': [1, False, 'String'], 'kubernetes_integration': [1, False, 'String'], 'layered_design_capability': [1, False, 'String'], 'limitations': [2, False, 'String'], 'market_dominance': [1, False, 'String'], 'massive_scale_capability': [3, False, 'String'], 'middleware_complexity': [2, False, 'String'], 'migration_capability': [1, False, 'String'], 'name': [54, False, 'String'], 'network_type': [1, False, 'String'], 'nist_definition_relation': [2, False, 'String'], 'node_count_requirement': [2, False, 'String'], 'open_source_status': [1, False, 'String'], 'operation_manner': [3, False, 'String'], 'operator_wait_time': [1, False, 'String'], 'parallelization_applicability': [1, False, 'String'], 'payment_model': [1, False, 'String'], 'performance_impact': [2, False, 'String'], 'privacy_compliance_requirement': [2, False, 'String'], 'programming_language_requirement': [1, False, 'String'], 'purpose': [2, False, 'String'], 'resilience_characteristic': [4, False, 'String'], 'resource_distribution_model': [3, False, 'String'], 'resource_selling_capability': [1, False, 'String'], 'resource_sharing_incentive': [1, False, 'String'], 'resource_utilization_method': [2, False, 'String'], 'role': [1, False, 'String'], 'scalability_characteristic': [3, False, 'String'], 'security_concern': [5, False, 'String'], 'service_orientation': [3, False, 'String'], 'setup_definition': [2, False, 'String'], 'task_distribution_impact': [1, False, 'String'], 'type': [19, False, 'String'], 'ubiquitous_access': [1, False, 'String'], 'use_cases': [5, False, 'String'], 'user_perspective': [2, False, 'String'], 'vendor_lock_in_avoidance': [1, False, 'String'], 'workload_support': [1, False, 'String']}}, 'User': {'matched': 5, 'properties': {'access_level': [3, False, 'String'], 'automation_capability': [1, False, 'String'], 'id': [5, False, 'Number'], 'interaction_method': [1, False, 'String'], 'name': [5, False, 'String'], 'participation_model': [1, False, 'String'], 'payment_model': [1, False, 'String'], 'resource_consumption': [1, False, 'String'], 'role': [3, False, 'String']}}, '_Blob': {'matched': 1, 'properties': {'description': [1, False, 'String'], 'id': [1, False, 'Number'], 'name': [1, False, 'String'], 'type': [1, False, 'String'], 'upload_timestamp': [1, False, 'String']}}}, 'returned': 9}, 'refreshed': '2025-07-20T10:32:10.431630Z', 'status': 0}}], [])\n"
          ]
        }
      ]
    },
    {
      "cell_type": "markdown",
      "source": [
        "Import required libraries"
      ],
      "metadata": {
        "id": "H0XQtGvYZOnG"
      }
    },
    {
      "cell_type": "code",
      "source": [
        "# Core imports\n",
        "import os\n",
        "import json\n",
        "import time\n",
        "from typing import Dict, List, Any\n",
        "from tqdm import tqdm\n",
        "import numpy as np\n",
        "\n",
        "# Data models and utilities\n",
        "from google.colab import userdata, files\n",
        "from aperturedb.CommonLibrary import create_connector\n",
        "from aperturedb.ParallelLoader import ParallelLoader\n",
        "from IPython.display import HTML, display\n",
        "from pprint import pprint\n",
        "from google import genai\n",
        "from google.genai import types, errors\n"
      ],
      "metadata": {
        "id": "2r1rMQjgDYRI"
      },
      "execution_count": 14,
      "outputs": []
    },
    {
      "cell_type": "markdown",
      "source": [
        "Set up the API keys. You can get a Google API key [here](https://aistudio.google.com/apikey)."
      ],
      "metadata": {
        "id": "RzrqLUwzplio"
      }
    },
    {
      "cell_type": "code",
      "source": [
        "google_api_key = userdata.get(\"GOOGLE_API_KEY\")"
      ],
      "metadata": {
        "id": "iqHj9beWDfJE"
      },
      "execution_count": 15,
      "outputs": []
    },
    {
      "cell_type": "markdown",
      "source": [
        "## 2. Preparing Entity Data for Embedding\n",
        "\n",
        "Our knowledge graph contains structured entities with various properties. To make these entities searchable via semantic search, we need to represent them as vector embeddings. The first step is to convert each structured entity into a single, cohesive text \"document\".\n",
        "\n",
        "The `fetch_entities` function retrieves all entity nodes from our ApertureDB graph. It does so using the [GetSchema](https://docs.aperturedata.io/query_language/Reference/db_commands/GetSchema) method provided by ApertureDB and then extracting all the classes. Then one by one, all the entities with all their properties are extracted from each class."
      ],
      "metadata": {
        "id": "EwdUlMA5qCsQ"
      }
    },
    {
      "cell_type": "code",
      "source": [
        "def fetch_entities(client):\n",
        "    \"\"\"\n",
        "    Fetches all entities by first getting the schema to identify all classes,\n",
        "    and then querying for entities within each class.\n",
        "    \"\"\"\n",
        "    # Get schema and filter for valid, non-internal class names.\n",
        "    schema_query = [{\"GetSchema\": {}}]\n",
        "    schema_response, _ = client.query(schema_query)\n",
        "\n",
        "    if not schema_response or \"entities\" not in schema_response[0][\"GetSchema\"]:\n",
        "        print(\"Error: Could not retrieve schema from ApertureDB.\")\n",
        "        return []\n",
        "\n",
        "    all_class_names = schema_response[0][\"GetSchema\"][\"entities\"][\"classes\"].keys()\n",
        "    # Filter out internal classes (like _Blob) which cause query errors.\n",
        "    valid_class_names = [name for name in all_class_names if not name.startswith('_')]\n",
        "    print(f\"Found valid classes in schema: {valid_class_names}\")\n",
        "\n",
        "    # Iterate and fetch entities for each valid class.\n",
        "    all_entities = []\n",
        "    for class_name in valid_class_names:\n",
        "        entity_query = [{\n",
        "            \"FindEntity\": {\n",
        "                \"with_class\": class_name,\n",
        "                \"results\": {\"all_properties\": True}\n",
        "            }\n",
        "        }]\n",
        "        entity_response, _ = client.query(entity_query)\n",
        "\n",
        "        # Ensure response is not empty and has the expected structure.\n",
        "        if entity_response and entity_response[0].get(\"FindEntity\", {}).get(\"entities\"):\n",
        "            entities_for_class = entity_response[0][\"FindEntity\"][\"entities\"]\n",
        "            for entity in entities_for_class:\n",
        "                entity['class'] = class_name\n",
        "            all_entities.extend(entities_for_class)\n",
        "\n",
        "    print(f\"Successfully fetched a total of {len(all_entities)} entities.\")\n",
        "    return all_entities"
      ],
      "metadata": {
        "id": "LiFcydCfG7Xc"
      },
      "execution_count": 16,
      "outputs": []
    },
    {
      "cell_type": "markdown",
      "source": [
        "The `create_entity_documents` synthesizes a document for each entity by concatenating its key properties (like name, class, definition, etc.) into a single string. This process creates a text representation that is rich in context and ideal for generating a high-quality embedding."
      ],
      "metadata": {
        "id": "BKVtUoRsq07M"
      }
    },
    {
      "cell_type": "code",
      "source": [
        "def create_entity_documents(entities):\n",
        "    \"\"\"\n",
        "    Creates a synthesized document for each entity\n",
        "    \"\"\"\n",
        "    entity_documents = []\n",
        "    for entity in entities:\n",
        "        doc_parts = [f\"Entity: {entity.get('name', '')}.\", f\"Class: {entity.get('class', 'N/A')}.\"]\n",
        "        other_properties = {\n",
        "            k: v for k, v in entity.items()\n",
        "            if k not in [\"_uniqueid\", \"name\", \"class\"] and v is not None\n",
        "        }\n",
        "        for key, value in other_properties.items():\n",
        "            doc_parts.append(f\"{key}: {value}.\")\n",
        "\n",
        "        entity_documents.append({\n",
        "            \"entity_id\": entity.get(\"id\"),\n",
        "            \"class\": entity.get(\"class\"),\n",
        "            \"document\": \" \".join(doc_parts)\n",
        "        })\n",
        "\n",
        "    print(f\"Created {len(entity_documents)} documents for embedding.\")\n",
        "    return entity_documents"
      ],
      "metadata": {
        "id": "xa4e-AYdHjhk"
      },
      "execution_count": 17,
      "outputs": []
    },
    {
      "cell_type": "markdown",
      "source": [
        "Calling the above functions to create documents for embedding."
      ],
      "metadata": {
        "id": "ci8-VEGXrEjY"
      }
    },
    {
      "cell_type": "code",
      "source": [
        "all_entities = fetch_entities(client)\n",
        "if all_entities:\n",
        "    documents_to_embed = create_entity_documents(all_entities)"
      ],
      "metadata": {
        "colab": {
          "base_uri": "https://localhost:8080/"
        },
        "id": "qqqKSODlHvnH",
        "outputId": "fc45a0d3-c5e6-428a-a90c-2ea9da0bda8e"
      },
      "execution_count": 18,
      "outputs": [
        {
          "output_type": "stream",
          "name": "stdout",
          "text": [
            "Found valid classes in schema: ['Concept', 'Hardware', 'Network', 'Organization', 'Service', 'Software', 'System', 'User']\n",
            "Successfully fetched a total of 380 entities.\n",
            "Created 380 documents for embedding.\n"
          ]
        }
      ]
    },
    {
      "cell_type": "markdown",
      "source": [
        "Lets check out the first two samples to see what our documents look like. Note that the `entity_id` and `class` fields will serve as our metadata. These fields are necessary to connect embeddings to their source entities, and also to later on find neighbouring nodes (the core of graph RAG).\n",
        "The `document` field contains the tex which will be converted into vector embeddings. Note how it also contains the class name and entity name along with all other entity properties. This aids vector search."
      ],
      "metadata": {
        "id": "xQKN80W1rLjw"
      }
    },
    {
      "cell_type": "code",
      "source": [
        "print(\"\\n--- Sample Documents for Embedding ---\")\n",
        "for doc in documents_to_embed[:2]:\n",
        "    print(json.dumps(doc, indent=2))"
      ],
      "metadata": {
        "colab": {
          "base_uri": "https://localhost:8080/"
        },
        "id": "rYsVZS-SH7Gi",
        "outputId": "b70771dd-fb2a-4291-e1a1-06c48780da14"
      },
      "execution_count": 19,
      "outputs": [
        {
          "output_type": "stream",
          "name": "stdout",
          "text": [
            "\n",
            "--- Sample Documents for Embedding ---\n",
            "{\n",
            "  \"entity_id\": 1,\n",
            "  \"class\": \"Concept\",\n",
            "  \"document\": \"Entity: Vector processing. Class: Concept. id: 1.\"\n",
            "}\n",
            "{\n",
            "  \"entity_id\": 2,\n",
            "  \"class\": \"Concept\",\n",
            "  \"document\": \"Entity: Image processing. Class: Concept. id: 2.\"\n",
            "}\n"
          ]
        }
      ]
    },
    {
      "cell_type": "markdown",
      "source": [
        "## 3. Generating Vector Embeddings with Cohere\n",
        "\n",
        "With our entity documents prepared, we can now generate the vector embeddings. We'll use [Google AI's `gemini-embedding-001`](https://ai.google.dev/gemini-api/docs/embeddings) model, which is highly performant for retrieval tasks and allows us to specify different embedding dimensions. We are using 768 as the mebdding dimensions for a balance of speed, size and accuracy. You can set a higher or lower embedding dimensions if you want."
      ],
      "metadata": {
        "id": "0nOHdx2psJPf"
      }
    },
    {
      "cell_type": "code",
      "source": [
        "GEMINI_MODEL_NAME = \"gemini-embedding-001\"\n",
        "EMBEDDING_DIMENSIONS = 768\n",
        "gemini_client = genai.Client(api_key=google_api_key)"
      ],
      "metadata": {
        "id": "A5fPUR9x33u-"
      },
      "execution_count": 20,
      "outputs": []
    },
    {
      "cell_type": "markdown",
      "source": [
        "The function `generate_embeddings_with_gemini` sends the documents to the Gemini API in batches. Batching is crucial for efficiency and to avoid hitting API rate limits when processing a large number of entities. Since Google's free tier allows 100 RPM, we add a delay to 60s between batches  to avoid rate limiting. The function then appends the resulting embedding vector to each entity's data structure in a new `embedding` field."
      ],
      "metadata": {
        "id": "yxArMdEJskfY"
      }
    },
    {
      "cell_type": "code",
      "source": [
        "def generate_embeddings_with_gemini(docs_to_embed, batch_size: int = 96, model_name: str = GEMINI_MODEL_NAME, output_dim: int = EMBEDDING_DIMENSIONS):\n",
        "    \"\"\"\n",
        "    Generates embeddings for a list of documents with Google Gemini.\n",
        "\n",
        "    \"\"\"\n",
        "    # Extract raw text\n",
        "    texts_to_embed = [item[\"document\"] for item in docs_to_embed]\n",
        "\n",
        "    # Batch-wise embedding\n",
        "    for i in tqdm(range(0, len(texts_to_embed), batch_size), desc=\"Embedding Batches\"):\n",
        "        batch_texts = texts_to_embed[i : i + batch_size]\n",
        "\n",
        "        # Build the config\n",
        "        embed_cfg = types.EmbedContentConfig(\n",
        "            output_dimensionality=output_dim,\n",
        "            task_type=\"RETRIEVAL_DOCUMENT\", # optimal for corpus items\n",
        "        )\n",
        "\n",
        "        # API call\n",
        "        result = gemini_client.models.embed_content(\n",
        "            model=model_name,\n",
        "            contents=batch_texts,\n",
        "            config=embed_cfg,\n",
        "        )\n",
        "\n",
        "        batch_embeddings = [emb.values for emb in result.embeddings]\n",
        "\n",
        "        # Safety check\n",
        "        if len(batch_embeddings) == len(batch_texts):\n",
        "            for j, embedding in enumerate(batch_embeddings):\n",
        "                docs_to_embed[i + j][\"embedding\"] = embedding\n",
        "        else:\n",
        "            print(\n",
        "                f\"Warning: API returned {len(batch_embeddings)} embeddings \"\n",
        "                f\"for a batch of {len(batch_texts)} texts.  Skipping those rows.\"\n",
        "            )\n",
        "\n",
        "        # Add 1 minute delay to avoid rate limiting.\n",
        "        time.sleep(60)\n",
        "\n",
        "\n",
        "    # Keep only the documents that now contain an embedding\n",
        "    docs_with_embeddings = [d for d in docs_to_embed if \"embedding\" in d]\n",
        "    print(f\"\\nSuccessfully generated embeddings for {len(docs_with_embeddings)} documents.\")\n",
        "    return docs_with_embeddings"
      ],
      "metadata": {
        "id": "mseNdrua4gWs"
      },
      "execution_count": 21,
      "outputs": []
    },
    {
      "cell_type": "markdown",
      "source": [
        "Call the function on our curated documents."
      ],
      "metadata": {
        "id": "q8Mr1rPls2q0"
      }
    },
    {
      "cell_type": "code",
      "source": [
        "docs_with_embeddings = generate_embeddings_with_gemini(documents_to_embed)"
      ],
      "metadata": {
        "colab": {
          "base_uri": "https://localhost:8080/"
        },
        "id": "47zbB7mmwj9k",
        "outputId": "33c21442-d0f0-4ad5-9d63-a4578f8b789e"
      },
      "execution_count": 22,
      "outputs": [
        {
          "output_type": "stream",
          "name": "stderr",
          "text": [
            "Embedding Batches: 100%|██████████| 4/4 [04:03<00:00, 60.90s/it]"
          ]
        },
        {
          "output_type": "stream",
          "name": "stdout",
          "text": [
            "\n",
            "Successfully generated embeddings for 380 documents.\n"
          ]
        },
        {
          "output_type": "stream",
          "name": "stderr",
          "text": [
            "\n"
          ]
        }
      ]
    },
    {
      "cell_type": "markdown",
      "source": [
        "Lets print out and check a sample of the resultant docs_with_embeddings data structure."
      ],
      "metadata": {
        "id": "8rUrJoE8s-Lv"
      }
    },
    {
      "cell_type": "code",
      "source": [
        "first_doc = docs_with_embeddings[0]\n",
        "print(f\"Document for Entity ID: {first_doc['entity_id']}\")\n",
        "print(f\"Embedding generated: {'embedding' in first_doc}\")\n",
        "print(f\"Embedding dimensions: {len(first_doc['embedding'])}\")\n",
        "print(f\"Sample of embedding vector: {np.array(first_doc['embedding'][:5])}\")"
      ],
      "metadata": {
        "colab": {
          "base_uri": "https://localhost:8080/"
        },
        "id": "gBD9nPK8wrta",
        "outputId": "8d495f65-642c-4ae2-fa69-d7101b28bbf1"
      },
      "execution_count": 23,
      "outputs": [
        {
          "output_type": "stream",
          "name": "stdout",
          "text": [
            "Document for Entity ID: 1\n",
            "Embedding generated: True\n",
            "Embedding dimensions: 768\n",
            "Sample of embedding vector: [-0.01285386  0.00483452  0.0109325  -0.06323054 -0.00350184]\n"
          ]
        }
      ]
    },
    {
      "cell_type": "markdown",
      "source": [
        "## 4. Creating the Vector Index in ApertureDB\n",
        "\n",
        "Before we can store our embeddings, we need a place for them to live. In ApertureDB, vector indexes are called [**`DescriptorSets`**](https://docs.aperturedata.io/HowToGuides/start/Embeddings)."
      ],
      "metadata": {
        "id": "rZYoC9B0tKqo"
      }
    },
    {
      "cell_type": "code",
      "source": [
        "DESCRIPTOR_SET_NAME = \"entity_embeddings_gemini\""
      ],
      "metadata": {
        "id": "HWZTSBqf0adF"
      },
      "execution_count": 24,
      "outputs": []
    },
    {
      "cell_type": "markdown",
      "source": [
        "The `create_vector_index` function defines and creates a new `DescriptorSet` named `entity_embeddings_gemini`. We configure it with the correct dimensionality (768 for our Gemini embedding model), a distance metric (Cosine Similarity - `CS`), and a search engine (`HNSW`, a popular choice for fast and accurate nearest-neighbor search). The function is idempotent, meaning it will safely skip creation if the set already exists."
      ],
      "metadata": {
        "id": "4r3FkkFCtijE"
      }
    },
    {
      "cell_type": "code",
      "source": [
        "def create_vector_index(client, set_name, dimensions):\n",
        "    \"\"\"\n",
        "    Creates a new DescriptorSet to serve as a vector index if it doesn't exist.\n",
        "    \"\"\"\n",
        "    print(f\"Checking for DescriptorSet: '{set_name}'...\")\n",
        "\n",
        "    # Check if the DescriptorSet already exists.\n",
        "    find_query = [{\n",
        "        \"FindDescriptorSet\": {\n",
        "            \"_ref\": 1,\n",
        "            \"with_name\": DESCRIPTOR_SET_NAME,\n",
        "            \"metrics\": True,\n",
        "            \"engines\": True,\n",
        "        }\n",
        "    }]\n",
        "    response, _ = client.query(find_query)\n",
        "\n",
        "    if response and response[0].get(\"FindDescriptorSet\", {}).get(\"returned\") == 1:\n",
        "        print(f\"DescriptorSet '{set_name}' already exists. Skipping creation.\")\n",
        "        return\n",
        "\n",
        "    # If not found, create it.\n",
        "    print(f\"Creating DescriptorSet '{set_name}'...\")\n",
        "    create_query = [{\n",
        "        \"AddDescriptorSet\": {\n",
        "            \"name\": set_name,\n",
        "            \"dimensions\": dimensions,\n",
        "            \"metric\": \"CS\",\n",
        "            \"engine\": \"HNSW\"\n",
        "        }\n",
        "    }]\n",
        "    response, _ = client.query(create_query)\n",
        "\n",
        "    if response[0][\"AddDescriptorSet\"][\"status\"] == 0:\n",
        "        print(f\"Successfully created DescriptorSet '{set_name}'.\")\n",
        "    else:\n",
        "        print(f\"Error creating DescriptorSet: {response[0]['AddDescriptorSet']['info']}\")"
      ],
      "metadata": {
        "id": "5DS3D4HS2oJ2"
      },
      "execution_count": 25,
      "outputs": []
    },
    {
      "cell_type": "code",
      "source": [
        "create_vector_index(client, DESCRIPTOR_SET_NAME, EMBEDDING_DIMENSIONS)"
      ],
      "metadata": {
        "colab": {
          "base_uri": "https://localhost:8080/"
        },
        "id": "1TGOoP3T_sZJ",
        "outputId": "93c069bb-0dd0-4230-dcf8-c8da6cd2ada0"
      },
      "execution_count": 26,
      "outputs": [
        {
          "output_type": "stream",
          "name": "stdout",
          "text": [
            "Checking for DescriptorSet: 'entity_embeddings_gemini'...\n",
            "Creating DescriptorSet 'entity_embeddings_gemini'...\n",
            "Successfully created DescriptorSet 'entity_embeddings_gemini'.\n"
          ]
        }
      ]
    },
    {
      "cell_type": "markdown",
      "source": [
        "## 5. Ingesting Embeddings and Linking to the Graph\n",
        "\n",
        "Now we'll ingest all the generated embeddings into our `DescriptorSet` and, most importantly, connect each embedding back to its original entity in the knowledge graph. This link is what enables our hybrid GraphRAG approach.\n",
        "\n",
        "We perform this in two efficient, parallelized stages using ApertureDB's [`ParallelLoader`](https://docs.aperturedata.io/python_sdk/parallel_exec/ParallelLoader).\n",
        "\n",
        "The `ingest_embeddings` function first adds all the vector embeddings as [`Descriptor`](https://docs.aperturedata.io/HowToGuides/start/Embeddings) objects (embeddings in ApertureDB) into our `entity_embeddings_gemini` set. We also store the original entity's ID and class as properties/metadata on the descriptor itself for easy lookup later - as alluded to earlier."
      ],
      "metadata": {
        "id": "QlTzwM8ot1zW"
      }
    },
    {
      "cell_type": "code",
      "source": [
        "def ingest_embeddings(client, set_name, docs_with_embeddings):\n",
        "\n",
        "    \"\"\" Ingests the descriptors and their embeddings in parallel. \"\"\"\n",
        "\n",
        "    data_to_ingest = []\n",
        "\n",
        "    for doc in docs_with_embeddings:\n",
        "        query = [{\n",
        "            \"AddDescriptor\": {\n",
        "                \"set\": set_name,\n",
        "                \"properties\": {\n",
        "                    # We store the entity's ID and class on the descriptor itself, so we can find it easily in the next step\n",
        "                    \"source_entity_id\": doc.get(\"entity_id\"),\n",
        "                    \"source_entity_class\": doc.get(\"class\")\n",
        "                }\n",
        "            }\n",
        "        }]\n",
        "\n",
        "        # Convert the embedding to bytes.\n",
        "        blobs = [np.array(doc[\"embedding\"], dtype=np.float32).tobytes()]\n",
        "        data_to_ingest.append((query, blobs))\n",
        "\n",
        "    loader = ParallelLoader(client)\n",
        "    loader.ingest(generator=data_to_ingest, batchsize=64, numthreads=8, stats=True)"
      ],
      "metadata": {
        "id": "kYxaZ5AUSP4L"
      },
      "execution_count": 27,
      "outputs": []
    },
    {
      "cell_type": "markdown",
      "source": [
        "Lets ingest our embeddings aka Descriptors into the DescriptorSet."
      ],
      "metadata": {
        "id": "2jo0vigovOkK"
      }
    },
    {
      "cell_type": "code",
      "source": [
        "ingest_embeddings(client, DESCRIPTOR_SET_NAME, docs_with_embeddings)"
      ],
      "metadata": {
        "colab": {
          "base_uri": "https://localhost:8080/"
        },
        "id": "ZGz9YVL0-3nG",
        "outputId": "925dfa7f-afe2-4e6e-ba47-a17d4a8a966c"
      },
      "execution_count": 28,
      "outputs": [
        {
          "output_type": "stream",
          "name": "stderr",
          "text": [
            "Progress: 100%|██████████| 380/380 [00:02<00:00, 189items/s]  "
          ]
        },
        {
          "output_type": "stream",
          "name": "stdout",
          "text": [
            "============ ApertureDB Loader Stats ============\n",
            "Total time (s): 2.0160255432128906\n",
            "Total queries executed: 8\n",
            "Avg Query time (s): 1.0918860733509064\n",
            "Query time std: 0.020816973826248596\n",
            "Avg Query Throughput (q/s): 7.326771716621199\n",
            "Overall insertion throughput (element/s): 188.48967528179395\n",
            "Total inserted elements: 380\n",
            "Total successful commands: 380\n",
            "=================================================\n"
          ]
        },
        {
          "output_type": "stream",
          "name": "stderr",
          "text": [
            "\n"
          ]
        }
      ]
    },
    {
      "cell_type": "markdown",
      "source": [
        "After the descriptors are ingested, `create_connections` function creates the `has_embedding` connections. For each entity, it finds the node in the graph and its corresponding descriptor (using the properties we just stored) and creates an edge between them. This is needed to trace back retrieved embeddings from vector search to the original source entities and find neighbouring nodes."
      ],
      "metadata": {
        "id": "RShcEyG0u2kD"
      }
    },
    {
      "cell_type": "code",
      "source": [
        "def create_connections(client, set_name, docs_with_embeddings):\n",
        "\n",
        "    \"\"\" Creates the 'has_embedding' connections in parallel \"\"\"\n",
        "\n",
        "    queries_to_run = []\n",
        "\n",
        "    for doc in docs_with_embeddings:\n",
        "        entity_id = doc.get(\"entity_id\")\n",
        "        entity_class = doc.get(\"class\")\n",
        "\n",
        "        # Find the entity, find its corresponding descriptor, and create the connection between them.\n",
        "        query = [\n",
        "            {\n",
        "                \"FindEntity\": {\n",
        "                    \"with_class\": entity_class,\n",
        "                    \"constraints\": {\"id\": [\"==\", entity_id]},\n",
        "                    \"_ref\": 1\n",
        "                }\n",
        "            },\n",
        "            {\n",
        "                \"FindDescriptor\": {\n",
        "                    \"set\": set_name,\n",
        "                    # Find the descriptor using the properties we stored in Step 1.\n",
        "                    \"constraints\": {\"source_entity_id\": [\"==\", entity_id]},\n",
        "                    \"_ref\": 2\n",
        "                }\n",
        "            },\n",
        "            {\n",
        "                \"AddConnection\": {\n",
        "                    \"class\": \"has_embedding\",\n",
        "                    \"src\": 1,\n",
        "                    \"dst\": 2\n",
        "                }\n",
        "            }\n",
        "        ]\n",
        "        queries_to_run.append((query, []))\n",
        "\n",
        "    loader = ParallelLoader(client)\n",
        "    loader.ingest(generator=queries_to_run, batchsize=64, numthreads=8, stats=True)"
      ],
      "metadata": {
        "id": "79EQ3xQEB67b"
      },
      "execution_count": 29,
      "outputs": []
    },
    {
      "cell_type": "markdown",
      "source": [
        "Lets create the connections between Descriptors/embeddings and the source entities in our knowledge graph."
      ],
      "metadata": {
        "id": "6NMEPMbKvuku"
      }
    },
    {
      "cell_type": "code",
      "source": [
        "create_connections(client, DESCRIPTOR_SET_NAME, docs_with_embeddings)"
      ],
      "metadata": {
        "colab": {
          "base_uri": "https://localhost:8080/"
        },
        "id": "Y4t834xbCYxQ",
        "outputId": "bdb1eddf-5ba1-48a9-c30d-5593d9da0030"
      },
      "execution_count": 30,
      "outputs": [
        {
          "output_type": "stream",
          "name": "stderr",
          "text": [
            "Progress: 100%|██████████| 380/380 [00:02<00:00, 189items/s]"
          ]
        },
        {
          "output_type": "stream",
          "name": "stdout",
          "text": [
            "============ ApertureDB Loader Stats ============\n",
            "Total time (s): 2.015267848968506\n",
            "Total queries executed: 8\n",
            "Avg Query time (s): 1.085803210735321\n",
            "Query time std: 0.03035769929489338\n",
            "Avg Query Throughput (q/s): 7.367817594297118\n",
            "Overall insertion throughput (element/s): 188.56054305361894\n",
            "Total inserted elements: 380\n",
            "Total successful commands: 1140\n",
            "=================================================\n"
          ]
        },
        {
          "output_type": "stream",
          "name": "stderr",
          "text": [
            "\n"
          ]
        }
      ]
    },
    {
      "cell_type": "markdown",
      "source": [
        "We can confirm the number of connections by running the following query:"
      ],
      "metadata": {
        "id": "akl2UhdYv4Sh"
      }
    },
    {
      "cell_type": "code",
      "source": [
        "# Confirm the connections\n",
        "query = [{\n",
        "    \"FindConnection\": {\n",
        "        \"with_class\": \"has_embedding\",\n",
        "        \"results\": {\n",
        "            \"count\": True\n",
        "        }\n",
        "    }\n",
        "}]\n",
        "\n",
        "response, blobs = client.query(query)\n",
        "\n",
        "client.print_last_response()"
      ],
      "metadata": {
        "colab": {
          "base_uri": "https://localhost:8080/"
        },
        "id": "W0AYkCPU-6FD",
        "outputId": "fd713652-df14-47f6-cafc-f6d15fa44f70"
      },
      "execution_count": 31,
      "outputs": [
        {
          "output_type": "stream",
          "name": "stdout",
          "text": [
            "[\n",
            "    {\n",
            "        \"FindConnection\": {\n",
            "            \"count\": 380,\n",
            "            \"returned\": 0,\n",
            "            \"status\": 0\n",
            "        }\n",
            "    }\n",
            "]\n"
          ]
        }
      ]
    },
    {
      "cell_type": "markdown",
      "source": [
        "As expected, the count matches the number of entities we processed.\n",
        "\n",
        "And that's it! Our embeddings have now been ingested and linked to the source entities. Now we can move on and actually perform RAG and see the powerful capabilities of graph RAG in action! Covered in [Part 2](https://colab.research.google.com/drive/1TXqOpG9er9t5LRLIdbzK-Oqnqei1gbTS?usp=sharing)."
      ],
      "metadata": {
        "id": "O3sqCMumwRje"
      }
    },
    {
      "cell_type": "code",
      "source": [],
      "metadata": {
        "id": "1lh-ymJFbB5i"
      },
      "execution_count": null,
      "outputs": []
    }
  ]
}