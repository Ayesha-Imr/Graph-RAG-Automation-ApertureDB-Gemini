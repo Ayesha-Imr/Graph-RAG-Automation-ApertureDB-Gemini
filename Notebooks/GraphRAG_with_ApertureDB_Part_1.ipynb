{
  "nbformat": 4,
  "nbformat_minor": 0,
  "metadata": {
    "colab": {
      "provenance": [],
      "authorship_tag": "ABX9TyP+Ab3Kql2aWOd9x/1u4s+8",
      "include_colab_link": true
    },
    "kernelspec": {
      "name": "python3",
      "display_name": "Python 3"
    },
    "language_info": {
      "name": "python"
    }
  },
  "cells": [
    {
      "cell_type": "markdown",
      "metadata": {
        "id": "view-in-github",
        "colab_type": "text"
      },
      "source": [
        "<a href=\"https://colab.research.google.com/github/Ayesha-Imr/Graph-RAG-Automation-ApertureDB-Gemini/blob/main/Notebooks/GraphRAG_with_ApertureDB_Part_1.ipynb\" target=\"_parent\"><img src=\"https://colab.research.google.com/assets/colab-badge.svg\" alt=\"Open In Colab\"/></a>"
      ]
    },
    {
      "cell_type": "markdown",
      "source": [
        "# GraphRAG with ApertureDB: Part 1 - Building the Semantic Layer\n",
        "\n",
        "This notebook covers the first major phase of building our GraphRAG system: augmenting the existing knowledge graph with a semantic layer. This involves creating vector embeddings for our entities and ingesting them into ApertureDB, linking them directly to the graph structure.\n",
        "\n",
        "**Prerequisites:** This notebook is a successor to the [**Automating Knowledge Graph Creation with Gemini & ApertureDB**](https://colab.research.google.com/drive/1HoaDwiVsj9QWnSQq2GKMhNrRf0NHp2sw?usp=drive_link) notebook and assumes you have already created and ingested your plaintext graph in an ApertureDB instance. If not, please check out that notebook and run it with your preferred data source so you have a knowledge graph to work with. *(Worry not, everything is automated, all you have to do is create your [ApertureDB](https://www.aperturedata.io/) instance, add the required API keys, upload your chosen pdf aka knowledgebase and run all the cells - easy peasy!)*"
      ],
      "metadata": {
        "id": "X0pWcgojnygK"
      }
    },
    {
      "cell_type": "markdown",
      "source": [
        "## 1. Setup and Initialization\n",
        "\n",
        "First, we'll install the required Python packages and configure our environment. This includes [Gemini embeddings](https://ai.google.dev/gemini-api/docs/embeddings) for embeddings, [ApertureDB](https://www.aperturedata.io/) and some utility packages. We then import all necessary modules and establish a connection to our ApertureDB instance using the credentials stored in Colab's secrets manager."
      ],
      "metadata": {
        "id": "E0wr185Bn3c6"
      }
    },
    {
      "cell_type": "code",
      "execution_count": 2,
      "metadata": {
        "id": "rJ2XAsHjCACU"
      },
      "outputs": [],
      "source": [
        "!pip install -q aperturedb google-genai"
      ]
    },
    {
      "cell_type": "code",
      "source": [
        "# Core imports\n",
        "import os\n",
        "import json\n",
        "import time\n",
        "from typing import Dict, List, Any\n",
        "from tqdm import tqdm\n",
        "import numpy as np\n",
        "\n",
        "# Data models and utilities\n",
        "from google.colab import userdata, files\n",
        "from aperturedb.CommonLibrary import create_connector\n",
        "from aperturedb.ParallelLoader import ParallelLoader\n",
        "from IPython.display import HTML, display\n",
        "from pprint import pprint\n",
        "from google import genai\n",
        "from google.genai import types, errors\n"
      ],
      "metadata": {
        "id": "2r1rMQjgDYRI"
      },
      "execution_count": 31,
      "outputs": []
    },
    {
      "cell_type": "markdown",
      "source": [
        "Set up the API keys. You can get a Google API key [here](https://aistudio.google.com/apikey)."
      ],
      "metadata": {
        "id": "RzrqLUwzplio"
      }
    },
    {
      "cell_type": "code",
      "source": [
        "db_host = userdata.get(\"APERTUREDB_HOST\")\n",
        "db_key = userdata.get(\"APERTUREDB_KEY\")\n",
        "google_api_key = userdata.get(\"GOOGLE_API_KEY\")"
      ],
      "metadata": {
        "id": "iqHj9beWDfJE"
      },
      "execution_count": 5,
      "outputs": []
    },
    {
      "cell_type": "markdown",
      "source": [
        "Connect to the ApertureDB client."
      ],
      "metadata": {
        "id": "9vNqj4QXp-iW"
      }
    },
    {
      "cell_type": "code",
      "source": [
        "client = client = create_connector(\n",
        "          key=db_key\n",
        "        )"
      ],
      "metadata": {
        "id": "FyQAU5LqDjNZ"
      },
      "execution_count": 17,
      "outputs": []
    },
    {
      "cell_type": "markdown",
      "source": [
        "## 2. Preparing Entity Data for Embedding\n",
        "\n",
        "Our knowledge graph contains structured entities with various properties. To make these entities searchable via semantic search, we need to represent them as vector embeddings. The first step is to convert each structured entity into a single, cohesive text \"document\".\n",
        "\n",
        "The `fetch_entities` function retrieves all entity nodes from our ApertureDB graph. It does so using the [GetSchema](https://docs.aperturedata.io/query_language/Reference/db_commands/GetSchema) method provided by ApertureDB and then extracting all the classes. Then one by one, all the entities with all their properties are extracted from each class."
      ],
      "metadata": {
        "id": "EwdUlMA5qCsQ"
      }
    },
    {
      "cell_type": "code",
      "source": [
        "def fetch_entities(client):\n",
        "    \"\"\"\n",
        "    Fetches all entities by first getting the schema to identify all classes,\n",
        "    and then querying for entities within each class.\n",
        "    \"\"\"\n",
        "    # Get schema and filter for valid, non-internal class names.\n",
        "    schema_query = [{\"GetSchema\": {}}]\n",
        "    schema_response, _ = client.query(schema_query)\n",
        "\n",
        "    if not schema_response or \"entities\" not in schema_response[0][\"GetSchema\"]:\n",
        "        print(\"Error: Could not retrieve schema from ApertureDB.\")\n",
        "        return []\n",
        "\n",
        "    all_class_names = schema_response[0][\"GetSchema\"][\"entities\"][\"classes\"].keys()\n",
        "    # Filter out internal classes (like _Blob) which cause query errors.\n",
        "    valid_class_names = [name for name in all_class_names if not name.startswith('_')]\n",
        "    print(f\"Found valid classes in schema: {valid_class_names}\")\n",
        "\n",
        "    # Iterate and fetch entities for each valid class.\n",
        "    all_entities = []\n",
        "    for class_name in valid_class_names:\n",
        "        entity_query = [{\n",
        "            \"FindEntity\": {\n",
        "                \"with_class\": class_name,\n",
        "                \"results\": {\"all_properties\": True}\n",
        "            }\n",
        "        }]\n",
        "        entity_response, _ = client.query(entity_query)\n",
        "\n",
        "        # Ensure response is not empty and has the expected structure.\n",
        "        if entity_response and entity_response[0].get(\"FindEntity\", {}).get(\"entities\"):\n",
        "            entities_for_class = entity_response[0][\"FindEntity\"][\"entities\"]\n",
        "            for entity in entities_for_class:\n",
        "                entity['class'] = class_name\n",
        "            all_entities.extend(entities_for_class)\n",
        "\n",
        "    print(f\"Successfully fetched a total of {len(all_entities)} entities.\")\n",
        "    return all_entities"
      ],
      "metadata": {
        "id": "LiFcydCfG7Xc"
      },
      "execution_count": 18,
      "outputs": []
    },
    {
      "cell_type": "markdown",
      "source": [
        "The `create_entity_documents` synthesizes a document for each entity by concatenating its key properties (like name, class, definition, etc.) into a single string. This process creates a text representation that is rich in context and ideal for generating a high-quality embedding."
      ],
      "metadata": {
        "id": "BKVtUoRsq07M"
      }
    },
    {
      "cell_type": "code",
      "source": [
        "def create_entity_documents(entities):\n",
        "    \"\"\"\n",
        "    Creates a synthesized document for each entity\n",
        "    \"\"\"\n",
        "    entity_documents = []\n",
        "    for entity in entities:\n",
        "        doc_parts = [f\"Entity: {entity.get('name', '')}.\", f\"Class: {entity.get('class', 'N/A')}.\"]\n",
        "        other_properties = {\n",
        "            k: v for k, v in entity.items()\n",
        "            if k not in [\"_uniqueid\", \"name\", \"class\"] and v is not None\n",
        "        }\n",
        "        for key, value in other_properties.items():\n",
        "            doc_parts.append(f\"{key}: {value}.\")\n",
        "\n",
        "        entity_documents.append({\n",
        "            \"entity_id\": entity.get(\"id\"),\n",
        "            \"class\": entity.get(\"class\"),\n",
        "            \"document\": \" \".join(doc_parts)\n",
        "        })\n",
        "\n",
        "    print(f\"Created {len(entity_documents)} documents for embedding.\")\n",
        "    return entity_documents"
      ],
      "metadata": {
        "id": "xa4e-AYdHjhk"
      },
      "execution_count": 19,
      "outputs": []
    },
    {
      "cell_type": "markdown",
      "source": [
        "Calling the above functions to create documents for embedding."
      ],
      "metadata": {
        "id": "ci8-VEGXrEjY"
      }
    },
    {
      "cell_type": "code",
      "source": [
        "all_entities = fetch_entities(client)\n",
        "if all_entities:\n",
        "    documents_to_embed = create_entity_documents(all_entities)"
      ],
      "metadata": {
        "colab": {
          "base_uri": "https://localhost:8080/"
        },
        "id": "qqqKSODlHvnH",
        "outputId": "6cc1cd7b-89d9-42d3-a566-43c9c973e94d"
      },
      "execution_count": 20,
      "outputs": [
        {
          "output_type": "stream",
          "name": "stdout",
          "text": [
            "Found valid classes in schema: ['Application Architecture', 'Cloud Compute Resource', 'Cloud Database Service', 'Cloud Deployment Model', 'Cloud Ecosystem Role', 'Cloud Management Tool', 'Cloud Network Component', 'Cloud Service Model', 'Cloud Service Provider', 'Cloud Storage Resource', 'Computing Environment', 'Computing System', 'Container', 'Hypervisor', 'Middleware', 'Open-Source Cloud Platform', 'OpenStack Node', 'OpenStack Service', 'Orchestration Platform', 'Virtualization Technology']\n",
            "Successfully fetched a total of 276 entities.\n",
            "Created 276 documents for embedding.\n"
          ]
        }
      ]
    },
    {
      "cell_type": "markdown",
      "source": [
        "Lets check out the first two samples to see what our documents look like. Note that the `entity_id` and `class` fields will serve as our metadata. These fields are necessary to connect embeddings to their source entities, and also to later on find neighbouring nodes (the core of graph RAG).\n",
        "The `document` field contains the tex which will be converted into vector embeddings. Note how it also contains the class name and entity name along with all other entity properties. This aids vector search."
      ],
      "metadata": {
        "id": "xQKN80W1rLjw"
      }
    },
    {
      "cell_type": "code",
      "source": [
        "print(\"\\n--- Sample Documents for Embedding ---\")\n",
        "for doc in documents_to_embed[:2]:\n",
        "    print(json.dumps(doc, indent=2))"
      ],
      "metadata": {
        "colab": {
          "base_uri": "https://localhost:8080/"
        },
        "id": "rYsVZS-SH7Gi",
        "outputId": "62ca517b-a38d-4c53-fe67-77d7c7d10449"
      },
      "execution_count": 21,
      "outputs": [
        {
          "output_type": "stream",
          "name": "stdout",
          "text": [
            "\n",
            "--- Sample Documents for Embedding ---\n",
            "{\n",
            "  \"entity_id\": 208,\n",
            "  \"class\": \"Application Architecture\",\n",
            "  \"document\": \"Entity: Cloud-Native Applications (CNA). Class: Application Architecture. characteristic: Highly Scalable, Flexible, Fault-Tolerant, Lightweight & Efficient, Supports Continuous Deployment. definition: Applications designed specifically for cloud environments.. deployment_approach: Built using containers and microservices.. fault_tolerance: Fault-Tolerant. id: 208. scalability: Highly Scalable. type: Cloud-Native Applications (CNA).\"\n",
            "}\n",
            "{\n",
            "  \"entity_id\": 209,\n",
            "  \"class\": \"Application Architecture\",\n",
            "  \"document\": \"Entity: Microservices Architecture. Class: Application Architecture. characteristic: Modular Approach: Applications are split into small, independent services.. deployment_approach: leverage cloud elasticity.. id: 209. type: Microservices Architecture.\"\n",
            "}\n"
          ]
        }
      ]
    },
    {
      "cell_type": "markdown",
      "source": [
        "## 3. Generating Vector Embeddings with Cohere\n",
        "\n",
        "With our entity documents prepared, we can now generate the vector embeddings. We'll use [Google AI's `gemini-embedding-001`](https://ai.google.dev/gemini-api/docs/embeddings) model, which is highly performant for retrieval tasks and allows us to specify different embedding dimensions. We are using 768 as the mebdding dimensions for a balance of speed, size and accuracy. You can set a higher or lower embedding dimensions if you want."
      ],
      "metadata": {
        "id": "0nOHdx2psJPf"
      }
    },
    {
      "cell_type": "code",
      "source": [
        "GEMINI_MODEL_NAME = \"gemini-embedding-001\"\n",
        "EMBEDDING_DIMENSIONS = 768\n",
        "gemini_client = genai.Client(api_key=google_api_key)"
      ],
      "metadata": {
        "id": "A5fPUR9x33u-"
      },
      "execution_count": 23,
      "outputs": []
    },
    {
      "cell_type": "markdown",
      "source": [
        "The function `generate_embeddings_with_gemini` sends the documents to the Gemini API in batches. Batching is crucial for efficiency and to avoid hitting API rate limits when processing a large number of entities. Since Google's free tier allows 100 RPM, we add a delay to 60s between batches  to avoid rate limiting. The function then appends the resulting embedding vector to each entity's data structure in a new `embedding` field."
      ],
      "metadata": {
        "id": "yxArMdEJskfY"
      }
    },
    {
      "cell_type": "code",
      "source": [
        "def generate_embeddings_with_gemini(docs_to_embed, batch_size: int = 96, model_name: str = GEMINI_MODEL_NAME, output_dim: int = EMBEDDING_DIMENSIONS):\n",
        "    \"\"\"\n",
        "    Generates embeddings for a list of documents with Google Gemini.\n",
        "\n",
        "    \"\"\"\n",
        "    # Extract raw text\n",
        "    texts_to_embed = [item[\"document\"] for item in docs_to_embed]\n",
        "\n",
        "    # Batch-wise embedding\n",
        "    for i in tqdm(range(0, len(texts_to_embed), batch_size), desc=\"Embedding Batches\"):\n",
        "        batch_texts = texts_to_embed[i : i + batch_size]\n",
        "\n",
        "        # Build the config\n",
        "        embed_cfg = types.EmbedContentConfig(\n",
        "            output_dimensionality=output_dim,\n",
        "            task_type=\"RETRIEVAL_DOCUMENT\", # optimal for corpus items\n",
        "        )\n",
        "\n",
        "        # API call\n",
        "        result = gemini_client.models.embed_content(\n",
        "            model=model_name,\n",
        "            contents=batch_texts,\n",
        "            config=embed_cfg,\n",
        "        )\n",
        "\n",
        "        batch_embeddings = [emb.values for emb in result.embeddings]\n",
        "\n",
        "        # Safety check\n",
        "        if len(batch_embeddings) == len(batch_texts):\n",
        "            for j, embedding in enumerate(batch_embeddings):\n",
        "                docs_to_embed[i + j][\"embedding\"] = embedding\n",
        "        else:\n",
        "            print(\n",
        "                f\"Warning: API returned {len(batch_embeddings)} embeddings \"\n",
        "                f\"for a batch of {len(batch_texts)} texts.  Skipping those rows.\"\n",
        "            )\n",
        "\n",
        "        # Add 1 minute delay to avoid rate limiting.\n",
        "        time.sleep(60)\n",
        "\n",
        "\n",
        "    # Keep only the documents that now contain an embedding\n",
        "    docs_with_embeddings = [d for d in docs_to_embed if \"embedding\" in d]\n",
        "    print(f\"\\nSuccessfully generated embeddings for {len(docs_with_embeddings)} documents.\")\n",
        "    return docs_with_embeddings"
      ],
      "metadata": {
        "id": "mseNdrua4gWs"
      },
      "execution_count": 43,
      "outputs": []
    },
    {
      "cell_type": "markdown",
      "source": [
        "Call the function on our curated documents."
      ],
      "metadata": {
        "id": "q8Mr1rPls2q0"
      }
    },
    {
      "cell_type": "code",
      "source": [
        "docs_with_embeddings = generate_embeddings_with_gemini(documents_to_embed)"
      ],
      "metadata": {
        "colab": {
          "base_uri": "https://localhost:8080/"
        },
        "id": "47zbB7mmwj9k",
        "outputId": "e802bcde-7b66-4db0-f7a3-757c8a0b8e1b"
      },
      "execution_count": 44,
      "outputs": [
        {
          "output_type": "stream",
          "name": "stderr",
          "text": [
            "Embedding Batches: 100%|██████████| 3/3 [03:02<00:00, 60.85s/it]"
          ]
        },
        {
          "output_type": "stream",
          "name": "stdout",
          "text": [
            "\n",
            "Successfully generated embeddings for 276 documents.\n"
          ]
        },
        {
          "output_type": "stream",
          "name": "stderr",
          "text": [
            "\n"
          ]
        }
      ]
    },
    {
      "cell_type": "markdown",
      "source": [
        "Lets print out and check a sample of the resultant docs_with_embeddings data structure."
      ],
      "metadata": {
        "id": "8rUrJoE8s-Lv"
      }
    },
    {
      "cell_type": "code",
      "source": [
        "first_doc = docs_with_embeddings[0]\n",
        "print(f\"Document for Entity ID: {first_doc['entity_id']}\")\n",
        "print(f\"Embedding generated: {'embedding' in first_doc}\")\n",
        "print(f\"Embedding dimensions: {len(first_doc['embedding'])}\")\n",
        "print(f\"Sample of embedding vector: {np.array(first_doc['embedding'][:5])}\")"
      ],
      "metadata": {
        "colab": {
          "base_uri": "https://localhost:8080/"
        },
        "id": "gBD9nPK8wrta",
        "outputId": "9a2b7a45-bc28-4652-b826-548954bca950"
      },
      "execution_count": 45,
      "outputs": [
        {
          "output_type": "stream",
          "name": "stdout",
          "text": [
            "Document for Entity ID: 208\n",
            "Embedding generated: True\n",
            "Embedding dimensions: 768\n",
            "Sample of embedding vector: [-0.00747136  0.01111416 -0.00263643 -0.0615893  -0.00403898]\n"
          ]
        }
      ]
    },
    {
      "cell_type": "markdown",
      "source": [
        "## 4. Creating the Vector Index in ApertureDB\n",
        "\n",
        "Before we can store our embeddings, we need a place for them to live. In ApertureDB, vector indexes are called [**`DescriptorSets`**](https://docs.aperturedata.io/HowToGuides/start/Embeddings)."
      ],
      "metadata": {
        "id": "rZYoC9B0tKqo"
      }
    },
    {
      "cell_type": "code",
      "source": [
        "DESCRIPTOR_SET_NAME = \"entity_embeddings_gemini\""
      ],
      "metadata": {
        "id": "HWZTSBqf0adF"
      },
      "execution_count": 46,
      "outputs": []
    },
    {
      "cell_type": "markdown",
      "source": [
        "The `create_vector_index` function defines and creates a new `DescriptorSet` named `entity_embeddings_gemini`. We configure it with the correct dimensionality (768 for our Gemini embedding model), a distance metric (Cosine Similarity - `CS`), and a search engine (`HNSW`, a popular choice for fast and accurate nearest-neighbor search). The function is idempotent, meaning it will safely skip creation if the set already exists."
      ],
      "metadata": {
        "id": "4r3FkkFCtijE"
      }
    },
    {
      "cell_type": "code",
      "source": [
        "def create_vector_index(client, set_name, dimensions):\n",
        "    \"\"\"\n",
        "    Creates a new DescriptorSet to serve as a vector index if it doesn't exist.\n",
        "    \"\"\"\n",
        "    print(f\"Checking for DescriptorSet: '{set_name}'...\")\n",
        "\n",
        "    # Check if the DescriptorSet already exists.\n",
        "    find_query = [{\n",
        "        \"FindDescriptorSet\": {\n",
        "            \"_ref\": 1,\n",
        "            \"with_name\": DESCRIPTOR_SET_NAME,\n",
        "            \"metrics\": True,\n",
        "            \"engines\": True,\n",
        "        }\n",
        "    }]\n",
        "    response, _ = client.query(find_query)\n",
        "\n",
        "    if response and response[0].get(\"FindDescriptorSet\", {}).get(\"returned\") == 1:\n",
        "        print(f\"DescriptorSet '{set_name}' already exists. Skipping creation.\")\n",
        "        return\n",
        "\n",
        "    # If not found, create it.\n",
        "    print(f\"Creating DescriptorSet '{set_name}'...\")\n",
        "    create_query = [{\n",
        "        \"AddDescriptorSet\": {\n",
        "            \"name\": set_name,\n",
        "            \"dimensions\": dimensions,\n",
        "            \"metric\": \"CS\",\n",
        "            \"engine\": \"HNSW\"\n",
        "        }\n",
        "    }]\n",
        "    response, _ = client.query(create_query)\n",
        "\n",
        "    if response[0][\"AddDescriptorSet\"][\"status\"] == 0:\n",
        "        print(f\"Successfully created DescriptorSet '{set_name}'.\")\n",
        "    else:\n",
        "        print(f\"Error creating DescriptorSet: {response[0]['AddDescriptorSet']['info']}\")"
      ],
      "metadata": {
        "id": "5DS3D4HS2oJ2"
      },
      "execution_count": 47,
      "outputs": []
    },
    {
      "cell_type": "code",
      "source": [
        "create_vector_index(client, DESCRIPTOR_SET_NAME, EMBEDDING_DIMENSIONS)"
      ],
      "metadata": {
        "colab": {
          "base_uri": "https://localhost:8080/"
        },
        "id": "1TGOoP3T_sZJ",
        "outputId": "c8a7b65c-6ba4-435e-9d69-293d018a92d2"
      },
      "execution_count": 48,
      "outputs": [
        {
          "output_type": "stream",
          "name": "stdout",
          "text": [
            "Checking for DescriptorSet: 'entity_embeddings_gemini'...\n",
            "Creating DescriptorSet 'entity_embeddings_gemini'...\n",
            "Successfully created DescriptorSet 'entity_embeddings_gemini'.\n"
          ]
        }
      ]
    },
    {
      "cell_type": "markdown",
      "source": [
        "## 5. Ingesting Embeddings and Linking to the Graph\n",
        "\n",
        "Now we'll ingest all the generated embeddings into our `DescriptorSet` and, most importantly, connect each embedding back to its original entity in the knowledge graph. This link is what enables our hybrid GraphRAG approach.\n",
        "\n",
        "We perform this in two efficient, parallelized stages using ApertureDB's [`ParallelLoader`](https://docs.aperturedata.io/python_sdk/parallel_exec/ParallelLoader).\n",
        "\n",
        "The `ingest_embeddings` function first adds all the vector embeddings as [`Descriptor`](https://docs.aperturedata.io/HowToGuides/start/Embeddings) objects (embeddings in ApertureDB) into our `entity_embeddings_gemini` set. We also store the original entity's ID and class as properties/metadata on the descriptor itself for easy lookup later - as alluded to earlier."
      ],
      "metadata": {
        "id": "QlTzwM8ot1zW"
      }
    },
    {
      "cell_type": "code",
      "source": [
        "def ingest_embeddings(client, set_name, docs_with_embeddings):\n",
        "\n",
        "    \"\"\" Ingests the descriptors and their embeddings in parallel. \"\"\"\n",
        "\n",
        "    data_to_ingest = []\n",
        "\n",
        "    for doc in docs_with_embeddings:\n",
        "        query = [{\n",
        "            \"AddDescriptor\": {\n",
        "                \"set\": set_name,\n",
        "                \"properties\": {\n",
        "                    # We store the entity's ID and class on the descriptor itself, so we can find it easily in the next step\n",
        "                    \"source_entity_id\": doc.get(\"entity_id\"),\n",
        "                    \"source_entity_class\": doc.get(\"class\")\n",
        "                }\n",
        "            }\n",
        "        }]\n",
        "\n",
        "        # Convert the embedding to bytes.\n",
        "        blobs = [np.array(doc[\"embedding\"], dtype=np.float32).tobytes()]\n",
        "        data_to_ingest.append((query, blobs))\n",
        "\n",
        "    loader = ParallelLoader(client)\n",
        "    loader.ingest(generator=data_to_ingest, batchsize=64, numthreads=8, stats=True)"
      ],
      "metadata": {
        "id": "kYxaZ5AUSP4L"
      },
      "execution_count": 49,
      "outputs": []
    },
    {
      "cell_type": "markdown",
      "source": [
        "Lets ingest our embeddings aka Descriptors into the DescriptorSet."
      ],
      "metadata": {
        "id": "2jo0vigovOkK"
      }
    },
    {
      "cell_type": "code",
      "source": [
        "ingest_embeddings(client, DESCRIPTOR_SET_NAME, docs_with_embeddings)"
      ],
      "metadata": {
        "colab": {
          "base_uri": "https://localhost:8080/"
        },
        "id": "ZGz9YVL0-3nG",
        "outputId": "7a5985d5-1282-483d-d0ed-fda0ad8fa2d6"
      },
      "execution_count": 50,
      "outputs": [
        {
          "output_type": "stream",
          "name": "stderr",
          "text": [
            "Progress: 100%|██████████| 276/276 [00:02<00:00, 137items/s]"
          ]
        },
        {
          "output_type": "stream",
          "name": "stdout",
          "text": [
            "============ ApertureDB Loader Stats ============\n",
            "Total time (s): 2.02325439453125\n",
            "Total queries executed: 8\n",
            "Avg Query time (s): 0.8534371852874756\n",
            "Query time std: 0.25802589034100953\n",
            "Avg Query Throughput (q/s): 9.373859187194011\n",
            "Overall insertion throughput (element/s): 136.41388880509217\n",
            "Total inserted elements: 276\n",
            "Total successful commands: 276\n",
            "=================================================\n"
          ]
        },
        {
          "output_type": "stream",
          "name": "stderr",
          "text": [
            "\n"
          ]
        }
      ]
    },
    {
      "cell_type": "markdown",
      "source": [
        "As you can see from the ApertureDB Web UI, there are 276 Descriptors present in our instance - one for each entity."
      ],
      "metadata": {
        "id": "aC_D0YGIviVc"
      }
    },
    {
      "cell_type": "markdown",
      "source": [
        "![image.png](data:image/png;base64,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)"
      ],
      "metadata": {
        "id": "BNeC1EFvnjKd"
      }
    },
    {
      "cell_type": "markdown",
      "source": [
        "After the descriptors are ingested, `create_connections` function creates the `has_embedding` connections. For each entity, it finds the node in the graph and its corresponding descriptor (using the properties we just stored) and creates an edge between them. This is needed to trace back retrieved embeddings from vector search to the original source entities and find neighbouring nodes."
      ],
      "metadata": {
        "id": "RShcEyG0u2kD"
      }
    },
    {
      "cell_type": "code",
      "source": [
        "def create_connections(client, set_name, docs_with_embeddings):\n",
        "\n",
        "    \"\"\" Creates the 'has_embedding' connections in parallel \"\"\"\n",
        "\n",
        "    queries_to_run = []\n",
        "\n",
        "    for doc in docs_with_embeddings:\n",
        "        entity_id = doc.get(\"entity_id\")\n",
        "        entity_class = doc.get(\"class\")\n",
        "\n",
        "        # Find the entity, find its corresponding descriptor, and create the connection between them.\n",
        "        query = [\n",
        "            {\n",
        "                \"FindEntity\": {\n",
        "                    \"with_class\": entity_class,\n",
        "                    \"constraints\": {\"id\": [\"==\", entity_id]},\n",
        "                    \"_ref\": 1\n",
        "                }\n",
        "            },\n",
        "            {\n",
        "                \"FindDescriptor\": {\n",
        "                    \"set\": set_name,\n",
        "                    # Find the descriptor using the properties we stored in Step 1.\n",
        "                    \"constraints\": {\"source_entity_id\": [\"==\", entity_id]},\n",
        "                    \"_ref\": 2\n",
        "                }\n",
        "            },\n",
        "            {\n",
        "                \"AddConnection\": {\n",
        "                    \"class\": \"has_embedding\",\n",
        "                    \"src\": 1,\n",
        "                    \"dst\": 2\n",
        "                }\n",
        "            }\n",
        "        ]\n",
        "        queries_to_run.append((query, []))\n",
        "\n",
        "    loader = ParallelLoader(client)\n",
        "    loader.ingest(generator=queries_to_run, batchsize=64, numthreads=8, stats=True)"
      ],
      "metadata": {
        "id": "79EQ3xQEB67b"
      },
      "execution_count": 51,
      "outputs": []
    },
    {
      "cell_type": "markdown",
      "source": [
        "Lets create the connections between Descriptors/embeddings and the source entities in our knowledge graph."
      ],
      "metadata": {
        "id": "6NMEPMbKvuku"
      }
    },
    {
      "cell_type": "code",
      "source": [
        "create_connections(client, DESCRIPTOR_SET_NAME, docs_with_embeddings)"
      ],
      "metadata": {
        "colab": {
          "base_uri": "https://localhost:8080/"
        },
        "id": "Y4t834xbCYxQ",
        "outputId": "df0ba98e-deef-40b0-c7cc-3258840ad8cc"
      },
      "execution_count": 52,
      "outputs": [
        {
          "output_type": "stream",
          "name": "stderr",
          "text": [
            "Progress: 100%|██████████| 276/276 [00:02<00:00, 136items/s]"
          ]
        },
        {
          "output_type": "stream",
          "name": "stdout",
          "text": [
            "============ ApertureDB Loader Stats ============\n",
            "Total time (s): 2.029325485229492\n",
            "Total queries executed: 8\n",
            "Avg Query time (s): 0.7648613452911377\n",
            "Query time std: 0.2689092551366647\n",
            "Avg Query Throughput (q/s): 10.45941208723899\n",
            "Overall insertion throughput (element/s): 136.00578222117372\n",
            "Total inserted elements: 276\n",
            "Total successful commands: 828\n",
            "=================================================\n"
          ]
        },
        {
          "output_type": "stream",
          "name": "stderr",
          "text": [
            "\n"
          ]
        }
      ]
    },
    {
      "cell_type": "markdown",
      "source": [
        "We can confirm the number of connections by running the following query:"
      ],
      "metadata": {
        "id": "akl2UhdYv4Sh"
      }
    },
    {
      "cell_type": "code",
      "source": [
        "# Confirm the connections\n",
        "query = [{\n",
        "    \"FindConnection\": {\n",
        "        \"with_class\": \"has_embedding\",\n",
        "        \"results\": {\n",
        "            \"count\": True\n",
        "        }\n",
        "    }\n",
        "}]\n",
        "\n",
        "response, blobs = client.query(query)\n",
        "\n",
        "client.print_last_response()"
      ],
      "metadata": {
        "colab": {
          "base_uri": "https://localhost:8080/"
        },
        "id": "W0AYkCPU-6FD",
        "outputId": "3512969c-9ed9-44a0-f235-5405a29847df"
      },
      "execution_count": 53,
      "outputs": [
        {
          "output_type": "stream",
          "name": "stdout",
          "text": [
            "[\n",
            "    {\n",
            "        \"FindConnection\": {\n",
            "            \"count\": 276,\n",
            "            \"returned\": 0,\n",
            "            \"status\": 0\n",
            "        }\n",
            "    }\n",
            "]\n"
          ]
        }
      ]
    },
    {
      "cell_type": "markdown",
      "source": [
        "As expected, the count matches the number of entities we processed.\n",
        "\n",
        "And that's it! Our embeddings have now been ingested and linked to the source entities. Now we can move on and actually perform RAG and see the powerful capabilities of graph RAG in action! Covered in [Part 2](https://colab.research.google.com/drive/1l0PvOjq0vswWpzC4l-l8y0BZbX8ZT30I?usp=sharing)."
      ],
      "metadata": {
        "id": "O3sqCMumwRje"
      }
    }
  ]
}